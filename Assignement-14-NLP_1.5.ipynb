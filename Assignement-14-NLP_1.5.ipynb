{
 "cells": [
  {
   "cell_type": "code",
   "execution_count": 1,
   "id": "1881b3b3",
   "metadata": {},
   "outputs": [],
   "source": [
    "import pandas as pd\n",
    "import numpy as np\n",
    "from bs4 import BeautifulSoup as bs\n",
    "import requests as re"
   ]
  },
  {
   "cell_type": "code",
   "execution_count": 2,
   "id": "ab282abf",
   "metadata": {},
   "outputs": [],
   "source": [
    "url='https://www.amazon.in/New-Apple-iPhone-12-128GB/product-reviews/B08L5TNJHG/ref=cm_cr_arp_d_paging_btm_next_2?ie=UTF8&reviewerType=all_reviews&pageNumber=2'"
   ]
  },
  {
   "cell_type": "code",
   "execution_count": 3,
   "id": "0b6c3674",
   "metadata": {},
   "outputs": [],
   "source": [
    "page=re.get(url)"
   ]
  },
  {
   "cell_type": "code",
   "execution_count": 4,
   "id": "873086a5",
   "metadata": {},
   "outputs": [
    {
     "data": {
      "text/plain": [
       "<Response [200]>"
      ]
     },
     "execution_count": 4,
     "metadata": {},
     "output_type": "execute_result"
    }
   ],
   "source": [
    "page"
   ]
  },
  {
   "cell_type": "code",
   "execution_count": 5,
   "id": "f85218ec",
   "metadata": {},
   "outputs": [],
   "source": [
    "soup1=bs(page.content,'html.parser')"
   ]
  },
  {
   "cell_type": "code",
   "execution_count": 6,
   "id": "a4a87030",
   "metadata": {},
   "outputs": [],
   "source": [
    "# soup1"
   ]
  },
  {
   "cell_type": "code",
   "execution_count": 7,
   "id": "38f39da7",
   "metadata": {},
   "outputs": [],
   "source": [
    "# print(soup1.prettify())"
   ]
  },
  {
   "cell_type": "code",
   "execution_count": 8,
   "id": "c3302f59",
   "metadata": {},
   "outputs": [],
   "source": [
    "names1=soup1.find_all('div',class_='a-profile-content')"
   ]
  },
  {
   "cell_type": "code",
   "execution_count": 9,
   "id": "7d785cc0",
   "metadata": {},
   "outputs": [],
   "source": [
    "cust_name1=[]\n",
    "for i in range(0,len(names1)):\n",
    "    cust_name1.append(names1[i].get_text())"
   ]
  },
  {
   "cell_type": "code",
   "execution_count": 10,
   "id": "411063f6",
   "metadata": {},
   "outputs": [
    {
     "data": {
      "text/plain": [
       "['Manpreetdhiman',\n",
       " 'Customer from Pune',\n",
       " 'Anwar ansari',\n",
       " 'Anwar ansari',\n",
       " 'Hemant Chhabra',\n",
       " 'Mohd NADEEM',\n",
       " 'Vivek',\n",
       " 'Srini',\n",
       " 'Srini',\n",
       " 'Z S',\n",
       " 'Manjit',\n",
       " 'Manjit',\n",
       " 'Ashwin s.',\n",
       " 'Swarnava Ghosh',\n",
       " 'Gautam Sharma']"
      ]
     },
     "execution_count": 10,
     "metadata": {},
     "output_type": "execute_result"
    }
   ],
   "source": [
    "cust_name1"
   ]
  },
  {
   "cell_type": "code",
   "execution_count": 11,
   "id": "cd8a98cc",
   "metadata": {},
   "outputs": [
    {
     "data": {
      "text/plain": [
       "'Manpreetdhiman'"
      ]
     },
     "execution_count": 11,
     "metadata": {},
     "output_type": "execute_result"
    }
   ],
   "source": [
    "cust_name1.pop(0)"
   ]
  },
  {
   "cell_type": "code",
   "execution_count": 12,
   "id": "604e7d88",
   "metadata": {},
   "outputs": [
    {
     "data": {
      "text/plain": [
       "'Customer from Pune'"
      ]
     },
     "execution_count": 12,
     "metadata": {},
     "output_type": "execute_result"
    }
   ],
   "source": [
    "cust_name1.pop(0)"
   ]
  },
  {
   "cell_type": "code",
   "execution_count": 13,
   "id": "2cd9c21d",
   "metadata": {},
   "outputs": [],
   "source": [
    "review_title1=soup1.find_all('a',class_='review-title')"
   ]
  },
  {
   "cell_type": "code",
   "execution_count": 37,
   "id": "b28caf43",
   "metadata": {},
   "outputs": [
    {
     "data": {
      "text/plain": [
       "[<a class=\"a-size-base a-link-normal review-title a-color-base review-title-content a-text-bold\" data-hook=\"review-title\" href=\"/gp/customer-reviews/R2X46EYA12Y242?ASIN=B08L5TNJHG\">\n",
       " <span>Badiya he phone</span>\n",
       " </a>,\n",
       " <a class=\"a-size-base a-link-normal review-title a-color-base review-title-content a-text-bold\" data-hook=\"review-title\" href=\"/gp/customer-reviews/R3TSDLS4LFI3QR?ASIN=B08L5TNJHG\">\n",
       " <span>Decent Product</span>\n",
       " </a>,\n",
       " <a class=\"a-size-base a-link-normal review-title a-color-base review-title-content a-text-bold\" data-hook=\"review-title\" href=\"/gp/customer-reviews/R3827XPXAVJF6L?ASIN=B08L5TNJHG\">\n",
       " <span>Very high coast price</span>\n",
       " </a>,\n",
       " <a class=\"a-size-base a-link-normal review-title a-color-base review-title-content a-text-bold\" data-hook=\"review-title\" href=\"/gp/customer-reviews/R3HLJ5M5L7II74?ASIN=B08L5TNJHG\">\n",
       " <span>Overall good phone</span>\n",
       " </a>,\n",
       " <a class=\"a-size-base a-link-normal review-title a-color-base review-title-content a-text-bold\" data-hook=\"review-title\" href=\"/gp/customer-reviews/R2775JAG2AU9E3?ASIN=B08L5TNJHG\">\n",
       " <span>Perfect handy device, loved using it ❤️</span>\n",
       " </a>,\n",
       " <a class=\"a-size-base a-link-normal review-title a-color-base review-title-content a-text-bold\" data-hook=\"review-title\" href=\"/gp/customer-reviews/R1Z93IH5QMFAFI?ASIN=B08L5TNJHG\">\n",
       " <span>Nice iPhone</span>\n",
       " </a>,\n",
       " <a class=\"a-size-base a-link-normal review-title a-color-base review-title-content a-text-bold\" data-hook=\"review-title\" href=\"/gp/customer-reviews/R27AD03UXVMKCN?ASIN=B08L5TNJHG\">\n",
       " <span>tagada selfie maarta Hai Shukla ji</span>\n",
       " </a>,\n",
       " <a class=\"a-size-base a-link-normal review-title a-color-base review-title-content a-text-bold\" data-hook=\"review-title\" href=\"/gp/customer-reviews/R2BQ8J5RUXX38M?ASIN=B08L5TNJHG\">\n",
       " <span>Good one , battery life depends on how much you use</span>\n",
       " </a>,\n",
       " <a class=\"a-size-base a-link-normal review-title a-color-base review-title-content a-text-bold\" data-hook=\"review-title\" href=\"/gp/customer-reviews/RIMY3KBQJJO8N?ASIN=B08L5TNJHG\">\n",
       " <span>iphone 12 is good for normal use but don’t expect wow factor from this device.</span>\n",
       " </a>,\n",
       " <a class=\"a-size-base a-link-normal review-title a-color-base review-title-content a-text-bold\" data-hook=\"review-title\" href=\"/gp/customer-reviews/R2NGX8QOH2L6VC?ASIN=B08L5TNJHG\">\n",
       " <span>Loved it 😘😘😘</span>\n",
       " </a>]"
      ]
     },
     "execution_count": 37,
     "metadata": {},
     "output_type": "execute_result"
    }
   ],
   "source": [
    "review_title1"
   ]
  },
  {
   "cell_type": "code",
   "execution_count": 35,
   "id": "c80e157c",
   "metadata": {},
   "outputs": [
    {
     "data": {
      "text/plain": [
       "10"
      ]
     },
     "execution_count": 35,
     "metadata": {},
     "output_type": "execute_result"
    }
   ],
   "source": [
    "len(review_title1)"
   ]
  },
  {
   "cell_type": "code",
   "execution_count": 15,
   "id": "29bbd3f8",
   "metadata": {},
   "outputs": [
    {
     "data": {
      "text/plain": [
       "['\\nBadiya he phone\\n',\n",
       " '\\nDecent Product\\n',\n",
       " '\\nVery high coast price\\n',\n",
       " '\\nOverall good phone\\n',\n",
       " '\\nPerfect handy device, loved using it ❤️\\n',\n",
       " '\\nNice iPhone\\n',\n",
       " '\\ntagada selfie maarta Hai Shukla ji\\n',\n",
       " '\\nGood one , battery life depends on how much you use\\n',\n",
       " '\\niphone 12 is good for normal use but don’t expect wow factor from this device.\\n',\n",
       " '\\nLoved it 😘😘😘\\n']"
      ]
     },
     "execution_count": 15,
     "metadata": {},
     "output_type": "execute_result"
    }
   ],
   "source": [
    "re_title1=[]\n",
    "for i in range(0,len(review_title1)):\n",
    "    re_title1.append(review_title1[i].get_text())\n",
    "re_title1"
   ]
  },
  {
   "cell_type": "code",
   "execution_count": 16,
   "id": "cd6d9d0e",
   "metadata": {},
   "outputs": [],
   "source": [
    "#list comprehension\n",
    "re_title1[:]=[titles.lstrip('\\n') for titles in re_title1]"
   ]
  },
  {
   "cell_type": "code",
   "execution_count": 17,
   "id": "722f6fdf",
   "metadata": {},
   "outputs": [
    {
     "data": {
      "text/plain": [
       "['Badiya he phone\\n',\n",
       " 'Decent Product\\n',\n",
       " 'Very high coast price\\n',\n",
       " 'Overall good phone\\n',\n",
       " 'Perfect handy device, loved using it ❤️\\n',\n",
       " 'Nice iPhone\\n',\n",
       " 'tagada selfie maarta Hai Shukla ji\\n',\n",
       " 'Good one , battery life depends on how much you use\\n',\n",
       " 'iphone 12 is good for normal use but don’t expect wow factor from this device.\\n',\n",
       " 'Loved it 😘😘😘\\n']"
      ]
     },
     "execution_count": 17,
     "metadata": {},
     "output_type": "execute_result"
    }
   ],
   "source": [
    "re_title1"
   ]
  },
  {
   "cell_type": "code",
   "execution_count": 18,
   "id": "7451b7e3",
   "metadata": {},
   "outputs": [],
   "source": [
    "re_title1[:]=[titles.rstrip() for titles in re_title1]"
   ]
  },
  {
   "cell_type": "code",
   "execution_count": 19,
   "id": "94f8208c",
   "metadata": {},
   "outputs": [
    {
     "data": {
      "text/plain": [
       "['Badiya he phone',\n",
       " 'Decent Product',\n",
       " 'Very high coast price',\n",
       " 'Overall good phone',\n",
       " 'Perfect handy device, loved using it ❤️',\n",
       " 'Nice iPhone',\n",
       " 'tagada selfie maarta Hai Shukla ji',\n",
       " 'Good one , battery life depends on how much you use',\n",
       " 'iphone 12 is good for normal use but don’t expect wow factor from this device.',\n",
       " 'Loved it 😘😘😘']"
      ]
     },
     "execution_count": 19,
     "metadata": {},
     "output_type": "execute_result"
    }
   ],
   "source": [
    "re_title1"
   ]
  },
  {
   "cell_type": "code",
   "execution_count": 20,
   "id": "92e3cb53",
   "metadata": {},
   "outputs": [],
   "source": [
    "rating1=soup1.find_all('i',class_='review-rating')"
   ]
  },
  {
   "cell_type": "code",
   "execution_count": 21,
   "id": "fb29ff9d",
   "metadata": {},
   "outputs": [],
   "source": [
    "# rating1"
   ]
  },
  {
   "cell_type": "code",
   "execution_count": 22,
   "id": "4b3b9980",
   "metadata": {},
   "outputs": [
    {
     "data": {
      "text/plain": [
       "['5.0 out of 5 stars',\n",
       " '3.0 out of 5 stars',\n",
       " '5.0 out of 5 stars',\n",
       " '4.0 out of 5 stars',\n",
       " '4.0 out of 5 stars',\n",
       " '4.0 out of 5 stars',\n",
       " '4.0 out of 5 stars',\n",
       " '4.0 out of 5 stars',\n",
       " '4.0 out of 5 stars',\n",
       " '4.0 out of 5 stars',\n",
       " '4.0 out of 5 stars',\n",
       " '4.0 out of 5 stars']"
      ]
     },
     "execution_count": 22,
     "metadata": {},
     "output_type": "execute_result"
    }
   ],
   "source": [
    "ratings1=[]\n",
    "for i in range(0,len(rating1)):\n",
    "    ratings1.append(rating1[i].get_text())\n",
    "ratings1"
   ]
  },
  {
   "cell_type": "code",
   "execution_count": 23,
   "id": "264b9cc5",
   "metadata": {},
   "outputs": [
    {
     "data": {
      "text/plain": [
       "'5.0 out of 5 stars'"
      ]
     },
     "execution_count": 23,
     "metadata": {},
     "output_type": "execute_result"
    }
   ],
   "source": [
    "ratings1.pop(0)"
   ]
  },
  {
   "cell_type": "code",
   "execution_count": 24,
   "id": "12568f28",
   "metadata": {},
   "outputs": [
    {
     "data": {
      "text/plain": [
       "'3.0 out of 5 stars'"
      ]
     },
     "execution_count": 24,
     "metadata": {},
     "output_type": "execute_result"
    }
   ],
   "source": [
    "ratings1.pop(0)"
   ]
  },
  {
   "cell_type": "code",
   "execution_count": 25,
   "id": "259b5f06",
   "metadata": {},
   "outputs": [
    {
     "data": {
      "text/plain": [
       "['5.0', '4.0', '4.0', '4.0', '4.0', '4.0', '4.0', '4.0', '4.0', '4.0']"
      ]
     },
     "execution_count": 25,
     "metadata": {},
     "output_type": "execute_result"
    }
   ],
   "source": [
    "ratings1[:]=[x.rstrip(' out of 5 stars') for x in ratings1]\n",
    "ratings1"
   ]
  },
  {
   "cell_type": "code",
   "execution_count": 26,
   "id": "5d698623",
   "metadata": {},
   "outputs": [],
   "source": [
    "comment1=soup1.find_all('span',{'data-hook':\"review-body\"})\n",
    "# comment1"
   ]
  },
  {
   "cell_type": "code",
   "execution_count": 27,
   "id": "12041a83",
   "metadata": {},
   "outputs": [],
   "source": [
    "re_comments1=[]\n",
    "for i in range(0,len(comment1)):\n",
    "    re_comments1.append(comment1[i].get_text())\n",
    "# re_comments1"
   ]
  },
  {
   "cell_type": "code",
   "execution_count": 28,
   "id": "9cddc3bd",
   "metadata": {},
   "outputs": [],
   "source": [
    "re_comments1[:]=[x.lstrip('\\n') for x in re_comments1]"
   ]
  },
  {
   "cell_type": "code",
   "execution_count": 29,
   "id": "4d0e9da7",
   "metadata": {},
   "outputs": [],
   "source": [
    "re_comments1[:]=[x.rstrip('\\n') for x in re_comments1]"
   ]
  },
  {
   "cell_type": "code",
   "execution_count": 30,
   "id": "a283e31a",
   "metadata": {},
   "outputs": [],
   "source": [
    "# re_comments1"
   ]
  },
  {
   "cell_type": "code",
   "execution_count": 31,
   "id": "cd81f2bd",
   "metadata": {},
   "outputs": [
    {
     "data": {
      "text/plain": [
       "10"
      ]
     },
     "execution_count": 31,
     "metadata": {},
     "output_type": "execute_result"
    }
   ],
   "source": [
    "len(re_comments1)"
   ]
  },
  {
   "cell_type": "code",
   "execution_count": 32,
   "id": "5f384a23",
   "metadata": {},
   "outputs": [
    {
     "data": {
      "text/plain": [
       "['Badiya he phone',\n",
       " 'Decent Product',\n",
       " 'Very high coast price',\n",
       " 'Overall good phone',\n",
       " 'Perfect handy device, loved using it ❤️',\n",
       " 'Nice iPhone',\n",
       " 'tagada selfie maarta Hai Shukla ji',\n",
       " 'Good one , battery life depends on how much you use',\n",
       " 'iphone 12 is good for normal use but don’t expect wow factor from this device.',\n",
       " 'Loved it 😘😘😘']"
      ]
     },
     "execution_count": 32,
     "metadata": {},
     "output_type": "execute_result"
    }
   ],
   "source": [
    "cust_name1\n",
    "re_comments1\n",
    "ratings1\n",
    "re_title1"
   ]
  },
  {
   "cell_type": "code",
   "execution_count": 33,
   "id": "3be313a0",
   "metadata": {},
   "outputs": [
    {
     "ename": "ValueError",
     "evalue": "All arrays must be of the same length",
     "output_type": "error",
     "traceback": [
      "\u001b[1;31m---------------------------------------------------------------------------\u001b[0m",
      "\u001b[1;31mValueError\u001b[0m                                Traceback (most recent call last)",
      "Cell \u001b[1;32mIn[33], line 1\u001b[0m\n\u001b[1;32m----> 1\u001b[0m data1\u001b[38;5;241m=\u001b[39m\u001b[43mpd\u001b[49m\u001b[38;5;241;43m.\u001b[39;49m\u001b[43mDataFrame\u001b[49m\u001b[43m(\u001b[49m\u001b[43m{\u001b[49m\u001b[38;5;124;43m'\u001b[39;49m\u001b[38;5;124;43mname\u001b[39;49m\u001b[38;5;124;43m'\u001b[39;49m\u001b[43m:\u001b[49m\u001b[43mcust_name1\u001b[49m\u001b[43m,\u001b[49m\u001b[38;5;124;43m'\u001b[39;49m\u001b[38;5;124;43mtitles\u001b[39;49m\u001b[38;5;124;43m'\u001b[39;49m\u001b[43m:\u001b[49m\u001b[43mre_title1\u001b[49m\u001b[43m,\u001b[49m\u001b[38;5;124;43m'\u001b[39;49m\u001b[38;5;124;43mrating\u001b[39;49m\u001b[38;5;124;43m'\u001b[39;49m\u001b[43m:\u001b[49m\u001b[43mratings1\u001b[49m\u001b[43m,\u001b[49m\u001b[38;5;124;43m'\u001b[39;49m\u001b[38;5;124;43mcomments\u001b[39;49m\u001b[38;5;124;43m'\u001b[39;49m\u001b[43m:\u001b[49m\u001b[43mre_comments1\u001b[49m\u001b[43m}\u001b[49m\u001b[43m)\u001b[49m\n\u001b[0;32m      2\u001b[0m data1\n",
      "File \u001b[1;32m~\\anaconda3\\lib\\site-packages\\pandas\\core\\frame.py:664\u001b[0m, in \u001b[0;36mDataFrame.__init__\u001b[1;34m(self, data, index, columns, dtype, copy)\u001b[0m\n\u001b[0;32m    658\u001b[0m     mgr \u001b[38;5;241m=\u001b[39m \u001b[38;5;28mself\u001b[39m\u001b[38;5;241m.\u001b[39m_init_mgr(\n\u001b[0;32m    659\u001b[0m         data, axes\u001b[38;5;241m=\u001b[39m{\u001b[38;5;124m\"\u001b[39m\u001b[38;5;124mindex\u001b[39m\u001b[38;5;124m\"\u001b[39m: index, \u001b[38;5;124m\"\u001b[39m\u001b[38;5;124mcolumns\u001b[39m\u001b[38;5;124m\"\u001b[39m: columns}, dtype\u001b[38;5;241m=\u001b[39mdtype, copy\u001b[38;5;241m=\u001b[39mcopy\n\u001b[0;32m    660\u001b[0m     )\n\u001b[0;32m    662\u001b[0m \u001b[38;5;28;01melif\u001b[39;00m \u001b[38;5;28misinstance\u001b[39m(data, \u001b[38;5;28mdict\u001b[39m):\n\u001b[0;32m    663\u001b[0m     \u001b[38;5;66;03m# GH#38939 de facto copy defaults to False only in non-dict cases\u001b[39;00m\n\u001b[1;32m--> 664\u001b[0m     mgr \u001b[38;5;241m=\u001b[39m \u001b[43mdict_to_mgr\u001b[49m\u001b[43m(\u001b[49m\u001b[43mdata\u001b[49m\u001b[43m,\u001b[49m\u001b[43m \u001b[49m\u001b[43mindex\u001b[49m\u001b[43m,\u001b[49m\u001b[43m \u001b[49m\u001b[43mcolumns\u001b[49m\u001b[43m,\u001b[49m\u001b[43m \u001b[49m\u001b[43mdtype\u001b[49m\u001b[38;5;241;43m=\u001b[39;49m\u001b[43mdtype\u001b[49m\u001b[43m,\u001b[49m\u001b[43m \u001b[49m\u001b[43mcopy\u001b[49m\u001b[38;5;241;43m=\u001b[39;49m\u001b[43mcopy\u001b[49m\u001b[43m,\u001b[49m\u001b[43m \u001b[49m\u001b[43mtyp\u001b[49m\u001b[38;5;241;43m=\u001b[39;49m\u001b[43mmanager\u001b[49m\u001b[43m)\u001b[49m\n\u001b[0;32m    665\u001b[0m \u001b[38;5;28;01melif\u001b[39;00m \u001b[38;5;28misinstance\u001b[39m(data, ma\u001b[38;5;241m.\u001b[39mMaskedArray):\n\u001b[0;32m    666\u001b[0m     \u001b[38;5;28;01mimport\u001b[39;00m \u001b[38;5;21;01mnumpy\u001b[39;00m\u001b[38;5;21;01m.\u001b[39;00m\u001b[38;5;21;01mma\u001b[39;00m\u001b[38;5;21;01m.\u001b[39;00m\u001b[38;5;21;01mmrecords\u001b[39;00m \u001b[38;5;28;01mas\u001b[39;00m \u001b[38;5;21;01mmrecords\u001b[39;00m\n",
      "File \u001b[1;32m~\\anaconda3\\lib\\site-packages\\pandas\\core\\internals\\construction.py:493\u001b[0m, in \u001b[0;36mdict_to_mgr\u001b[1;34m(data, index, columns, dtype, typ, copy)\u001b[0m\n\u001b[0;32m    489\u001b[0m     \u001b[38;5;28;01melse\u001b[39;00m:\n\u001b[0;32m    490\u001b[0m         \u001b[38;5;66;03m# dtype check to exclude e.g. range objects, scalars\u001b[39;00m\n\u001b[0;32m    491\u001b[0m         arrays \u001b[38;5;241m=\u001b[39m [x\u001b[38;5;241m.\u001b[39mcopy() \u001b[38;5;28;01mif\u001b[39;00m \u001b[38;5;28mhasattr\u001b[39m(x, \u001b[38;5;124m\"\u001b[39m\u001b[38;5;124mdtype\u001b[39m\u001b[38;5;124m\"\u001b[39m) \u001b[38;5;28;01melse\u001b[39;00m x \u001b[38;5;28;01mfor\u001b[39;00m x \u001b[38;5;129;01min\u001b[39;00m arrays]\n\u001b[1;32m--> 493\u001b[0m \u001b[38;5;28;01mreturn\u001b[39;00m \u001b[43marrays_to_mgr\u001b[49m\u001b[43m(\u001b[49m\u001b[43marrays\u001b[49m\u001b[43m,\u001b[49m\u001b[43m \u001b[49m\u001b[43mcolumns\u001b[49m\u001b[43m,\u001b[49m\u001b[43m \u001b[49m\u001b[43mindex\u001b[49m\u001b[43m,\u001b[49m\u001b[43m \u001b[49m\u001b[43mdtype\u001b[49m\u001b[38;5;241;43m=\u001b[39;49m\u001b[43mdtype\u001b[49m\u001b[43m,\u001b[49m\u001b[43m \u001b[49m\u001b[43mtyp\u001b[49m\u001b[38;5;241;43m=\u001b[39;49m\u001b[43mtyp\u001b[49m\u001b[43m,\u001b[49m\u001b[43m \u001b[49m\u001b[43mconsolidate\u001b[49m\u001b[38;5;241;43m=\u001b[39;49m\u001b[43mcopy\u001b[49m\u001b[43m)\u001b[49m\n",
      "File \u001b[1;32m~\\anaconda3\\lib\\site-packages\\pandas\\core\\internals\\construction.py:118\u001b[0m, in \u001b[0;36marrays_to_mgr\u001b[1;34m(arrays, columns, index, dtype, verify_integrity, typ, consolidate)\u001b[0m\n\u001b[0;32m    115\u001b[0m \u001b[38;5;28;01mif\u001b[39;00m verify_integrity:\n\u001b[0;32m    116\u001b[0m     \u001b[38;5;66;03m# figure out the index, if necessary\u001b[39;00m\n\u001b[0;32m    117\u001b[0m     \u001b[38;5;28;01mif\u001b[39;00m index \u001b[38;5;129;01mis\u001b[39;00m \u001b[38;5;28;01mNone\u001b[39;00m:\n\u001b[1;32m--> 118\u001b[0m         index \u001b[38;5;241m=\u001b[39m \u001b[43m_extract_index\u001b[49m\u001b[43m(\u001b[49m\u001b[43marrays\u001b[49m\u001b[43m)\u001b[49m\n\u001b[0;32m    119\u001b[0m     \u001b[38;5;28;01melse\u001b[39;00m:\n\u001b[0;32m    120\u001b[0m         index \u001b[38;5;241m=\u001b[39m ensure_index(index)\n",
      "File \u001b[1;32m~\\anaconda3\\lib\\site-packages\\pandas\\core\\internals\\construction.py:666\u001b[0m, in \u001b[0;36m_extract_index\u001b[1;34m(data)\u001b[0m\n\u001b[0;32m    664\u001b[0m lengths \u001b[38;5;241m=\u001b[39m \u001b[38;5;28mlist\u001b[39m(\u001b[38;5;28mset\u001b[39m(raw_lengths))\n\u001b[0;32m    665\u001b[0m \u001b[38;5;28;01mif\u001b[39;00m \u001b[38;5;28mlen\u001b[39m(lengths) \u001b[38;5;241m>\u001b[39m \u001b[38;5;241m1\u001b[39m:\n\u001b[1;32m--> 666\u001b[0m     \u001b[38;5;28;01mraise\u001b[39;00m \u001b[38;5;167;01mValueError\u001b[39;00m(\u001b[38;5;124m\"\u001b[39m\u001b[38;5;124mAll arrays must be of the same length\u001b[39m\u001b[38;5;124m\"\u001b[39m)\n\u001b[0;32m    668\u001b[0m \u001b[38;5;28;01mif\u001b[39;00m have_dicts:\n\u001b[0;32m    669\u001b[0m     \u001b[38;5;28;01mraise\u001b[39;00m \u001b[38;5;167;01mValueError\u001b[39;00m(\n\u001b[0;32m    670\u001b[0m         \u001b[38;5;124m\"\u001b[39m\u001b[38;5;124mMixing dicts with non-Series may lead to ambiguous ordering.\u001b[39m\u001b[38;5;124m\"\u001b[39m\n\u001b[0;32m    671\u001b[0m     )\n",
      "\u001b[1;31mValueError\u001b[0m: All arrays must be of the same length"
     ]
    }
   ],
   "source": [
    "data1=pd.DataFrame({'name':cust_name1,'titles':re_title1,'rating':ratings1,'comments':re_comments1})\n",
    "data1"
   ]
  },
  {
   "cell_type": "markdown",
   "id": "ae6c9a60",
   "metadata": {},
   "source": [
    "### Now i going to use for loop coz manualy i only get more than 10 user data. so using i can get user data from other pages"
   ]
  },
  {
   "cell_type": "code",
   "execution_count": null,
   "id": "2926fc0e",
   "metadata": {},
   "outputs": [],
   "source": [
    "# firstly i stored urls of next pages and stored in variable\n",
    "URL=[]\n",
    "for i in range(1,1200):\n",
    "    url='https://www.amazon.in/New-Apple-iPhone-12-128GB/product-reviews/B08L5TNJHG/ref=cm_cr_arp_d_paging_btm_next_2?ie=UTF8&reviewerType=all_reviews&pageNumber='\n",
    "    URL.append(url+str(i))\n",
    "\n",
    "# then i exctracted name,title,rating and comments from all those pages\n",
    "cust_name=[]\n",
    "re_title=[]\n",
    "ratings=[]\n",
    "re_comments=[]\n",
    "\n",
    "for i in URL:    \n",
    "    page=re.get(i)\n",
    "    \n",
    "    soup=bs(page.content,'html.parser')\n",
    "    \n",
    "    names=soup.find_all('div',class_='a-profile-content')\n",
    "    \n",
    "    for i in range(0,len(names)):\n",
    "        cust_name.append(names[i].get_text())\n",
    "    \n",
    "    review_title=soup.find_all('a',class_='review-title')\n",
    "    \n",
    "    for i in range(0,len(review_title)):\n",
    "        re_title.append(review_title[i].get_text())\n",
    "\n",
    "    #list comprehension to remove '\\n' unwanted charactar\n",
    "    re_title[:]=[titles.lstrip('\\n') for titles in re_title]\n",
    "    re_title[:]=[titles.rstrip('\\n') for titles in re_title]\n",
    "    \n",
    "    rating=soup.find_all('i',class_='review-rating')\n",
    "    \n",
    "    for i in range(0,len(rating)):\n",
    "        ratings.append(rating[i].get_text())\n",
    "    ratings\n",
    "    \n",
    "    ratings[:]=[x.rstrip(' out of 5 stars') for x in ratings]\n",
    "    ratings\n",
    "    \n",
    "    comment=soup.find_all('span',{'data-hook':\"review-body\"})\n",
    "    comment\n",
    "    \n",
    "    for i in range(0,len(comment)):\n",
    "        re_comments.append(comment[i].get_text())\n",
    "    re_comments\n",
    "    \n",
    "    re_comments[:]=[x.lstrip('\\n') for x in re_comments]\n",
    "    re_comments[:]=[x.rstrip('\\n') for x in re_comments]\n",
    "\n"
   ]
  },
  {
   "cell_type": "code",
   "execution_count": null,
   "id": "2ee8d630",
   "metadata": {},
   "outputs": [],
   "source": [
    "if len(re_comments)<len(ratings):\n",
    "    c=len(ratings)-len(re_comments)\n",
    "    c=int(c)\n",
    "    for i in range(0,c):\n",
    "        ratings.pop(i)\n",
    "        cust_name.pop(i)\n",
    "        if len(re_comments)==len(ratings):\n",
    "            print('now the length is equal of both variables')"
   ]
  },
  {
   "cell_type": "code",
   "execution_count": null,
   "id": "baab4c38",
   "metadata": {},
   "outputs": [],
   "source": [
    "len(re_comments)"
   ]
  },
  {
   "cell_type": "code",
   "execution_count": null,
   "id": "90221644",
   "metadata": {},
   "outputs": [],
   "source": [
    "len(ratings)"
   ]
  },
  {
   "cell_type": "code",
   "execution_count": null,
   "id": "047a9612",
   "metadata": {},
   "outputs": [],
   "source": [
    "len(re_title)"
   ]
  },
  {
   "cell_type": "code",
   "execution_count": null,
   "id": "b5ea77cb",
   "metadata": {},
   "outputs": [],
   "source": [
    "# i tried to convert into dataframe but some of the values from colunms was missing so i cant create the dataframe\n",
    "#data=pd.DataFrame({'name':cust_name,'rating':ratings,'titles':re_title,'comments':re_comments,})"
   ]
  },
  {
   "cell_type": "code",
   "execution_count": null,
   "id": "6a2c9052",
   "metadata": {},
   "outputs": [],
   "source": [
    "data=pd.DataFrame({'name':cust_name,'titles':re_title,'rating':ratings,'comments':re_comments})\n",
    "data"
   ]
  },
  {
   "cell_type": "code",
   "execution_count": null,
   "id": "30165ed9",
   "metadata": {},
   "outputs": [],
   "source": [
    "data.to_csv(r'Iphone-12_Review.csv',index=True)"
   ]
  },
  {
   "cell_type": "markdown",
   "id": "519a2606",
   "metadata": {},
   "source": [
    "###  Now we are doing emotion mining on the dataset"
   ]
  },
  {
   "cell_type": "code",
   "execution_count": null,
   "id": "55b75ab3",
   "metadata": {},
   "outputs": [],
   "source": [
    "# we imported saved csv file so we can check is it having any issue while importing or not\n",
    "data=pd.read_csv('Iphone-12_Review.csv',index_col=0)"
   ]
  },
  {
   "cell_type": "code",
   "execution_count": null,
   "id": "c37234e2",
   "metadata": {},
   "outputs": [],
   "source": [
    "data.head()"
   ]
  },
  {
   "cell_type": "code",
   "execution_count": null,
   "id": "382bc029",
   "metadata": {},
   "outputs": [],
   "source": [
    "data.duplicated().sum()"
   ]
  },
  {
   "cell_type": "code",
   "execution_count": null,
   "id": "ed1e1155",
   "metadata": {},
   "outputs": [],
   "source": [
    "data.drop_duplicates(inplace=True)"
   ]
  },
  {
   "cell_type": "code",
   "execution_count": null,
   "id": "1699d326",
   "metadata": {},
   "outputs": [],
   "source": [
    "data.isna().sum()"
   ]
  },
  {
   "cell_type": "code",
   "execution_count": null,
   "id": "384d4505",
   "metadata": {},
   "outputs": [],
   "source": [
    "data.dropna(inplace=True)"
   ]
  },
  {
   "cell_type": "code",
   "execution_count": null,
   "id": "93c7a68f",
   "metadata": {},
   "outputs": [],
   "source": [
    "data.reset_index(inplace=True)"
   ]
  },
  {
   "cell_type": "code",
   "execution_count": null,
   "id": "922aed67",
   "metadata": {},
   "outputs": [],
   "source": [
    "data.info()"
   ]
  },
  {
   "cell_type": "code",
   "execution_count": null,
   "id": "156ae1ad",
   "metadata": {},
   "outputs": [],
   "source": [
    "data.isna().sum()"
   ]
  },
  {
   "cell_type": "code",
   "execution_count": null,
   "id": "9377b905",
   "metadata": {},
   "outputs": [],
   "source": [
    "data.duplicated().sum()"
   ]
  },
  {
   "cell_type": "code",
   "execution_count": null,
   "id": "d82a8ecf",
   "metadata": {},
   "outputs": [],
   "source": [
    "data1=data.loc[:,['comments']]"
   ]
  },
  {
   "cell_type": "code",
   "execution_count": null,
   "id": "142ad823",
   "metadata": {},
   "outputs": [],
   "source": [
    "data1"
   ]
  },
  {
   "cell_type": "code",
   "execution_count": null,
   "id": "418c2ac0",
   "metadata": {},
   "outputs": [],
   "source": [
    "# as you can there are still number there\n",
    "import re"
   ]
  },
  {
   "cell_type": "code",
   "execution_count": null,
   "id": "21fa451d",
   "metadata": {},
   "outputs": [],
   "source": [
    "def remove_pattern(text,pattern):\n",
    "    x=re.findall(pattern,str(text))\n",
    "    for i in x:\n",
    "        text=re.sub(i,'',str(text))\n",
    "    return text"
   ]
  },
  {
   "cell_type": "code",
   "execution_count": null,
   "id": "9ff3d68d",
   "metadata": {},
   "outputs": [],
   "source": [
    "data1['cleaned']=data1['comments'].apply(lambda x: remove_pattern(x,'[0-9]*'))\n",
    "data1"
   ]
  },
  {
   "cell_type": "code",
   "execution_count": null,
   "id": "9d18807e",
   "metadata": {},
   "outputs": [],
   "source": [
    "from nltk.corpus import stopwords"
   ]
  },
  {
   "cell_type": "code",
   "execution_count": null,
   "id": "879667c5",
   "metadata": {},
   "outputs": [],
   "source": [
    "# i didnt removed punctuations \n",
    "stop_words=list(stopwords.words('english'))"
   ]
  },
  {
   "cell_type": "code",
   "execution_count": null,
   "id": "fa93a4a8",
   "metadata": {},
   "outputs": [],
   "source": [
    "from nltk import word_tokenize"
   ]
  },
  {
   "cell_type": "code",
   "execution_count": null,
   "id": "dcdda316",
   "metadata": {},
   "outputs": [],
   "source": [
    "data1['tokenized']=[word_tokenize(x) for x in data1['cleaned']]\n",
    "data1"
   ]
  },
  {
   "cell_type": "code",
   "execution_count": null,
   "id": "0093bcbc",
   "metadata": {},
   "outputs": [],
   "source": [
    "data1['tokenized']=data1['tokenized'].apply(lambda x: [word for word in x if word not in stop_words])"
   ]
  },
  {
   "cell_type": "code",
   "execution_count": null,
   "id": "6785bad4",
   "metadata": {},
   "outputs": [],
   "source": [
    "data1.head()"
   ]
  },
  {
   "cell_type": "code",
   "execution_count": null,
   "id": "546928b4",
   "metadata": {},
   "outputs": [],
   "source": [
    "data1"
   ]
  },
  {
   "cell_type": "code",
   "execution_count": null,
   "id": "cab69100",
   "metadata": {},
   "outputs": [],
   "source": [
    "from nltk import PorterStemmer"
   ]
  },
  {
   "cell_type": "code",
   "execution_count": null,
   "id": "5853ced4",
   "metadata": {},
   "outputs": [],
   "source": [
    "stemm=PorterStemmer()"
   ]
  },
  {
   "cell_type": "code",
   "execution_count": null,
   "id": "1eab6901",
   "metadata": {},
   "outputs": [],
   "source": [
    "data1['tokenized']=data1['tokenized'].apply(lambda x:[stemm.stem(i) for i in x])"
   ]
  },
  {
   "cell_type": "code",
   "execution_count": null,
   "id": "e52ff8a7",
   "metadata": {},
   "outputs": [],
   "source": [
    "data1.head()"
   ]
  },
  {
   "cell_type": "code",
   "execution_count": null,
   "id": "893a03a4",
   "metadata": {},
   "outputs": [],
   "source": [
    "data1['tokenized']=data1['tokenized'].apply(lambda x:' '.join(x))"
   ]
  },
  {
   "cell_type": "code",
   "execution_count": null,
   "id": "607bc2ff",
   "metadata": {},
   "outputs": [],
   "source": [
    "data1"
   ]
  },
  {
   "cell_type": "code",
   "execution_count": null,
   "id": "42fac9b3",
   "metadata": {},
   "outputs": [],
   "source": [
    "data2=data1.loc[:,['tokenized']]"
   ]
  },
  {
   "cell_type": "code",
   "execution_count": null,
   "id": "077df7b8",
   "metadata": {},
   "outputs": [],
   "source": [
    "data2"
   ]
  },
  {
   "cell_type": "code",
   "execution_count": null,
   "id": "527111cd",
   "metadata": {},
   "outputs": [],
   "source": [
    "from vaderSentiment.vaderSentiment import SentimentIntensityAnalyzer"
   ]
  },
  {
   "cell_type": "code",
   "execution_count": null,
   "id": "69e99873",
   "metadata": {},
   "outputs": [],
   "source": [
    "analyser=SentimentIntensityAnalyzer()"
   ]
  },
  {
   "cell_type": "code",
   "execution_count": null,
   "id": "41b95069",
   "metadata": {},
   "outputs": [],
   "source": [
    "def sentiment_score(text):\n",
    "    analyser=SentimentIntensityAnalyzer()\n",
    "    senti_dict=analyser.polarity_scores(text)\n",
    "    senti=[]\n",
    "    for i in senti_dict:\n",
    "        if senti_dict['compound']>0.5:\n",
    "            senti.append(1)\n",
    "        elif senti_dict['compound']<=-0.5:\n",
    "            senti.append(2)\n",
    "        else :\n",
    "            senti.append(0)\n",
    "    \n",
    "    return senti[0]"
   ]
  },
  {
   "cell_type": "code",
   "execution_count": null,
   "id": "447eb7ca",
   "metadata": {},
   "outputs": [],
   "source": [
    "data3=data2"
   ]
  },
  {
   "cell_type": "code",
   "execution_count": null,
   "id": "f54a7d8a",
   "metadata": {},
   "outputs": [],
   "source": [
    "data3"
   ]
  },
  {
   "cell_type": "code",
   "execution_count": null,
   "id": "f3c9db89",
   "metadata": {},
   "outputs": [],
   "source": [
    "data3['target']=data3['tokenized'].apply(lambda x: sentiment_score(x))"
   ]
  },
  {
   "cell_type": "code",
   "execution_count": null,
   "id": "b5d534bc",
   "metadata": {},
   "outputs": [],
   "source": [
    "data3"
   ]
  },
  {
   "cell_type": "code",
   "execution_count": null,
   "id": "7fa0574c",
   "metadata": {},
   "outputs": [],
   "source": [
    "data3[data3['target']==2]"
   ]
  },
  {
   "cell_type": "code",
   "execution_count": null,
   "id": "2185df63",
   "metadata": {},
   "outputs": [],
   "source": [
    "data3.info()"
   ]
  },
  {
   "cell_type": "code",
   "execution_count": null,
   "id": "85a1c28c",
   "metadata": {},
   "outputs": [],
   "source": [
    "data3['target'].value_counts()"
   ]
  },
  {
   "cell_type": "markdown",
   "id": "2e0d8a4c",
   "metadata": {},
   "source": [
    "###  now we using CountVector"
   ]
  },
  {
   "cell_type": "code",
   "execution_count": null,
   "id": "c2d98d8d",
   "metadata": {},
   "outputs": [],
   "source": [
    "from sklearn.feature_extraction.text import CountVectorizer"
   ]
  },
  {
   "cell_type": "code",
   "execution_count": null,
   "id": "1558e7b7",
   "metadata": {},
   "outputs": [],
   "source": [
    "cv=CountVectorizer()\n",
    "cv_text=cv.fit_transform(data3['tokenized'])"
   ]
  },
  {
   "cell_type": "markdown",
   "id": "8beaad9a",
   "metadata": {},
   "source": [
    "### Logistic Regression"
   ]
  },
  {
   "cell_type": "code",
   "execution_count": null,
   "id": "8bcab2ac",
   "metadata": {},
   "outputs": [],
   "source": [
    "from sklearn.linear_model import LogisticRegression\n",
    "from sklearn.model_selection import train_test_split\n",
    "from sklearn.metrics import classification_report\n",
    "from imblearn.over_sampling import SMOTE"
   ]
  },
  {
   "cell_type": "code",
   "execution_count": null,
   "id": "d1b53a08",
   "metadata": {},
   "outputs": [],
   "source": [
    "lr=LogisticRegression()\n",
    "sm=SMOTE()"
   ]
  },
  {
   "cell_type": "code",
   "execution_count": null,
   "id": "a3a8ce36",
   "metadata": {},
   "outputs": [],
   "source": [
    "x=cv_text\n",
    "y=data3['target']"
   ]
  },
  {
   "cell_type": "code",
   "execution_count": null,
   "id": "1d5a1654",
   "metadata": {},
   "outputs": [],
   "source": [
    "x_train,x_test,y_train,y_test=train_test_split(x,y,test_size=.33,random_state=42)"
   ]
  },
  {
   "cell_type": "code",
   "execution_count": null,
   "id": "3694fe47",
   "metadata": {},
   "outputs": [],
   "source": [
    "x_train,y_train=sm.fit_resample(x_train,y_train)"
   ]
  },
  {
   "cell_type": "code",
   "execution_count": null,
   "id": "3ce65e5f",
   "metadata": {},
   "outputs": [],
   "source": [
    "y_train.value_counts()"
   ]
  },
  {
   "cell_type": "code",
   "execution_count": null,
   "id": "4ac95286",
   "metadata": {},
   "outputs": [],
   "source": [
    "model_log=lr.fit(x_train,y_train)"
   ]
  },
  {
   "cell_type": "code",
   "execution_count": null,
   "id": "3234b33b",
   "metadata": {},
   "outputs": [],
   "source": [
    "print('accuracy :',model_log.score(x_train,y_train)*100)"
   ]
  },
  {
   "cell_type": "code",
   "execution_count": null,
   "id": "72e2e944",
   "metadata": {},
   "outputs": [],
   "source": [
    "print('accuracy :',model_log.score(x_test,y_test)*100)"
   ]
  },
  {
   "cell_type": "code",
   "execution_count": null,
   "id": "9a3553b6",
   "metadata": {},
   "outputs": [],
   "source": [
    "y_pred=model_log.predict(x_test)"
   ]
  },
  {
   "cell_type": "code",
   "execution_count": null,
   "id": "bb45a52b",
   "metadata": {},
   "outputs": [],
   "source": [
    "print(classification_report(y_pred,y_test))"
   ]
  },
  {
   "cell_type": "markdown",
   "id": "79f8effb",
   "metadata": {},
   "source": [
    "### Naive Bayes"
   ]
  },
  {
   "cell_type": "code",
   "execution_count": null,
   "id": "853d63a2",
   "metadata": {},
   "outputs": [],
   "source": [
    "from sklearn.naive_bayes import MultinomialNB"
   ]
  },
  {
   "cell_type": "code",
   "execution_count": null,
   "id": "5252289c",
   "metadata": {},
   "outputs": [],
   "source": [
    "nb=MultinomialNB()\n",
    "model_2=nb.fit(x_train,y_train)"
   ]
  },
  {
   "cell_type": "code",
   "execution_count": null,
   "id": "a201b247",
   "metadata": {},
   "outputs": [],
   "source": [
    "print('accuracy :',model_2.score(x_train,y_train)*100)"
   ]
  },
  {
   "cell_type": "code",
   "execution_count": null,
   "id": "46d31e98",
   "metadata": {},
   "outputs": [],
   "source": [
    "print('accuracy :',model_2.score(x_test,y_test)*100)"
   ]
  },
  {
   "cell_type": "code",
   "execution_count": null,
   "id": "c1e0348d",
   "metadata": {},
   "outputs": [],
   "source": [
    "y_pred=model_2.predict(x_test)"
   ]
  },
  {
   "cell_type": "code",
   "execution_count": null,
   "id": "25db7c3d",
   "metadata": {},
   "outputs": [],
   "source": [
    "print(classification_report(y_pred,y_test))"
   ]
  },
  {
   "cell_type": "markdown",
   "id": "29330ee2",
   "metadata": {},
   "source": [
    "### Decision Tree"
   ]
  },
  {
   "cell_type": "code",
   "execution_count": null,
   "id": "c74c9b04",
   "metadata": {},
   "outputs": [],
   "source": [
    "from sklearn.tree import DecisionTreeClassifier"
   ]
  },
  {
   "cell_type": "code",
   "execution_count": null,
   "id": "0dbc9af7",
   "metadata": {},
   "outputs": [],
   "source": [
    "dt=DecisionTreeClassifier()\n",
    "model_3=dt.fit(x_train,y_train)"
   ]
  },
  {
   "cell_type": "code",
   "execution_count": null,
   "id": "49bfc70e",
   "metadata": {},
   "outputs": [],
   "source": [
    "print('accuracy :',model_3.score(x_train,y_train)*100)"
   ]
  },
  {
   "cell_type": "code",
   "execution_count": null,
   "id": "9f9c0cbd",
   "metadata": {},
   "outputs": [],
   "source": [
    "print('accuracy :',model_3.score(x_test,y_test)*100)"
   ]
  },
  {
   "cell_type": "code",
   "execution_count": null,
   "id": "00059644",
   "metadata": {},
   "outputs": [],
   "source": [
    "y_pred=model_3.predict(x_test)"
   ]
  },
  {
   "cell_type": "code",
   "execution_count": null,
   "id": "c2a0a0b3",
   "metadata": {},
   "outputs": [],
   "source": [
    "print(classification_report(y_pred,y_test))"
   ]
  },
  {
   "cell_type": "markdown",
   "id": "c639c0da",
   "metadata": {},
   "source": [
    "### Now we are using TF-IDF"
   ]
  },
  {
   "cell_type": "code",
   "execution_count": null,
   "id": "416bd36d",
   "metadata": {},
   "outputs": [],
   "source": [
    "from sklearn.feature_extraction.text import TfidfVectorizer"
   ]
  },
  {
   "cell_type": "code",
   "execution_count": null,
   "id": "d7e2fdd8",
   "metadata": {},
   "outputs": [],
   "source": [
    "tf=TfidfVectorizer()\n",
    "tf_text=tf.fit_transform(data3['tokenized'])"
   ]
  },
  {
   "cell_type": "code",
   "execution_count": null,
   "id": "cc05971b",
   "metadata": {},
   "outputs": [],
   "source": [
    "x=tf_text\n",
    "y=data3['target']"
   ]
  },
  {
   "cell_type": "code",
   "execution_count": null,
   "id": "8922e474",
   "metadata": {},
   "outputs": [],
   "source": [
    "x_train,x_test,y_train,y_test=train_test_split(x,y,test_size=.33,random_state=42)\n",
    "x_train,y_train=sm.fit_resample(x_train,y_train)\n",
    "y_train.value_counts()"
   ]
  },
  {
   "cell_type": "markdown",
   "id": "0ed3a51b",
   "metadata": {},
   "source": [
    "### Logistic regression"
   ]
  },
  {
   "cell_type": "code",
   "execution_count": null,
   "id": "a7a7b383",
   "metadata": {},
   "outputs": [],
   "source": [
    "lr=LogisticRegression()\n",
    "tf_model_1=lr.fit(x_train,y_train)"
   ]
  },
  {
   "cell_type": "code",
   "execution_count": null,
   "id": "913e4adc",
   "metadata": {},
   "outputs": [],
   "source": [
    "print('accuracy :',tf_model_1.score(x_train,y_train)*100)"
   ]
  },
  {
   "cell_type": "code",
   "execution_count": null,
   "id": "b6f45e47",
   "metadata": {},
   "outputs": [],
   "source": [
    "print('accuracy :',tf_model_1.score(x_test,y_test)*100)"
   ]
  },
  {
   "cell_type": "code",
   "execution_count": null,
   "id": "8ee6dc77",
   "metadata": {},
   "outputs": [],
   "source": [
    "y_pred=tf_model_1.predict(x_test)"
   ]
  },
  {
   "cell_type": "code",
   "execution_count": null,
   "id": "29aa2e5d",
   "metadata": {},
   "outputs": [],
   "source": [
    "print(classification_report(y_pred,y_test)) #80"
   ]
  },
  {
   "cell_type": "markdown",
   "id": "76035d62",
   "metadata": {},
   "source": [
    "###  Naive bayes"
   ]
  },
  {
   "cell_type": "code",
   "execution_count": null,
   "id": "86837e71",
   "metadata": {},
   "outputs": [],
   "source": [
    "tf_model_2=nb.fit(x_train,y_train)"
   ]
  },
  {
   "cell_type": "code",
   "execution_count": null,
   "id": "b70f2fda",
   "metadata": {},
   "outputs": [],
   "source": [
    "print('accuracy :',tf_model_2.score(x_train,y_train)*100)"
   ]
  },
  {
   "cell_type": "code",
   "execution_count": null,
   "id": "297144d3",
   "metadata": {},
   "outputs": [],
   "source": [
    "print('accuracy :',tf_model_2.score(x_test,y_test)*100)"
   ]
  },
  {
   "cell_type": "code",
   "execution_count": null,
   "id": "8441a2f0",
   "metadata": {},
   "outputs": [],
   "source": [
    "y_pred=tf_model_2.predict(x_test)"
   ]
  },
  {
   "cell_type": "code",
   "execution_count": null,
   "id": "a563df9c",
   "metadata": {},
   "outputs": [],
   "source": [
    "print(classification_report(y_pred,y_test))"
   ]
  },
  {
   "cell_type": "markdown",
   "id": "f06382b0",
   "metadata": {},
   "source": [
    "### Decision Tree"
   ]
  },
  {
   "cell_type": "code",
   "execution_count": null,
   "id": "f581d243",
   "metadata": {},
   "outputs": [],
   "source": [
    "dt=DecisionTreeClassifier()\n",
    "tf_model_3=dt.fit(x_train,y_train)\n",
    "print('accuracy :',tf_model_3.score(x_train,y_train)*100)"
   ]
  },
  {
   "cell_type": "code",
   "execution_count": null,
   "id": "50440560",
   "metadata": {},
   "outputs": [],
   "source": [
    "print('accuracy :',tf_model_3.score(x_test,y_test)*100)"
   ]
  },
  {
   "cell_type": "code",
   "execution_count": null,
   "id": "a9b9d236",
   "metadata": {},
   "outputs": [],
   "source": [
    "y_pred=tf_model_3.predict(x_test)"
   ]
  },
  {
   "cell_type": "code",
   "execution_count": null,
   "id": "c3349dc2",
   "metadata": {},
   "outputs": [],
   "source": [
    "print(classification_report(y_pred,y_test))"
   ]
  },
  {
   "cell_type": "code",
   "execution_count": null,
   "id": "4b5066c7",
   "metadata": {},
   "outputs": [],
   "source": []
  }
 ],
 "metadata": {
  "kernelspec": {
   "display_name": "Python 3 (ipykernel)",
   "language": "python",
   "name": "python3"
  },
  "language_info": {
   "codemirror_mode": {
    "name": "ipython",
    "version": 3
   },
   "file_extension": ".py",
   "mimetype": "text/x-python",
   "name": "python",
   "nbconvert_exporter": "python",
   "pygments_lexer": "ipython3",
   "version": "3.9.12"
  }
 },
 "nbformat": 4,
 "nbformat_minor": 5
}
