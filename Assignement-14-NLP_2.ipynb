{
 "cells": [
  {
   "cell_type": "code",
   "execution_count": 24,
   "id": "1881b3b3",
   "metadata": {},
   "outputs": [],
   "source": [
    "import pandas as pd\n",
    "import numpy as np\n",
    "from bs4 import BeautifulSoup as bs\n",
    "import requests as re"
   ]
  },
  {
   "cell_type": "code",
   "execution_count": 25,
   "id": "ab282abf",
   "metadata": {},
   "outputs": [],
   "source": [
    "url='https://www.amazon.in/New-Apple-iPhone-12-128GB/product-reviews/B08L5TNJHG/ref=cm_cr_arp_d_paging_btm_next_2?ie=UTF8&reviewerType=all_reviews&pageNumber=2'"
   ]
  },
  {
   "cell_type": "code",
   "execution_count": 26,
   "id": "0b6c3674",
   "metadata": {},
   "outputs": [],
   "source": [
    "page=re.get(url,headers={'User-Agent': 'Mozilla/5.0 (Macintosh; Intel Mac OS X 10_13_4) AppleWebKit/537.36 (KHTML, like Gecko) Chrome/35.0.1916.47 Safari/537.36'})"
   ]
  },
  {
   "cell_type": "code",
   "execution_count": 27,
   "id": "873086a5",
   "metadata": {},
   "outputs": [
    {
     "data": {
      "text/plain": [
       "<Response [200]>"
      ]
     },
     "execution_count": 27,
     "metadata": {},
     "output_type": "execute_result"
    }
   ],
   "source": [
    "page"
   ]
  },
  {
   "cell_type": "code",
   "execution_count": 28,
   "id": "f06381a6",
   "metadata": {},
   "outputs": [
    {
     "data": {
      "text/plain": [
       "b'\\n\\n\\n\\n<!doctype html><html class=\"a-no-js\" data-19ax5a9jf=\"dingo\">\\n  <head>\\n<script type=\\'text/javascript\\'>var ue_t0=ue_t0||+new Date();</script>\\n<script type=\\'text/javascript\\'>\\nwindow.ue_ihb = (window.ue_ihb || window.ueinit || 0) + 1;\\nif (window.ue_ihb === 1) {\\n\\nvar ue_csm = window,\\n    ue_hob = +new Date();\\n(function(d){var e=d.ue=d.ue||{},f=Date.now||function(){return+new Date};e.d=function(b){return f()-(b?0:d.ue_t0)};e.stub=function(b,a){if(!b[a]){var c=[];b[a]=function(){c.push([c.slice.call(arguments),e.d(),d.ue_id])};b[a].replay=function(b){for(var a;a=c.shift();)b(a[0],a[1],a[2])};b[a].isStub=1}};e.exec=function(b,a){return function(){try{return b.apply(this,arguments)}catch(c){ueLogError(c,{attribution:a||\"undefined\",logLevel:\"WARN\"})}}}})(ue_csm);\\n\\n\\n    var ue_err_chan = \\'jserr-rw\\';\\n(function(d,e){function h(f,b){if(!(a.ec>a.mxe)&&f){a.ter.push(f);b=b||{};var c=f.logLevel||b.logLevel;c&&c!==k&&c!==m&&c!==n&&c!==p||a.ec++;c&&c!=k||a.ecf++;b.pageURL=\"\"+(e.location?e.location.href:\"\");b.logLevel=c;b.attribution=f.attribution||b.attribution;a.erl.push({ex:f,info:b})}}function l(a,b,c,e,g){d.ueLogError({m:a,f:b,l:c,c:\"\"+e,err:g,fromOnError:1,args:arguments},g?{attribution:g.attribution,logLevel:g.logLevel}:void 0);return!1}var k=\"FATAL\",m=\"ERROR\",n=\"WARN\",p=\"DOWNGRADED\",a={ec:0,ecf:0,\\npec:0,ts:0,erl:[],ter:[],buffer:[],mxe:50,startTimer:function(){a.ts++;setInterval(function(){d.ue&&a.pec<a.ec&&d.uex(\"at\");a.pec=a.ec},1E4)}};l.skipTrace=1;h.skipTrace=1;h.isStub=1;d.ueLogError=h;d.ue_err=a;e.onerror=l})(ue_csm,window);\\n\\n\\nvar ue_id = \\'JY000YRQ4KCF8VZPC4PG\\',\\n    ue_url = \\'/ap/uedata\\',\\n    ue_navtiming = 1,\\n    ue_mid = \\'A21TJRUUN4KGV\\',\\n    ue_sid = \\'262-2745510-6589301\\',\\n    ue_sn = \\'www.amazon.in\\',\\n    ue_furl = \\'fls-eu.amazon.com\\',\\n    ue_surl = \\'https://unagi-eu.amazon.com/1/events/com.amazon.csm.nexusclient.prod\\',\\n    ue_int = 0,\\n    ue_fcsn = 1,\\n    ue_urt = 3,\\n    ue_rpl_ns = \\'cel-rpl\\',\\n    ue_ddq = 1,\\n    ue_fpf = \\'//fls-eu.amazon.com/1/batch/1/OP/A21TJRUUN4KGV:262-2745510-6589301:JY000YRQ4KCF8VZPC4PG$uedata=s:\\',\\n    ue_sbuimp = 1,\\n    ue_ibft = 0,\\n    ue_fnt = 0,\\n\\n    ue_swi = 1;\\nvar ue_viz=function(){(function(b,e,a){function k(c){if(b.ue.viz.length<p&&!l){var a=c.type;c=c.originalEvent;/^focus./.test(a)&&c&&(c.toElement||c.fromElement||c.relatedTarget)||(a=e[m]||(\"blur\"==a||\"focusout\"==a?\"hidden\":\"visible\"),b.ue.viz.push(a+\":\"+(+new Date-b.ue.t0)),\"visible\"==a&&(b.ue.isl&&q(\"at\"),l=1))}}for(var l=0,q=b.uex,f,g,m,n=[\"\",\"webkit\",\"o\",\"ms\",\"moz\"],d=0,p=20,h=0;h<n.length&&!d;h++)if(a=n[h],f=(a?a+\"H\":\"h\")+\"idden\",d=\"boolean\"==typeof e[f])g=a+\"visibilitychange\",m=(a?a+\"V\":\"v\")+\\n\"isibilityState\";k({});d&&e.addEventListener(g,k,0);b.ue&&d&&(b.ue.pageViz={event:g,propHid:f})})(ue_csm,ue_csm.document,ue_csm.window)};\\n\\n(function(d,h,N){function H(a){return a&&a.replace&&a.replace(/^\\\\s+|\\\\s+$/g,\"\")}function u(a){return\"undefined\"===typeof a}function B(a,b){for(var c in b)b[v](c)&&(a[c]=b[c])}function I(a){try{var b=N.cookie.match(RegExp(\"(^| )\"+a+\"=([^;]+)\"));if(b)return b[2].trim()}catch(c){}}function O(k,b,c){var q=(x||{}).type;if(\"device\"!==c||2!==q&&1!==q)k&&(d.ue_id=a.id=a.rid=k,w&&(w=w.replace(/((.*?:){2})(\\\\w+)/,function(a,b){return b+k})),D&&(e(\"id\",D,k),D=0)),b&&(w&&(w=w.replace(/(.*?:)(\\\\w|-)+/,function(a,\\nc){return c+b})),d.ue_sid=b),c&&a.tag(\"page-source:\"+c),d.ue_fpf=w}function P(){var a={};return function(b){b&&(a[b]=1);b=[];for(var c in a)a[v](c)&&b.push(c);return b}}function y(d,b,c,q){q=q||+new E;var f,m;if(b||u(c)){if(d)for(m in f=b?e(\"t\",b)||e(\"t\",b,{}):a.t,f[d]=q,c)c[v](m)&&e(m,b,c[m]);return q}}function e(d,b,c){var e=b&&b!=a.id?a.sc[b]:a;e||(e=a.sc[b]={});\"id\"===d&&c&&(Q=1);return e[d]=c||e[d]}function R(d,b,c,e,f){c=\"on\"+c;var m=b[c];\"function\"===typeof m?d&&(a.h[d]=m):m=function(){};b[c]=\\nfunction(a){f?(e(a),m(a)):(m(a),e(a))};b[c]&&(b[c].isUeh=1)}function S(k,b,c,q){function p(b,c){var d=[b],g=0,f={},m,h;c?(d.push(\"m=1\"),f[c]=1):f=a.sc;for(h in f)if(f[v](h)){var q=e(\"wb\",h),p=e(\"t\",h)||{},n=e(\"t0\",h)||a.t0,l;if(c||2==q){q=q?g++:\"\";d.push(\"sc\"+q+\"=\"+h);for(l in p)u(p[l])||null===p[l]||d.push(l+q+\"=\"+(p[l]-n));d.push(\"t\"+q+\"=\"+p[k]);if(e(\"ctb\",h)||e(\"wb\",h))m=1}}!J&&m&&d.push(\"ctb=1\");return d.join(\"&\")}function m(b,c,g,e,f){if(b){var k=d.ue_err;d.ue_url&&!e&&!f&&b&&0<b.length&&(e=\\nnew Image,a.iel.push(e),e.src=b,a.count&&a.count(\"postbackImageSize\",b.length));w?(f=h.encodeURIComponent)&&b&&(e=new Image,b=\"\"+d.ue_fpf+f(b)+\":\"+(+new E-d.ue_t0),a.iel.push(e),e.src=b):a.log&&(a.log(b,\"uedata\",{n:1}),a.ielf.push(b));k&&!k.ts&&k.startTimer();a.b&&(k=a.b,a.b=\"\",m(k,c,g,1))}}function A(b){var c=x?x.type:F,d=2==c||a.isBFonMshop,c=c&&!d,e=a.bfini;Q||(e&&1<e&&(b+=\"&bfform=1\",c||(a.isBFT=e-1)),d&&(b+=\"&bfnt=1\",a.isBFT=a.isBFT||1),a.ssw&&a.isBFT&&(a.isBFonMshop&&(a.isNRBF=0),u(a.isNRBF)&&\\n(d=a.ssw(a.oid),d.e||u(d.val)||(a.isNRBF=1<d.val?0:1)),u(a.isNRBF)||(b+=\"&nrbf=\"+a.isNRBF)),a.isBFT&&!a.isNRBF&&(b+=\"&bft=\"+a.isBFT));return b}if(!a.paused&&(b||u(c))){for(var l in c)c[v](l)&&e(l,b,c[l]);a.isBFonMshop||y(\"pc\",b,c);l=\"ld\"===k&&b&&e(\"wb\",b);var s=e(\"id\",b)||a.id;l||s===a.oid||(D=b,ba(s,(e(\"t\",b)||{}).tc||+e(\"t0\",b),+e(\"t0\",b)));var s=e(\"id\",b)||a.id,t=e(\"id2\",b),g=a.url+\"?\"+k+\"&v=\"+a.v+\"&id=\"+s,J=e(\"ctb\",b)||e(\"wb\",b),z;J&&(g+=\"&ctb=\"+J);t&&(g+=\"&id2=\"+t);1<d.ueinit&&(g+=\"&ic=\"+d.ueinit);\\nif(!(\"ld\"!=k&&\"ul\"!=k||b&&b!=s)){if(\"ld\"==k){try{h[K]&&h[K].isUeh&&(h[K]=null)}catch(I){}if(h.chrome)for(t=0;t<L.length;t++)T(G,L[t]);(t=N.ue_backdetect)&&t.ue_back&&t.ue_back.value++;d._uess&&(z=d._uess());a.isl=1}a._bf&&(g+=\"&bf=\"+a._bf());d.ue_navtiming&&f&&(e(\"ctb\",s,\"1\"),a.isBFonMshop||y(\"tc\",F,F,M));!C||a.isBFonMshop||U||(f&&B(a.t,{na_:f.navigationStart,ul_:f.unloadEventStart,_ul:f.unloadEventEnd,rd_:f.redirectStart,_rd:f.redirectEnd,fe_:f.fetchStart,lk_:f.domainLookupStart,_lk:f.domainLookupEnd,\\nco_:f.connectStart,_co:f.connectEnd,sc_:f.secureConnectionStart,rq_:f.requestStart,rs_:f.responseStart,_rs:f.responseEnd,dl_:f.domLoading,di_:f.domInteractive,de_:f.domContentLoadedEventStart,_de:f.domContentLoadedEventEnd,_dc:f.domComplete,ld_:f.loadEventStart,_ld:f.loadEventEnd,ntd:(\"function\"!==typeof C.now||u(M)?0:new E(M+C.now())-new E)+a.t0}),x&&B(a.t,{ty:x.type+a.t0,rc:x.redirectCount+a.t0}),U=1);a.isBFonMshop||B(a.t,{hob:d.ue_hob,hoe:d.ue_hoe});a.ifr&&(g+=\"&ifr=1\")}y(k,b,c,q);var r,n;l||b&&\\nb!==s||ca(b);(c=d.ue_mbl)&&c.cnt&&!l&&(g+=c.cnt());l?e(\"wb\",b,2):\"ld\"==k&&(a.lid=H(s));for(r in a.sc)if(1==e(\"wb\",r))break;if(l){if(a.s)return;g=p(g,null)}else c=p(g,null),c!=g&&(c=A(c),a.b=c),z&&(g+=z),g=p(g,b||a.id);g=A(g);if(a.b||l)for(r in a.sc)2==e(\"wb\",r)&&delete a.sc[r];z=0;a._rt&&(g+=\"&rt=\"+a._rt());c=h.csa;if(!l&&c)for(n in r=e(\"t\",b)||{},c=c(\"PageTiming\"),r)r[v](n)&&c(\"mark\",da[n]||n,r[n]);l||(a.s=0,(n=d.ue_err)&&0<n.ec&&n.pec<n.ec&&(n.pec=n.ec,g+=\"&ec=\"+n.ec+\"&ecf=\"+n.ecf),z=e(\"ctb\",b),\\n\"ld\"!==k||b||a.markers?a.markers&&a.isl&&!l&&b&&B(a.markers,e(\"t\",b)):(a.markers={},B(a.markers,e(\"t\",b))),e(\"t\",b,{}));a.tag&&a.tag().length&&(g+=\"&csmtags=\"+a.tag().join(\"|\"),a.tag=P());n=a.viz||[];(r=n.length)&&(g+=\"&viz=\"+n.splice(0,r).join(\"|\"));u(d.ue_pty)||(g+=\"&pty=\"+d.ue_pty+\"&spty=\"+d.ue_spty+\"&pti=\"+d.ue_pti);a.tabid&&(g+=\"&tid=\"+a.tabid);a.aftb&&(g+=\"&aftb=1\");!a._ui||b&&b!=s||(g+=a._ui());a.a=g;m(g,k,z,l,b&&\"string\"===typeof b&&-1!==b.indexOf(\"csa:\"))}}function ca(a){var b=h.ue_csm_markers||\\n{},c;for(c in b)b[v](c)&&y(c,a,F,b[c])}function A(a,b,c){c=c||h;if(c[V])c[V](a,b,!1);else if(c[W])c[W](\"on\"+a,b)}function T(a,b,c){c=c||h;if(c[X])c[X](a,b,!1);else if(c[Y])c[Y](\"on\"+a,b)}function Z(){function a(){d.onUl()}function b(a){return function(){c[a]||(c[a]=1,S(a))}}var c={},e,f;d.onLd=b(\"ld\");d.onLdEnd=b(\"ld\");d.onUl=b(\"ul\");e={stop:b(\"os\")};h.chrome?(A(G,a),L.push(a)):e[G]=d.onUl;for(f in e)e[v](f)&&R(0,h,f,e[f]);d.ue_viz&&ue_viz();A(\"load\",d.onLd);y(\"ue\")}function ba(e,b,c){var f=d.ue_mbl,\\np=h.csa,m=p&&p(\"SPA\"),p=p&&p(\"PageTiming\");f&&f.ajax&&f.ajax(b,c);m&&p&&(m(\"newPage\",{requestId:e,transitionType:\"soft\"}),p(\"mark\",\"transitionStart\",b));a.tag(\"ajax-transition\")}d.ueinit=(d.ueinit||0)+1;var a=d.ue=d.ue||{};a.t0=h.aPageStart||d.ue_t0;a.id=d.ue_id;a.url=d.ue_url;a.rid=d.ue_id;a.a=\"\";a.b=\"\";a.h={};a.s=1;a.t={};a.sc={};a.iel=[];a.ielf=[];a.viz=[];a.v=\"0.244781.0\";a.paused=!1;var v=\"hasOwnProperty\",G=\"beforeunload\",K=\"on\"+G,V=\"addEventListener\",X=\"removeEventListener\",W=\"attachEvent\",\\nY=\"detachEvent\",da={cf:\"criticalFeature\",af:\"aboveTheFold\",fn:\"functional\",fp:\"firstPaint\",fcp:\"firstContentfulPaint\",bb:\"bodyBegin\",be:\"bodyEnd\",ld:\"loaded\"},E=h.Date,C=h.performance||h.webkitPerformance,f=(C||{}).timing,x=(C||{}).navigation,M=(f||{}).navigationStart,w=d.ue_fpf,Q=0,U=0,L=[],D=0,F;a.oid=H(a.id);a.lid=H(a.id);a._t0=a.t0;a.tag=P();a.ifr=h.top!==h.self||h.frameElement?1:0;a.markers=null;a.attach=A;a.detach=T;if(\"000-0000000-8675309\"===d.ue_sid){var $=I(\"cdn-rid\"),aa=I(\"session-id\");\\n$&&aa&&O($,aa,\"cdn\")}d.uei=Z;d.ueh=R;d.ues=e;d.uet=y;d.uex=S;a.reset=O;a.pause=function(d){a.paused=d};Z()})(ue_csm,ue_csm.window,ue_csm.document);\\n\\n\\nue.stub(ue,\"log\");ue.stub(ue,\"onunload\");ue.stub(ue,\"onflush\");\\n(function(b){var a=b.ue,g=1===b.ue_no_counters;a.cv={};a.cv.scopes={};a.cv.buffer=[];a.count=function(b,f,c){var e={},d=a.cv,h=c&&0===c.c;e.counter=b;e.value=f;e.t=a.d();c&&c.scope&&(d=a.cv.scopes[c.scope]=a.cv.scopes[c.scope]||{},e.scope=c.scope);if(void 0===f)return d[b];d[b]=f;d=0;c&&c.bf&&(d=1);g||(ue_csm.ue_sclog||!a.clog||0!==d||h?a.log&&a.log(e,\"csmcount\",{c:1,bf:d}):a.clog(e,\"csmcount\",{bf:d}));a.cv.buffer.push({c:b,v:f})};a.count(\"baselineCounter2\",1);a&&a.event&&(a.event({requestId:b.ue_id||\\n\"rid\",server:b.ue_sn||\"sn\",obfuscatedMarketplaceId:b.ue_mid||\"mid\"},\"csm\",\"csm.CSMBaselineEvent.4\"),a.count(\"nexusBaselineCounter\",1,{bf:1}))})(ue_csm);\\n\\n\\n\\nvar ue_hoe = +new Date();\\n}\\nwindow.ueinit = window.ue_ihb;\\n</script>\\n\\n<!-- 8bb2o9nmtux0wdve7ypdhzj -->\\n<script>window.ue && ue.count && ue.count(\\'CSMLibrarySize\\', 9735)</script><script>var aPageStart = (new Date()).getTime();</script><meta charset=\"utf-8\"/>\\n    <title dir=\"ltr\">Amazon Sign In</title>\\n\\n    \\n      <script>\\n        if (!window.ueLogError) {\\n          // CSM is not supported so disable SIEGE CSM instrumentation\\n          window.siegeCseConfig = {\\n            disableCsmInstrumentation: true\\n          }\\n        }\\n      </script>\\n    \\n\\n    \\n      \\n\\n      \\n        <link rel=\"stylesheet\" href=\"https://images-eu.ssl-images-amazon.com/images/I/61A6IErPNXL._RC|11Fd9tJOdtL.css,11tfezETfFL.css,31Q3id-QR0L.css,31U9HrBLKmL.css_.css?AUIClients/AmazonUI#us.not-trident\" />\\n<link rel=\"stylesheet\" href=\"https://images-eu.ssl-images-amazon.com/images/I/01SdjaY0ZsL._RC|31jdWD+JB+L.css,41GEwrYEGlL.css_.css?AUIClients/AuthenticationPortalAssets\" />\\n<link rel=\"stylesheet\" href=\"https://images-eu.ssl-images-amazon.com/images/I/21yxad+ZMHL.css?AUIClients/CVFAssets\" />\\n<script>\\n(function(d,g,R,H){function x(a){y&&y.tag&&y.tag(m(\":\",\"aui\",a))}function p(a,b){y&&y.count&&y.count(\"aui:\"+a,0===b?0:b||(y.count(\"aui:\"+a)||0)+1)}function r(a){try{return a.test(navigator.userAgent)}catch(b){return!1}}function t(a){return\"function\"===typeof a}function z(a,b,c){a.addEventListener?a.addEventListener(b,c,!1):a.attachEvent&&a.attachEvent(\"on\"+b,c)}function m(a,b,c,d){b=b&&c?b+a+c:b||c;return d?m(a,b,d):b}function I(a,b,c){try{Object.defineProperty(a,b,{value:c,writable:!1})}catch(v){a[b]=\\nc}return c}function ta(a,b,c){var d=c=a.length,f=function(){d--||(S.push(b),T||(setTimeout(da,0),T=!0))};for(f();c--;)ea[a[c]]?f():(C[a[c]]=C[a[c]]||[]).push(f)}function ua(a,b,c,d,f){var e=g.createElement(a?\"script\":\"link\");z(e,\"error\",d);f&&z(e,\"load\",f);a?(e.type=\"text/javascript\",e.async=!0,c&&/AUIClients|images[/]I/.test(b)&&e.setAttribute(\"crossorigin\",\"anonymous\"),e.src=b):(e.rel=\"stylesheet\",e.href=b);g.getElementsByTagName(\"head\")[0].appendChild(e)}function fa(a,b){return function(c,v){function f(){ua(b,\\nc,e,function(b){U?p(\"resource_unload\"):e?(e=!1,p(\"resource_retry\"),f()):(p(\"resource_error\"),a.log(\"Asset failed to load: \"+c));b&&b.stopPropagation?b.stopPropagation():d.event&&(d.event.cancelBubble=!0)},v)}if(ha[c])return!1;ha[c]=!0;p(\"resource_count\");var e=!0;return!f()}}function va(a,b,c){for(var d={name:a,guard:function(c){return b.guardFatal(a,c)},guardTime:function(a){return b.guardTime(a)},logError:function(c,d,e){b.logError(c,d,e,a)}},f=[],e=0;e<c.length;e++)J.hasOwnProperty(c[e])&&(f[e]=\\nV.hasOwnProperty(c[e])?V[c[e]](J[c[e]],d):J[c[e]]);return f}function D(a,b,c,v,f){return function(e,g){function p(){var a=null;v?a=g:t(g)&&(A.start=B(),a=g.apply(d,va(e,h,q)),A.end=B());if(b){J[e]=a;a=e;for(ea[a]=!0;(C[a]||[]).length;)C[a].shift()();delete C[a]}A.done=!0}var h=f||this;t(e)&&(g=e,e=H);b&&(e=e?e.replace(ia,\"\"):\"__NONAME__\",W.hasOwnProperty(e)&&h.error(m(\", reregistered by \",m(\" by \",e+\" already registered\",W[e]),h.attribution),e),W[e]=h.attribution);for(var q=[],l=0;l<a.length;l++)q[l]=\\na[l].replace(ia,\"\");var A=E[e||\"anon\"+ ++wa]={depend:q,registered:B(),namespace:h.namespace};e&&xa.hasOwnProperty(e);c?p():ta(q,h.guardFatal(e,p),e);return{decorate:function(a){V[e]=h.guardFatal(e,a)}}}}function ja(a){return function(){var b=Array.prototype.slice.call(arguments);return{execute:D(b,!1,a,!1,this),register:D(b,!0,a,!1,this)}}}function X(a,b){return function(c,d){d||(d=c,c=H);var f=this.attribution;return function(){w.push(b||{attribution:f,name:c,logLevel:a});var e=d.apply(this,arguments);\\nw.pop();return e}}}function K(a,b){this.load={js:fa(this,!0),css:fa(this)};I(this,\"namespace\",b);I(this,\"attribution\",a)}function ka(){g.body?u.trigger(\"a-bodyBegin\"):setTimeout(ka,20)}function F(a,b){a.className=Y(a,b)+\" \"+b}function Y(a,b){return(\" \"+a.className+\" \").split(\" \"+b+\" \").join(\" \").replace(/^ | $/g,\"\")}function la(a){try{return a()}catch(b){return!1}}function L(){if(M){var a={w:d.innerWidth||h.clientWidth,h:d.innerHeight||h.clientHeight};5<Math.abs(a.w-Z.w)||50<a.h-Z.h?(Z=a,N=4,(a=l.mobile||\\nl.tablet?450<a.w&&a.w>a.h:1250<=a.w)?F(h,\"a-ws\"):h.className=Y(h,\"a-ws\")):0<N&&(N--,ma=setTimeout(L,16))}}function ya(a){(M=a===H?!M:!!a)&&L()}function za(){return M}\"use strict\";var O=R.now=R.now||function(){return+new R},B=function(a){return a&&a.now?a.now.bind(a):O}(d.performance),P=B(),xa={},n=d.AmazonUIPageJS||d.P;if(n&&n.when&&n.register){P=[];for(var k=g.currentScript;k;k=k.parentElement)k.id&&P.push(k.id);return n.log(\"A copy of P has already been loaded on this page.\",\"FATAL\",P.join(\" \"))}var y=\\nd.ue;x();x(\"aui_build_date:3.23.1-2023-03-25\");var S=[],Aa=[],T=!1;var da=function(){for(var a=setTimeout(da,0),b=O();Aa.length||S.length;)if(S.shift()(),50<O()-b)return;clearTimeout(a);T=!1};var ea={},C={},ha={},U=!1;z(d,\"beforeunload\",function(){U=!0;setTimeout(function(){U=!1},1E4)});var ia=/^prv:/,W={},J={},V={},E={},wa=0,aa=String.fromCharCode(92),w=[],na=!0,oa=d.onerror;d.onerror=function(a,b,c,v,f){f&&\"object\"===typeof f||(f=Error(a,b,c),f.columnNumber=v,f.stack=b||c||v?m(aa,f.message,\"at \"+\\nm(\":\",b,c,v)):H);var e=w.pop()||{};f.attribution=m(\":\",f.attribution||e.attribution,e.name);f.logLevel=e.logLevel;f.attribution&&console&&console.log&&console.log([f.logLevel||\"ERROR\",a,\"thrown by\",f.attribution].join(\" \"));w=[];oa&&(e=[].slice.call(arguments),e[4]=f,oa.apply(d,e))};K.prototype={logError:function(a,b,c,v){b={message:b,logLevel:c||\"ERROR\",attribution:m(\":\",this.attribution,v)};if(d.ueLogError)return d.ueLogError(a||b,a?b:null),!0;console&&console.error&&(console.log(b),console.error(a));\\nreturn!1},error:function(a,b,c,d){a=Error(m(\":\",d,a,c));a.attribution=m(\":\",this.attribution,b);throw a;},guardError:X(),guardFatal:X(\"FATAL\"),guardCurrent:function(a){var b=w[w.length-1];return b?X(b.logLevel,b).call(this,a):a},guardTime:function(a){var b=w[w.length-1],c=b&&b.name;return c&&c in E?function(){var b=B(),d=a.apply(this,arguments);E[c].async=(E[c].async||0)+B()-b;return d}:a},log:function(a,b,c){return this.logError(null,a,b,c)},declare:D([],!0,!0,!0),register:D([],!0),execute:D([]),\\nAUI_BUILD_DATE:\"3.23.1-2023-03-25\",when:ja(),now:ja(!0),trigger:function(a,b,c){var g=O();this.declare(a,{data:b,pageElapsedTime:g-(d.aPageStart||NaN),triggerTime:g});c&&c.instrument&&G.when(\"prv:a-logTrigger\").execute(function(b){b(a)})},handleTriggers:function(){this.log(\"handleTriggers deprecated\")},attributeErrors:function(a){return new K(a)},_namespace:function(a,b){return new K(a,b)},setPriority:function(a){na?na=!1:this.log(\"setPriority only accept the first call.\")}};var u=I(d,\"AmazonUIPageJS\",\\nnew K);var G=u._namespace(\"PageJS\",\"AmazonUI\");G.declare(\"prv:p-debug\",E);u.declare(\"p-recorder-events\",[]);u.declare(\"p-recorder-stop\",function(){});I(d,\"P\",u);ka();if(g.addEventListener){var pa;g.addEventListener(\"DOMContentLoaded\",pa=function(){u.trigger(\"a-domready\");g.removeEventListener(\"DOMContentLoaded\",pa,!1)},!1)}var h=g.documentElement,ba=function(){var a=[\"O\",\"ms\",\"Moz\",\"Webkit\"],b=g.createElement(\"div\");return{testGradients:function(){return!0},test:function(c){var d=c.charAt(0).toUpperCase()+\\nc.substr(1);c=(a.join(d+\" \")+d+\" \"+c).split(\" \");for(d=c.length;d--;)if(\"\"===b.style[c[d]])return!0;return!1},testTransform3d:function(){return!0}}}();n=h.className;var qa=/(^| )a-mobile( |$)/.test(n),ra=/(^| )a-tablet( |$)/.test(n),l={audio:function(){return!!g.createElement(\"audio\").canPlayType},video:function(){return!!g.createElement(\"video\").canPlayType},canvas:function(){return!!g.createElement(\"canvas\").getContext},svg:function(){return!!g.createElementNS&&!!g.createElementNS(\"http://www.w3.org/2000/svg\",\\n\"svg\").createSVGRect},offline:function(){return navigator.hasOwnProperty&&navigator.hasOwnProperty(\"onLine\")&&navigator.onLine},dragDrop:function(){return\"draggable\"in g.createElement(\"span\")},geolocation:function(){return!!navigator.geolocation},history:function(){return!(!d.history||!d.history.pushState)},webworker:function(){return!!d.Worker},autofocus:function(){return\"autofocus\"in g.createElement(\"input\")},inputPlaceholder:function(){return\"placeholder\"in g.createElement(\"input\")},textareaPlaceholder:function(){return\"placeholder\"in\\ng.createElement(\"textarea\")},localStorage:function(){return\"localStorage\"in d&&null!==d.localStorage},orientation:function(){return\"orientation\"in d},touch:function(){return\"ontouchend\"in g},gradients:function(){return ba.testGradients()},hires:function(){var a=d.devicePixelRatio&&1.5<=d.devicePixelRatio||d.matchMedia&&d.matchMedia(\"(min-resolution:144dpi)\").matches;p(\"hiRes\"+(qa?\"Mobile\":ra?\"Tablet\":\"Desktop\"),a?1:0);return a},transform3d:function(){return ba.testTransform3d()},touchScrolling:function(){return r(/Windowshop|android|OS ([5-9]|[1-9][0-9]+)(_[0-9]{1,2})+ like Mac OS X|SOFTWARE=([5-9]|[1-9][0-9]+)(.[0-9]{1,2})+.*DEVICE=iPhone|Chrome|Silk|Firefox|Trident.+?; Touch/i)},\\nios:function(){return r(/OS [1-9][0-9]*(_[0-9]*)+ like Mac OS X/i)&&!r(/trident|Edge/i)},android:function(){return r(/android.([1-9]|[L-Z])/i)&&!r(/trident|Edge/i)},mobile:function(){return qa},tablet:function(){return ra},rtl:function(){return\"rtl\"===h.dir}};for(k in l)l.hasOwnProperty(k)&&(l[k]=la(l[k]));for(var ca=\"textShadow textStroke boxShadow borderRadius borderImage opacity transform transition\".split(\" \"),Q=0;Q<ca.length;Q++)l[ca[Q]]=la(function(){return ba.test(ca[Q])});var M=!0,ma=0,Z=\\n{w:0,h:0},N=4;L();z(d,\"resize\",function(){clearTimeout(ma);N=4;L()});var sa={getItem:function(a){try{return d.localStorage.getItem(a)}catch(b){}},setItem:function(a,b){try{return d.localStorage.setItem(a,b)}catch(c){}}};h.className=Y(h,\"a-no-js\");F(h,\"a-js\");!r(/OS [1-8](_[0-9]*)+ like Mac OS X/i)||d.navigator.standalone||r(/safari/i)||F(h,\"a-ember\");n=[];for(k in l)l.hasOwnProperty(k)&&l[k]&&n.push(\"a-\"+k.replace(/([A-Z])/g,function(a){return\"-\"+a.toLowerCase()}));F(h,n.join(\" \"));h.setAttribute(\"data-aui-build-date\",\\n\"3.23.1-2023-03-25\");u.register(\"p-detect\",function(){return{capabilities:l,localStorage:l.localStorage&&sa,toggleResponsiveGrid:ya,responsiveGridEnabled:za}});r(/UCBrowser/i)||l.localStorage&&F(h,sa.getItem(\"a-font-class\"));u.declare(\"a-event-revised-handling\",!1);u.execute(\"RetailPageServiceWorker\",function(){function a(a,b){k.controller&&a?(a={feature:\"retail_service_worker_messaging\",command:a},b&&(a.data=b),k.controller.postMessage(a)):a&&p(\"sw:sw_message_no_ctrl\",1)}function b(a){var b=a.data;\\nif(b&&\"retail_service_worker_messaging\"===b.feature&&b.command&&b.data){var c=b.data;a=d.ue;var e=d.ueLogError;switch(b.command){case \"log_counter\":a&&t(a.count)&&c.name&&a.count(c.name,0===c.value?0:c.value||1);break;case \"log_tag\":a&&t(a.tag)&&c.tag&&(a.tag(c.tag),b=d.uex,a.isl&&t(b)&&b(\"at\"));break;case \"log_error\":e&&t(e)&&c.message&&e({message:c.message,logLevel:c.level||\"ERROR\",attribution:c.attribution||\"RetailServiceWorker\"});break;case \"log_weblab_trigger\":if(!c.weblab||!c.treatment)break;\\na&&t(a.trigger)?a.trigger(c.weblab,c.treatment):(p(\"sw:wt:miss\"),p(\"sw:wt:miss:\"+c.weblab+\":\"+c.treatment));break;default:p(\"sw:unsupported_message_command\",1)}}}function c(a,b){return\"sw:\"+(b||\"\")+\":\"+a+\":\"}function h(){n.forEach(function(a){x(a)})}function f(a){return a.capabilities.isAmazonApp&&a.capabilities.android}function e(a,b,d){if(b)if(b.mshop&&f(a))a=c(d,\"mshop_and\"),b=b.mshop.action,n.push(a+\"supported\"),b(a,d);else if(b.browser){a=r(/Chrome/i)&&!r(/Edge/i)&&!r(/OPR/i)&&!a.capabilities.isAmazonApp&&\\n!r(new RegExp(aa+\"bwv\"+aa+\"b\"));var e=b.browser;b=c(d,\"browser\");a?(a=e.action,n.push(b+\"supported\"),a(b,d)):n.push(b+\"unsupported\")}}function l(a,b,d){a&&n.push(c(\"register\",d)+\"unsupported\");b&&n.push(c(\"unregister\",d)+\"unsupported\");h()}try{var k=navigator.serviceWorker}catch(A){x(\"sw:nav_err\")}(function(){if(k){var c=function(){a(\"page_loaded\",{rid:d.ue_id,mid:d.ue_mid,pty:d.ue_pty,sid:d.ue_sid,spty:d.ue_spty,furl:d.ue_furl})};z(k,\"message\",b);a(\"client_messaging_ready\");u.when(\"load\").execute(c);\\nz(k,\"controllerchange\",function(){a(\"client_messaging_ready\");\"complete\"===g.readyState&&c()})}})();var n=[],q=function(a,b){var c=d.uex,e=d.uet;a=m(\":\",\"aui\",\"sw\",a);\"ld\"===b&&t(c)?c(\"ld\",a,{wb:1}):t(e)&&e(b,a,{wb:1})},w=function(a,b,c){function e(a){b&&t(b.failure)&&b.failure(a)}function f(){l=setTimeout(function(){x(m(\":\",\"sw:\"+h,g.TIMED_OUT));e({ok:!1,statusCode:g.TIMED_OUT,done:!1});q(h,\"ld\")},c||4E3)}var g={NO_CONTROLLER:\"no_ctrl\",TIMED_OUT:\"timed_out\",UNSUPPORTED_BROWSER:\"unsupported_browser\",\\nUNEXPECTED_RESPONSE:\"unexpected_response\"},h=m(\":\",a.feature,a.command),l,n=!0;if(\"MessageChannel\"in d&&k&&\"controller\"in k)if(k.controller){var A=new MessageChannel;A.port1.onmessage=function(c){(c=c.data)&&c.feature===a.feature&&c.command===a.command?(n&&(q(h,\"cf\"),n=!1),q(h,\"af\"),clearTimeout(l),c.done||f(),c.ok?b&&t(b.success)&&b.success(c):e(c),c.done&&q(h,\"ld\")):p(m(\":\",\"sw:\"+h,g.UNEXPECTED_RESPONSE),1)};f();q(h,\"bb\");k.controller.postMessage(a,[A.port2])}else x(m(\":\",\"sw:\"+a.feature,g.NO_CONTROLLER)),\\ne({ok:!1,statusCode:g.NO_CONTROLLER,done:!0});else x(m(\":\",\"sw:\"+a.feature,g.UNSUPPORTED_BROWSER)),e({ok:!1,statusCode:g.UNSUPPORTED_BROWSER,done:!0})};(function(){k?(q(\"ctrl_changed\",\"bb\"),k.addEventListener(\"controllerchange\",function(){x(\"sw:ctrl_changed\");q(\"ctrl_changed\",\"ld\")})):p(m(\":\",\"sw:ctrl_changed\",\"sw_unsupp\"),1)})();(function(){var a=function(){q(b,\"ld\");var a=d.uex;w({feature:\"page_proxy\",command:\"request_feature_tags\"},{success:function(b){b=b.data;Array.isArray(b)&&b.forEach(function(a){\"string\"===\\ntypeof a?x(m(\":\",\"sw:ppft\",a)):p(m(\":\",\"sw:ppft\",\"invalid_tag\"),1)});p(m(\":\",\"sw:ppft\",\"success\"),1);y&&y.isl&&t(a)&&a(\"at\")},failure:function(a){p(m(\":\",\"sw:ppft\",\"error:\"+(a.statusCode||\"ppft_error\")),1)}})};if(\"requestIdleCallback\"in d){var b=m(\":\",\"ppft\",\"callback_ricb\");d.requestIdleCallback(a,{timeout:1E3})}else b=m(\":\",\"ppft\",\"callback_timeout\"),setTimeout(a,0);q(b,\"bb\")})();(function(a){var b=a.reg,c=a.unreg;k&&k.getRegistrations?(G.when(\"A\").execute(function(b){if((a.reg.mshop||a.unreg.mshop)&&\\n\"function\"===typeof f&&f(b)){var g=a.reg.mshop?\"T1\":\"C\",h=d.ue;h&&h.trigger?h.trigger(\"MSHOP_SW_CLIENT_446196\",g):p(\"sw:mshop:wt:failed\")}e(b,c,\"unregister\")}),z(d,\"load\",function(){G.when(\"A\").execute(function(a){e(a,b,\"register\");h()})})):(l(b&&b.browser,c&&c.browser,\"browser\"),G.when(\"A\").execute(function(a){\"function\"===typeof f&&f(a)&&l(b&&b.mshop,c&&c.mshop,\"mshop_and\")}))})({reg:{},unreg:{}})});u.declare(\"a-fix-event-off\",!1);p(\"pagejs:pkgExecTime\",B()-P)})(window,document,Date);\\n  (window.AmazonUIPageJS ? AmazonUIPageJS : P).load.js(\\'https://images-eu.ssl-images-amazon.com/images/I/61yXDIPmT-L._RC|11Y+5x+kkTL.js,51KMV3Cz2XL.js,31x4ENTlVIL.js,31f4+QIEeqL.js,01N6xzIJxbL.js,518BI433aLL.js,01rpauTep4L.js,31QZSjMuoeL.js,61ofwvddDeL.js,01KsMxlPtzL.js_.js?AUIClients/AmazonUI\\');\\n  (window.AmazonUIPageJS ? AmazonUIPageJS : P).load.js(\\'https://images-eu.ssl-images-amazon.com/images/I/21ZMwVh4T0L._RC|21OJDARBhQL.js,218GJg15I8L.js,31lucpmF4CL.js,2119M3Ks9rL.js,51IBJwOVAbL.js_.js?AUIClients/AuthenticationPortalAssets\\');\\n  (window.AmazonUIPageJS ? AmazonUIPageJS : P).load.js(\\'https://images-eu.ssl-images-amazon.com/images/I/01wGDSlxwdL.js?AUIClients/AuthenticationPortalInlineAssets\\');\\n  (window.AmazonUIPageJS ? AmazonUIPageJS : P).load.js(\\'https://images-eu.ssl-images-amazon.com/images/I/41jWouoe0hL.js?AUIClients/CVFAssets\\');\\n  (window.AmazonUIPageJS ? AmazonUIPageJS : P).load.js(\\'https://images-eu.ssl-images-amazon.com/images/I/8135BpGZX3L.js?AUIClients/SiegeClientSideEncryptionAUI\\');\\n  (window.AmazonUIPageJS ? AmazonUIPageJS : P).load.js(\\'https://images-eu.ssl-images-amazon.com/images/I/31jdfgcsPAL.js?AUIClients/AmazonUIFormControlsJS\\');\\n  (window.AmazonUIPageJS ? AmazonUIPageJS : P).load.js(\\'https://images-eu.ssl-images-amazon.com/images/I/81oF63sDyiL.js?AUIClients/FWCIMAssets\\');\\n  (window.AmazonUIPageJS ? AmazonUIPageJS : P).load.js(\\'https://images-eu.ssl-images-amazon.com/images/I/71mTge6vIEL.js?AUIClients/ACICAssets\\');\\n</script>\\n\\n      \\n    \\n  <script type=\\'text/javascript\\'>\\nwindow.ue_ihe = (window.ue_ihe || 0) + 1;\\nif (window.ue_ihe === 1) {\\n(function(c){c&&1===c.ue_jsmtf&&\"object\"===typeof c.P&&\"function\"===typeof c.P.when&&c.P.when(\"mshop-interactions\").execute(function(e){\"object\"===typeof e&&\"function\"===typeof e.addListener&&e.addListener(function(b){\"object\"===typeof b&&\"ORIGIN\"===b.dataSource&&\"number\"===typeof b.clickTime&&\"object\"===typeof b.events&&\"number\"===typeof b.events.pageVisible&&(c.ue_jsmtf_interaction={pv:b.events.pageVisible,ct:b.clickTime})})})})(ue_csm);\\n(function(c,e,b){function m(a){f||(f=d[a.type].id,\"undefined\"===typeof a.clientX?(h=a.pageX,k=a.pageY):(h=a.clientX,k=a.clientY),2!=f||l&&(l!=h||n!=k)?(r(),g.isl&&e.setTimeout(function(){p(\"at\",g.id)},0)):(l=h,n=k,f=0))}function r(){for(var a in d)d.hasOwnProperty(a)&&g.detach(a,m,d[a].parent)}function s(){for(var a in d)d.hasOwnProperty(a)&&g.attach(a,m,d[a].parent)}function t(){var a=\"\";!q&&f&&(q=1,a+=\"&ui=\"+f);return a}var g=c.ue,p=c.uex,q=0,f=0,l,n,h,k,d={click:{id:1,parent:b},mousemove:{id:2,\\nparent:b},scroll:{id:3,parent:e},keydown:{id:4,parent:b}};g&&p&&(s(),g._ui=t)})(ue_csm,window,document);\\n\\n\\n(function(s,l){function m(b,e,c){c=c||new Date(+new Date+t);c=\"expires=\"+c.toUTCString();n.cookie=b+\"=\"+e+\";\"+c+\";path=/\"}function p(b){b+=\"=\";for(var e=n.cookie.split(\";\"),c=0;c<e.length;c++){for(var a=e[c];\" \"==a.charAt(0);)a=a.substring(1);if(0===a.indexOf(b))return decodeURIComponent(a.substring(b.length,a.length))}return\"\"}function q(b,e,c){if(!e)return b;-1<b.indexOf(\"{\")&&(b=\"\");for(var a=b.split(\"&\"),f,d=!1,h=!1,g=0;g<a.length;g++)f=a[g].split(\":\"),f[0]==e?(!c||d?a.splice(g,1):(f[1]=c,a[g]=\\nf.join(\":\")),h=d=!0):2>f.length&&(a.splice(g,1),h=!0);h&&(b=a.join(\"&\"));!d&&c&&(0<b.length&&(b+=\"&\"),b+=e+\":\"+c);return b}var k=s.ue||{},t=3024E7,n=ue_csm.document||l.document,r=null,d;a:{try{d=l.localStorage;break a}catch(u){}d=void 0}k.count&&k.count(\"csm.cookieSize\",document.cookie.length);k.cookie={get:p,set:m,updateCsmHit:function(b,e,c){try{var a;if(!(a=r)){var f;a:{try{if(d&&d.getItem){f=d.getItem(\"csm-hit\");break a}}catch(k){}f=void 0}a=f||p(\"csm-hit\")||\"{}\"}a=q(a,b,e);r=a=q(a,\"t\",+new Date);\\ntry{d&&d.setItem&&d.setItem(\"csm-hit\",a)}catch(h){}m(\"csm-hit\",a,c)}catch(g){\"function\"==typeof l.ueLogError&&ueLogError(Error(\"Cookie manager: \"+g.message),{logLevel:\"WARN\"})}}}})(ue_csm,window);\\n\\n\\n(function(l,e){function c(b){b=\"\";var c=a.isBFT?\"b\":\"s\",d=\"\"+a.oid,g=\"\"+a.lid,h=d;d!=g&&20==g.length&&(c+=\"a\",h+=\"-\"+g);a.tabid&&(b=a.tabid+\"+\");b+=c+\"-\"+h;b!=f&&100>b.length&&(f=b,a.cookie?a.cookie.updateCsmHit(m,b+(\"|\"+ +new Date)):e.cookie=\"csm-hit=\"+b+(\"|\"+ +new Date)+n+\"; path=/\")}function p(){f=0}function d(b){!0===e[a.pageViz.propHid]?f=0:!1===e[a.pageViz.propHid]&&c({type:\"visible\"})}var n=\"; expires=\"+(new Date(+new Date+6048E5)).toGMTString(),m=\"tb\",f,a=l.ue||{},k=a.pageViz&&a.pageViz.event&&\\na.pageViz.propHid;a.attach&&(a.attach(\"click\",c),a.attach(\"keyup\",c),k||(a.attach(\"focus\",c),a.attach(\"blur\",p)),k&&(a.attach(a.pageViz.event,d,e),d({})));a.aftb=1})(ue_csm,ue_csm.document);\\n\\n\\nue_csm.ue.stub(ue,\"impression\");\\n\\n\\nue.stub(ue,\"trigger\");\\n\\n\\n\\nif(window.ue&&uet) { uet(\\'bb\\'); }\\n\\n}\\n</script>\\n<script>window.ue && ue.count && ue.count(\\'CSMLibrarySize\\', 3173)</script></head>\\n\\n  <body class=\"auth-no-skin ap-locale-en_IN a-m-us a-aui_72554-c a-aui_accordion_a11y_role_354025-c a-aui_killswitch_csa_logger_372963-c a-aui_pci_risk_banner_210084-c a-aui_preload_261698-c a-aui_rel_noreferrer_noopener_309527-c a-aui_template_weblab_cache_333406-c a-aui_tnr_v2_180836-c\">    <img height=\"1\" width=\"1\" style=\\'display:none;visibility:hidden;\\' src=\\'//fls-eu.amazon.com/1/batch/1/OP/A21TJRUUN4KGV:262-2745510-6589301:JY000YRQ4KCF8VZPC4PG$uedata=s:%2Fap%2Fuedata%3Fstaticb%26id%3DJY000YRQ4KCF8VZPC4PG:0\\' alt=\"\" onload=\"window.ue_sbl && window.ue_sbl();\"/>\\n\\n\\n<script>\\n!function(){function n(n,t){var r=i(n);return t&&(r=r(\"instance\",t)),r}var r=[],c=0,i=function(t){return function(){var n=c++;return r.push([t,[].slice.call(arguments,0),n,{time:Date.now()}]),i(n)}};n._s=r,this.csa=n}();;\\ncsa(\\'Config\\', {\"ContentInteractionsSummary.FlushInterval\":5000});\\nif (window.csa) {\\n    csa(\"Config\", {\\n        \\n        \\'Events.Namespace\\': \\'csa\\',\\n        \\'ObfuscatedMarketplaceId\\': \\'A21TJRUUN4KGV\\',\\n        \\'Events.SushiEndpoint\\': \\'https://unagi.amazon.in/1/events/com.amazon.csm.csa.prod\\',\\n        \\'CacheDetection.RequestID\\': \"JY000YRQ4KCF8VZPC4PG\",\\n        \\'CacheDetection.Callback\\': window.ue && ue.reset,\\n        \\'LCP.elementDedup\\': 1\\n    });\\n\\n    csa(\"Events\")(\"setEntity\", {\\n        page: {requestId: \"JY000YRQ4KCF8VZPC4PG\", meaningful: \"interactive\"},\\n        session: {id: \"262-2745510-6589301\"}\\n    });\\n}\\n!function(r){var i,e,o=\"splice\",u=r.csa,f={},c={},a=r.csa._s,s=0,l=0,g=-1,h={},v={},d={},n=Object.keys,p=function(){};function t(n,t){return u(n,t)}function m(n,t){var r=c[n]||{};k(r,t),c[n]=r,l++,S(U,0)}function w(n,t,r){var i=!0;return t=D(t),r&&r.buffered&&(i=(d[n]||[]).every(function(n){return!1!==t(n)})),i?(h[n]||(h[n]=[]),h[n].push(t),function(){!function(n,t){var r=h[n];r&&r[o](r.indexOf(t),1)}(n,t)}):p}function b(n,t){if(t=D(t),n in v)return t(v[n]),p;return w(n,function(n){return t(n),!1})}function y(n,t){if(u(\"Errors\")(\"logError\",n),f.DEBUG)throw t||n}function E(){return Math.abs(4294967295*Math.random()|0).toString(36)}function D(n,t){return function(){try{return n.apply(this,arguments)}catch(n){y(n.message||n,n)}}}function S(n,t){return r.setTimeout(D(n),t)}function U(){for(var n=0;n<a.length;){var t=a[n],r=t[0]in c;if(!r&&!e)return void(s=t.length);r?(a[o](s=n,1),I(t)):n++}g=l}function I(n){var arguments,t=c[n[0]],r=(arguments=n[1])[0];if(!t||!t[r])return y(\"Undefined function: \"+t+\"/\"+r);i=n[3],c[n[2]]=t[r].apply(t,arguments.slice(1))||{},i=0}function O(){e=1,U()}function k(t,r){n(r).forEach(function(n){t[n]=r[n]})}b(\"$beforeunload\",O),m(\"Config\",{instance:function(n){k(f,n)}}),u.plugin=D(function(n){n(t)}),t.config=f,t.register=m,t.on=w,t.once=b,t.blank=p,t.emit=function(n,t,r){for(var i=h[n]||[],e=0;e<i.length;)!1===i[e](t)?i[o](e,1):e++;v[n]=t||{},r&&r.buffered&&(d[n]||(d[n]=[]),100<=d[n].length&&d[n].shift(),d[n].push(t||{}))},t.UUID=function(){return[E(),E(),E(),E()].join(\"-\")},t.time=function(n){var t=i?new Date(i.time):new Date;return\"ISO\"===n?t.toISOString():t.getTime()},t.error=y,t.warn=function(n,t){if(u(\"Errors\")(\"logWarn\",n),f.DEBUG)throw t||n},t.exec=D,t.timeout=S,t.interval=function(n,t){return r.setInterval(D(n),t)},(t.global=r).csa._s.push=function(n){n[0]in c&&(!a.length||e)?(I(n),a.length&&g!==l&&U()):a[o](s++,0,n)},U(),S(function(){S(O,f.SkipMissingPluginsTimeout||5e3)},1)}(\"undefined\"!=typeof window?window:global);csa.plugin(function(o){var f=\"addEventListener\",e=\"requestAnimationFrame\",t=o.exec,r=o.global,u=o.on;o.raf=function(n){if(r[e])return r[e](t(n))},o.on=function(n,e,t,r){if(n&&\"function\"==typeof n[f]){var i=o.exec(t);return n[f](e,i,r),function(){n.removeEventListener(e,i,r)}}return\"string\"==typeof n?u(n,e,t,r):o.blank}});csa.plugin(function(o){var t,n,r={},e=\"localStorage\",c=\"sessionStorage\",a=\"local\",i=\"session\",u=o.exec;function s(e,t){var n;try{r[t]=!!(n=o.global[e]),n=n||{}}catch(e){r[t]=!(n={})}return n}function f(){t=t||s(e,a),n=n||s(c,i)}function l(e){return e&&e[i]?n:t}o.store=u(function(e,t,n){f();var o=l(n);return e?t?void(o[e]=t):o[e]:Object.keys(o)}),o.storageSupport=u(function(){return f(),r}),o.deleteStored=u(function(e,t){f();var n=l(t);if(\"function\"==typeof e)for(var o in n)n.hasOwnProperty(o)&&e(o,n[o])&&delete n[o];else delete n[e]})});csa.plugin(function(n){n.types={ovl:function(n){var r=[];if(n)for(var i in n)n.hasOwnProperty(i)&&r.push(n[i]);return r}}});csa.plugin(function(i){function e(n){return function(e){i(\"Metrics\",{producerId:\"csa\",dimensions:{message:e}})(\"recordMetric\",n,1)}}function n(r){var o,t,l=i(\"Events\",{producerId:r.producerId}),u=[\"name\",\"type\",\"csm\",\"adb\"],c={url:\"pageURL\",file:\"f\",line:\"l\",column:\"c\"};this.log=function(e){if(!function(e){if(!e)return!0;for(var n in e)return!1;return!0}(e)){var n=r.logOptions||{ent:{page:[\"pageType\",\"subPageType\",\"requestId\"]}};l(\"log\",function(n){return o=i.UUID(),t={messageId:o,schemaId:r.schemaId||\"<ns>.Error.4\",errorMessage:n.m||null,attribution:n.attribution||null,logLevel:\"FATAL\",url:null,file:null,line:null,column:null,stack:n.s||[],context:{},surfaceInfo:{}},n.logLevel&&(t.logLevel=\"\"+n.logLevel),u.forEach(function(e){n[e]&&(t.context[e]=n[e])}),\"INFO\"===n.logLevel||Object.keys(c).forEach(function(e){\"number\"!=typeof n[c[e]]&&\"string\"!=typeof n[c[e]]||(t[e]=\"\"+n[c[e]])}),t}(e),n)}}}i.register(\"Errors\",{instance:function(e){return new n(e||{})},logError:e(\"jsError\"),logWarn:e(\"jsWarn\")})});csa.plugin(function(o){var r,e,n,t,a,i=\"function\",u=\"willDisappear\",f=\"$app.\",p=\"$document.\",c=\"focus\",s=\"blur\",d=\"active\",l=\"resign\",$=o.global,b=o.exec,m=o.config[\"Transport.AnonymizeRequests\"]||!1,g=o(\"Events\"),h=$.location,v=$.document||{},y=$.P||{},P=(($.performance||{}).navigation||{}).type,w=o.on,k=o.emit,E=v.hidden,T={};h&&v&&(w($,\"beforeunload\",D),w($,\"pagehide\",D),w(v,\"visibilitychange\",R(p,function(){return v.visibilityState||\"unknown\"})),w(v,c,R(p+c)),w(v,s,R(p+s)),y.when&&y.when(\"mash\").execute(function(e){e&&(w(e,\"appPause\",R(f+\"pause\")),w(e,\"appResume\",R(f+\"resume\")),R(f+\"deviceready\")(),$.cordova&&$.cordova.platformId&&R(f+cordova.platformId)(),w(v,d,R(f+d)),w(v,l,R(f+l)))}),e=$.app||{},n=b(function(){k(f+\"willDisappear\"),D()}),a=typeof(t=e[u])==i,e[u]=b(function(){n(),a&&t()}),$.app||($.app=e),\"complete\"===v.readyState?A():w($,\"load\",A),E?S():x(),o.on(\"$app.blur\",S),o.on(\"$app.focus\",x),o.on(\"$document.blur\",S),o.on(\"$document.focus\",x),o.on(\"$document.hidden\",S),o.on(\"$document.visible\",x),o.register(\"SPA\",{newPage:I}),I({transitionType:{0:\"hard\",1:\"refresh\",2:\"back-button\"}[P]||\"unknown\"}));function I(n,e){var t=!!r,a=(e=e||{}).keepPageAttributes;t&&(k(\"$beforePageTransition\"),k(\"$pageTransition\")),t&&!a&&g(\"removeEntity\",\"page\"),r=o.UUID(),a?T.id=r:T={schemaId:\"<ns>.PageEntity.1\",id:r,url:m?h.href.split(\"?\")[0]:h.href,server:h.hostname,path:h.pathname,referrer:m?v.referrer.split(\"?\")[0]:v.referrer,title:v.title},Object.keys(n||{}).forEach(function(e){T[e]=n[e]}),g(\"setEntity\",{page:T}),k(\"$pageChange\",T,{buffered:1}),t&&k(\"$afterPageTransition\")}function A(){k(\"$load\"),k(\"$ready\"),k(\"$afterload\")}function D(){k(\"$ready\"),k(\"$beforeunload\"),k(\"$unload\"),k(\"$afterunload\")}function S(){E||(k(\"$visible\",!1,{buffered:1}),E=!0)}function x(){E&&(k(\"$visible\",!0,{buffered:1}),E=!1)}function R(n,t){return b(function(){var e=typeof t==i?n+t():n;k(e)})}});csa.plugin(function(c){var e=\"Events\",t=\"UNKNOWN\",s=\"id\",a=\"all\",n=\"messageId\",i=\"timestamp\",u=\"producerId\",o=\"application\",r=\"obfuscatedMarketplaceId\",f=\"entities\",d=\"schemaId\",l=\"version\",p=\"attributes\",v=\"<ns>\",g=\"session\",h=c.config,m=(c.global.location||{}).host,y=h[e+\".Namespace\"]||\"csa_other\",I=h.Application||\"Other\"+(m?\":\"+m:\"\"),b=h[\"Transport.AnonymizeRequests\"]||!1,O=c(\"Transport\"),E={},U=function(e,t){Object.keys(e).forEach(t)};function A(n,i,o){U(i,function(e){var t=o===a||(o||{})[e];e in n||(n[e]={version:1,id:i[e][s]||c.UUID()}),N(n[e],i[e],t)})}function N(t,n,i){U(n,function(e){!function(e,t,n){return\"string\"!=typeof t&&e!==l?c.error(\"Attribute is not of type string: \"+e):!0===n||1===n||(e===s||!!~(n||[]).indexOf(e))}(e,n[e],i)||(t[e]=n[e])})}function S(o,e,r){U(e,function(e){var t=o[e];if(t[d]){var n={},i={};n[s]=t[s],n[u]=t[u]||r,n[d]=t[d],n[l]=t[l]++,n[p]=i,k(n),N(i,t,1),w(i),O(\"log\",n)}})}function k(e){e[i]=function(e){return\"number\"==typeof e&&(e=new Date(e).toISOString()),e||c.time(\"ISO\")}(e[i]),e[n]=e[n]||c.UUID(),e[o]=I,e[r]=h.ObfuscatedMarketplaceId||t,e[d]=e[d].replace(v,y)}function w(e){delete e[l],delete e[d],delete e[u]}function D(o){var r={};this.log=function(e,t){var n={},i=(t||{}).ent;return e?\"string\"!=typeof e[d]?c.error(\"A valid schema id is required for the event\"):(k(e),A(n,E,i),A(n,r,i),A(n,e[f]||{},i),U(n,function(e){w(n[e])}),e[u]=o[u],e[f]=n,void O(\"log\",e,t)):c.error(\"The event cannot be undefined\")},this.setEntity=function(e){b&&delete e[g],A(r,e,a),S(r,e,o[u])}}h[\"KillSwitch.\"+e]||c.register(e,{setEntity:function(e){b&&delete e[g],A(E,e,a),S(E,e,\"csa\")},removeEntity:function(e){delete E[e]},instance:function(e){return new D(e)}})});csa.plugin(function(s){var c,g=\"Transport\",l=\"post\",f=\"preflight\",r=\"csa.cajun.\",i=\"store\",a=\"deleteStored\",u=\"sendBeacon\",t=\"__merge\",e=\"messageId\",n=\".FlushInterval\",o=0,d=s.config[g+\".BufferSize\"]||2e3,h=s.config[g+\".RetryDelay\"]||1500,p=s.config[g+\".AnonymizeRequests\"]||!1,v={},y=0,m=[],E=s.global,R=E.document,b=s.timeout,k=E.Object.keys,w=s.config[g+n]||5e3,I=w,O=s.config[g+n+\".BackoffFactor\"]||1,S=s.config[g+n+\".BackoffLimit\"]||3e4,B=0;function T(n){if(864e5<s.time()-+new Date(n.timestamp))return s.warn(\"Event is too old: \"+n);y<d&&(n[e]in v||(v[n[e]]=n,y++),\"function\"==typeof n[t]&&n[t](v[n[e]]),!B&&o&&(B=b(q,function(){var n=I;return I=Math.min(n*O,S),n}())))}function q(){m.forEach(function(e){var o=[];k(v).forEach(function(n){var t=v[n];e.accepts(t)&&o.push(t)}),o.length&&(e.chunks?e.chunks(o).forEach(function(n){D(e,n)}):D(e,o))}),v={},B=0}function D(t,e){function o(){s[a](r+n)}var n=s.UUID();s[i](r+n,JSON.stringify(e)),[function(n,t,e){var o=E.navigator||{},r=E.cordova||{};if(p)return 0;if(!o[u]||!n[l])return 0;n[f]&&r&&\"ios\"===r.platformId&&!c&&((new Image).src=n[f]().url,c=1);var i=n[l](t);if(!i.type&&o[u](i.url,i.body))return e(),1},function(n,t,e){if(!n[l])return 0;var o=n[l](t),r=o.url,i=o.body,c=o.type,f=new XMLHttpRequest,a=0;function u(n,t,e){f.open(\"POST\",n),f.withCredentials=!p,e&&f.setRequestHeader(\"Content-Type\",e),f.send(t)}return f.onload=function(){f.status<299?e():s.config[g+\".XHRRetries\"]&&a<3&&b(function(){u(r,i,c)},++a*h)},u(r,i,c),1}].some(function(n){try{return n(t,e,o)}catch(n){}})}k&&(s.once(\"$afterload\",function(){o=1,function(e){(s[i]()||[]).forEach(function(n){if(!n.indexOf(r))try{var t=s[i](n);s[a](n),JSON.parse(t).forEach(e)}catch(n){s.error(n)}})}(T),s.on(R,\"visibilitychange\",q,!1),q()}),s.once(\"$afterunload\",function(){o=1,q()}),s.on(\"$afterPageTransition\",function(){y=0,I=w}),s.register(g,{log:T,register:function(n){m.push(n)}}))});csa.plugin(function(n){var r=n.config[\"Events.SushiEndpoint\"];n(\"Transport\")(\"register\",{accepts:function(n){return n.schemaId},post:function(n){var t=n.map(function(n){return{data:n}});return{url:r,body:JSON.stringify({events:t})}},preflight:function(){var n,t=/\\\\/\\\\/(.*?)\\\\//.exec(r);return t&&t[1]&&(n=\"https://\"+t[1]+\"/ping\"),{url:n}},chunks:function(n){for(var t=[];500<n.length;)t.push(n.splice(0,500));return t.push(n),t}})});csa.plugin(function(n){var t,a,o,r,e=n.config,i=\"PageViews\",d=e[i+\".ImpressionMinimumTime\"]||1e3,s=\"hidden\",c=\"innerHeight\",g=\"innerWidth\",l=\"renderedTo\",f=l+\"Viewed\",m=l+\"Meaningful\",u=l+\"Impressed\",p=1,v=2,h=3,w=4,y=5,P=\"loaded\",I=7,T=8,b=n.global,E=n.on,V=n(\"Events\",{producerId:\"csa\"}),$=b.document,M={},S={},H=y;function K(e){if(!M[I]){var i;if(M[e]=n.time(),e!==h&&e!==P||(t=t||M[e]),t&&H===w)a=a||M[e],(i={})[m]=t-o,i[f]=a-o,R(\"PageView.4\",i),r=r||n.timeout(j,d);if(e!==y&&e!==p&&e!==v||(clearTimeout(r),r=0),e!==p&&e!==v||R(\"PageRender.3\",{transitionType:e===p?\"hard\":\"soft\"}),e===I)(i={})[m]=t-o,i[f]=a-o,i[u]=M[e]-o,R(\"PageImpressed.2\",i)}}function R(e,i){S[e]||(i.schemaId=\"<ns>.\"+e,V(\"log\",i,{ent:\"all\"}),S[e]=1)}function W(){0===b[c]&&0===b[g]?(H=T,n(\"Events\")(\"setEntity\",{page:{viewport:\"hidden-iframe\"}})):H=$[s]?y:w,K(H)}function j(){K(I),r=0}function k(){var e=o?v:p;M={},S={},a=t=0,o=n.time(),K(e),W()}function q(){var e=$.readyState;\"interactive\"===e&&K(h),\"complete\"===e&&K(P)}e[\"KillSwitch.\"+i]||($&&void 0!==$[s]?(k(),E($,\"visibilitychange\",W,!1),E($,\"readystatechange\",q,!1),E(\"$afterPageTransition\",k),E(\"$timing:loaded\",q),n.once(\"$load\",q)):n.warn(\"Page visibility not supported\"))});csa.plugin(function(c){var s=c.config[\"Interactions.ParentChainLength\"]||15,e=\"click\",r=\"touches\",f=\"timeStamp\",o=\"length\",u=\"pageX\",g=\"pageY\",p=\"pageXOffset\",h=\"pageYOffset\",m=250,v=5,d=200,l=.5,t={capture:!0,passive:!0},X=c.global,Y=c.emit,n=c.on,x=X.Math.abs,a=(X.document||{}).documentElement||{},y={x:0,y:0,t:0,sX:0,sY:0},N={x:0,y:0,t:0,sX:0,sY:0};function b(t){if(t.id)return\"//*[@id=\\'\"+t.id+\"\\']\";var e=function(t){var e,n=1;for(e=t.previousSibling;e;e=e.previousSibling)e.nodeName===t.nodeName&&(n+=1);return n}(t),n=t.nodeName;return 1!==e&&(n+=\"[\"+e+\"]\"),t.parentNode&&(n=b(t.parentNode)+\"/\"+n),n}function I(t,e,n){var a=c(\"Content\",{target:n}),i={schemaId:\"<ns>.ContentInteraction.1\",interaction:t,interactionData:e,messageId:c.UUID()};if(n){var r=b(n);r&&(i.attribution=r);var o=function(t){for(var e=t,n=e.tagName,a=!1,i=t?t.href:null,r=0;r<s;r++){if(!e||!e.parentElement){a=!0;break}n=(e=e.parentElement).tagName+\"/\"+n,i=i||e.href}return a||(n=\".../\"+n),{pc:n,hr:i}}(n);o.pc&&(i.interactionData.parentChain=o.pc),o.hr&&(i.interactionData.href=o.hr)}a(\"log\",i),Y(\"$content.interaction\",i)}function i(t){I(e,{interactionX:\"\"+t.pageX,interactionY:\"\"+t.pageY},t.target)}function C(t){if(t&&t[r]&&1===t[r][o]){var e=t[r][0];N=y={e:t.target,x:e[u],y:e[g],t:t[f],sX:X[p],sY:X[h]}}}function D(t){if(t&&t[r]&&1===t[r][o]&&y&&N){var e=t[r][0],n=t[f],a=n-N.t,i={e:t.target,x:e[u],y:e[g],t:n,sX:X[p],sY:X[h]};N=i,d<=a&&(y=i)}}function E(t){if(t){var e=x(y.x-N.x),n=x(y.y-N.y),a=x(y.sX-N.sX),i=x(y.sY-N.sY),r=t[f]-y.t;if(m<1e3*e/r&&v<e||m<1e3*n/r&&v<n){var o=n<e;o&&a&&e*l<=a||!o&&i&&n*l<=i||I((o?\"horizontal\":\"vertical\")+\"-swipe\",{interactionX:\"\"+y.x,interactionY:\"\"+y.y,endX:\"\"+N.x,endY:\"\"+N.y},y.e)}}}n(a,e,i,t),n(a,\"touchstart\",C,t),n(a,\"touchmove\",D,t),n(a,\"touchend\",E,t)});csa.plugin(function(r){var a,o,t,e=\"MutationObserver\",c=\"observe\",n=\"disconnect\",s=\"mutObs\",f=\"_csa_flt\",l=\"_csa_llt\",b=\"_csa_mr\",d=\"_csa_mi\",m=\"lastChild\",p=\"length\",_={childList:!0,subtree:!0},g=10,h=4,u=r.global,i=u.document,v=i.body||i.documentElement,y=Date.now,O=[],k=[],w=[],L=0,B=0,I=0,M=1,Y=[],$=[],x=0,A=r.blank,C={buffered:1},D=0;function E(e){r.global.ue_csa_ss_tag||r.emit(\"$csmTag:\"+e,0,C)}y&&u[e]?(E(s+\"Yes\"),L=0,o=new u[e](N),(t=new u[e](F))[c](v,{attributes:!0,subtree:!0,attributeFilter:[\"src\"],attributeOldValue:!0}),A=r.on(u,\"scroll\",S,{passive:!0}),r.once(\"$ready\",V),M&&T(),r.register(\"SpeedIndexBuffers\",{getBuffers:function(e){e&&(V(),S(),e(L,Y,O,k,w),o&&o[n](),t&&t[n](),A())},registerListener:function(e){a=e},replayModuleIsLive:function(){r.raf(V)}})):E(s+\"No\");function F(e){O.push({t:y(),m:e})}function N(e){k.push({t:y(),m:e}),D||E(s+\"Active\"),D=I=1,a&&a()}function S(){I&&(w.push({t:y(),y:B}),B=u.pageYOffset,I=0)}function T(){for(var e=v,t=y(),n=[],s=[],u=0,i=0;e;)e[f]?++u:(e[f]=t,n.push(e),i=1),s[p]<h&&s.push(e),e[d]=x,e[l]=t,e=e[m];i&&(u<$[p]&&function(e){for(var t=e,n=$[p];t<n;t++){var s=$[t];if(s){if(s[b])break;if(s[d]<x){s[b]=1,o[c](s,_);break}}}}(u),$=s,Y.push({t:t,m:n}),++x,I=i,a&&a()),M&&(i?r.raf(T):r.timeout(T,g))}function V(){M&&(M=0,T(),o[c](v,_))}});\\n\\n</script>\\n<script type=\\'text/javascript\\'>\\n\\n(function(){function l(a){for(var c=b.location.search.substring(1).split(\"&\"),e=0;e<c.length;e++){var d=c[e].split(\"=\");if(d[0]===a)return d[1]}}window.amzn=window.amzn||{};amzn.copilot=amzn.copilot||{};var b=window,f=document,g=b.P||b.AmazonUIPageJS,h=f.head||f.getElementsByTagName(\"head\")[0],m=0,n=0;amzn.copilot.checkCoPilotSession=function(){f.cookie.match(\"cpidv\")&&(\"undefined\"!==typeof jQuery&&k(jQuery),g&&g.when&&g.when(\"jQuery\").execute(function(a){k(a)}),b.amznJQ&&b.amznJQ.available&&b.amznJQ.available(\"jQuery\",\\nfunction(){k(jQuery)}),b.jQuery||g||b.amznJQ||q())};var q=function(){m?b.ue&&\"function\"===typeof b.ue.count&&b.ue.count(\"cpJQUnavailable\",1):(m=1,f.addEventListener?f.addEventListener(\"DOMContentLoaded\",amzn.copilot.checkCoPilotSession,!1):f.attachEvent&&f.attachEvent(\"onreadystatechange\",function(){\"complete\"===f.readyState&&amzn.copilot.checkCoPilotSession()}))},k=function(a){if(!n){n=1;amzn.copilot.jQuery=a;a=l(\"debugJS\");var c=\"https:\"===b.location.protocol?1:0,e=1;url=\"/gp/copilot/handlers/copilot_strings_resources.html\";\\nwindow.texas&&texas.locations&&(url=texas.locations.makeUrl(url));g&&g.AUI_BUILD_DATE&&(e=0);amzn.copilot.jQuery.ajax&&amzn.copilot.jQuery.ajax({url:url,dataType:\"json\",data:{isDebug:a,isSecure:c,includeAUIP:e},success:function(a){amzn.copilot.vip=a.serviceEndPoint;amzn.copilot.enableMultipleTabSession=a.isFollowMe;r(a)},error:function(){b.ue.count(\"cpLoadResourceError\",1)}})}},r=function(a){var c=amzn.copilot.jQuery,e=function(){amzn.copilot.setup(c.extend({isContinuedSession:!0},a))};a.CSSUrls&&\\nc.each(a.CSSUrls[0],function(a,c){var b=f.createElement(\"link\");b.type=\"text/css\";b.rel=\"stylesheet\";b.href=c;h.appendChild(b)});a.CSSTag&&s(a.CSSTag);if(a.JSUrls){var d=l(\"forceSynchronousJS\"),b=a.JSUrls[0];c.each(b,function(a,c){a===b.length-1?p(c,d,e):p(c,d)})}a.JSTag&&(t(a.JSTag),P.when(\"CSCoPilotPresenterAsset\").execute(function(){e()}))},t=function(a){var c=f.createElement(\"div\");c.innerHTML=a;a=0;for(var b=c.children.length;a<b;a++){var d=f.createElement(\"script\");d.type=\"text/javascript\";\\nd.innerHTML=c.children[a].innerHTML;h.appendChild(d)}},s=function(a){var b=f.createElement(\"div\");b.innerHTML=a;a=0;for(var e=b.children.length;a<e;a++)h.appendChild(b.children[a])},p=function(a,b,e){var d=f.createElement(\"script\");d.type=\"text/javascript\";d.src=a;d.async=b?!1:!0;e&&(d.onload=e);h.appendChild(d)}})();\\n\\namzn.copilot.checkCoPilotSession();\\n\\n</script>\\n\\n<script>window.ue && ue.count && ue.count(\\'CSMLibrarySize\\', 17818)</script><div id=\"a-page\"><script type=\"a-state\" data-a-state=\"{&quot;key&quot;:&quot;a-wlab-states&quot;}\">{\"AUI_ACCORDION_A11Y_ROLE_354025\":\"C\"}</script>\\n    <div class=\"a-section a-padding-medium auth-workflow\">\\n      <div class=\"a-section a-spacing-none auth-navbar\">\\n        \\n\\n\\n\\n\\n\\n<div class=\"a-section a-spacing-medium a-text-center\">\\n  \\n    \\n\\n    \\n      \\n\\n\\n<a class=\"a-link-nav-icon\" tabindex=\"-1\" href=\"/ref=ap_frn_logo\">\\n  \\n  <i class=\"a-icon a-icon-logo\" role=\"img\" aria-label=\"Amazon\"></i>\\n\\n  \\n  \\n    \\n    \\n      <i class=\"a-icon a-icon-domain-in a-icon-domain\" role=\"presentation\"></i>\\n    \\n  \\n</a>\\n\\n    \\n  \\n</div>\\n\\n\\n      </div>\\n\\n      <div id=\"authportal-center-section\" class=\"a-section\">\\n        \\n          \\n          \\n            <div id=\"authportal-main-section\" class=\"a-section\">\\n              \\n\\n\\n\\n\\n\\n<div class=\"a-section a-spacing-base auth-pagelet-container\">\\n  \\n    \\n    \\n      <div id=\"auth-cookie-warning-message\" class=\"a-box a-alert a-alert-warning\" aria-live=\"polite\" aria-atomic=\"true\"><div class=\"a-box-inner a-alert-container\"><h4 class=\"a-alert-heading\">Please Enable Cookies to Continue</h4><i class=\"a-icon a-icon-alert\"></i><div class=\"a-alert-content\">\\n        <p>\\n          <a class=\"a-link-normal\" href=\"/gp/help/customer/display.html/ref=ap_cookie_error_help?\">\\n            \\n          </a>\\n        </p>\\n      </div></div></div>\\n    \\n  \\n</div>\\n\\n<div class=\"a-section auth-pagelet-container\">\\n  \\n\\n\\n\\n\\n\\n\\n\\n<!-- Set cross domain sso variables to be used for making Ajax calls to central Identity domain -->\\n\\n\\n<!-- Set cross domain sso variables to be used for making Ajax calls to central Identity domain -->\\n\\n\\n<!-- show a warning modal dialog when the third party account is connected with Amazon -->\\n\\n\\n\\n  \\n    \\n\\n\\n\\n\\n\\n<div class=\"a-section a-spacing-base\">\\n  <div class=\"a-section\">\\n    \\n    <form name=\"signIn\" method=\"post\" novalidate action=\"https://www.amazon.in/ap/signin\" class=\"auth-validate-form auth-real-time-validation a-spacing-none\">\\n      <input type=\"hidden\" name=\"appActionToken\" value=\"2LF51uI61mWd5ALMXL30WE6YCawj3D\" /><input type=\"hidden\" name=\"appAction\" value=\"SIGNIN_PWD_COLLECT\" />\\n      <input type=\"hidden\" name=\"subPageType\" value=\"SignInClaimCollect\"/>\\n\\n      \\n\\n\\n\\n\\n  \\n    <input type=\"hidden\" name=\"openid.return_to\" value=\"ape:aHR0cHM6Ly93d3cuYW1hem9uLmluL05ldy1BcHBsZS1pUGhvbmUtMTItMTI4R0IvcHJvZHVjdC1yZXZpZXdzL0IwOEw1VE5KSEcvcmVmPWNtX2NyX2FycF9kX3BhZ2luZ19idG1fbmV4dF8yP2llPVVURjgmcmV2aWV3ZXJUeXBlPWFsbF9yZXZpZXdzJnBhZ2VOdW1iZXI9Mg==\" />\\n  \\n    <input type=\"hidden\" name=\"prevRID\" value=\"ape:SlkwMDBZUlE0S0NGOFZaUEM0UEc=\" />\\n  \\n    <input type=\"hidden\" name=\"workflowState\" value=\"eyJ6aXAiOiJERUYiLCJlbmMiOiJBMjU2R0NNIiwiYWxnIjoiQTI1NktXIn0.3oem2lT8LmSMb0mYiC_BEiQiXt5uBc-6g3ZeGjDjnVzdLi5aD1u5NA.9sQrrAgdP902LVPu.5mVtmN-dVTrUoA8lUlts7BR7XGAhEW_7JdFh2LccsVsk29_PDCAYWXkZsdxzTxL8gyfIGNtyjSdkQ0bUTVp95wC_QRprIX9J9ZW7Ouk71U5hOLNm-AyfAGuXz5A4Kj1fnG6u5ztsqlUkkUaCS1udDWBRNOpAkD7n1P0wVmUUYGCxGb-QjWYzYgv8ExpwCl9TGrbFriuxvMefPvab5Ve8yQaOd6uO8lHF3nJy5fnNtv7jh04x3o8G6DQoSLr2NEdKAaqm9sZ2-YAQXwWxDAr21b1jrmOGANQfqs6JpvQeFqaD7r2hQJOnEtXjpdXE2Qq3QujTW0BJ5xTYLEqpYRPMH-Q69Bx95AmJZA.3rTk1hzh36l7FKKIZOnAsA\" />\\n  \\n\\n\\n\\n      <div class=\"a-section\">\\n        <div class=\"a-box\"><div class=\"a-box-inner a-padding-extra-large\">\\n          <h1 class=\"a-spacing-small\">\\n            Sign in\\n          </h1>\\n          <!-- optional subheading element -->\\n          \\n          <div class=\"a-row a-spacing-base\">\\n            <label for=\"ap_email\" class=\"a-form-label\">\\n              Email or mobile phone number\\n            </label>\\n            \\n            \\n              \\n                \\n              \\n              \\n            \\n            <input type=\"email\" maxlength=\"128\" id=\"ap_email\" name=\"email\" tabindex=\"1\" class=\"a-input-text a-span12 auth-autofocus auth-required-field\"/>\\n\\n            \\n            <input type=\"password\" maxlength=\"1024\" id=\"ap-credential-autofill-hint\" name=\"password\" class=\"a-input-text hide\"/>\\n            \\n\\n\\n\\n<div id=\"auth-email-missing-alert\" class=\"a-box a-alert-inline a-alert-inline-error auth-inlined-error-message a-spacing-top-mini\" role=\"alert\"><div class=\"a-box-inner a-alert-container\"><i class=\"a-icon a-icon-alert\"></i><div class=\"a-alert-content\">\\n  Enter your email or mobile phone number\\n</div></div></div>\\n\\n          </div>\\n\\n          \\n          <input type=\"hidden\" name=\"create\" value=\"0\"/>\\n\\n          <div class=\"a-section\">\\n            \\n            \\n\\n\\n\\n\\n\\n\\n\\n\\n\\n            \\n            <span id=\"continue\" class=\"a-button a-button-span12 a-button-primary\"><span class=\"a-button-inner\"><input id=\"continue\" tabindex=\"5\" class=\"a-button-input\" type=\"submit\" aria-labelledby=\"continue-announce\"/><span id=\"continue-announce\" class=\"a-button-text\" aria-hidden=\"true\">\\n              Continue\\n            </span></span></span>\\n\\n            \\n            \\n              \\n\\n\\n\\n<div id=\"legalTextRow\" class=\"a-row a-spacing-top-medium a-size-small\">\\n  By continuing, you agree to Amazon\\'s <a href=\"/gp/help/customer/display.html/ref=ap_signin_notification_condition_of_use?ie=UTF8&amp;nodeId=200545940\">Conditions of Use</a> and <a href=\"/gp/help/customer/display.html/ref=ap_signin_notification_privacy_notice?ie=UTF8&amp;nodeId=200534380\">Privacy Notice</a>.\\n</div> \\n\\n            \\n\\n            \\n<script>\\n  function cf() {\\n    if (typeof window.uet === \\'function\\') {\\n      uet(\\'cf\\');\\n    }\\n    if (window.embedNotification &&\\n      typeof window.embedNotification.onCF === \\'function\\') {\\n      embedNotification.onCF();\\n    }\\n  }\\n</script>\\n\\n<script type=\"text/javascript\">cf()</script>\\n\\n          </div>\\n\\n          \\n\\n          \\n\\n          \\n\\n\\n\\n<div class=\"a-section\">\\n  <div class=\"a-row a-expander-container a-expander-inline-container\">\\n    <a data-csa-c-func-deps=\"aui-da-a-expander-toggle\" data-csa-c-type=\"widget\" data-csa-interaction-events=\"click\" aria-expanded=\"false\" role=\"button\" href=\"javascript:void(0)\" data-action=\"a-expander-toggle\" class=\"a-expander-header a-declarative a-expander-inline-header a-link-expander\" data-a-expander-toggle=\"{&quot;allowLinkDefault&quot;:true, &quot;expand_prompt&quot;:&quot;&quot;, &quot;collapse_prompt&quot;:&quot;&quot;}\"><i class=\"a-icon a-icon-expand\"></i><span class=\"a-expander-prompt\">\\n      Need help?\\n    </span></a>\\n    \\n      <div aria-expanded=\"false\" class=\"a-expander-content a-expander-inline-content a-expander-inner\" style=\"display:none\">\\n        \\n\\n\\n\\n  \\n  \\n    \\n  \\n\\n<a id=\"auth-fpp-link-bottom\" class=\"a-link-normal\" href=\"https://www.amazon.in/ap/forgotpassword?showRememberMe=true&amp;openid.pape.max_auth_age=3600&amp;openid.identity=http%3A%2F%2Fspecs.openid.net%2Fauth%2F2.0%2Fidentifier_select&amp;language=en_IN&amp;pageId=inflex&amp;mobileBrowserWeblabTreatment=C&amp;openid.return_to=https%3A%2F%2Fwww.amazon.in%2FNew-Apple-iPhone-12-128GB%2Fproduct-reviews%2FB08L5TNJHG%2Fref%3Dcm_cr_arp_d_paging_btm_next_2%3Fie%3DUTF8%26reviewerType%3Dall_reviews%26pageNumber%3D2&amp;prevRID=JY000YRQ4KCF8VZPC4PG&amp;openid.assoc_handle=inflex&amp;openid.mode=checkid_setup&amp;desktopBrowserWeblabTreatment=C&amp;prepopulatedLoginId=&amp;failedSignInCount=0&amp;openid.claimed_id=http%3A%2F%2Fspecs.openid.net%2Fauth%2F2.0%2Fidentifier_select&amp;openid.ns=http%3A%2F%2Fspecs.openid.net%2Fauth%2F2.0\">\\n  Forgot Password\\n</a>\\n      </div>\\n    \\n    <div aria-expanded=\"false\" class=\"a-expander-content a-expander-inline-content a-expander-inner\" style=\"display:none\">\\n      <a id=\"ap-other-signin-issues-link\" class=\"a-link-normal\" href=\"/gp/help/customer/account-issues/ref=ap_login_with_otp_claim_collection?ie=UTF8\">\\n        Other issues with Sign-In\\n      </a>\\n    </div>\\n  </div>\\n</div>\\n\\n\\n          \\n\\n\\n\\n\\n  \\n  \\n  \\n    \\n      \\n      \\n      \\n        \\n        \\n      \\n    \\n  \\n\\n\\n          \\n          \\n\\n          \\n\\n\\n\\n\\n\\n\\n        </div></div>\\n      </div>\\n    </form>\\n  </div>\\n  \\n    \\n    \\n      \\n        \\n        <div class=\"a-divider a-divider-break\"><h5 aria-level=\"5\">New to Amazon?</h5></div>\\n        <span id=\"auth-create-account-link\" class=\"a-button a-button-span12 a-button-base\"><span class=\"a-button-inner\"><a id=\"createAccountSubmit\" href=\"https://www.amazon.in/ap/register?showRememberMe=true&amp;openid.pape.max_auth_age=3600&amp;openid.identity=http%3A%2F%2Fspecs.openid.net%2Fauth%2F2.0%2Fidentifier_select&amp;language=en_IN&amp;pageId=inflex&amp;mobileBrowserWeblabTreatment=C&amp;openid.return_to=https%3A%2F%2Fwww.amazon.in%2FNew-Apple-iPhone-12-128GB%2Fproduct-reviews%2FB08L5TNJHG%2Fref%3Dcm_cr_arp_d_paging_btm_next_2%3Fie%3DUTF8%26reviewerType%3Dall_reviews%26pageNumber%3D2&amp;prevRID=JY000YRQ4KCF8VZPC4PG&amp;openid.assoc_handle=inflex&amp;openid.mode=checkid_setup&amp;desktopBrowserWeblabTreatment=C&amp;prepopulatedLoginId=&amp;failedSignInCount=0&amp;openid.claimed_id=http%3A%2F%2Fspecs.openid.net%2Fauth%2F2.0%2Fidentifier_select&amp;openid.ns=http%3A%2F%2Fspecs.openid.net%2Fauth%2F2.0\" class=\"a-button-text\">\\n          Create your Amazon account\\n        </a></span></span>\\n      \\n    \\n  \\n\\n  <script>\\n    P.when(\\'A\\', \\'IdentityWebAuthn\\', \\'ready\\').register(\\'webauthn\\', async function(A, IdentityWebAuthn) {\\n      /*\\n      This is a temporary workaround for changing the autocomplete value for the text input field. Once AUI\\n      adds the needed enum then we can change the value above.\\n      */\\n      A.$(\\'#ap_email\\').attr(\"autocomplete\", \"webauthn\");\\n      const isCMA = await PublicKeyCredential.isConditionalMediationAvailable();\\n      const isPlatformSupported = await PublicKeyCredential.isUserVerifyingPlatformAuthenticatorAvailable();\\n      if (isPlatformSupported && isCMA) {\\n        const randomString = (Math.random() + 1).toString(36).substring(2);\\n        const abortController = new AbortController();\\n\\n        const publicKeyCredentialRequestOptions = {\\n          mediation: \"conditional\",\\n          signal: abortController.signal,\\n          publicKey: {\\n            challenge: Uint8Array.from(randomString, c => c.charCodeAt(0)),\\n            timeout: 60000,\\n            rpId: window.location.hostname,\\n            userVerification: \"preferred\"\\n          }\\n        };\\n\\n        // Once implemented, we will use IdentityWebAuthn functions to invoke autofill.\\n        navigator.credentials.get(publicKeyCredentialRequestOptions).then(assertion => {\\n          const clientData = JSON.parse(new TextDecoder().decode(assertion.response.clientDataJSON));\\n          const authenticatorData = new TextDecoder().decode(assertion.response.clientDataJSON);\\n\\n          const output = {\\n            clientData: clientData,\\n            authenticatorData: authenticatorData\\n          };\\n\\n          console.log(output);\\n        }).catch(error => console.log(error));\\n      }\\n    });\\n  </script>\\n\\n</div>\\n\\n  \\n  \\n\\n</div>\\n            </div>\\n          \\n        \\n      </div>\\n\\n      \\n      <div id=\"right-2\">\\n      </div>\\n\\n      <div class=\"a-section a-spacing-top-extra-large auth-footer\">\\n        \\n\\n\\n\\n<div class=\"a-divider a-divider-section\"><div class=\"a-divider-inner\"></div></div>\\n\\n<div class=\"a-section a-spacing-small a-text-center a-size-mini\">\\n  <span class=\"auth-footer-seperator\"></span>\\n\\n  \\n    \\n      \\n        \\n      \\n\\n      \\n    \\n\\n    <a class=\"a-link-normal\" target=\"_blank\" href=\"/gp/help/customer/display.html/ref=ap_desktop_footer_cou?ie=UTF8&amp;nodeId=200545940\">\\n      Conditions of Use\\n    </a>\\n    <span class=\"auth-footer-seperator\"></span>\\n  \\n    \\n      \\n        \\n      \\n\\n      \\n    \\n\\n    <a class=\"a-link-normal\" target=\"_blank\" href=\"/gp/help/customer/display.html/ref=ap_desktop_footer_privacy_notice?ie=UTF8&amp;nodeId=200534380\">\\n      Privacy Notice\\n    </a>\\n    <span class=\"auth-footer-seperator\"></span>\\n  \\n    \\n      \\n        \\n      \\n\\n      \\n    \\n\\n    <a class=\"a-link-normal\" target=\"_blank\" href=\"/help\">\\n      Help\\n    </a>\\n    <span class=\"auth-footer-seperator\"></span>\\n  \\n\\n  \\n</div>\\n\\n\\n\\n\\n<div class=\"a-section a-spacing-none a-text-center\">\\n  \\n\\n\\n\\n\\n\\n<span class=\"a-size-mini a-color-secondary\">\\n  \\xc2\\xa9 1996-2023, Amazon.com, Inc. or its affiliates\\n</span>\\n\\n</div>\\n\\n      </div>\\n    </div>\\n\\n    <div id=\"auth-external-javascript\" class=\"auth-external-javascript\" data-external-javascripts=\"\">\\n    </div>\\n\\n    \\n\\n<script type=\"text/javascript\">\\n  try {\\n    var metadataList = document.getElementsByName(\\'metadata1\\');\\n    if (metadataList.length == 0) {\\n      var input = document.createElement(\\'input\\');\\n      input.name = \\'metadata1\\';\\n      input.type = \\'hidden\\';\\n      input.value = \\'true\\';\\n\\n      var authenticationFormList = document.getElementsByName(\\'signIn\\');\\n      for (var index = 0; index < authenticationFormList.length; index++) {\\n        authenticationFormList[index].appendChild(input);\\n      }\\n    } else {\\n      for (var index = 0; index < metadataList.length; index++) {\\n        metadataList[index].value = \\'true\\';\\n      }\\n    }\\n  } catch (e) {\\n    if (typeof window.ueLogError === \\'function\\') {\\n      window.ueLogError(e, {\\n        message: \\'Failed to populate default metadata value\\',\\n        logLevel: \\'warn\\',\\n        attribution: \\'FWCIMAssets\\'\\n      });\\n    }\\n  }\\n</script>\\n<script type=\"text/javascript\">\\n    window.fwcimCmd = [\\n        \\n            [\\'profile\\', \\'signIn\\']\\n            \\n        \\n    ];\\n</script>\\n\\n\\n    \\n        \\n<!--ACICSetup-->\\n\\n<script type=\"text/javascript\">\\nvar acicActionType = false;\\nP.when(\\'auth-validate-form-handler\\', \"acic-component\", \"ready\").execute(\\'acic-setup\\', function(AuthValidateFormHandler) {\\n    var aautTargetForm = document.querySelector(\\'form[name=\"signIn\"]\\');\\n    if (aautTargetForm) {\\n        setAAToken(\"262-2745510-6589301-\" + Date.now(), aautTargetForm);\\n        if ((typeof acic !== \\'undefined\\') && (acic != null)) {\\n            acic.setupACIC({\\n                \"data-mode\": \"1\", \\n                \"data-ref-id\": \"ap\",\\n                \"data-context\": getClientContext(aautTargetForm),\\n                \"data-callback\": function(data) {\\n                    if (data.sessionToken) {\\n                        setAAToken(data.sessionToken, aautTargetForm);\\n                    }\\n                    if (data.actionType && data.actionType !== \"PASS\") {\\n                        acicActionType = true;\\n                    }\\n                },\\n                \"data-host-config\": \"prod.EUAmazon\"\\n            });\\n        }\\n\\n        var submitInputs = aautTargetForm.querySelectorAll(\\'input[type=\"submit\"]\\');\\n        if (submitInputs && submitInputs.length === 1) {\\n            var submitInput = submitInputs[0];\\n            submitInput.addEventListener(\"click\", function(event) {\\n                acicEventListener(AuthValidateFormHandler, aautTargetForm, submitInput, event);\\n            });\\n        }\\n    }\\n});\\n\\nvar acicShouldSetup = true;\\nfunction acicEventListener(AuthValidateFormHandler, aautTargetForm, submitInput, event) {\\n    \\n    \\n    if (acicShouldSetup &&\\n        (typeof acic !== \\'undefined\\') && (acic != null) &&\\n        AuthValidateFormHandler.validate(aautTargetForm) &&\\n        (acicActionType || isTestEmailPattern(getEmailAddress(aautTargetForm)))) {\\n        event.stopPropagation();\\n        event.stopImmediatePropagation();\\n        event.preventDefault();\\n\\n        acic.setupACIC({\\n            \"data-ref-id\": \"ap\",\\n            \"data-context\": getClientContext(aautTargetForm),\\n            \"data-callback\": function(data) {\\n                if (data.sessionToken) {\\n                    setAAToken(data.sessionToken, aautTargetForm);\\n                }\\n                submitForm(submitInput);\\n            },\\n            \"data-host-config\": \"prod.EUAmazon\"\\n        });\\n    }\\n}\\n\\nfunction submitForm(submitInput) {\\n    acicShouldSetup = false;\\n    submitInput.click();\\n}\\n\\nfunction setAAToken(sessionToken, aautTargetForm) {\\n    if (sessionToken) {\\n        var aaTokenInput = aautTargetForm.querySelector(\"input[name=\\'aaToken\\']\");\\n        if (!aaTokenInput) {\\n            aaTokenInput = document.createElement(\"input\");\\n            aaTokenInput.type = \"hidden\";\\n            aaTokenInput.name = \"aaToken\";\\n            aautTargetForm.appendChild(aaTokenInput);\\n        }\\n        aaTokenInput.value = sessionToken;\\n    }\\n}\\n\\nfunction getClientContext(aautTargetForm) {\\n    var context = {};\\n    var emailAddress = getEmailAddress(aautTargetForm);\\n    if (emailAddress) {\\n        context.emailAddress = emailAddress;\\n    }\\n    context.sessionId = \"262-2745510-6589301\";\\n    context.marketplaceId = \"A21TJRUUN4KGV\";\\n    context.rid = \"JY000YRQ4KCF8VZPC4PG\";\\n    context.ubid = \"257-9512114-1849954\";\\n\\n    context.pageType = \"AuthenticationPortal\";\\n\\n    var appActionInput = aautTargetForm.querySelector(\"input[name=\\'appAction\\']\");\\n    if (appActionInput) {\\n        context.appAction = appActionInput.value;\\n    }\\n\\n    var subPageTypeInput = aautTargetForm.querySelector(\"input[name=\\'subPageType\\']\");\\n    if (subPageTypeInput) {\\n        context.subPageType = subPageTypeInput.value;\\n    }\\n\\n    return JSON.stringify(context);\\n}\\n\\nfunction getEmailAddress(aautTargetForm) {\\n    var emailInput = aautTargetForm.querySelector(\"input[type=\\'email\\']\");\\n    if (!emailInput) {\\n        emailInput = aautTargetForm.querySelector(\"input[name=\\'email\\']\");\\n    }\\n    if (emailInput) {\\n        return emailInput.value;\\n    }\\n    return null;\\n}\\n\\nfunction isTestEmailPattern(emailAddress) {\\n    \\n    return emailAddress &&\\n        (emailAddress.indexOf(\\'sentinels\\') >= 0) &&\\n        emailAddress.endsWith(\\'@amazon.com\\');\\n}\\n</script>\\n\\n    \\n\\n\\n\\n    \\n    <!-- cache slot rendered -->\\n    \\n  </div><div id=\\'be\\' style=\"display:none;visibility:hidden;\"><form name=\\'ue_backdetect\\' action=\"get\"><input type=\"hidden\" name=\\'ue_back\\' value=\\'1\\' /></form>\\n\\n\\n<script type=\"text/javascript\">\\nwindow.ue_ibe = (window.ue_ibe || 0) + 1;\\nif (window.ue_ibe === 1) {\\n(function(e,c){function h(b,a){f.push([b,a])}function g(b,a){if(b){var c=e.head||e.getElementsByTagName(\"head\")[0]||e.documentElement,d=e.createElement(\"script\");d.async=\"async\";d.src=b;d.setAttribute(\"crossorigin\",\"anonymous\");a&&a.onerror&&(d.onerror=a.onerror);a&&a.onload&&(d.onload=a.onload);c.insertBefore(d,c.firstChild)}}function k(){ue.uels=g;for(var b=0;b<f.length;b++){var a=f[b];g(a[0],a[1])}ue.deffered=1}var f=[];c.ue&&(ue.uels=h,c.ue.attach&&c.ue.attach(\"load\",k))})(document,window);\\n\\n\\nif (window.ue && window.ue.uels) {\\n            ue.uels(\"https://images-eu.ssl-images-amazon.com/images/I/31bJewCvY-L.js\");\\n}\\nvar ue_mbl=ue_csm.ue.exec(function(h,a){function s(c){b=c||{};a.AMZNPerformance=b;b.transition=b.transition||{};b.timing=b.timing||{};if(a.csa){var d;b.timing.transitionStart&&(d=b.timing.transitionStart);b.timing.processStart&&(d=b.timing.processStart);d&&(csa(\"PageTiming\")(\"mark\",\"nativeTransitionStart\",d),csa(\"PageTiming\")(\"mark\",\"transitionStart\",d))}h.ue.exec(t,\"csm-android-check\")()&&b.tags instanceof Array&&(c=-1!=b.tags.indexOf(\"usesAppStartTime\")||b.transition.type?!b.transition.type&&-1<\\nb.tags.indexOf(\"usesAppStartTime\")?\"warm-start\":void 0:\"view-transition\",c&&(b.transition.type=c));n=null;\"reload\"===e._nt&&h.ue_orct||\"intrapage-transition\"===e._nt?u(b):\"undefined\"===typeof e._nt&&f&&f.timing&&f.timing.navigationStart&&a.history&&\"function\"===typeof a.History&&\"object\"===typeof a.history&&a.history.length&&1!=a.history.length&&(b.timing.transitionStart=f.timing.navigationStart);p&&e.ssw(q,\"\"+(b.timing.transitionStart||n||\"\"));c=b.transition;d=e._nt?e._nt:void 0;c.subType=d;a.ue&&\\na.ue.tag&&a.ue.tag(\"has-AMZNPerformance\");e.isl&&a.uex&&a.uex(\"at\",\"csm-timing\");v()}function w(c){a.ue&&a.ue.count&&a.ue.count(\"csm-cordova-plugin-failed\",1)}function t(){return a.cordova&&a.cordova.platformId&&\"android\"==a.cordova.platformId}function u(){if(p){var c=e.ssw(q),a=function(){},x=e.count||a,a=e.tag||a,k=b.timing.transitionStart,g=c&&!c.e&&c.val;n=c=g?+c.val:null;k&&g&&k>c?(x(\"csm.jumpStart.mtsDiff\",k-c||0),a(\"csm-rld-mts-gt\")):k&&g?a(\"csm-rld-mts-leq\"):g?k||a(\"csm-rld-mts-no-new\"):a(\"csm-rld-mts-no-old\")}f&&\\nf.timing&&f.timing.navigationStart?b.timing.transitionStart=f.timing.navigationStart:delete b.timing.transitionStart}function v(){try{a.P.register(\"AMZNPerformance\",function(){return b})}catch(c){}}function r(){if(!b)return\"\";ue_mbl.cnt=null;var c=b.timing,d=b.transition,d=[\"mts\",l(c.transitionStart),\"mps\",l(c.processStart),\"mtt\",d.type,\"mtst\",d.subType,\"mtlt\",d.launchType];a.ue&&a.ue.tag&&(c.fr_ovr&&a.ue.tag(\"fr_ovr\"),c.fcp_ovr&&a.ue.tag(\"fcp_ovr\"),d.push(\"fr_ovr\",l(c.fr_ovr),\"fcp_ovr\",l(c.fcp_ovr)));\\nfor(var c=\"\",e=0;e<d.length;e+=2){var f=d[e],g=d[e+1];\"undefined\"!==typeof g&&(c+=\"&\"+f+\"=\"+g)}return c}function l(a){if(\"undefined\"!==typeof a&&\"undefined\"!==typeof m)return a-m}function y(a,d){b&&(m=d,b.timing.transitionStart=a,b.transition.type=\"view-transition\",b.transition.subType=\"ajax-transition\",b.transition.launchType=\"normal\",ue_mbl.cnt=r)}var e=h.ue||{},m=h.ue_t0,q=\"csm-last-mts\",p=1===h.ue_sswmts,n,f=a.performance,b;if(a.P&&a.P.when&&a.P.register)return 1===a.ue_fnt&&(m=a.aPageStart||\\nh.ue_t0),a.P.when(\"CSMPlugin\").execute(function(a){a.buildAMZNPerformance&&a.buildAMZNPerformance({successCallback:s,failCallback:w})}),{cnt:r,ajax:y}},\"mobile-timing\")(ue_csm,ue_csm.window);\\n\\n(function(d){d._uess=function(){var a=\"\";screen&&screen.width&&screen.height&&(a+=\"&sw=\"+screen.width+\"&sh=\"+screen.height);var b=function(a){var b=document.documentElement[\"client\"+a];return\"CSS1Compat\"===document.compatMode&&b||document.body[\"client\"+a]||b},c=b(\"Width\"),b=b(\"Height\");c&&b&&(a+=\"&vw=\"+c+\"&vh=\"+b);return a}})(ue_csm);\\n\\n(function(a){function c(a){d(\"log\",a)}var d=csa(\"Errors\",{producerId:\"csa\"});a.ue_err.buffer&&d&&(a.ue_err.buffer.forEach(c),a.ue_err.buffer.push=c);var b=document.ue_backdetect;b&&b.ue_back&&a.ue&&(a.ue.bfini=b.ue_back.value);a.uet&&a.uet(\"be\");a.onLdEnd&&(window.addEventListener?window.addEventListener(\"load\",a.onLdEnd,!1):window.attachEvent&&window.attachEvent(\"onload\",a.onLdEnd));a.ueh&&a.ueh(0,window,\"load\",a.onLd,1);a.ue&&a.ue.tag&&(a.ue_furl?(b=a.ue_furl.replace(/\\\\./g,\"-\"),a.ue.tag(b)):a.ue.tag(\"nofls\"))})(ue_csm);\\n\\n(function(g,h){function d(a,d){var b={};if(!e||!f)try{var c=h.sessionStorage;c?a&&(\"undefined\"!==typeof d?c.setItem(a,d):b.val=c.getItem(a)):f=1}catch(g){e=1}e&&(b.e=1);return b}var b=g.ue||{},a=\"\",f,e,c,a=d(\"csmtid\");f?a=\"NA\":a.e?a=\"ET\":(a=a.val,a||(a=b.oid||\"NI\",d(\"csmtid\",a)),c=d(b.oid),c.e||(c.val=c.val||0,d(b.oid,c.val+1)),b.ssw=d);b.tabid=a})(ue_csm,ue_csm.window);\\n\\nue_csm.ue.exec(function(e,f){var a=e.ue||{},b=a._wlo,d;if(a.ssw){d=a.ssw(\"CSM_previousURL\").val;var c=f.location,b=b?b:c&&c.href?c.href.split(\"#\")[0]:void 0;c=(b||\"\")===a.ssw(\"CSM_previousURL\").val;!c&&b&&a.ssw(\"CSM_previousURL\",b);d=c?\"reload\":d?\"intrapage-transition\":\"first-view\"}else d=\"unknown\";a._nt=d},\"NavTypeModule\")(ue_csm,window);\\nue_csm.ue.exec(function(c,a){function g(a){a.run(function(e){d.tag(\"csm-feature-\"+a.name+\":\"+e);d.isl&&c.uex(\"at\")})}if(a.addEventListener)for(var d=c.ue||{},f=[{name:\"touch-enabled\",run:function(b){var e=function(){a.removeEventListener(\"touchstart\",c,!0);a.removeEventListener(\"mousemove\",d,!0)},c=function(){b(\"true\");e()},d=function(){b(\"false\");e()};a.addEventListener(\"touchstart\",c,!0);a.addEventListener(\"mousemove\",d,!0)}}],b=0;b<f.length;b++)g(f[b])},\"csm-features\")(ue_csm,window);\\n\\n\\n(function(a,e){function c(a){d(\"recordCounter\",a.c,a.v)}var b=e.images,d=csa(\"Metrics\",{producerId:\"csa\"});b&&b.length&&a.ue.count(\"totalImages\",b.length);a.ue.cv.buffer&&d&&(a.ue.cv.buffer.forEach(c),a.ue.cv.buffer.push=c)})(ue_csm,document);\\n(function(b){function c(){var d=[];a.log&&a.log.isStub&&a.log.replay(function(a){e(d,a)});a.clog&&a.clog.isStub&&a.clog.replay(function(a){e(d,a)});d.length&&(a._flhs+=1,n(d),p(d))}function g(){a.log&&a.log.isStub&&(a.onflush&&a.onflush.replay&&a.onflush.replay(function(a){a[0]()}),a.onunload&&a.onunload.replay&&a.onunload.replay(function(a){a[0]()}),c())}function e(d,b){var c=b[1],f=b[0],e={};a._lpn[c]=(a._lpn[c]||0)+1;e[c]=f;d.push(e)}function n(b){q&&(a._lpn.csm=(a._lpn.csm||0)+1,b.push({csm:{k:\"chk\",\\nf:a._flhs,l:a._lpn,s:\"inln\"}}))}function p(a){if(h)a=k(a),b.navigator.sendBeacon(l,a);else{a=k(a);var c=new b[f];c.open(\"POST\",l,!0);c.setRequestHeader&&c.setRequestHeader(\"Content-type\",\"text/plain\");c.send(a)}}function k(a){return JSON.stringify({rid:b.ue_id,sid:b.ue_sid,mid:b.ue_mid,mkt:b.ue_mkt,sn:b.ue_sn,reqs:a})}var f=\"XMLHttpRequest\",q=1===b.ue_ddq,a=b.ue,r=b[f]&&\"withCredentials\"in new b[f],h=b.navigator&&b.navigator.sendBeacon,l=\"//\"+b.ue_furl+\"/1/batch/1/OE/\",m=b.ue_fci_ft||5E3;a&&(r||h)&&\\n(a._flhs=a._flhs||0,a._lpn=a._lpn||{},a.attach&&(a.attach(\"beforeunload\",a.exec(g,\"fcli-bfu\")),a.attach(\"pagehide\",a.exec(g,\"fcli-ph\"))),m&&b.setTimeout(a.exec(c,\"fcli-t\"),m),a._ffci=a.exec(c))})(window);\\n\\n\\n(function(k,c){function l(a,b){return a.filter(function(a){return a.initiatorType==b})}function f(a,c){if(b.t[a]){var g=b.t[a]-b._t0,e=c.filter(function(a){return 0!==a.responseEnd&&m(a)<g}),f=l(e,\"script\"),h=l(e,\"link\"),k=l(e,\"img\"),n=e.map(function(a){return a.name.split(\"/\")[2]}).filter(function(a,b,c){return a&&c.lastIndexOf(a)==b}),q=e.filter(function(a){return a.duration<p}),s=g-Math.max.apply(null,e.map(m))<r|0;\"af\"==a&&(b._afjs=f.length);return a+\":\"+[e[d],f[d],h[d],k[d],n[d],q[d],s].join(\"-\")}}\\nfunction m(a){return a.responseEnd-(b._t0-c.timing.navigationStart)}function n(){var a=c[h](\"resource\"),d=f(\"cf\",a),g=f(\"af\",a),a=f(\"ld\",a);delete b._rt;b._ld=b.t.ld-b._t0;b._art&&b._art();return[d,g,a].join(\"_\")}var p=20,r=50,d=\"length\",b=k.ue,h=\"getEntriesByType\";b._rre=m;b._rt=c&&c.timing&&c[h]&&n})(ue_csm,window.performance);\\n\\n\\n(function(c,d){var b=c.ue,a=d.navigator;b&&b.tag&&a&&(a=a.connection||a.mozConnection||a.webkitConnection)&&a.type&&b.tag(\"netInfo:\"+a.type)})(ue_csm,window);\\n\\n\\n(function(c,d){function h(a,b){for(var c=[],d=0;d<a.length;d++){var e=a[d],f=b.encode(e);if(e[k]){var g=b.metaSep,e=e[k],l=b.metaPairSep,h=[],m=void 0;for(m in e)e.hasOwnProperty(m)&&h.push(m+\"=\"+e[m]);e=h.join(l);f+=g+e}c.push(f)}return c.join(b.resourceSep)}function s(a){var b=a[k]=a[k]||{};b[t]||(b[t]=c.ue_mid);b[u]||(b[u]=c.ue_sid);b[f]||(b[f]=c.ue_id);b.csm=1;a=\"//\"+c.ue_furl+\"/1/\"+a[v]+\"/1/OP/\"+a[w]+\"/\"+a[x]+\"/\"+h([a],y);if(n)try{n.call(d[p],a)}catch(g){c.ue.sbf=1,(new Image).src=a}else(new Image).src=\\na}function q(){g&&g.isStub&&g.replay(function(a,b,c){a=a[0];b=a[k]=a[k]||{};b[f]=b[f]||c;s(a)});l.impression=s;g=null}if(!(1<c.ueinit)){var k=\"metadata\",x=\"impressionType\",v=\"foresterChannel\",w=\"programGroup\",t=\"marketplaceId\",u=\"session\",f=\"requestId\",p=\"navigator\",l=c.ue||{},n=d[p]&&d[p].sendBeacon,r=function(a,b,c,d){return{encode:d,resourceSep:a,metaSep:b,metaPairSep:c}},y=r(\"\",\"?\",\"&\",function(a){return h(a.impressionData,z)}),z=r(\"/\",\":\",\",\",function(a){return a.featureName+\":\"+h(a.resources,\\nA)}),A=r(\",\",\"@\",\"|\",function(a){return a.id}),g=l.impression;n?q():(l.attach(\"load\",q),l.attach(\"beforeunload\",q));try{d.P&&d.P.register&&d.P.register(\"impression-client\",function(){})}catch(B){c.ueLogError(B,{logLevel:\"WARN\"})}}})(ue_csm,window);\\n\\n\\n\\nvar ue_pty = \"AuthenticationPortal\";\\n\\nvar ue_spty = \"SignInClaimCollect\";\\n\\n\\n\\nvar ue_adb = 4;\\nvar ue_adb_rtla = 1;\\nue_csm.ue.exec(function(y,a){function t(){if(d&&f){var a;a:{try{a=d.getItem(g);break a}catch(c){}a=void 0}if(a)return b=a,!0}return!1}function u(){if(a.fetch)fetch(m).then(function(a){if(!a.ok)throw Error(a.statusText);return a.text?a.text():null}).then(function(b){b?(-1<b.indexOf(\"window.ue_adb_chk = 1\")&&(a.ue_adb_chk=1),n()):h()})[\"catch\"](h);else e.uels(m,{onerror:h,onload:n})}function h(){b=k;l();if(f)try{d.setItem(g,b)}catch(a){}}function n(){b=1===a.ue_adb_chk?p:k;l();if(f)try{d.setItem(g,\\nb)}catch(c){}}function q(){a.ue_adb_rtla&&c&&0<c.ec&&!1===r&&(c.elh=null,ueLogError({m:\"Hit Info\",fromOnError:1},{logLevel:\"INFO\",adb:b}),r=!0)}function l(){e.tag(b);e.isl&&a.uex&&uex(\"at\",b);s&&s.updateCsmHit(\"adb\",b);c&&0<c.ec?q():a.ue_adb_rtla&&c&&(c.elh=q)}function v(){return b}if(a.ue_adb){a.ue_fadb=a.ue_fadb||10;var e=a.ue,k=\"adblk_yes\",p=\"adblk_no\",m=\"https://m.media-amazon.com/images/G/01/csm/showads.v2.js?action=ads&banner.id=_300x250Banner_&AdType=_google_ads_\",b=\"adblk_unk\",d;a:{try{d=\\na.localStorage;break a}catch(z){}d=void 0}var g=\"csm:adb\",c=a.ue_err,s=e.cookie,f=void 0!==a.localStorage,w=Math.random()>1-1/a.ue_fadb,r=!1,x=t();w||!x?u():l();a.ue_isAdb=v;a.ue_isAdb.unk=\"adblk_unk\";a.ue_isAdb.no=p;a.ue_isAdb.yes=k}},\"adb\")(document,window);\\n\\n\\n\\n\\n(function(c,l,m){function h(a){if(a)try{if(a.id)return\"//*[@id=\\'\"+a.id+\"\\']\";var b,d=1,e;for(e=a.previousSibling;e;e=e.previousSibling)e.nodeName===a.nodeName&&(d+=1);b=d;var c=a.nodeName;1!==b&&(c+=\"[\"+b+\"]\");a.parentNode&&(c=h(a.parentNode)+\"/\"+c);return c}catch(f){return\"DETACHED\"}}function f(a){if(a&&a.getAttribute)return a.getAttribute(k)?a.getAttribute(k):f(a.parentElement)}var k=\"data-cel-widget\",g=!1,d=[];(c.ue||{}).isBF=function(){try{var a=JSON.parse(localStorage[\"csm-bf\"]||\"[]\"),b=0<=a.indexOf(c.ue_id);\\na.unshift(c.ue_id);a=a.slice(0,20);localStorage[\"csm-bf\"]=JSON.stringify(a);return b}catch(d){return!1}}();c.ue_utils={getXPath:h,getFirstAscendingWidget:function(a,b){c.ue_cel&&c.ue_fem?!0===g?b(f(a)):d.push({element:a,callback:b}):b()},notifyWidgetsLabeled:function(){if(!1===g){g=!0;for(var a=f,b=0;b<d.length;b++)if(d[b].hasOwnProperty(\"callback\")&&d[b].hasOwnProperty(\"element\")){var c=d[b].callback,e=d[b].element;\"function\"===typeof c&&\"function\"===typeof a&&c(a(e))}d=null}},extractStringValue:function(a){if(\"string\"===\\ntypeof a)return a}}})(ue_csm,window,document);\\n\\n\\n\\n\\n\\nue_csm.ue_unrt = 1500;\\n(function(d,b,t){function u(a,g){var c=a.srcElement||a.target||{},b={k:v,t:g.t,dt:g.dt,x:a.pageX,y:a.pageY,p:e.getXPath(c),n:c.nodeName};a.button&&(b.b=a.button);c.type&&(b.ty=c.type);c.href&&(b.r=e.extractStringValue(c.href));c.id&&(b.i=c.id);c.className&&c.className.split&&(b.c=c.className.split(/\\\\s+/));h+=1;e.getFirstAscendingWidget(c,function(a){b.wd=a;d.ue.log(b,r)})}function w(a){if(!x(a.srcElement||a.target)){m+=1;n=!0;var g=f=d.ue.d(),c;p&&\"function\"===typeof p.now&&a.timeStamp&&(c=p.now()-\\na.timeStamp,c=parseFloat(c.toFixed(2)));s=b.setTimeout(function(){u(a,{t:g,dt:c})},y)}}function z(a){if(a){var b=a.filter(A);a.length!==b.length&&(q=!0,k=d.ue.d(),n&&q&&(k&&f&&d.ue.log({k:B,t:f,m:Math.abs(k-f)},r),l(),q=!1,k=0))}}function A(a){if(!a)return!1;var b=\"characterData\"===a.type?a.target.parentElement:a.target;if(!b||!b.hasAttributes||!b.attributes)return!1;var c={\"class\":\"gw-clock gw-clock-aria s-item-container-height-auto feed-carousel using-mouse kfs-inner-container\".split(\" \"),id:[\"dealClock\",\\n\"deal_expiry_timer\",\"timer\"],role:[\"timer\"]},d=!1;Object.keys(c).forEach(function(a){var e=b.attributes[a]?b.attributes[a].value:\"\";(c[a]||\"\").forEach(function(a){-1!==e.indexOf(a)&&(d=!0)})});return d}function x(a){if(!a)return!1;var b=(e.extractStringValue(a.nodeName)||\"\").toLowerCase(),c=(e.extractStringValue(a.type)||\"\").toLowerCase(),d=(e.extractStringValue(a.href)||\"\").toLowerCase();a=(e.extractStringValue(a.id)||\"\").toLowerCase();var f=\"checkbox color date datetime-local email file month number password radio range reset search tel text time url week\".split(\" \");\\nif(-1!==[\"select\",\"textarea\",\"html\"].indexOf(b)||\"input\"===b&&-1!==f.indexOf(c)||\"a\"===b&&-1!==d.indexOf(\"http\")||-1!==[\"sitbreaderrightpageturner\",\"sitbreaderleftpageturner\",\"sitbreaderpagecontainer\"].indexOf(a))return!0}function l(){n=!1;f=0;b.clearTimeout(s)}function C(){b.ue.onunload(function(){ue.count(\"armored-cxguardrails.unresponsive-clicks.violations\",h);ue.count(\"armored-cxguardrails.unresponsive-clicks.violationRate\",h/m*100||0)})}if(b.MutationObserver&&b.addEventListener&&Object.keys&&\\nd&&d.ue&&d.ue.log&&d.ue_unrt&&d.ue_utils){var y=d.ue_unrt,r=\"cel\",v=\"unr_mcm\",B=\"res_mcm\",p=b.performance,e=d.ue_utils,n=!1,f=0,s=0,q=!1,k=0,h=0,m=0;b.addEventListener&&(b.addEventListener(\"mousedown\",w,!0),b.addEventListener(\"beforeunload\",l,!0),b.addEventListener(\"visibilitychange\",l,!0),b.addEventListener(\"pagehide\",l,!0));b.ue&&b.ue.event&&b.ue.onSushiUnload&&b.ue.onunload&&C();(new MutationObserver(z)).observe(t,{childList:!0,attributes:!0,characterData:!0,subtree:!0})}})(ue_csm,window,document);\\n\\n\\nue_csm.ue.exec(function(g,e){if(e.ue_err){var f=\"\";e.ue_err.errorHandlers||(e.ue_err.errorHandlers=[]);e.ue_err.errorHandlers.push({name:\"fctx\",handler:function(a){if(!a.logLevel||\"FATAL\"===a.logLevel)if(f=g.getElementsByTagName(\"html\")[0].innerHTML){var b=f.indexOf(\"var ue_t0=ue_t0||+new Date();\");if(-1!==b){var b=f.substr(0,b).split(String.fromCharCode(10)),d=Math.max(b.length-10-1,0),b=b.slice(d,b.length-1);a.fcsmln=d+b.length+1;a.cinfo=a.cinfo||{};for(var c=0;c<b.length;c++)a.cinfo[d+c+1+\"\"]=\\nb[c]}b=f.split(String.fromCharCode(10));a.cinfo=a.cinfo||{};if(!(a.f||void 0===a.l||a.l in a.cinfo))for(c=+a.l-1,d=Math.max(c-5,0),c=Math.min(c+5,b.length-1);d<=c;d++)a.cinfo[d+1+\"\"]=b[d]}}})}},\"fatals-context\")(document,window);\\n\\n\\n(function(m,a){function c(k){function f(b){b&&\"string\"===typeof b&&(b=(b=b.match(/^(?:https?:)?\\\\/\\\\/(.*?)(\\\\/|$)/i))&&1<b.length?b[1]:null,b&&b&&(\"number\"===typeof e[b]?e[b]++:e[b]=1))}function d(b){var e=10,d=+new Date;b&&b.timeRemaining?e=b.timeRemaining():b={timeRemaining:function(){return Math.max(0,e-(+new Date-d))}};for(var c=a.performance.getEntries(),k=e;g<c.length&&k>n;)c[g].name&&f(c[g].name),g++,k=b.timeRemaining();g>=c.length?h(!0):l()}function h(b){if(!b){b=m.scripts;var c;if(b)for(var d=\\n0;d<b.length;d++)(c=b[d].getAttribute(\"src\"))&&\"undefined\"!==c&&f(c)}0<Object.keys(e).length&&(p&&ue_csm.ue&&ue_csm.ue.event&&ue_csm.ue.event({domains:e,pageType:a.ue_pty||null,subPageType:a.ue_spty||null,pageTypeId:a.ue_pti||null},\"csm\",\"csm.CrossOriginDomains.2\"),a.ue_ext=e)}function l(){!0===k?d():a.requestIdleCallback?a.requestIdleCallback(d):a.requestAnimationFrame?a.requestAnimationFrame(d):a.setTimeout(d,100)}function c(){if(a.performance&&a.performance.getEntries){var b=a.performance.getEntries();\\n!b||0>=b.length?h(!1):l()}else h(!1)}var e=a.ue_ext||{};a.ue_ext||c();return e}function q(){setTimeout(c,r)}var s=a.ue_dserr||!1,p=!0,n=1,r=2E3,g=0;a.ue_err&&s&&(a.ue_err.errorHandlers||(a.ue_err.errorHandlers=[]),a.ue_err.errorHandlers.push({name:\"ext\",handler:function(a){if(!a.logLevel||\"FATAL\"===a.logLevel){var f=c(!0),d=[],h;for(h in f){var f=h,g=f.match(/amazon(\\\\.com?)?\\\\.\\\\w{2,3}$/i);g&&1<g.length||-1!==f.indexOf(\"amazon-adsystem.com\")||-1!==f.indexOf(\"amazonpay.com\")||-1!==f.indexOf(\"cloudfront-labs.amazonaws.com\")||\\nd.push(h)}a.ext=d}}}));a.ue&&a.ue.isl?c():a.ue&&ue.attach&&ue.attach(\"load\",q)})(document,window);\\n\\n\\n\\n\\n\\nvar ue_wtc_c = 3;\\nue_csm.ue.exec(function(b,e){function l(){for(var a=0;a<f.length;a++)a:for(var d=s.replace(A,f[a])+g[f[a]]+t,c=arguments,b=0;b<c.length;b++)try{c[b].send(d);break a}catch(e){}g={};f=[];n=0;k=p}function u(){B?l(q):l(C,q)}function v(a,m,c){r++;if(r>w)d.count&&1==r-w&&(d.count(\"WeblabTriggerThresholdReached\",1),b.ue_int&&console.error(\"Number of max call reached. Data will no longer be send\"));else{var h=c||{};h&&-1<h.constructor.toString().indexOf(D)&&a&&-1<a.constructor.toString().indexOf(x)&&m&&-1<\\nm.constructor.toString().indexOf(x)?(h=b.ue_id,c&&c.rid&&(h=c.rid),c=h,a=encodeURIComponent(\",wl=\"+a+\"/\"+m),2E3>a.length+p?(2E3<k+a.length&&u(),void 0===g[c]&&(g[c]=\"\",f.push(c)),g[c]+=a,k+=a.length,n||(n=e.setTimeout(u,E))):b.ue_int&&console.error(\"Invalid API call. The input provided is over 2000 chars.\")):d.count&&(d.count(\"WeblabTriggerImproperAPICall\",1),b.ue_int&&console.error(\"Invalid API call. The input provided does not match the API protocol i.e ue.trigger(String, String, Object).\"))}}function F(){d.trigger&&\\nd.trigger.isStub&&d.trigger.replay(function(a){v.apply(this,a)})}function y(){z||(f.length&&l(q),z=!0)}var t=\":1234\",s=\"//\"+b.ue_furl+\"/1/remote-weblab-triggers/1/OE/\"+b.ue_mid+\":\"+b.ue_sid+\":PLCHLDR_RID$s:wl-client-id%3DCSMTriger\",A=\"PLCHLDR_RID\",E=b.wtt||1E4,p=s.length+t.length,w=b.mwtc||2E3,G=1===e.ue_wtc_c,B=3===e.ue_wtc_c,H=e.XMLHttpRequest&&\"withCredentials\"in new e.XMLHttpRequest,x=\"String\",D=\"Object\",d=b.ue,g={},f=[],k=p,n,z=!1,r=0,C=function(){return{send:function(a){if(H){var b=new e.XMLHttpRequest;\\nb.open(\"GET\",a,!0);G&&(b.withCredentials=!0);b.send()}else throw\"\";}}}(),q=function(){return{send:function(a){(new Image).src=a}}}();e.encodeURIComponent&&(d.attach&&(d.attach(\"beforeunload\",y),d.attach(\"pagehide\",y)),F(),d.trigger=v)},\"client-wbl-trg\")(ue_csm,window);\\n\\n\\n(function(k,d,h){function f(a,c,b){a&&a.indexOf&&0===a.indexOf(\"http\")&&0!==a.indexOf(\"https\")&&l(s,c,a,b)}function g(a,c,b){a&&a.indexOf&&(location.href.split(\"#\")[0]!=a&&null!==a&&\"undefined\"!==typeof a||l(t,c,a,b))}function l(a,c,b,e){m[b]||(e=u&&e?n(e):\"N/A\",d.ueLogError&&d.ueLogError({message:a+c+\" : \"+b,logLevel:v,stack:\"N/A\"},{attribution:e}),m[b]=1,p++)}function e(a,c){if(a&&c)for(var b=0;b<a.length;b++)try{c(a[b])}catch(d){}}function q(){return d.performance&&d.performance.getEntriesByType?\\nd.performance.getEntriesByType(\"resource\"):[]}function n(a){if(a.id)return\"//*[@id=\\'\"+a.id+\"\\']\";var c;c=1;var b;for(b=a.previousSibling;b;b=b.previousSibling)b.nodeName==a.nodeName&&(c+=1);b=a.nodeName;1!=c&&(b+=\"[\"+c+\"]\");a.parentNode&&(b=n(a.parentNode)+\"/\"+b);return b}function w(){var a=h.images;a&&a.length&&e(a,function(a){var b=a.getAttribute(\"src\");f(b,\"img\",a);g(b,\"img\",a)})}function x(){var a=h.scripts;a&&a.length&&e(a,function(a){var b=a.getAttribute(\"src\");f(b,\"script\",a);g(b,\"script\",a)})}\\nfunction y(){var a=h.styleSheets;a&&a.length&&e(a,function(a){if(a=a.ownerNode){var b=a.getAttribute(\"href\");f(b,\"style\",a);g(b,\"style\",a)}})}function z(){if(A){var a=q();e(a,function(a){f(a.name,a.initiatorType)})}}function B(){e(q(),function(a){g(a.name,a.initiatorType)})}function r(){var a;a=d.location&&d.location.protocol?d.location.protocol:void 0;\"https:\"==a&&(z(),w(),x(),y(),B(),p<C&&setTimeout(r,D))}var s=\"[CSM] Insecure content detected \",t=\"[CSM] Ajax request to same page detected \",v=\"WARN\",\\nm={},p=0,D=k.ue_nsip||1E3,C=5,A=1==k.ue_urt,u=!0;ue_csm.ue_disableNonSecure||(d.performance&&d.performance.setResourceTimingBufferSize&&d.performance.setResourceTimingBufferSize(300),r())})(ue_csm,window,document);\\n\\n\\nvar ue_aa_a = \"\";\\nif (ue.trigger && (ue_aa_a === \"C\" || ue_aa_a === \"T1\")) {\\n    ue.trigger(\"UEDATA_AA_SERVERSIDE_ASSIGNMENT_CLIENTSIDE_TRIGGER_190249\", ue_aa_a);\\n}\\n(function(f,b){function g(){try{b.PerformanceObserver&&\"function\"===typeof b.PerformanceObserver&&(a=new b.PerformanceObserver(function(b){c(b.getEntries())}),a.observe(d))}catch(h){k()}}function m(){for(var h=d.entryTypes,a=0;a<h.length;a++)c(b.performance.getEntriesByType(h[a]))}function c(a){if(a&&Array.isArray(a)){for(var c=0,e=0;e<a.length;e++){var d=l.indexOf(a[e].name);if(-1!==d){var g=Math.round(b.performance.timing.navigationStart+a[e].startTime);f.uet(n[d],void 0,void 0,g);c++}}l.length===\\nc&&k()}}function k(){a&&a.disconnect&&\"function\"===typeof a.disconnect&&a.disconnect()}if(\"function\"===typeof f.uet&&b.performance&&\"object\"===typeof b.performance&&b.performance.getEntriesByType&&\"function\"===typeof b.performance.getEntriesByType&&b.performance.timing&&\"object\"===typeof b.performance.timing&&\"number\"===typeof b.performance.timing.navigationStart){var d={entryTypes:[\"paint\"]},l=[\"first-paint\",\"first-contentful-paint\"],n=[\"fp\",\"fcp\"],a;try{m(),g()}catch(p){f.ueLogError(p,{logLevel:\"ERROR\",\\nattribution:\"performanceMetrics\"})}}})(ue_csm,window);\\n\\n\\nif (window.csa) {\\n    csa(\"Events\")(\"setEntity\", {\\n        page:{pageType: \"AuthenticationPortal\", subPageType: \"SignInClaimCollect\", pageTypeId: \"\"}\\n    });\\n}\\ncsa.plugin(function(c){var m=\"transitionStart\",n=\"pageVisible\",e=\"PageTiming\",t=\"visibilitychange\",s=\"$latency.visible\",i=c.global,r=(i.performance||{}).timing,a=[\"navigationStart\",\"unloadEventStart\",\"unloadEventEnd\",\"redirectStart\",\"redirectEnd\",\"fetchStart\",\"domainLookupStart\",\"domainLookupEnd\",\"connectStart\",\"connectEnd\",\"secureConnectionStart\",\"requestStart\",\"responseStart\",\"responseEnd\",\"domLoading\",\"domInteractive\",\"domContentLoadedEventStart\",\"domContentLoadedEventEnd\",\"domComplete\",\"loadEventStart\",\"loadEventEnd\"],o=i.Math,u=o.max,l=o.floor,d=i.document||{},g=(r||{}).navigationStart,f=g,v=0,p=null;if(i.Object.keys&&[].forEach&&!c.config[\"KillSwitch.\"+e]){if(!r||null===g||g<=0||void 0===g)return c.error(\"Invalid navigation timing data: \"+g);p=new S({schemaId:\"<ns>.PageLatency.5\",producerId:\"csa\"}),\"boolean\"!=typeof d.hidden&&\"string\"!=typeof d.visibilityState||!d.removeEventListener?c.emit(s):h()?(c.emit(s),E(n,g)):c.on(d,t,function e(){h()&&(f=c.time(),d.removeEventListener(t,e),E(m,f),E(n,f),c.emit(s))}),c.once(\"$unload\",I),c.once(\"$load\",I),c.on(\"$pageTransition\",function(){f=c.time()}),c.register(e,{mark:E,instance:function(e){return new S(e)}})}function S(e){var i,r=null,a=e.ent||{page:[\"pageType\",\"subPageType\",\"requestId\"]},o=e.logger||c(\"Events\",{producerId:e.producerId});if(!e||!e.producerId||!e.schemaId)return c.error(\"The producer id and schema Id must be defined for PageLatencyInstance.\");function d(){return i||f}function n(){r=c.UUID()}this.mark=function(n,t){if(null!=n)return t=t||c.time(),n===m&&(i=t),c.once(s,function(){o(\"log\",{messageId:r,__merge:function(e){e.markers[n]=function(e,n){return u(0,n-(e||f))}(d(),t),e.markerTimestamps[n]=l(t)},markers:{},markerTimestamps:{},navigationStartTimestamp:d()?new Date(d()).toISOString():null,schemaId:e.schemaId},{ent:a})}),t},n(),c.on(\"$beforePageTransition\",n)}function E(e,n){e===m&&(f=n);var t=p.mark(e,n);c.emit(\"$timing:\"+e,t)}function I(){if(!v){for(var e=0;e<a.length;e++)r[a[e]]&&E(a[e],r[a[e]]);v=1}}function h(){return!d.hidden||\"visible\"===d.visibilityState}});csa.plugin(function(f){var u,c,l=\"length\",a=\"parentElement\",t=\"target\",i=\"getEntriesByName\",e=\"perf\",n=null,r=\"_csa_flt\",o=\"_csa_llt\",s=\"previousSibling\",d=\"_osrc\",g=\"_elt\",h=\"_eid\",m=10,p=5,v=15,y=100,E=f.global,S=f.timeout,b=E.Math,x=b.max,L=b.floor,O=b.ceil,_=E.document,w=E.performance||{},T=(w.timing||{}).navigationStart,I=Date.now,N=Object.values||(f.types||{}).ovl,k=f(\"PageTiming\"),B=f(\"SpeedIndexBuffers\"),Y=[],C=[],F=[],H=[],M=[],R=[],V=.1,W=.1,$=0,P=0,X=!0,D=0,J=0,j=1==f.config[\"SpeedIndex.ForceReplay\"],q=0,Q=1,U=0,z={},A=[],G=0,K={buffered:1};function Z(e){f.global.ue_csa_ss_tag||f.emit(\"$csmTag:\"+e,0,K)}function ee(){for(var e=I(),n=0;u;){if(0!==u[l]){if(!1!==u.h(u[0])&&u.shift(),n++,!j&&n%m==0&&I()-e>p)break}else u=u.n}$=0,u&&($||(!0===_.hidden?(j=1,ee()):f.timeout(ee,0)))}function ne(e,n,t,i,r){U=L(e),Y=n,C=t,F=i,R=r;var o=_.createTreeWalker(_.body,NodeFilter.SHOW_TEXT,null,null),a={w:E.innerWidth,h:E.innerHeight,x:E.pageXOffset,y:E.pageYOffset};_.body[g]=e,H.push({w:o,vp:a}),M.push({img:_.images,iter:0}),Y.h=te,(Y.n=C).h=ie,(C.n=F).h=re,(F.n=H).h=oe,(H.n=M).h=ae,(M.n=R).h=fe,u=Y,ee()}function te(e){e.m.forEach(function(e){for(var n=e;n&&(e===n||!n[r]||!n[o]);)n[r]||(n[r]=e[r]),n[o]||(n[o]=e[o]),n[g]=n[r]-T,n=n[s]})}function ie(e){e.m.forEach(function(e){var n=e[t];d in n||(n[d]=e.oldValue)})}function re(n){n.m.forEach(function(e){e[t][g]=n.t-T})}function oe(e){for(var n,t=e.vp,i=e.w,r=m;(n=i.nextNode())&&0<r;){r-=1;var o=(n[a]||{}).nodeName;\"SCRIPT\"!==o&&\"STYLE\"!==o&&\"NOSCRIPT\"!==o&&\"BODY\"!==o&&0!==(n.nodeValue||\"\").trim()[l]&&de(n[a],ue(n),t)}return!n}function ae(e){for(var n={w:E.innerWidth,h:E.innerHeight,x:E.pageXOffset,y:E.pageYOffset},t=m;e.iter<e.img[l]&&0<t;){var i,r=e.img[e.iter],o=se(r),a=o&&ue(o)||ue(r);o?(o[g]=a,i=le(o.querySelector(\\'[aria-posinset=\"1\"] img\\')||r)||a,r=o):i=le(r)||a,J&&c<i&&(i=a),de(r,i,n),e.iter+=1,t-=1}return e.img[l]<=e.iter}function fe(e){var n=[],i=0,r=0,o=P,t=L(e.y/y),a=O((e.y+E.innerHeight)/y);A.slice(t,a).forEach(function(e){(e.elems||[]).forEach(function(e){e.lt in n||(n[e.lt]={}),e.id in n[e.lt]||(i+=(n[e.lt][e.id]=e).a)})}),Z(\"startVL\"),N(n).forEach(function(e){N(e).forEach(function(e){var n=1-r/i,t=x(e.lt,o);G+=n*(t-o),o=t,function(e,n){var t;for(;V<=1&&V-.01<=e;)ge(\"visuallyLoaded\"+(t=(100*V).toFixed(0)),n.lt),\"50\"!==t&&\"90\"!==t||f(\"Content\",{target:n.e})(\"mark\",\"visuallyLoaded\"+t,T+O(n.lt||0)),V+=W}((r+=e.a)/i,e)})}),Z(\"endVL\"),P=e.t-T,R[l]<=1&&(ge(\"speedIndex\",G),ge(\"visuallyLoaded0\",U)),X&&(X=!1,ge(\"atfSpeedIndex\",G))}function ue(e){for(var n=e[a],t=v;n&&0<t;){if(n[g]||0===n[g])return x(n[g],U);n=n.parentElement,t-=1}}function ce(e,n){if(e){if(!e.indexOf(\"data:\"))return ue(n);var t=w[i](e)||[];if(0<t[l])return x(O(t[0].responseEnd||0),U)}}function le(e){return ce(e[d],e)||ce(e.currentSrc,e)||ce(e.src,e)}function se(e){for(var n=10,t=e.parentElement;t&&0<n;){if(t.classList&&t.classList.contains(\"a-carousel-viewport\"))return t;t=t.parentElement,n-=1}return null}function de(e,n,t){if((n||0===n)&&!e[h]){var i=e.getBoundingClientRect(),r=i.width*i.height,o=i.width/2,a=Q++;if(0!=r&&!(o<i.right-t.w||i.right<o)){for(var f={e:e,lt:n,a:r,id:a},u=L((i.top+t.y)/y),c=O((i.top+t.y+i.height)/y),l=u;l<=c;l++)l in A||(A[l]={elems:[],lt:0}),A[l].elems.push(f);e[h]=a}}}function ge(e,n){k(\"mark\",e,T+O((z[e]=n)||0))}function he(e){q||(Z(\"browserQuite\"+e),B(\"getBuffers\",ne),q=1)}T&&N&&w[i]?(Z(e+\"Yes\"),B(\"registerListener\",function(){J&&(clearTimeout(D),D=S(he.bind(n,\"Mut\"),2500))}),f.once(\"$unload\",function(){j=1,he(\"Ud\")}),f.once(\"$load\",function(){J=1,c=I()-T,D=S(he.bind(n,\"Ld\"),2500)}),f.once(\"$timing:functional\",he.bind(n,\"Fn\")),B(\"replayModuleIsLive\"),f.register(\"SpeedIndex\",{getMarkers:function(e){e&&e(JSON.parse(JSON.stringify(z)))}})):Z(e+\"No\")});csa.plugin(function(e){var m=!!e.config[\"LCP.elementDedup\"],t=!1,n=e(\"PageTiming\"),r=e.global.PerformanceObserver,a=e.global.performance;function i(){return a.timing.navigationStart}function o(){t||function(o){var l=new r(function(e){var t=e.getEntries();if(0!==t.length){var n=t[t.length-1];if(m&&\"\"!==n.id&&n.element&&\"IMG\"===n.element.tagName){for(var r={},a=t[0],i=0;i<t.length;i++)t[i].id in r||(\"\"!==t[i].id&&(r[t[i].id]=!0),a.startTime<t[i].startTime&&(a=t[i]));n=a}l.disconnect(),o({startTime:n.startTime,renderTime:n.renderTime,loadTime:n.loadTime})}});try{l.observe({type:\"largest-contentful-paint\",buffered:!0})}catch(e){}}(function(e){e&&(t=!0,n(\"mark\",\"largestContentfulPaint\",Math.floor(e.startTime+i())),e.renderTime&&n(\"mark\",\"largestContentfulPaint.render\",Math.floor(e.renderTime+i())),e.loadTime&&n(\"mark\",\"largestContentfulPaint.load\",Math.floor(e.loadTime+i())))})}r&&a&&a.timing&&(e.once(\"$unload\",o),e.once(\"$load\",o),e.register(\"LargestContentfulPaint\",{}))});csa.plugin(function(r){var e=r(\"Metrics\",{producerId:\"csa\"}),n=r.global.PerformanceObserver;n&&(n=new n(function(r){var t=r.getEntries();if(0===t.length||!t[0].processingStart||!t[0].startTime)return;!function(r){r=r||0,n.disconnect(),0<=r?e(\"recordMetric\",\"firstInputDelay\",r):e(\"recordMetric\",\"firstInputDelay.invalid\",1)}(t[0].processingStart-t[0].startTime)}),function(){try{n.observe({type:\"first-input\",buffered:!0})}catch(r){}}())});csa.plugin(function(d){var e=\"Metrics\",g=0;function r(i){var c,t,e=i.producerId,r=i.logger,s=r||d(\"Events\",{producerId:e}),o=(i||{}).dimensions||{},u={},n=-1;if(!e&&!r)return d.error(\"Either a producer id or custom logger must be defined\");function a(){n!==g&&(c=d.UUID(),t=d.UUID(),u={},n=g)}this.recordMetric=function(r,n){var e=i.logOptions||{ent:{page:[\"pageType\",\"subPageType\",\"requestId\"]}};e.debugMetric=i.debugMetric,a(),s(\"log\",{messageId:c,schemaId:i.schemaId||\"<ns>.Metric.3\",metrics:{},dimensions:o,__merge:function(e){e.metrics[r]=n}},e)},this.recordCounter=function(r,e){var n=i.logOptions||{ent:{page:[\"pageType\",\"subPageType\",\"requestId\"]}};if(\"string\"!=typeof r||\"number\"!=typeof e||!isFinite(e))return d.error(\"Invalid type given for counter name or counter value: \"+r+\"/\"+e);a(),r in u||(u[r]={});var c=u[r];\"f\"in c||(c.f=e),c.c=(c.c||0)+1,c.s=(c.s||0)+e,c.l=e,s(\"log\",{messageId:t,schemaId:i.schemaId||\"<ns>.InternalCounters.2\",c:{},__merge:function(e){r in e.c||(e.c[r]={}),c.fs||(c.fs=1,e.c[r].f=c.f),1<c.c&&(e.c[r].s=c.s,e.c[r].l=c.l,e.c[r].c=c.c)}},n)}}d.config[\"KillSwitch.\"+e]||(new r({producerId:\"csa\"}).recordMetric(\"baselineMetricEvent\",1),d.on(\"$beforePageTransition\",function(){g++}),d.register(e,{instance:function(e){return new r(e||{})}}))});csa.plugin(function(t){var a,r=(t.global.performance||{}).timing,s=(r||{}).navigationStart||t.time();function e(){a=t.UUID()}function n(i){var r=(i=i||{}).producerId,e=i.logger,o=e||t(\"Events\",{producerId:r});if(!r&&!e)return t.error(\"Either a producer id or custom logger must be defined\");this.mark=function(e,r){var n=(void 0===r?t.time():r)-s;o(\"log\",{messageId:a,schemaId:i.schemaId||\"<ns>.Timer.1\",markers:{},__merge:function(r){r.markers[e]=n}},i.logOptions)}}r&&(e(),t.on(\"$beforePageTransition\",e),t.register(\"Timers\",{instance:function(r){return new n(r||{})}}))});csa.plugin(function(t){var e=\"takeRecords\",i=\"disconnect\",n=\"function\",o=t(\"Metrics\",{producerId:\"csa\"}),c=t(\"PageTiming\"),a=t.global,u=t.timeout,r=t.on,f=a.PerformanceObserver,m=0,l=!1,s=0,d=a.performance,h=a.document,v=null,y=!1,g=t.blank;function p(){l||(l=!0,clearTimeout(v),typeof f[e]===n&&f[e](),typeof f[i]===n&&f[i](),o(\"recordMetric\",\"documentCumulativeLayoutShift\",m),c(\"mark\",\"cumulativeLayoutShiftLastTimestamp\",Math.floor(s+d.timing.navigationStart)))}f&&d&&d.timing&&h&&(f=new f(function(t){v&&clearTimeout(v);t.getEntries().forEach(function(t){t.hadRecentInput||(m+=t.value,s<t.startTime&&(s=t.startTime))}),v=u(p,5e3)}),function(){try{f.observe({type:\"layout-shift\",buffered:!0}),v=u(p,5e3)}catch(t){}}(),g=r(h,\"click\",function(t){y||(y=!0,o(\"recordMetric\",\"documentCumulativeLayoutShiftToFirstInput\",m),g())}),r(h,\"visibilitychange\",function(){\"hidden\"===h.visibilityState&&p()}),t.once(\"$unload\",p))});csa.plugin(function(e){var t,n=e.global,r=n.PerformanceObserver,c=e(\"Metrics\",{producerId:\"csa\"}),o=0,i=0,a=-1,l=n.Math,f=l.max,u=l.ceil;if(r){t=new r(function(e){e.getEntries().forEach(function(e){var t=e.duration;o+=t,i+=t,a=f(t,a)})});try{t.observe({type:\"longtask\",buffered:!0})}catch(e){}t=new r(function(e){0<e.getEntries().length&&(i=0,a=-1)});try{t.observe({type:\"largest-contentful-paint\",buffered:!0})}catch(e){}e.on(\"$unload\",g),e.on(\"$beforePageTransition\",g)}function g(){c(\"recordMetric\",\"totalBlockingTime\",u(i||0)),c(\"recordMetric\",\"totalBlockingTimeInclLCP\",u(o||0)),c(\"recordMetric\",\"maxBlockingTime\",u(a||0)),i=o=0,a=-1}});csa.plugin(function(r){var e=\"CacheDetection\",o=\"csa-ctoken-\",n=r.store,t=r.deleteStored,c=r.config,a=c[e+\".RequestID\"],i=c[e+\".Callback\"],s=r.global,u=s.document||{},d=s.Date,f=r(\"Events\"),l=r(\"Events\",{producerId:\"csa\"});function p(e){try{var n=u.cookie.match(RegExp(\"(^| )\"+e+\"=([^;]+)\"));return n&&n[2].trim()}catch(e){}}!function(){var e=function(){var e=p(\"cdn-rid\");if(e)return{r:e,s:\"cdn\"}}()||function(){if(r.store(o+a))return{r:r.UUID().toUpperCase().replace(/-/g,\"\").slice(0,20),s:\"device\"}}()||{},n=e.r,c=e.s;if(!!n){var t=p(\"session-id\");!function(e,n,c,t){f(\"setEntity\",{page:{pageSource:\"cache\",requestId:e,cacheRequestId:a,cacheSource:t},session:{id:c}})}(n,0,t,c),\"device\"===c&&l(\"log\",{schemaId:\"<ns>.CacheImpression.1\"},{ent:\"all\"}),i&&i(n,t,c)}}(),n(o+a,d.now()+36e5),r.once(\"$load\",function(){var c=d.now();t(function(e,n){return 0==e.indexOf(o)&&parseInt(n)<c})})});csa.plugin(function(u){var i,t=\"Content\",e=\"MutationObserver\",n=\"addedNodes\",a=\"querySelectorAll\",f=\"matches\",o=\"getAttributeNames\",r=\"getAttribute\",s=\"dataset\",c=\"widget\",l=\"producerId\",d=\"slotId\",h=\"iSlotId\",g={ent:{element:1,page:[\"pageType\",\"subPageType\",\"requestId\"]}},p=5,m=u.config[t+\".BubbleUp.SearchDepth\"]||20,y=u.config[t+\".SearchPage\"]||0,v=\"csaC\",b=v+\"Id\",E=\"logRender\",w={},I=u.config,O=I[t+\".Selectors\"]||[],C=I[t+\".WhitelistedAttributes\"]||{href:1,class:1},N=I[t+\".EnableContentEntities\"],S=I[\"KillSwitch.ContentRendered\"],k=u.global,A=k.document||{},U=A.documentElement,L=k.HTMLElement,R={},_=[],j=function(t,e,n,i){var r=this,o=u(\"Events\",{producerId:t||\"csa\"});e.type=e.type||c,r.id=e.id,r.l=o,r.e=e,r.el=n,r.rt=i,r.dlo=g,r.op=W(n,\"csaOp\"),r.log=function(t,e){o(\"log\",t,e||g)},e.id&&o(\"setEntity\",{element:e})},x=j.prototype;function D(t){var e=(t=t||{}).element,n=t.target;return e?function(t,e){var n;n=t instanceof L?K(t)||Y(e[l],t,z,u.time()):R[t.id]||H(e[l],0,t,u.time());return n}(e,t):n?M(n):u.error(\"No element or target argument provided.\")}function M(t){var e=function(t){var e=null,n=0;for(;t&&n<m;){if(n++,P(t,b)){e=t;break}t=t.parentElement}return e}(t);return e?K(e):new j(\"csa\",{id:null},null,u.time())}function P(t,e){if(t&&t.dataset)return t.dataset[e]}function T(t,e,n){_.push({n:n,e:t,t:e}),B()}function q(){for(var t=u.time(),e=0;0<_.length;){var n=_.shift();if(w[n.n](n.e,n.t),++e%10==0&&u.time()-t>p)break}i=0,_.length&&B()}function B(){i=i||u.raf(q)}function X(t,e,n){return{n:t,e:e,t:n}}function Y(t,e,n,i){var r=u.UUID(),o={id:r},c=M(e);return e[s][b]=r,n(o,e),c&&c.id&&(o.parentId=c.id),H(t,e,o,i)}function $(t){return isNaN(t)?null:Math.round(t)}function H(t,e,n,i){N&&(n.schemaId=\"<ns>.ContentEntity.2\"),n.id=n.id||u.UUID();var r=new j(t,n,e,i);return function(t){return!S&&((t.op||{}).hasOwnProperty(E)||y)}(r)&&function(t,e){var n={},i=u.exec($);t.el&&(n=t.el.getBoundingClientRect()),t.log({schemaId:\"<ns>.ContentRender.2\",timestamp:e,width:i(n.width),height:i(n.height),positionX:i(n.left+k.pageXOffset),positionY:i(n.top+k.pageYOffset)})}(r,i),u.emit(\"$content.register\",r),R[n.id]=r}function K(t){return R[(t[s]||{})[b]]}function W(n,i){var r={};return o in(n=n||{})&&Object.keys(n[s]).forEach(function(t){if(!t.indexOf(i)&&i.length<t.length){var e=function(t){return(t[0]||\"\").toLowerCase()+t.slice(1)}(t.slice(i.length));r[e]=n[s][t]}}),r}function z(t,e){o in e&&(function(t,e){var n=W(t,v);Object.keys(n).forEach(function(t){e[t]=n[t]})}(e,t),d in t&&(t[h]=t[d]),function(e,n){(e[o]()||[]).forEach(function(t){t in C&&(n[t]=e[r](t))})}(e,t))}U&&A[a]&&k[e]&&(O.push({selector:\"*[data-csa-c-type]\",entity:z}),O.push({selector:\".celwidget\",entity:function(t,e){z(t,e),t[d]=t[d]||e[r](\"cel_widget_id\")||e.id,t.legacyId=e[r](\"cel_widget_id\")||e.id,t.type=t.type||c}}),w[1]=function(t,e){t.forEach(function(t){t[n]&&t[n].constructor&&\"NodeList\"===t[n].constructor.name&&Array.prototype.forEach.call(t[n],function(t){_.unshift(X(2,t,e))})})},w[2]=function(o,c){a in o&&f in o&&O.forEach(function(t){for(var e=t.selector,n=o[f](e),i=o[a](e),r=i.length-1;0<=r;r--)_.unshift(X(3,{e:i[r],s:t},c));n&&_.unshift(X(3,{e:o,s:t},c))})},w[3]=function(t,e){var n=t.e;K(n)||Y(\"csa\",n,t.s.entity,e)},w[4]=function(){u.register(t,{instance:D})},new k[e](function(t){T(t,u.time(),1)}).observe(U,{childList:!0,subtree:!0}),T(U,u.time(),2),T(null,u.time(),4),u.on(\"$content.export\",function(e){Object.keys(e).forEach(function(t){x[t]=e[t]})}))});csa.plugin(function(o){var i,t=\"ContentImpressions\",e=\"KillSwitch.\",n=\"IntersectionObserver\",r=\"getAttribute\",s=\"dataset\",c=\"intersectionRatio\",a=\"csaCId\",m=1e3,l=o.global,f=o.config,u=f[e+t],v=f[e+t+\".ContentViews\"],g=((l.performance||{}).timing||{}).navigationStart||o.time(),d={};function h(t){t&&(t.v=1,function(t){t.vt=o.time(),t.el.log({schemaId:\"<ns>.ContentView.3\",timeToViewed:t.vt-t.el.rt,pageFirstPaintToElementViewed:t.vt-g})}(t))}function I(t){t&&!t.it&&(t.i=o.time()-t.is>m,function(t){t.it=o.time(),t.el.log({schemaId:\"<ns>.ContentImpressed.2\",timeToImpressed:t.it-t.el.rt,pageFirstPaintToElementImpressed:t.it-g})}(t))}!u&&l[n]&&(i=new l[n](function(t){var n=o.time();t.forEach(function(t){var e=function(t){if(t&&t[r])return d[t[s][a]]}(t.target);if(e){o.emit(\"$content.intersection\",{meta:e.el,t:n,e:t});var i=t.intersectionRect;t.isIntersecting&&0<i.width&&0<i.height&&(v||e.v||h(e),.5<=t[c]&&!e.is&&(e.is=n,e.timer=o.timeout(function(){I(e)},m))),t[c]<.5&&!e.it&&e.timer&&(l.clearTimeout(e.timer),e.is=0,e.timer=0)}})},{threshold:[0,.5,.99]}),o.on(\"$content.register\",function(t){var e=t.el;e&&(d[t.id]={el:t,v:0,i:0,is:0,vt:0,it:0},i.observe(e))}))});csa.plugin(function(e){e.config[\"KillSwitch.ContentLatency\"]||e.emit(\"$content.export\",{mark:function(t,n){var o=this;o.t||(o.t=e(\"Timers\",{logger:o.l,schemaId:\"<ns>.ContentLatency.1\",logOptions:o.dlo})),o.t(\"mark\",t,n)}})});csa.plugin(function(t){function n(i,e,o){var c={};function r(t,n,e){t in c&&o<=n-c[t].s&&(function(n,e,i){if(!p)return;S(function(t){T(n,t),t.w[n][e]=a((t.w[n][e]||0)+i)})}(t,i,n-c[t].d),c[t].d=n),e||delete c[t]}this.update=function(t,n){n.isIntersecting&&e<=n.intersectionRatio?function(t,n){t in c||(c[t]={s:n,d:n})}(t,u()):r(t,u())},this.stopAll=function(t){var n=u();for(var e in c)r(e,n,t)},this.reset=function(){var t=u();for(var n in c)c[n].s=t,c[n].d=t}}var e=t.config,u=t.time,i=\"ContentInteractionsSummary\",o=e[i+\".FlushInterval\"]||5e3,c=e[i+\".FlushBackoff\"]||1.5,r=t.global,s=t.on,a=Math.floor,f=(r.document||{}).documentElement||{},l=((r.performance||{}).timing||{}).responseStart||t.time(),d=o,m=0,p=!0,v=t.UUID(),g=t(\"Events\",{producerId:\"csa\"}),I=new n(\"it0\",0,0),w=new n(\"it50\",.5,1e3),h=new n(\"it100\",.99,0),A={},b={};function $(){I.stopAll(!0),w.stopAll(!0),h.stopAll(!0),U()}function C(){I.reset(),w.reset(),h.reset(),U()}function U(){d&&(clearTimeout(m),m=t.timeout($,d),d*=c)}function E(n){S(function(t){T(n,t),t.w[n].mc=(t.w[n].mc||0)+1})}function S(t){g(\"log\",{messageId:v,schemaId:\"<ns>.ContentInteractionsSummary.1\",w:{},__merge:t},{ent:{page:[\"requestId\"]}})}function T(t,n){t in n.w||(n.w[t]={})}s(\"$content.intersection\",function(t){if(t&&t.meta&&t.e){var n=t.meta.id;if(n in A){var e=t.e.boundingClientRect||{};e.width<5||e.height<5||(I.update(n,t.e),w.update(n,t.e),h.update(n,t.e),!t.e.isIntersecting||n in b||(b[n]=1,function(n,e){S(function(t){T(n,t),t.w[n].ttfv=a(e)})}(n,u()-l)))}}}),s(\"$content.register\",function(t){(t.e||{}).slotId&&(A[t.id]={},function(e){S(function(t){var n=e.id;T(n,t),t.w[n].sid=(e.e||{}).slotId,t.w[n].cid=(e.e||{}).contentId})}(t))}),s(\"$beforePageTransition\",function(){$(),C(),v=t.UUID(),U()}),s(\"$beforeunload\",function(){I.stopAll(),w.stopAll(),h.stopAll(),d=null}),s(\"$visible\",function(t){t?C():($(),clearTimeout(m)),p=t},{buffered:1}),s(f,\"click\",function(t){for(var n=t.target,e=25;n&&0<e;){var i=(n.dataset||{}).csaCId;i&&E(i),n=n.parentElement,e-=1}},{capture:!0,passive:!0}),U()});csa.plugin(function(o){var t,n,i=\"normal\",s=\"reload\",e=\"history\",d=\"new-tab\",a=\"ajax\",r=1,c=2,u=\"lastActive\",l=\"lastInteraction\",f=\"used\",p=\"csa-tabbed-browsing\",g=\"visibilityState\",v={\"back-memory-cache\":1,\"tab-switch\":1,\"history-navigation-page-cache\":1},b=\"<ns>.TabbedBrowsing.2\",m=\"visible\",y=o.global,I=o(\"Events\",{producerId:\"csa\"}),h=y.location||{},T=y.document,w=y.JSON,z=((y.performance||{}).navigation||{}).type,P=o.store,S=o.on,k=o.storageSupport(),x=!1,A={},C={},O={},$={},j=!1,q=!1,B=!1;function E(i){try{return w.parse(P(p,void 0,{session:i})||\"{}\")||{}}catch(i){o.error(\\'Could not parse storage value for key \"\\'+p+\\'\": \\'+i)}return{}}function J(i,t){P(p,w.stringify(t||{}),{session:i})}function N(i){var t=C.tid||i.id,n=A[u]||{};n.tid===t&&(n.pid=i.id),$={pid:i.id,tid:t,lastInteraction:C[l]||{},initialized:!0},O={lastActive:n,lastInteraction:A[l]||{},time:o.time()}}function D(i){var t=i===d,n=T.referrer,e=!(n&&n.length)||!~n.indexOf(h.origin||\"\"),a=t&&e,r={type:i,toTabId:$.tid,toPageId:$.pid,transitTime:o.time()-A.time||null};a||function(i,t,n){var e=i===s,a=t?A[u]||{}:C,r=A[l]||{},o=C[l]||{},d=t?r:o;n.fromTabId=a.tid,n.fromPageId=a.pid,e||!d.id||d[f]||(n.interactionId=d.id||null,r.id===d.id&&(r[f]=!0),o.id===d.id&&(o[f]=!0))}(i,t,r),I(\"log\",{navigation:r,schemaId:b},{ent:{page:[\"pageType\",\"subPageType\",\"requestId\"]}})}function F(i){B=function(i){return i&&i in v}(i.transitionType),function(){A=E(!1),C=E(!0);var i=A[l],t=C[l],n=!1,e=!1;i&&t&&i.id===t.id&&i[f]!==t[f]&&(n=!i[f],e=!t[f],t[f]=i[f]=!0,n&&J(!1,A),e&&J(!0,C))}(),N(i),j=!0,function(i){var t,n;t=H(),n=K(),(t||n)&&N(i)}(i)}function G(){x&&!B?D(a):(x=!0,D(z===c||B?e:z===r?C.initialized?s:d:C.initialized?i:d))}function H(){return!(!j||!t)&&(C[l]={id:t.messageId,used:!(A[l]={id:t.messageId,used:!1})},!(t=null))}function K(){var i=!1;if(q=T[g]===m,j){var t=A[u]||{};i=function(i,t,n){var e=!1,a=i[u];return q?a&&a.tid===$.tid&&a[m]&&a.pid===n||(i[u]={visible:!0,pid:n,tid:t},e=!0):a&&a.tid===$.tid&&a[m]&&(e=!(a[m]=!1)),e}(A,C.tid||t.tid||$.tid,C.pid||t.pid||$.pid)}return i}k.local&&k.session&&w&&T&&g in T&&(n=function(){try{return y.self!==y.top}catch(i){return!0}}(),S(\"$pageChange\",function(i){n||(F(i),G(),J(!1,O),J(!0,$),C=$,A=O)},{buffered:1}),S(\"$content.interaction\",function(i){t=i,H()&&(J(!1,A),J(!0,C))}),S(T,\"visibilitychange\",function(){!n&&K()&&J(!1,A)},{capture:!1,passive:!0}))});csa.plugin(function(c){var e=c(\"Metrics\",{producerId:\"csa\"});c.on(c.global,\"pageshow\",function(c){c&&c.persisted&&e(\"recordMetric\",\"bfCache\",1)})});csa.plugin(function(n){var e,t,i,o,r,a,c,u,f,s,l,d,m,p,g,v,h=\"hasFocus\",b=\"$app.\",y=\"avail\",S=\"client\",T=\"document\",$=\"inner\",I=\"offset\",P=\"screen\",w=\"scroll\",D=\"Width\",E=\"Height\",F=y+D,O=y+E,q=S+D,x=S+E,z=$+D,C=$+E,H=I+D,K=I+E,M=w+D,W=w+E,X=n.config[\"KillSwitch.PageInteractionsSummary\"],Y=n(\"Events\",{producerId:\"csa\"}),j=1,k=n.global||{},A=n.time,B=n.on,G=n.once,J=k[T]||{},L=k[P]||{},N=k.Math||{},Q=N.abs,R=N.max,U=N.ceil,V=((k.performance||{}).timing||{}).responseStart,Z=function(){return J[h]()},_=1,nn=100,en={},tn=1;function on(){c=t=o=r=e,i=0,a=u=f=s=0,cn(),an()}function rn(){V&&!o&&(c=U((o=l)-V),tn=1)}function an(){u=U(R(u,m+v)),d&&(f=U(R(f,d+g))),tn=1}function cn(){l=A(),d=Q(k.pageXOffset||0),m=Q(k.pageYOffset||0),p=0<d||0<m,g=k[z]||0,v=k[C]||0}function un(){cn(),rn(),function(){var n=m-i;t&&!(t&&t<=l)||(n&&(++a,tn=1),i=m,n),t=l+nn}(),an()}function fn(){if(r){var n=U(A()-r);s+=n,r=e,tn=0<n}}function sn(){r=r||A()}function ln(n,e,t,i){e[n+D]=U(t||0),e[n+E]=U(i||0)}function dn(n){var e=n===en,t=Z();if(t||tn){if(!e){if(!j)return;j=0,t&&fn()}var i=function(){var n={},e=J.documentElement||{},t=J.body||{};return ln(\"availableScreen\",n,L[F],L[O]),ln(T,n,R(t[M]||0,t[H]||0,e[q]||0,e[M]||0,e[H]||0),R(t[W]||0,t[K]||0,e[x]||0,e[W]||0,e[K]||0)),ln(P,n,L.width,L.height),ln(\"viewport\",n,k[z],k[C]),n}(),o=function(){var n={scrollCounts:a,reachedDepth:u,horizontalScrollDistance:f,dwellTime:s};return\"number\"==typeof c&&(n.clientTimeToFirstScroll=c),n}();e?tn=0:(on(),V=A(),t&&(r=V)),Y(\"log\",{activity:o,dimensions:i,schemaId:\"<ns>.PageInteractionsSummary.1\"},{ent:{page:[\"pageType\",\"subPageType\",\"requestId\"]}})}}function mn(){fn(),dn(en)}function pn(n,e){return function(){_=e,n()}}function gn(){Z=function(){return _},_&&!r&&(r=A())}\"function\"!=typeof J[h]||X||(on(),p&&rn(),B(k,w,un,{passive:!0}),B(k,\"blur\",mn),B(k,\"focus\",pn(sn,1)),G(b+\"android\",gn),G(b+\"ios\",gn),B(b+\"pause\",pn(mn,0)),B(b+\"resume\",pn(sn,1)),B(b+\"resign\",pn(mn,0)),B(b+\"active\",pn(sn,1)),Z()&&(r=V||A()),G(\"$beforeunload\",dn),B(\"$beforeunload\",dn),B(\"$document.hidden\",mn),B(\"$beforePageTransition\",dn),B(\"$afterPageTransition\",function(){tn=j=1}))});csa.plugin(function(e){var o,n,r=\"<ns>.Navigator.4\",a=e.global,i=a.navigator||{},d=i.connection||{},c=a.Math.round,t=e(\"Events\",{producerId:\"csa\"});function l(){o={network:{downlink:void 0,downlinkMax:void 0,rtt:void 0,type:void 0,effectiveType:void 0,saveData:void 0},language:void 0,doNotTrack:void 0,hardwareConcurrency:void 0,deviceMemory:void 0,cookieEnabled:void 0,webdriver:void 0},v(),o.language=i.language||null,o.doNotTrack=function(){switch(i.doNotTrack){case\"1\":return\"enabled\";case\"0\":return\"disabled\";case\"unspecified\":return i.doNotTrack;default:return null}}(),o.hardwareConcurrency=\"hardwareConcurrency\"in i?c(i.hardwareConcurrency||0):null,o.deviceMemory=\"deviceMemory\"in i?c(i.deviceMemory||0):null,o.cookieEnabled=\"cookieEnabled\"in i?i.cookieEnabled:null,o.webdriver=\"webdriver\"in i?i.webdriver:null}function u(){t(\"log\",{network:(n={},Object.keys(o.network).forEach(function(e){n[e]=o.network[e]+\"\"}),n),language:o.language,doNotTrack:o.doNotTrack,hardwareConcurrency:o.hardwareConcurrency,deviceMemory:o.deviceMemory,cookieEnabled:o.cookieEnabled,webdriver:o.webdriver,schemaId:r},{ent:{page:[\"pageType\",\"subPageType\",\"requestId\"]}})}function v(){!function(n){Object.keys(o.network).forEach(function(e){o.network[e]=n[e]})}({downlink:\"downlink\"in d?c(d.downlink||0):null,downlinkMax:\"downlinkMax\"in d?c(d.downlinkMax||0):null,rtt:\"rtt\"in d?(d.rtt||0).toFixed():null,type:d.type||null,effectiveType:d.effectiveType||null,saveData:\"saveData\"in d?d.saveData:null})}function k(){v(),u()}function w(){l(),u()}l(),u(),e.on(\"$afterPageTransition\",w),e.on(d,\"change\",k)});\\nif (window.ue && window.ue.uels) {\\n    ue.uels(\"https://c.amazon-adsystem.com/bao-csm/forensics/a9-tq-forensics.min.js\");\\n}\\n\\n\\n}\\n/* \\xe2\\x97\\xac */\\n</script>\\n\\n</div>\\n\\n<noscript>\\n    <img height=\"1\" width=\"1\" style=\\'display:none;visibility:hidden;\\' src=\\'//fls-eu.amazon.com/1/batch/1/OP/A21TJRUUN4KGV:262-2745510-6589301:JY000YRQ4KCF8VZPC4PG$uedata=s:%2Fap%2Fuedata%3Fnoscript%26id%3DJY000YRQ4KCF8VZPC4PG:0\\' alt=\"\"/>\\n</noscript>\\n\\n<script>window.ue && ue.count && ue.count(\\'CSMLibrarySize\\', 47048)</script></body>\\n</html>\\n'"
      ]
     },
     "execution_count": 28,
     "metadata": {},
     "output_type": "execute_result"
    }
   ],
   "source": [
    "page.content"
   ]
  },
  {
   "cell_type": "code",
   "execution_count": 29,
   "id": "f85218ec",
   "metadata": {},
   "outputs": [],
   "source": [
    "soup1=bs(page.content,'html.parser')"
   ]
  },
  {
   "cell_type": "code",
   "execution_count": 30,
   "id": "a4a87030",
   "metadata": {},
   "outputs": [
    {
     "data": {
      "text/plain": [
       "\n",
       "<!DOCTYPE html>\n",
       "<html class=\"a-no-js\" data-19ax5a9jf=\"dingo\">\n",
       "<head>\n",
       "<script type=\"text/javascript\">var ue_t0=ue_t0||+new Date();</script>\n",
       "<script type=\"text/javascript\">\n",
       "window.ue_ihb = (window.ue_ihb || window.ueinit || 0) + 1;\n",
       "if (window.ue_ihb === 1) {\n",
       "\n",
       "var ue_csm = window,\n",
       "    ue_hob = +new Date();\n",
       "(function(d){var e=d.ue=d.ue||{},f=Date.now||function(){return+new Date};e.d=function(b){return f()-(b?0:d.ue_t0)};e.stub=function(b,a){if(!b[a]){var c=[];b[a]=function(){c.push([c.slice.call(arguments),e.d(),d.ue_id])};b[a].replay=function(b){for(var a;a=c.shift();)b(a[0],a[1],a[2])};b[a].isStub=1}};e.exec=function(b,a){return function(){try{return b.apply(this,arguments)}catch(c){ueLogError(c,{attribution:a||\"undefined\",logLevel:\"WARN\"})}}}})(ue_csm);\n",
       "\n",
       "\n",
       "    var ue_err_chan = 'jserr-rw';\n",
       "(function(d,e){function h(f,b){if(!(a.ec>a.mxe)&&f){a.ter.push(f);b=b||{};var c=f.logLevel||b.logLevel;c&&c!==k&&c!==m&&c!==n&&c!==p||a.ec++;c&&c!=k||a.ecf++;b.pageURL=\"\"+(e.location?e.location.href:\"\");b.logLevel=c;b.attribution=f.attribution||b.attribution;a.erl.push({ex:f,info:b})}}function l(a,b,c,e,g){d.ueLogError({m:a,f:b,l:c,c:\"\"+e,err:g,fromOnError:1,args:arguments},g?{attribution:g.attribution,logLevel:g.logLevel}:void 0);return!1}var k=\"FATAL\",m=\"ERROR\",n=\"WARN\",p=\"DOWNGRADED\",a={ec:0,ecf:0,\n",
       "pec:0,ts:0,erl:[],ter:[],buffer:[],mxe:50,startTimer:function(){a.ts++;setInterval(function(){d.ue&&a.pec<a.ec&&d.uex(\"at\");a.pec=a.ec},1E4)}};l.skipTrace=1;h.skipTrace=1;h.isStub=1;d.ueLogError=h;d.ue_err=a;e.onerror=l})(ue_csm,window);\n",
       "\n",
       "\n",
       "var ue_id = 'JY000YRQ4KCF8VZPC4PG',\n",
       "    ue_url = '/ap/uedata',\n",
       "    ue_navtiming = 1,\n",
       "    ue_mid = 'A21TJRUUN4KGV',\n",
       "    ue_sid = '262-2745510-6589301',\n",
       "    ue_sn = 'www.amazon.in',\n",
       "    ue_furl = 'fls-eu.amazon.com',\n",
       "    ue_surl = 'https://unagi-eu.amazon.com/1/events/com.amazon.csm.nexusclient.prod',\n",
       "    ue_int = 0,\n",
       "    ue_fcsn = 1,\n",
       "    ue_urt = 3,\n",
       "    ue_rpl_ns = 'cel-rpl',\n",
       "    ue_ddq = 1,\n",
       "    ue_fpf = '//fls-eu.amazon.com/1/batch/1/OP/A21TJRUUN4KGV:262-2745510-6589301:JY000YRQ4KCF8VZPC4PG$uedata=s:',\n",
       "    ue_sbuimp = 1,\n",
       "    ue_ibft = 0,\n",
       "    ue_fnt = 0,\n",
       "\n",
       "    ue_swi = 1;\n",
       "var ue_viz=function(){(function(b,e,a){function k(c){if(b.ue.viz.length<p&&!l){var a=c.type;c=c.originalEvent;/^focus./.test(a)&&c&&(c.toElement||c.fromElement||c.relatedTarget)||(a=e[m]||(\"blur\"==a||\"focusout\"==a?\"hidden\":\"visible\"),b.ue.viz.push(a+\":\"+(+new Date-b.ue.t0)),\"visible\"==a&&(b.ue.isl&&q(\"at\"),l=1))}}for(var l=0,q=b.uex,f,g,m,n=[\"\",\"webkit\",\"o\",\"ms\",\"moz\"],d=0,p=20,h=0;h<n.length&&!d;h++)if(a=n[h],f=(a?a+\"H\":\"h\")+\"idden\",d=\"boolean\"==typeof e[f])g=a+\"visibilitychange\",m=(a?a+\"V\":\"v\")+\n",
       "\"isibilityState\";k({});d&&e.addEventListener(g,k,0);b.ue&&d&&(b.ue.pageViz={event:g,propHid:f})})(ue_csm,ue_csm.document,ue_csm.window)};\n",
       "\n",
       "(function(d,h,N){function H(a){return a&&a.replace&&a.replace(/^\\s+|\\s+$/g,\"\")}function u(a){return\"undefined\"===typeof a}function B(a,b){for(var c in b)b[v](c)&&(a[c]=b[c])}function I(a){try{var b=N.cookie.match(RegExp(\"(^| )\"+a+\"=([^;]+)\"));if(b)return b[2].trim()}catch(c){}}function O(k,b,c){var q=(x||{}).type;if(\"device\"!==c||2!==q&&1!==q)k&&(d.ue_id=a.id=a.rid=k,w&&(w=w.replace(/((.*?:){2})(\\w+)/,function(a,b){return b+k})),D&&(e(\"id\",D,k),D=0)),b&&(w&&(w=w.replace(/(.*?:)(\\w|-)+/,function(a,\n",
       "c){return c+b})),d.ue_sid=b),c&&a.tag(\"page-source:\"+c),d.ue_fpf=w}function P(){var a={};return function(b){b&&(a[b]=1);b=[];for(var c in a)a[v](c)&&b.push(c);return b}}function y(d,b,c,q){q=q||+new E;var f,m;if(b||u(c)){if(d)for(m in f=b?e(\"t\",b)||e(\"t\",b,{}):a.t,f[d]=q,c)c[v](m)&&e(m,b,c[m]);return q}}function e(d,b,c){var e=b&&b!=a.id?a.sc[b]:a;e||(e=a.sc[b]={});\"id\"===d&&c&&(Q=1);return e[d]=c||e[d]}function R(d,b,c,e,f){c=\"on\"+c;var m=b[c];\"function\"===typeof m?d&&(a.h[d]=m):m=function(){};b[c]=\n",
       "function(a){f?(e(a),m(a)):(m(a),e(a))};b[c]&&(b[c].isUeh=1)}function S(k,b,c,q){function p(b,c){var d=[b],g=0,f={},m,h;c?(d.push(\"m=1\"),f[c]=1):f=a.sc;for(h in f)if(f[v](h)){var q=e(\"wb\",h),p=e(\"t\",h)||{},n=e(\"t0\",h)||a.t0,l;if(c||2==q){q=q?g++:\"\";d.push(\"sc\"+q+\"=\"+h);for(l in p)u(p[l])||null===p[l]||d.push(l+q+\"=\"+(p[l]-n));d.push(\"t\"+q+\"=\"+p[k]);if(e(\"ctb\",h)||e(\"wb\",h))m=1}}!J&&m&&d.push(\"ctb=1\");return d.join(\"&\")}function m(b,c,g,e,f){if(b){var k=d.ue_err;d.ue_url&&!e&&!f&&b&&0<b.length&&(e=\n",
       "new Image,a.iel.push(e),e.src=b,a.count&&a.count(\"postbackImageSize\",b.length));w?(f=h.encodeURIComponent)&&b&&(e=new Image,b=\"\"+d.ue_fpf+f(b)+\":\"+(+new E-d.ue_t0),a.iel.push(e),e.src=b):a.log&&(a.log(b,\"uedata\",{n:1}),a.ielf.push(b));k&&!k.ts&&k.startTimer();a.b&&(k=a.b,a.b=\"\",m(k,c,g,1))}}function A(b){var c=x?x.type:F,d=2==c||a.isBFonMshop,c=c&&!d,e=a.bfini;Q||(e&&1<e&&(b+=\"&bfform=1\",c||(a.isBFT=e-1)),d&&(b+=\"&bfnt=1\",a.isBFT=a.isBFT||1),a.ssw&&a.isBFT&&(a.isBFonMshop&&(a.isNRBF=0),u(a.isNRBF)&&\n",
       "(d=a.ssw(a.oid),d.e||u(d.val)||(a.isNRBF=1<d.val?0:1)),u(a.isNRBF)||(b+=\"&nrbf=\"+a.isNRBF)),a.isBFT&&!a.isNRBF&&(b+=\"&bft=\"+a.isBFT));return b}if(!a.paused&&(b||u(c))){for(var l in c)c[v](l)&&e(l,b,c[l]);a.isBFonMshop||y(\"pc\",b,c);l=\"ld\"===k&&b&&e(\"wb\",b);var s=e(\"id\",b)||a.id;l||s===a.oid||(D=b,ba(s,(e(\"t\",b)||{}).tc||+e(\"t0\",b),+e(\"t0\",b)));var s=e(\"id\",b)||a.id,t=e(\"id2\",b),g=a.url+\"?\"+k+\"&v=\"+a.v+\"&id=\"+s,J=e(\"ctb\",b)||e(\"wb\",b),z;J&&(g+=\"&ctb=\"+J);t&&(g+=\"&id2=\"+t);1<d.ueinit&&(g+=\"&ic=\"+d.ueinit);\n",
       "if(!(\"ld\"!=k&&\"ul\"!=k||b&&b!=s)){if(\"ld\"==k){try{h[K]&&h[K].isUeh&&(h[K]=null)}catch(I){}if(h.chrome)for(t=0;t<L.length;t++)T(G,L[t]);(t=N.ue_backdetect)&&t.ue_back&&t.ue_back.value++;d._uess&&(z=d._uess());a.isl=1}a._bf&&(g+=\"&bf=\"+a._bf());d.ue_navtiming&&f&&(e(\"ctb\",s,\"1\"),a.isBFonMshop||y(\"tc\",F,F,M));!C||a.isBFonMshop||U||(f&&B(a.t,{na_:f.navigationStart,ul_:f.unloadEventStart,_ul:f.unloadEventEnd,rd_:f.redirectStart,_rd:f.redirectEnd,fe_:f.fetchStart,lk_:f.domainLookupStart,_lk:f.domainLookupEnd,\n",
       "co_:f.connectStart,_co:f.connectEnd,sc_:f.secureConnectionStart,rq_:f.requestStart,rs_:f.responseStart,_rs:f.responseEnd,dl_:f.domLoading,di_:f.domInteractive,de_:f.domContentLoadedEventStart,_de:f.domContentLoadedEventEnd,_dc:f.domComplete,ld_:f.loadEventStart,_ld:f.loadEventEnd,ntd:(\"function\"!==typeof C.now||u(M)?0:new E(M+C.now())-new E)+a.t0}),x&&B(a.t,{ty:x.type+a.t0,rc:x.redirectCount+a.t0}),U=1);a.isBFonMshop||B(a.t,{hob:d.ue_hob,hoe:d.ue_hoe});a.ifr&&(g+=\"&ifr=1\")}y(k,b,c,q);var r,n;l||b&&\n",
       "b!==s||ca(b);(c=d.ue_mbl)&&c.cnt&&!l&&(g+=c.cnt());l?e(\"wb\",b,2):\"ld\"==k&&(a.lid=H(s));for(r in a.sc)if(1==e(\"wb\",r))break;if(l){if(a.s)return;g=p(g,null)}else c=p(g,null),c!=g&&(c=A(c),a.b=c),z&&(g+=z),g=p(g,b||a.id);g=A(g);if(a.b||l)for(r in a.sc)2==e(\"wb\",r)&&delete a.sc[r];z=0;a._rt&&(g+=\"&rt=\"+a._rt());c=h.csa;if(!l&&c)for(n in r=e(\"t\",b)||{},c=c(\"PageTiming\"),r)r[v](n)&&c(\"mark\",da[n]||n,r[n]);l||(a.s=0,(n=d.ue_err)&&0<n.ec&&n.pec<n.ec&&(n.pec=n.ec,g+=\"&ec=\"+n.ec+\"&ecf=\"+n.ecf),z=e(\"ctb\",b),\n",
       "\"ld\"!==k||b||a.markers?a.markers&&a.isl&&!l&&b&&B(a.markers,e(\"t\",b)):(a.markers={},B(a.markers,e(\"t\",b))),e(\"t\",b,{}));a.tag&&a.tag().length&&(g+=\"&csmtags=\"+a.tag().join(\"|\"),a.tag=P());n=a.viz||[];(r=n.length)&&(g+=\"&viz=\"+n.splice(0,r).join(\"|\"));u(d.ue_pty)||(g+=\"&pty=\"+d.ue_pty+\"&spty=\"+d.ue_spty+\"&pti=\"+d.ue_pti);a.tabid&&(g+=\"&tid=\"+a.tabid);a.aftb&&(g+=\"&aftb=1\");!a._ui||b&&b!=s||(g+=a._ui());a.a=g;m(g,k,z,l,b&&\"string\"===typeof b&&-1!==b.indexOf(\"csa:\"))}}function ca(a){var b=h.ue_csm_markers||\n",
       "{},c;for(c in b)b[v](c)&&y(c,a,F,b[c])}function A(a,b,c){c=c||h;if(c[V])c[V](a,b,!1);else if(c[W])c[W](\"on\"+a,b)}function T(a,b,c){c=c||h;if(c[X])c[X](a,b,!1);else if(c[Y])c[Y](\"on\"+a,b)}function Z(){function a(){d.onUl()}function b(a){return function(){c[a]||(c[a]=1,S(a))}}var c={},e,f;d.onLd=b(\"ld\");d.onLdEnd=b(\"ld\");d.onUl=b(\"ul\");e={stop:b(\"os\")};h.chrome?(A(G,a),L.push(a)):e[G]=d.onUl;for(f in e)e[v](f)&&R(0,h,f,e[f]);d.ue_viz&&ue_viz();A(\"load\",d.onLd);y(\"ue\")}function ba(e,b,c){var f=d.ue_mbl,\n",
       "p=h.csa,m=p&&p(\"SPA\"),p=p&&p(\"PageTiming\");f&&f.ajax&&f.ajax(b,c);m&&p&&(m(\"newPage\",{requestId:e,transitionType:\"soft\"}),p(\"mark\",\"transitionStart\",b));a.tag(\"ajax-transition\")}d.ueinit=(d.ueinit||0)+1;var a=d.ue=d.ue||{};a.t0=h.aPageStart||d.ue_t0;a.id=d.ue_id;a.url=d.ue_url;a.rid=d.ue_id;a.a=\"\";a.b=\"\";a.h={};a.s=1;a.t={};a.sc={};a.iel=[];a.ielf=[];a.viz=[];a.v=\"0.244781.0\";a.paused=!1;var v=\"hasOwnProperty\",G=\"beforeunload\",K=\"on\"+G,V=\"addEventListener\",X=\"removeEventListener\",W=\"attachEvent\",\n",
       "Y=\"detachEvent\",da={cf:\"criticalFeature\",af:\"aboveTheFold\",fn:\"functional\",fp:\"firstPaint\",fcp:\"firstContentfulPaint\",bb:\"bodyBegin\",be:\"bodyEnd\",ld:\"loaded\"},E=h.Date,C=h.performance||h.webkitPerformance,f=(C||{}).timing,x=(C||{}).navigation,M=(f||{}).navigationStart,w=d.ue_fpf,Q=0,U=0,L=[],D=0,F;a.oid=H(a.id);a.lid=H(a.id);a._t0=a.t0;a.tag=P();a.ifr=h.top!==h.self||h.frameElement?1:0;a.markers=null;a.attach=A;a.detach=T;if(\"000-0000000-8675309\"===d.ue_sid){var $=I(\"cdn-rid\"),aa=I(\"session-id\");\n",
       "$&&aa&&O($,aa,\"cdn\")}d.uei=Z;d.ueh=R;d.ues=e;d.uet=y;d.uex=S;a.reset=O;a.pause=function(d){a.paused=d};Z()})(ue_csm,ue_csm.window,ue_csm.document);\n",
       "\n",
       "\n",
       "ue.stub(ue,\"log\");ue.stub(ue,\"onunload\");ue.stub(ue,\"onflush\");\n",
       "(function(b){var a=b.ue,g=1===b.ue_no_counters;a.cv={};a.cv.scopes={};a.cv.buffer=[];a.count=function(b,f,c){var e={},d=a.cv,h=c&&0===c.c;e.counter=b;e.value=f;e.t=a.d();c&&c.scope&&(d=a.cv.scopes[c.scope]=a.cv.scopes[c.scope]||{},e.scope=c.scope);if(void 0===f)return d[b];d[b]=f;d=0;c&&c.bf&&(d=1);g||(ue_csm.ue_sclog||!a.clog||0!==d||h?a.log&&a.log(e,\"csmcount\",{c:1,bf:d}):a.clog(e,\"csmcount\",{bf:d}));a.cv.buffer.push({c:b,v:f})};a.count(\"baselineCounter2\",1);a&&a.event&&(a.event({requestId:b.ue_id||\n",
       "\"rid\",server:b.ue_sn||\"sn\",obfuscatedMarketplaceId:b.ue_mid||\"mid\"},\"csm\",\"csm.CSMBaselineEvent.4\"),a.count(\"nexusBaselineCounter\",1,{bf:1}))})(ue_csm);\n",
       "\n",
       "\n",
       "\n",
       "var ue_hoe = +new Date();\n",
       "}\n",
       "window.ueinit = window.ue_ihb;\n",
       "</script>\n",
       "<!-- 8bb2o9nmtux0wdve7ypdhzj -->\n",
       "<script>window.ue && ue.count && ue.count('CSMLibrarySize', 9735)</script><script>var aPageStart = (new Date()).getTime();</script><meta charset=\"utf-8\"/>\n",
       "<title dir=\"ltr\">Amazon Sign In</title>\n",
       "<script>\n",
       "        if (!window.ueLogError) {\n",
       "          // CSM is not supported so disable SIEGE CSM instrumentation\n",
       "          window.siegeCseConfig = {\n",
       "            disableCsmInstrumentation: true\n",
       "          }\n",
       "        }\n",
       "      </script>\n",
       "<link href=\"https://images-eu.ssl-images-amazon.com/images/I/61A6IErPNXL._RC|11Fd9tJOdtL.css,11tfezETfFL.css,31Q3id-QR0L.css,31U9HrBLKmL.css_.css?AUIClients/AmazonUI#us.not-trident\" rel=\"stylesheet\"/>\n",
       "<link href=\"https://images-eu.ssl-images-amazon.com/images/I/01SdjaY0ZsL._RC|31jdWD+JB+L.css,41GEwrYEGlL.css_.css?AUIClients/AuthenticationPortalAssets\" rel=\"stylesheet\"/>\n",
       "<link href=\"https://images-eu.ssl-images-amazon.com/images/I/21yxad+ZMHL.css?AUIClients/CVFAssets\" rel=\"stylesheet\"/>\n",
       "<script>\n",
       "(function(d,g,R,H){function x(a){y&&y.tag&&y.tag(m(\":\",\"aui\",a))}function p(a,b){y&&y.count&&y.count(\"aui:\"+a,0===b?0:b||(y.count(\"aui:\"+a)||0)+1)}function r(a){try{return a.test(navigator.userAgent)}catch(b){return!1}}function t(a){return\"function\"===typeof a}function z(a,b,c){a.addEventListener?a.addEventListener(b,c,!1):a.attachEvent&&a.attachEvent(\"on\"+b,c)}function m(a,b,c,d){b=b&&c?b+a+c:b||c;return d?m(a,b,d):b}function I(a,b,c){try{Object.defineProperty(a,b,{value:c,writable:!1})}catch(v){a[b]=\n",
       "c}return c}function ta(a,b,c){var d=c=a.length,f=function(){d--||(S.push(b),T||(setTimeout(da,0),T=!0))};for(f();c--;)ea[a[c]]?f():(C[a[c]]=C[a[c]]||[]).push(f)}function ua(a,b,c,d,f){var e=g.createElement(a?\"script\":\"link\");z(e,\"error\",d);f&&z(e,\"load\",f);a?(e.type=\"text/javascript\",e.async=!0,c&&/AUIClients|images[/]I/.test(b)&&e.setAttribute(\"crossorigin\",\"anonymous\"),e.src=b):(e.rel=\"stylesheet\",e.href=b);g.getElementsByTagName(\"head\")[0].appendChild(e)}function fa(a,b){return function(c,v){function f(){ua(b,\n",
       "c,e,function(b){U?p(\"resource_unload\"):e?(e=!1,p(\"resource_retry\"),f()):(p(\"resource_error\"),a.log(\"Asset failed to load: \"+c));b&&b.stopPropagation?b.stopPropagation():d.event&&(d.event.cancelBubble=!0)},v)}if(ha[c])return!1;ha[c]=!0;p(\"resource_count\");var e=!0;return!f()}}function va(a,b,c){for(var d={name:a,guard:function(c){return b.guardFatal(a,c)},guardTime:function(a){return b.guardTime(a)},logError:function(c,d,e){b.logError(c,d,e,a)}},f=[],e=0;e<c.length;e++)J.hasOwnProperty(c[e])&&(f[e]=\n",
       "V.hasOwnProperty(c[e])?V[c[e]](J[c[e]],d):J[c[e]]);return f}function D(a,b,c,v,f){return function(e,g){function p(){var a=null;v?a=g:t(g)&&(A.start=B(),a=g.apply(d,va(e,h,q)),A.end=B());if(b){J[e]=a;a=e;for(ea[a]=!0;(C[a]||[]).length;)C[a].shift()();delete C[a]}A.done=!0}var h=f||this;t(e)&&(g=e,e=H);b&&(e=e?e.replace(ia,\"\"):\"__NONAME__\",W.hasOwnProperty(e)&&h.error(m(\", reregistered by \",m(\" by \",e+\" already registered\",W[e]),h.attribution),e),W[e]=h.attribution);for(var q=[],l=0;l<a.length;l++)q[l]=\n",
       "a[l].replace(ia,\"\");var A=E[e||\"anon\"+ ++wa]={depend:q,registered:B(),namespace:h.namespace};e&&xa.hasOwnProperty(e);c?p():ta(q,h.guardFatal(e,p),e);return{decorate:function(a){V[e]=h.guardFatal(e,a)}}}}function ja(a){return function(){var b=Array.prototype.slice.call(arguments);return{execute:D(b,!1,a,!1,this),register:D(b,!0,a,!1,this)}}}function X(a,b){return function(c,d){d||(d=c,c=H);var f=this.attribution;return function(){w.push(b||{attribution:f,name:c,logLevel:a});var e=d.apply(this,arguments);\n",
       "w.pop();return e}}}function K(a,b){this.load={js:fa(this,!0),css:fa(this)};I(this,\"namespace\",b);I(this,\"attribution\",a)}function ka(){g.body?u.trigger(\"a-bodyBegin\"):setTimeout(ka,20)}function F(a,b){a.className=Y(a,b)+\" \"+b}function Y(a,b){return(\" \"+a.className+\" \").split(\" \"+b+\" \").join(\" \").replace(/^ | $/g,\"\")}function la(a){try{return a()}catch(b){return!1}}function L(){if(M){var a={w:d.innerWidth||h.clientWidth,h:d.innerHeight||h.clientHeight};5<Math.abs(a.w-Z.w)||50<a.h-Z.h?(Z=a,N=4,(a=l.mobile||\n",
       "l.tablet?450<a.w&&a.w>a.h:1250<=a.w)?F(h,\"a-ws\"):h.className=Y(h,\"a-ws\")):0<N&&(N--,ma=setTimeout(L,16))}}function ya(a){(M=a===H?!M:!!a)&&L()}function za(){return M}\"use strict\";var O=R.now=R.now||function(){return+new R},B=function(a){return a&&a.now?a.now.bind(a):O}(d.performance),P=B(),xa={},n=d.AmazonUIPageJS||d.P;if(n&&n.when&&n.register){P=[];for(var k=g.currentScript;k;k=k.parentElement)k.id&&P.push(k.id);return n.log(\"A copy of P has already been loaded on this page.\",\"FATAL\",P.join(\" \"))}var y=\n",
       "d.ue;x();x(\"aui_build_date:3.23.1-2023-03-25\");var S=[],Aa=[],T=!1;var da=function(){for(var a=setTimeout(da,0),b=O();Aa.length||S.length;)if(S.shift()(),50<O()-b)return;clearTimeout(a);T=!1};var ea={},C={},ha={},U=!1;z(d,\"beforeunload\",function(){U=!0;setTimeout(function(){U=!1},1E4)});var ia=/^prv:/,W={},J={},V={},E={},wa=0,aa=String.fromCharCode(92),w=[],na=!0,oa=d.onerror;d.onerror=function(a,b,c,v,f){f&&\"object\"===typeof f||(f=Error(a,b,c),f.columnNumber=v,f.stack=b||c||v?m(aa,f.message,\"at \"+\n",
       "m(\":\",b,c,v)):H);var e=w.pop()||{};f.attribution=m(\":\",f.attribution||e.attribution,e.name);f.logLevel=e.logLevel;f.attribution&&console&&console.log&&console.log([f.logLevel||\"ERROR\",a,\"thrown by\",f.attribution].join(\" \"));w=[];oa&&(e=[].slice.call(arguments),e[4]=f,oa.apply(d,e))};K.prototype={logError:function(a,b,c,v){b={message:b,logLevel:c||\"ERROR\",attribution:m(\":\",this.attribution,v)};if(d.ueLogError)return d.ueLogError(a||b,a?b:null),!0;console&&console.error&&(console.log(b),console.error(a));\n",
       "return!1},error:function(a,b,c,d){a=Error(m(\":\",d,a,c));a.attribution=m(\":\",this.attribution,b);throw a;},guardError:X(),guardFatal:X(\"FATAL\"),guardCurrent:function(a){var b=w[w.length-1];return b?X(b.logLevel,b).call(this,a):a},guardTime:function(a){var b=w[w.length-1],c=b&&b.name;return c&&c in E?function(){var b=B(),d=a.apply(this,arguments);E[c].async=(E[c].async||0)+B()-b;return d}:a},log:function(a,b,c){return this.logError(null,a,b,c)},declare:D([],!0,!0,!0),register:D([],!0),execute:D([]),\n",
       "AUI_BUILD_DATE:\"3.23.1-2023-03-25\",when:ja(),now:ja(!0),trigger:function(a,b,c){var g=O();this.declare(a,{data:b,pageElapsedTime:g-(d.aPageStart||NaN),triggerTime:g});c&&c.instrument&&G.when(\"prv:a-logTrigger\").execute(function(b){b(a)})},handleTriggers:function(){this.log(\"handleTriggers deprecated\")},attributeErrors:function(a){return new K(a)},_namespace:function(a,b){return new K(a,b)},setPriority:function(a){na?na=!1:this.log(\"setPriority only accept the first call.\")}};var u=I(d,\"AmazonUIPageJS\",\n",
       "new K);var G=u._namespace(\"PageJS\",\"AmazonUI\");G.declare(\"prv:p-debug\",E);u.declare(\"p-recorder-events\",[]);u.declare(\"p-recorder-stop\",function(){});I(d,\"P\",u);ka();if(g.addEventListener){var pa;g.addEventListener(\"DOMContentLoaded\",pa=function(){u.trigger(\"a-domready\");g.removeEventListener(\"DOMContentLoaded\",pa,!1)},!1)}var h=g.documentElement,ba=function(){var a=[\"O\",\"ms\",\"Moz\",\"Webkit\"],b=g.createElement(\"div\");return{testGradients:function(){return!0},test:function(c){var d=c.charAt(0).toUpperCase()+\n",
       "c.substr(1);c=(a.join(d+\" \")+d+\" \"+c).split(\" \");for(d=c.length;d--;)if(\"\"===b.style[c[d]])return!0;return!1},testTransform3d:function(){return!0}}}();n=h.className;var qa=/(^| )a-mobile( |$)/.test(n),ra=/(^| )a-tablet( |$)/.test(n),l={audio:function(){return!!g.createElement(\"audio\").canPlayType},video:function(){return!!g.createElement(\"video\").canPlayType},canvas:function(){return!!g.createElement(\"canvas\").getContext},svg:function(){return!!g.createElementNS&&!!g.createElementNS(\"http://www.w3.org/2000/svg\",\n",
       "\"svg\").createSVGRect},offline:function(){return navigator.hasOwnProperty&&navigator.hasOwnProperty(\"onLine\")&&navigator.onLine},dragDrop:function(){return\"draggable\"in g.createElement(\"span\")},geolocation:function(){return!!navigator.geolocation},history:function(){return!(!d.history||!d.history.pushState)},webworker:function(){return!!d.Worker},autofocus:function(){return\"autofocus\"in g.createElement(\"input\")},inputPlaceholder:function(){return\"placeholder\"in g.createElement(\"input\")},textareaPlaceholder:function(){return\"placeholder\"in\n",
       "g.createElement(\"textarea\")},localStorage:function(){return\"localStorage\"in d&&null!==d.localStorage},orientation:function(){return\"orientation\"in d},touch:function(){return\"ontouchend\"in g},gradients:function(){return ba.testGradients()},hires:function(){var a=d.devicePixelRatio&&1.5<=d.devicePixelRatio||d.matchMedia&&d.matchMedia(\"(min-resolution:144dpi)\").matches;p(\"hiRes\"+(qa?\"Mobile\":ra?\"Tablet\":\"Desktop\"),a?1:0);return a},transform3d:function(){return ba.testTransform3d()},touchScrolling:function(){return r(/Windowshop|android|OS ([5-9]|[1-9][0-9]+)(_[0-9]{1,2})+ like Mac OS X|SOFTWARE=([5-9]|[1-9][0-9]+)(.[0-9]{1,2})+.*DEVICE=iPhone|Chrome|Silk|Firefox|Trident.+?; Touch/i)},\n",
       "ios:function(){return r(/OS [1-9][0-9]*(_[0-9]*)+ like Mac OS X/i)&&!r(/trident|Edge/i)},android:function(){return r(/android.([1-9]|[L-Z])/i)&&!r(/trident|Edge/i)},mobile:function(){return qa},tablet:function(){return ra},rtl:function(){return\"rtl\"===h.dir}};for(k in l)l.hasOwnProperty(k)&&(l[k]=la(l[k]));for(var ca=\"textShadow textStroke boxShadow borderRadius borderImage opacity transform transition\".split(\" \"),Q=0;Q<ca.length;Q++)l[ca[Q]]=la(function(){return ba.test(ca[Q])});var M=!0,ma=0,Z=\n",
       "{w:0,h:0},N=4;L();z(d,\"resize\",function(){clearTimeout(ma);N=4;L()});var sa={getItem:function(a){try{return d.localStorage.getItem(a)}catch(b){}},setItem:function(a,b){try{return d.localStorage.setItem(a,b)}catch(c){}}};h.className=Y(h,\"a-no-js\");F(h,\"a-js\");!r(/OS [1-8](_[0-9]*)+ like Mac OS X/i)||d.navigator.standalone||r(/safari/i)||F(h,\"a-ember\");n=[];for(k in l)l.hasOwnProperty(k)&&l[k]&&n.push(\"a-\"+k.replace(/([A-Z])/g,function(a){return\"-\"+a.toLowerCase()}));F(h,n.join(\" \"));h.setAttribute(\"data-aui-build-date\",\n",
       "\"3.23.1-2023-03-25\");u.register(\"p-detect\",function(){return{capabilities:l,localStorage:l.localStorage&&sa,toggleResponsiveGrid:ya,responsiveGridEnabled:za}});r(/UCBrowser/i)||l.localStorage&&F(h,sa.getItem(\"a-font-class\"));u.declare(\"a-event-revised-handling\",!1);u.execute(\"RetailPageServiceWorker\",function(){function a(a,b){k.controller&&a?(a={feature:\"retail_service_worker_messaging\",command:a},b&&(a.data=b),k.controller.postMessage(a)):a&&p(\"sw:sw_message_no_ctrl\",1)}function b(a){var b=a.data;\n",
       "if(b&&\"retail_service_worker_messaging\"===b.feature&&b.command&&b.data){var c=b.data;a=d.ue;var e=d.ueLogError;switch(b.command){case \"log_counter\":a&&t(a.count)&&c.name&&a.count(c.name,0===c.value?0:c.value||1);break;case \"log_tag\":a&&t(a.tag)&&c.tag&&(a.tag(c.tag),b=d.uex,a.isl&&t(b)&&b(\"at\"));break;case \"log_error\":e&&t(e)&&c.message&&e({message:c.message,logLevel:c.level||\"ERROR\",attribution:c.attribution||\"RetailServiceWorker\"});break;case \"log_weblab_trigger\":if(!c.weblab||!c.treatment)break;\n",
       "a&&t(a.trigger)?a.trigger(c.weblab,c.treatment):(p(\"sw:wt:miss\"),p(\"sw:wt:miss:\"+c.weblab+\":\"+c.treatment));break;default:p(\"sw:unsupported_message_command\",1)}}}function c(a,b){return\"sw:\"+(b||\"\")+\":\"+a+\":\"}function h(){n.forEach(function(a){x(a)})}function f(a){return a.capabilities.isAmazonApp&&a.capabilities.android}function e(a,b,d){if(b)if(b.mshop&&f(a))a=c(d,\"mshop_and\"),b=b.mshop.action,n.push(a+\"supported\"),b(a,d);else if(b.browser){a=r(/Chrome/i)&&!r(/Edge/i)&&!r(/OPR/i)&&!a.capabilities.isAmazonApp&&\n",
       "!r(new RegExp(aa+\"bwv\"+aa+\"b\"));var e=b.browser;b=c(d,\"browser\");a?(a=e.action,n.push(b+\"supported\"),a(b,d)):n.push(b+\"unsupported\")}}function l(a,b,d){a&&n.push(c(\"register\",d)+\"unsupported\");b&&n.push(c(\"unregister\",d)+\"unsupported\");h()}try{var k=navigator.serviceWorker}catch(A){x(\"sw:nav_err\")}(function(){if(k){var c=function(){a(\"page_loaded\",{rid:d.ue_id,mid:d.ue_mid,pty:d.ue_pty,sid:d.ue_sid,spty:d.ue_spty,furl:d.ue_furl})};z(k,\"message\",b);a(\"client_messaging_ready\");u.when(\"load\").execute(c);\n",
       "z(k,\"controllerchange\",function(){a(\"client_messaging_ready\");\"complete\"===g.readyState&&c()})}})();var n=[],q=function(a,b){var c=d.uex,e=d.uet;a=m(\":\",\"aui\",\"sw\",a);\"ld\"===b&&t(c)?c(\"ld\",a,{wb:1}):t(e)&&e(b,a,{wb:1})},w=function(a,b,c){function e(a){b&&t(b.failure)&&b.failure(a)}function f(){l=setTimeout(function(){x(m(\":\",\"sw:\"+h,g.TIMED_OUT));e({ok:!1,statusCode:g.TIMED_OUT,done:!1});q(h,\"ld\")},c||4E3)}var g={NO_CONTROLLER:\"no_ctrl\",TIMED_OUT:\"timed_out\",UNSUPPORTED_BROWSER:\"unsupported_browser\",\n",
       "UNEXPECTED_RESPONSE:\"unexpected_response\"},h=m(\":\",a.feature,a.command),l,n=!0;if(\"MessageChannel\"in d&&k&&\"controller\"in k)if(k.controller){var A=new MessageChannel;A.port1.onmessage=function(c){(c=c.data)&&c.feature===a.feature&&c.command===a.command?(n&&(q(h,\"cf\"),n=!1),q(h,\"af\"),clearTimeout(l),c.done||f(),c.ok?b&&t(b.success)&&b.success(c):e(c),c.done&&q(h,\"ld\")):p(m(\":\",\"sw:\"+h,g.UNEXPECTED_RESPONSE),1)};f();q(h,\"bb\");k.controller.postMessage(a,[A.port2])}else x(m(\":\",\"sw:\"+a.feature,g.NO_CONTROLLER)),\n",
       "e({ok:!1,statusCode:g.NO_CONTROLLER,done:!0});else x(m(\":\",\"sw:\"+a.feature,g.UNSUPPORTED_BROWSER)),e({ok:!1,statusCode:g.UNSUPPORTED_BROWSER,done:!0})};(function(){k?(q(\"ctrl_changed\",\"bb\"),k.addEventListener(\"controllerchange\",function(){x(\"sw:ctrl_changed\");q(\"ctrl_changed\",\"ld\")})):p(m(\":\",\"sw:ctrl_changed\",\"sw_unsupp\"),1)})();(function(){var a=function(){q(b,\"ld\");var a=d.uex;w({feature:\"page_proxy\",command:\"request_feature_tags\"},{success:function(b){b=b.data;Array.isArray(b)&&b.forEach(function(a){\"string\"===\n",
       "typeof a?x(m(\":\",\"sw:ppft\",a)):p(m(\":\",\"sw:ppft\",\"invalid_tag\"),1)});p(m(\":\",\"sw:ppft\",\"success\"),1);y&&y.isl&&t(a)&&a(\"at\")},failure:function(a){p(m(\":\",\"sw:ppft\",\"error:\"+(a.statusCode||\"ppft_error\")),1)}})};if(\"requestIdleCallback\"in d){var b=m(\":\",\"ppft\",\"callback_ricb\");d.requestIdleCallback(a,{timeout:1E3})}else b=m(\":\",\"ppft\",\"callback_timeout\"),setTimeout(a,0);q(b,\"bb\")})();(function(a){var b=a.reg,c=a.unreg;k&&k.getRegistrations?(G.when(\"A\").execute(function(b){if((a.reg.mshop||a.unreg.mshop)&&\n",
       "\"function\"===typeof f&&f(b)){var g=a.reg.mshop?\"T1\":\"C\",h=d.ue;h&&h.trigger?h.trigger(\"MSHOP_SW_CLIENT_446196\",g):p(\"sw:mshop:wt:failed\")}e(b,c,\"unregister\")}),z(d,\"load\",function(){G.when(\"A\").execute(function(a){e(a,b,\"register\");h()})})):(l(b&&b.browser,c&&c.browser,\"browser\"),G.when(\"A\").execute(function(a){\"function\"===typeof f&&f(a)&&l(b&&b.mshop,c&&c.mshop,\"mshop_and\")}))})({reg:{},unreg:{}})});u.declare(\"a-fix-event-off\",!1);p(\"pagejs:pkgExecTime\",B()-P)})(window,document,Date);\n",
       "  (window.AmazonUIPageJS ? AmazonUIPageJS : P).load.js('https://images-eu.ssl-images-amazon.com/images/I/61yXDIPmT-L._RC|11Y+5x+kkTL.js,51KMV3Cz2XL.js,31x4ENTlVIL.js,31f4+QIEeqL.js,01N6xzIJxbL.js,518BI433aLL.js,01rpauTep4L.js,31QZSjMuoeL.js,61ofwvddDeL.js,01KsMxlPtzL.js_.js?AUIClients/AmazonUI');\n",
       "  (window.AmazonUIPageJS ? AmazonUIPageJS : P).load.js('https://images-eu.ssl-images-amazon.com/images/I/21ZMwVh4T0L._RC|21OJDARBhQL.js,218GJg15I8L.js,31lucpmF4CL.js,2119M3Ks9rL.js,51IBJwOVAbL.js_.js?AUIClients/AuthenticationPortalAssets');\n",
       "  (window.AmazonUIPageJS ? AmazonUIPageJS : P).load.js('https://images-eu.ssl-images-amazon.com/images/I/01wGDSlxwdL.js?AUIClients/AuthenticationPortalInlineAssets');\n",
       "  (window.AmazonUIPageJS ? AmazonUIPageJS : P).load.js('https://images-eu.ssl-images-amazon.com/images/I/41jWouoe0hL.js?AUIClients/CVFAssets');\n",
       "  (window.AmazonUIPageJS ? AmazonUIPageJS : P).load.js('https://images-eu.ssl-images-amazon.com/images/I/8135BpGZX3L.js?AUIClients/SiegeClientSideEncryptionAUI');\n",
       "  (window.AmazonUIPageJS ? AmazonUIPageJS : P).load.js('https://images-eu.ssl-images-amazon.com/images/I/31jdfgcsPAL.js?AUIClients/AmazonUIFormControlsJS');\n",
       "  (window.AmazonUIPageJS ? AmazonUIPageJS : P).load.js('https://images-eu.ssl-images-amazon.com/images/I/81oF63sDyiL.js?AUIClients/FWCIMAssets');\n",
       "  (window.AmazonUIPageJS ? AmazonUIPageJS : P).load.js('https://images-eu.ssl-images-amazon.com/images/I/71mTge6vIEL.js?AUIClients/ACICAssets');\n",
       "</script>\n",
       "<script type=\"text/javascript\">\n",
       "window.ue_ihe = (window.ue_ihe || 0) + 1;\n",
       "if (window.ue_ihe === 1) {\n",
       "(function(c){c&&1===c.ue_jsmtf&&\"object\"===typeof c.P&&\"function\"===typeof c.P.when&&c.P.when(\"mshop-interactions\").execute(function(e){\"object\"===typeof e&&\"function\"===typeof e.addListener&&e.addListener(function(b){\"object\"===typeof b&&\"ORIGIN\"===b.dataSource&&\"number\"===typeof b.clickTime&&\"object\"===typeof b.events&&\"number\"===typeof b.events.pageVisible&&(c.ue_jsmtf_interaction={pv:b.events.pageVisible,ct:b.clickTime})})})})(ue_csm);\n",
       "(function(c,e,b){function m(a){f||(f=d[a.type].id,\"undefined\"===typeof a.clientX?(h=a.pageX,k=a.pageY):(h=a.clientX,k=a.clientY),2!=f||l&&(l!=h||n!=k)?(r(),g.isl&&e.setTimeout(function(){p(\"at\",g.id)},0)):(l=h,n=k,f=0))}function r(){for(var a in d)d.hasOwnProperty(a)&&g.detach(a,m,d[a].parent)}function s(){for(var a in d)d.hasOwnProperty(a)&&g.attach(a,m,d[a].parent)}function t(){var a=\"\";!q&&f&&(q=1,a+=\"&ui=\"+f);return a}var g=c.ue,p=c.uex,q=0,f=0,l,n,h,k,d={click:{id:1,parent:b},mousemove:{id:2,\n",
       "parent:b},scroll:{id:3,parent:e},keydown:{id:4,parent:b}};g&&p&&(s(),g._ui=t)})(ue_csm,window,document);\n",
       "\n",
       "\n",
       "(function(s,l){function m(b,e,c){c=c||new Date(+new Date+t);c=\"expires=\"+c.toUTCString();n.cookie=b+\"=\"+e+\";\"+c+\";path=/\"}function p(b){b+=\"=\";for(var e=n.cookie.split(\";\"),c=0;c<e.length;c++){for(var a=e[c];\" \"==a.charAt(0);)a=a.substring(1);if(0===a.indexOf(b))return decodeURIComponent(a.substring(b.length,a.length))}return\"\"}function q(b,e,c){if(!e)return b;-1<b.indexOf(\"{\")&&(b=\"\");for(var a=b.split(\"&\"),f,d=!1,h=!1,g=0;g<a.length;g++)f=a[g].split(\":\"),f[0]==e?(!c||d?a.splice(g,1):(f[1]=c,a[g]=\n",
       "f.join(\":\")),h=d=!0):2>f.length&&(a.splice(g,1),h=!0);h&&(b=a.join(\"&\"));!d&&c&&(0<b.length&&(b+=\"&\"),b+=e+\":\"+c);return b}var k=s.ue||{},t=3024E7,n=ue_csm.document||l.document,r=null,d;a:{try{d=l.localStorage;break a}catch(u){}d=void 0}k.count&&k.count(\"csm.cookieSize\",document.cookie.length);k.cookie={get:p,set:m,updateCsmHit:function(b,e,c){try{var a;if(!(a=r)){var f;a:{try{if(d&&d.getItem){f=d.getItem(\"csm-hit\");break a}}catch(k){}f=void 0}a=f||p(\"csm-hit\")||\"{}\"}a=q(a,b,e);r=a=q(a,\"t\",+new Date);\n",
       "try{d&&d.setItem&&d.setItem(\"csm-hit\",a)}catch(h){}m(\"csm-hit\",a,c)}catch(g){\"function\"==typeof l.ueLogError&&ueLogError(Error(\"Cookie manager: \"+g.message),{logLevel:\"WARN\"})}}}})(ue_csm,window);\n",
       "\n",
       "\n",
       "(function(l,e){function c(b){b=\"\";var c=a.isBFT?\"b\":\"s\",d=\"\"+a.oid,g=\"\"+a.lid,h=d;d!=g&&20==g.length&&(c+=\"a\",h+=\"-\"+g);a.tabid&&(b=a.tabid+\"+\");b+=c+\"-\"+h;b!=f&&100>b.length&&(f=b,a.cookie?a.cookie.updateCsmHit(m,b+(\"|\"+ +new Date)):e.cookie=\"csm-hit=\"+b+(\"|\"+ +new Date)+n+\"; path=/\")}function p(){f=0}function d(b){!0===e[a.pageViz.propHid]?f=0:!1===e[a.pageViz.propHid]&&c({type:\"visible\"})}var n=\"; expires=\"+(new Date(+new Date+6048E5)).toGMTString(),m=\"tb\",f,a=l.ue||{},k=a.pageViz&&a.pageViz.event&&\n",
       "a.pageViz.propHid;a.attach&&(a.attach(\"click\",c),a.attach(\"keyup\",c),k||(a.attach(\"focus\",c),a.attach(\"blur\",p)),k&&(a.attach(a.pageViz.event,d,e),d({})));a.aftb=1})(ue_csm,ue_csm.document);\n",
       "\n",
       "\n",
       "ue_csm.ue.stub(ue,\"impression\");\n",
       "\n",
       "\n",
       "ue.stub(ue,\"trigger\");\n",
       "\n",
       "\n",
       "\n",
       "if(window.ue&&uet) { uet('bb'); }\n",
       "\n",
       "}\n",
       "</script>\n",
       "<script>window.ue && ue.count && ue.count('CSMLibrarySize', 3173)</script></head>\n",
       "<body class=\"auth-no-skin ap-locale-en_IN a-m-us a-aui_72554-c a-aui_accordion_a11y_role_354025-c a-aui_killswitch_csa_logger_372963-c a-aui_pci_risk_banner_210084-c a-aui_preload_261698-c a-aui_rel_noreferrer_noopener_309527-c a-aui_template_weblab_cache_333406-c a-aui_tnr_v2_180836-c\"> <img alt=\"\" height=\"1\" onload=\"window.ue_sbl &amp;&amp; window.ue_sbl();\" src=\"//fls-eu.amazon.com/1/batch/1/OP/A21TJRUUN4KGV:262-2745510-6589301:JY000YRQ4KCF8VZPC4PG$uedata=s:%2Fap%2Fuedata%3Fstaticb%26id%3DJY000YRQ4KCF8VZPC4PG:0\" style=\"display:none;visibility:hidden;\" width=\"1\"/>\n",
       "<script>\n",
       "!function(){function n(n,t){var r=i(n);return t&&(r=r(\"instance\",t)),r}var r=[],c=0,i=function(t){return function(){var n=c++;return r.push([t,[].slice.call(arguments,0),n,{time:Date.now()}]),i(n)}};n._s=r,this.csa=n}();;\n",
       "csa('Config', {\"ContentInteractionsSummary.FlushInterval\":5000});\n",
       "if (window.csa) {\n",
       "    csa(\"Config\", {\n",
       "        \n",
       "        'Events.Namespace': 'csa',\n",
       "        'ObfuscatedMarketplaceId': 'A21TJRUUN4KGV',\n",
       "        'Events.SushiEndpoint': 'https://unagi.amazon.in/1/events/com.amazon.csm.csa.prod',\n",
       "        'CacheDetection.RequestID': \"JY000YRQ4KCF8VZPC4PG\",\n",
       "        'CacheDetection.Callback': window.ue && ue.reset,\n",
       "        'LCP.elementDedup': 1\n",
       "    });\n",
       "\n",
       "    csa(\"Events\")(\"setEntity\", {\n",
       "        page: {requestId: \"JY000YRQ4KCF8VZPC4PG\", meaningful: \"interactive\"},\n",
       "        session: {id: \"262-2745510-6589301\"}\n",
       "    });\n",
       "}\n",
       "!function(r){var i,e,o=\"splice\",u=r.csa,f={},c={},a=r.csa._s,s=0,l=0,g=-1,h={},v={},d={},n=Object.keys,p=function(){};function t(n,t){return u(n,t)}function m(n,t){var r=c[n]||{};k(r,t),c[n]=r,l++,S(U,0)}function w(n,t,r){var i=!0;return t=D(t),r&&r.buffered&&(i=(d[n]||[]).every(function(n){return!1!==t(n)})),i?(h[n]||(h[n]=[]),h[n].push(t),function(){!function(n,t){var r=h[n];r&&r[o](r.indexOf(t),1)}(n,t)}):p}function b(n,t){if(t=D(t),n in v)return t(v[n]),p;return w(n,function(n){return t(n),!1})}function y(n,t){if(u(\"Errors\")(\"logError\",n),f.DEBUG)throw t||n}function E(){return Math.abs(4294967295*Math.random()|0).toString(36)}function D(n,t){return function(){try{return n.apply(this,arguments)}catch(n){y(n.message||n,n)}}}function S(n,t){return r.setTimeout(D(n),t)}function U(){for(var n=0;n<a.length;){var t=a[n],r=t[0]in c;if(!r&&!e)return void(s=t.length);r?(a[o](s=n,1),I(t)):n++}g=l}function I(n){var arguments,t=c[n[0]],r=(arguments=n[1])[0];if(!t||!t[r])return y(\"Undefined function: \"+t+\"/\"+r);i=n[3],c[n[2]]=t[r].apply(t,arguments.slice(1))||{},i=0}function O(){e=1,U()}function k(t,r){n(r).forEach(function(n){t[n]=r[n]})}b(\"$beforeunload\",O),m(\"Config\",{instance:function(n){k(f,n)}}),u.plugin=D(function(n){n(t)}),t.config=f,t.register=m,t.on=w,t.once=b,t.blank=p,t.emit=function(n,t,r){for(var i=h[n]||[],e=0;e<i.length;)!1===i[e](t)?i[o](e,1):e++;v[n]=t||{},r&&r.buffered&&(d[n]||(d[n]=[]),100<=d[n].length&&d[n].shift(),d[n].push(t||{}))},t.UUID=function(){return[E(),E(),E(),E()].join(\"-\")},t.time=function(n){var t=i?new Date(i.time):new Date;return\"ISO\"===n?t.toISOString():t.getTime()},t.error=y,t.warn=function(n,t){if(u(\"Errors\")(\"logWarn\",n),f.DEBUG)throw t||n},t.exec=D,t.timeout=S,t.interval=function(n,t){return r.setInterval(D(n),t)},(t.global=r).csa._s.push=function(n){n[0]in c&&(!a.length||e)?(I(n),a.length&&g!==l&&U()):a[o](s++,0,n)},U(),S(function(){S(O,f.SkipMissingPluginsTimeout||5e3)},1)}(\"undefined\"!=typeof window?window:global);csa.plugin(function(o){var f=\"addEventListener\",e=\"requestAnimationFrame\",t=o.exec,r=o.global,u=o.on;o.raf=function(n){if(r[e])return r[e](t(n))},o.on=function(n,e,t,r){if(n&&\"function\"==typeof n[f]){var i=o.exec(t);return n[f](e,i,r),function(){n.removeEventListener(e,i,r)}}return\"string\"==typeof n?u(n,e,t,r):o.blank}});csa.plugin(function(o){var t,n,r={},e=\"localStorage\",c=\"sessionStorage\",a=\"local\",i=\"session\",u=o.exec;function s(e,t){var n;try{r[t]=!!(n=o.global[e]),n=n||{}}catch(e){r[t]=!(n={})}return n}function f(){t=t||s(e,a),n=n||s(c,i)}function l(e){return e&&e[i]?n:t}o.store=u(function(e,t,n){f();var o=l(n);return e?t?void(o[e]=t):o[e]:Object.keys(o)}),o.storageSupport=u(function(){return f(),r}),o.deleteStored=u(function(e,t){f();var n=l(t);if(\"function\"==typeof e)for(var o in n)n.hasOwnProperty(o)&&e(o,n[o])&&delete n[o];else delete n[e]})});csa.plugin(function(n){n.types={ovl:function(n){var r=[];if(n)for(var i in n)n.hasOwnProperty(i)&&r.push(n[i]);return r}}});csa.plugin(function(i){function e(n){return function(e){i(\"Metrics\",{producerId:\"csa\",dimensions:{message:e}})(\"recordMetric\",n,1)}}function n(r){var o,t,l=i(\"Events\",{producerId:r.producerId}),u=[\"name\",\"type\",\"csm\",\"adb\"],c={url:\"pageURL\",file:\"f\",line:\"l\",column:\"c\"};this.log=function(e){if(!function(e){if(!e)return!0;for(var n in e)return!1;return!0}(e)){var n=r.logOptions||{ent:{page:[\"pageType\",\"subPageType\",\"requestId\"]}};l(\"log\",function(n){return o=i.UUID(),t={messageId:o,schemaId:r.schemaId||\"<ns>.Error.4\",errorMessage:n.m||null,attribution:n.attribution||null,logLevel:\"FATAL\",url:null,file:null,line:null,column:null,stack:n.s||[],context:{},surfaceInfo:{}},n.logLevel&&(t.logLevel=\"\"+n.logLevel),u.forEach(function(e){n[e]&&(t.context[e]=n[e])}),\"INFO\"===n.logLevel||Object.keys(c).forEach(function(e){\"number\"!=typeof n[c[e]]&&\"string\"!=typeof n[c[e]]||(t[e]=\"\"+n[c[e]])}),t}(e),n)}}}i.register(\"Errors\",{instance:function(e){return new n(e||{})},logError:e(\"jsError\"),logWarn:e(\"jsWarn\")})});csa.plugin(function(o){var r,e,n,t,a,i=\"function\",u=\"willDisappear\",f=\"$app.\",p=\"$document.\",c=\"focus\",s=\"blur\",d=\"active\",l=\"resign\",$=o.global,b=o.exec,m=o.config[\"Transport.AnonymizeRequests\"]||!1,g=o(\"Events\"),h=$.location,v=$.document||{},y=$.P||{},P=(($.performance||{}).navigation||{}).type,w=o.on,k=o.emit,E=v.hidden,T={};h&&v&&(w($,\"beforeunload\",D),w($,\"pagehide\",D),w(v,\"visibilitychange\",R(p,function(){return v.visibilityState||\"unknown\"})),w(v,c,R(p+c)),w(v,s,R(p+s)),y.when&&y.when(\"mash\").execute(function(e){e&&(w(e,\"appPause\",R(f+\"pause\")),w(e,\"appResume\",R(f+\"resume\")),R(f+\"deviceready\")(),$.cordova&&$.cordova.platformId&&R(f+cordova.platformId)(),w(v,d,R(f+d)),w(v,l,R(f+l)))}),e=$.app||{},n=b(function(){k(f+\"willDisappear\"),D()}),a=typeof(t=e[u])==i,e[u]=b(function(){n(),a&&t()}),$.app||($.app=e),\"complete\"===v.readyState?A():w($,\"load\",A),E?S():x(),o.on(\"$app.blur\",S),o.on(\"$app.focus\",x),o.on(\"$document.blur\",S),o.on(\"$document.focus\",x),o.on(\"$document.hidden\",S),o.on(\"$document.visible\",x),o.register(\"SPA\",{newPage:I}),I({transitionType:{0:\"hard\",1:\"refresh\",2:\"back-button\"}[P]||\"unknown\"}));function I(n,e){var t=!!r,a=(e=e||{}).keepPageAttributes;t&&(k(\"$beforePageTransition\"),k(\"$pageTransition\")),t&&!a&&g(\"removeEntity\",\"page\"),r=o.UUID(),a?T.id=r:T={schemaId:\"<ns>.PageEntity.1\",id:r,url:m?h.href.split(\"?\")[0]:h.href,server:h.hostname,path:h.pathname,referrer:m?v.referrer.split(\"?\")[0]:v.referrer,title:v.title},Object.keys(n||{}).forEach(function(e){T[e]=n[e]}),g(\"setEntity\",{page:T}),k(\"$pageChange\",T,{buffered:1}),t&&k(\"$afterPageTransition\")}function A(){k(\"$load\"),k(\"$ready\"),k(\"$afterload\")}function D(){k(\"$ready\"),k(\"$beforeunload\"),k(\"$unload\"),k(\"$afterunload\")}function S(){E||(k(\"$visible\",!1,{buffered:1}),E=!0)}function x(){E&&(k(\"$visible\",!0,{buffered:1}),E=!1)}function R(n,t){return b(function(){var e=typeof t==i?n+t():n;k(e)})}});csa.plugin(function(c){var e=\"Events\",t=\"UNKNOWN\",s=\"id\",a=\"all\",n=\"messageId\",i=\"timestamp\",u=\"producerId\",o=\"application\",r=\"obfuscatedMarketplaceId\",f=\"entities\",d=\"schemaId\",l=\"version\",p=\"attributes\",v=\"<ns>\",g=\"session\",h=c.config,m=(c.global.location||{}).host,y=h[e+\".Namespace\"]||\"csa_other\",I=h.Application||\"Other\"+(m?\":\"+m:\"\"),b=h[\"Transport.AnonymizeRequests\"]||!1,O=c(\"Transport\"),E={},U=function(e,t){Object.keys(e).forEach(t)};function A(n,i,o){U(i,function(e){var t=o===a||(o||{})[e];e in n||(n[e]={version:1,id:i[e][s]||c.UUID()}),N(n[e],i[e],t)})}function N(t,n,i){U(n,function(e){!function(e,t,n){return\"string\"!=typeof t&&e!==l?c.error(\"Attribute is not of type string: \"+e):!0===n||1===n||(e===s||!!~(n||[]).indexOf(e))}(e,n[e],i)||(t[e]=n[e])})}function S(o,e,r){U(e,function(e){var t=o[e];if(t[d]){var n={},i={};n[s]=t[s],n[u]=t[u]||r,n[d]=t[d],n[l]=t[l]++,n[p]=i,k(n),N(i,t,1),w(i),O(\"log\",n)}})}function k(e){e[i]=function(e){return\"number\"==typeof e&&(e=new Date(e).toISOString()),e||c.time(\"ISO\")}(e[i]),e[n]=e[n]||c.UUID(),e[o]=I,e[r]=h.ObfuscatedMarketplaceId||t,e[d]=e[d].replace(v,y)}function w(e){delete e[l],delete e[d],delete e[u]}function D(o){var r={};this.log=function(e,t){var n={},i=(t||{}).ent;return e?\"string\"!=typeof e[d]?c.error(\"A valid schema id is required for the event\"):(k(e),A(n,E,i),A(n,r,i),A(n,e[f]||{},i),U(n,function(e){w(n[e])}),e[u]=o[u],e[f]=n,void O(\"log\",e,t)):c.error(\"The event cannot be undefined\")},this.setEntity=function(e){b&&delete e[g],A(r,e,a),S(r,e,o[u])}}h[\"KillSwitch.\"+e]||c.register(e,{setEntity:function(e){b&&delete e[g],A(E,e,a),S(E,e,\"csa\")},removeEntity:function(e){delete E[e]},instance:function(e){return new D(e)}})});csa.plugin(function(s){var c,g=\"Transport\",l=\"post\",f=\"preflight\",r=\"csa.cajun.\",i=\"store\",a=\"deleteStored\",u=\"sendBeacon\",t=\"__merge\",e=\"messageId\",n=\".FlushInterval\",o=0,d=s.config[g+\".BufferSize\"]||2e3,h=s.config[g+\".RetryDelay\"]||1500,p=s.config[g+\".AnonymizeRequests\"]||!1,v={},y=0,m=[],E=s.global,R=E.document,b=s.timeout,k=E.Object.keys,w=s.config[g+n]||5e3,I=w,O=s.config[g+n+\".BackoffFactor\"]||1,S=s.config[g+n+\".BackoffLimit\"]||3e4,B=0;function T(n){if(864e5<s.time()-+new Date(n.timestamp))return s.warn(\"Event is too old: \"+n);y<d&&(n[e]in v||(v[n[e]]=n,y++),\"function\"==typeof n[t]&&n[t](v[n[e]]),!B&&o&&(B=b(q,function(){var n=I;return I=Math.min(n*O,S),n}())))}function q(){m.forEach(function(e){var o=[];k(v).forEach(function(n){var t=v[n];e.accepts(t)&&o.push(t)}),o.length&&(e.chunks?e.chunks(o).forEach(function(n){D(e,n)}):D(e,o))}),v={},B=0}function D(t,e){function o(){s[a](r+n)}var n=s.UUID();s[i](r+n,JSON.stringify(e)),[function(n,t,e){var o=E.navigator||{},r=E.cordova||{};if(p)return 0;if(!o[u]||!n[l])return 0;n[f]&&r&&\"ios\"===r.platformId&&!c&&((new Image).src=n[f]().url,c=1);var i=n[l](t);if(!i.type&&o[u](i.url,i.body))return e(),1},function(n,t,e){if(!n[l])return 0;var o=n[l](t),r=o.url,i=o.body,c=o.type,f=new XMLHttpRequest,a=0;function u(n,t,e){f.open(\"POST\",n),f.withCredentials=!p,e&&f.setRequestHeader(\"Content-Type\",e),f.send(t)}return f.onload=function(){f.status<299?e():s.config[g+\".XHRRetries\"]&&a<3&&b(function(){u(r,i,c)},++a*h)},u(r,i,c),1}].some(function(n){try{return n(t,e,o)}catch(n){}})}k&&(s.once(\"$afterload\",function(){o=1,function(e){(s[i]()||[]).forEach(function(n){if(!n.indexOf(r))try{var t=s[i](n);s[a](n),JSON.parse(t).forEach(e)}catch(n){s.error(n)}})}(T),s.on(R,\"visibilitychange\",q,!1),q()}),s.once(\"$afterunload\",function(){o=1,q()}),s.on(\"$afterPageTransition\",function(){y=0,I=w}),s.register(g,{log:T,register:function(n){m.push(n)}}))});csa.plugin(function(n){var r=n.config[\"Events.SushiEndpoint\"];n(\"Transport\")(\"register\",{accepts:function(n){return n.schemaId},post:function(n){var t=n.map(function(n){return{data:n}});return{url:r,body:JSON.stringify({events:t})}},preflight:function(){var n,t=/\\/\\/(.*?)\\//.exec(r);return t&&t[1]&&(n=\"https://\"+t[1]+\"/ping\"),{url:n}},chunks:function(n){for(var t=[];500<n.length;)t.push(n.splice(0,500));return t.push(n),t}})});csa.plugin(function(n){var t,a,o,r,e=n.config,i=\"PageViews\",d=e[i+\".ImpressionMinimumTime\"]||1e3,s=\"hidden\",c=\"innerHeight\",g=\"innerWidth\",l=\"renderedTo\",f=l+\"Viewed\",m=l+\"Meaningful\",u=l+\"Impressed\",p=1,v=2,h=3,w=4,y=5,P=\"loaded\",I=7,T=8,b=n.global,E=n.on,V=n(\"Events\",{producerId:\"csa\"}),$=b.document,M={},S={},H=y;function K(e){if(!M[I]){var i;if(M[e]=n.time(),e!==h&&e!==P||(t=t||M[e]),t&&H===w)a=a||M[e],(i={})[m]=t-o,i[f]=a-o,R(\"PageView.4\",i),r=r||n.timeout(j,d);if(e!==y&&e!==p&&e!==v||(clearTimeout(r),r=0),e!==p&&e!==v||R(\"PageRender.3\",{transitionType:e===p?\"hard\":\"soft\"}),e===I)(i={})[m]=t-o,i[f]=a-o,i[u]=M[e]-o,R(\"PageImpressed.2\",i)}}function R(e,i){S[e]||(i.schemaId=\"<ns>.\"+e,V(\"log\",i,{ent:\"all\"}),S[e]=1)}function W(){0===b[c]&&0===b[g]?(H=T,n(\"Events\")(\"setEntity\",{page:{viewport:\"hidden-iframe\"}})):H=$[s]?y:w,K(H)}function j(){K(I),r=0}function k(){var e=o?v:p;M={},S={},a=t=0,o=n.time(),K(e),W()}function q(){var e=$.readyState;\"interactive\"===e&&K(h),\"complete\"===e&&K(P)}e[\"KillSwitch.\"+i]||($&&void 0!==$[s]?(k(),E($,\"visibilitychange\",W,!1),E($,\"readystatechange\",q,!1),E(\"$afterPageTransition\",k),E(\"$timing:loaded\",q),n.once(\"$load\",q)):n.warn(\"Page visibility not supported\"))});csa.plugin(function(c){var s=c.config[\"Interactions.ParentChainLength\"]||15,e=\"click\",r=\"touches\",f=\"timeStamp\",o=\"length\",u=\"pageX\",g=\"pageY\",p=\"pageXOffset\",h=\"pageYOffset\",m=250,v=5,d=200,l=.5,t={capture:!0,passive:!0},X=c.global,Y=c.emit,n=c.on,x=X.Math.abs,a=(X.document||{}).documentElement||{},y={x:0,y:0,t:0,sX:0,sY:0},N={x:0,y:0,t:0,sX:0,sY:0};function b(t){if(t.id)return\"//*[@id='\"+t.id+\"']\";var e=function(t){var e,n=1;for(e=t.previousSibling;e;e=e.previousSibling)e.nodeName===t.nodeName&&(n+=1);return n}(t),n=t.nodeName;return 1!==e&&(n+=\"[\"+e+\"]\"),t.parentNode&&(n=b(t.parentNode)+\"/\"+n),n}function I(t,e,n){var a=c(\"Content\",{target:n}),i={schemaId:\"<ns>.ContentInteraction.1\",interaction:t,interactionData:e,messageId:c.UUID()};if(n){var r=b(n);r&&(i.attribution=r);var o=function(t){for(var e=t,n=e.tagName,a=!1,i=t?t.href:null,r=0;r<s;r++){if(!e||!e.parentElement){a=!0;break}n=(e=e.parentElement).tagName+\"/\"+n,i=i||e.href}return a||(n=\".../\"+n),{pc:n,hr:i}}(n);o.pc&&(i.interactionData.parentChain=o.pc),o.hr&&(i.interactionData.href=o.hr)}a(\"log\",i),Y(\"$content.interaction\",i)}function i(t){I(e,{interactionX:\"\"+t.pageX,interactionY:\"\"+t.pageY},t.target)}function C(t){if(t&&t[r]&&1===t[r][o]){var e=t[r][0];N=y={e:t.target,x:e[u],y:e[g],t:t[f],sX:X[p],sY:X[h]}}}function D(t){if(t&&t[r]&&1===t[r][o]&&y&&N){var e=t[r][0],n=t[f],a=n-N.t,i={e:t.target,x:e[u],y:e[g],t:n,sX:X[p],sY:X[h]};N=i,d<=a&&(y=i)}}function E(t){if(t){var e=x(y.x-N.x),n=x(y.y-N.y),a=x(y.sX-N.sX),i=x(y.sY-N.sY),r=t[f]-y.t;if(m<1e3*e/r&&v<e||m<1e3*n/r&&v<n){var o=n<e;o&&a&&e*l<=a||!o&&i&&n*l<=i||I((o?\"horizontal\":\"vertical\")+\"-swipe\",{interactionX:\"\"+y.x,interactionY:\"\"+y.y,endX:\"\"+N.x,endY:\"\"+N.y},y.e)}}}n(a,e,i,t),n(a,\"touchstart\",C,t),n(a,\"touchmove\",D,t),n(a,\"touchend\",E,t)});csa.plugin(function(r){var a,o,t,e=\"MutationObserver\",c=\"observe\",n=\"disconnect\",s=\"mutObs\",f=\"_csa_flt\",l=\"_csa_llt\",b=\"_csa_mr\",d=\"_csa_mi\",m=\"lastChild\",p=\"length\",_={childList:!0,subtree:!0},g=10,h=4,u=r.global,i=u.document,v=i.body||i.documentElement,y=Date.now,O=[],k=[],w=[],L=0,B=0,I=0,M=1,Y=[],$=[],x=0,A=r.blank,C={buffered:1},D=0;function E(e){r.global.ue_csa_ss_tag||r.emit(\"$csmTag:\"+e,0,C)}y&&u[e]?(E(s+\"Yes\"),L=0,o=new u[e](N),(t=new u[e](F))[c](v,{attributes:!0,subtree:!0,attributeFilter:[\"src\"],attributeOldValue:!0}),A=r.on(u,\"scroll\",S,{passive:!0}),r.once(\"$ready\",V),M&&T(),r.register(\"SpeedIndexBuffers\",{getBuffers:function(e){e&&(V(),S(),e(L,Y,O,k,w),o&&o[n](),t&&t[n](),A())},registerListener:function(e){a=e},replayModuleIsLive:function(){r.raf(V)}})):E(s+\"No\");function F(e){O.push({t:y(),m:e})}function N(e){k.push({t:y(),m:e}),D||E(s+\"Active\"),D=I=1,a&&a()}function S(){I&&(w.push({t:y(),y:B}),B=u.pageYOffset,I=0)}function T(){for(var e=v,t=y(),n=[],s=[],u=0,i=0;e;)e[f]?++u:(e[f]=t,n.push(e),i=1),s[p]<h&&s.push(e),e[d]=x,e[l]=t,e=e[m];i&&(u<$[p]&&function(e){for(var t=e,n=$[p];t<n;t++){var s=$[t];if(s){if(s[b])break;if(s[d]<x){s[b]=1,o[c](s,_);break}}}}(u),$=s,Y.push({t:t,m:n}),++x,I=i,a&&a()),M&&(i?r.raf(T):r.timeout(T,g))}function V(){M&&(M=0,T(),o[c](v,_))}});\n",
       "\n",
       "</script>\n",
       "<script type=\"text/javascript\">\n",
       "\n",
       "(function(){function l(a){for(var c=b.location.search.substring(1).split(\"&\"),e=0;e<c.length;e++){var d=c[e].split(\"=\");if(d[0]===a)return d[1]}}window.amzn=window.amzn||{};amzn.copilot=amzn.copilot||{};var b=window,f=document,g=b.P||b.AmazonUIPageJS,h=f.head||f.getElementsByTagName(\"head\")[0],m=0,n=0;amzn.copilot.checkCoPilotSession=function(){f.cookie.match(\"cpidv\")&&(\"undefined\"!==typeof jQuery&&k(jQuery),g&&g.when&&g.when(\"jQuery\").execute(function(a){k(a)}),b.amznJQ&&b.amznJQ.available&&b.amznJQ.available(\"jQuery\",\n",
       "function(){k(jQuery)}),b.jQuery||g||b.amznJQ||q())};var q=function(){m?b.ue&&\"function\"===typeof b.ue.count&&b.ue.count(\"cpJQUnavailable\",1):(m=1,f.addEventListener?f.addEventListener(\"DOMContentLoaded\",amzn.copilot.checkCoPilotSession,!1):f.attachEvent&&f.attachEvent(\"onreadystatechange\",function(){\"complete\"===f.readyState&&amzn.copilot.checkCoPilotSession()}))},k=function(a){if(!n){n=1;amzn.copilot.jQuery=a;a=l(\"debugJS\");var c=\"https:\"===b.location.protocol?1:0,e=1;url=\"/gp/copilot/handlers/copilot_strings_resources.html\";\n",
       "window.texas&&texas.locations&&(url=texas.locations.makeUrl(url));g&&g.AUI_BUILD_DATE&&(e=0);amzn.copilot.jQuery.ajax&&amzn.copilot.jQuery.ajax({url:url,dataType:\"json\",data:{isDebug:a,isSecure:c,includeAUIP:e},success:function(a){amzn.copilot.vip=a.serviceEndPoint;amzn.copilot.enableMultipleTabSession=a.isFollowMe;r(a)},error:function(){b.ue.count(\"cpLoadResourceError\",1)}})}},r=function(a){var c=amzn.copilot.jQuery,e=function(){amzn.copilot.setup(c.extend({isContinuedSession:!0},a))};a.CSSUrls&&\n",
       "c.each(a.CSSUrls[0],function(a,c){var b=f.createElement(\"link\");b.type=\"text/css\";b.rel=\"stylesheet\";b.href=c;h.appendChild(b)});a.CSSTag&&s(a.CSSTag);if(a.JSUrls){var d=l(\"forceSynchronousJS\"),b=a.JSUrls[0];c.each(b,function(a,c){a===b.length-1?p(c,d,e):p(c,d)})}a.JSTag&&(t(a.JSTag),P.when(\"CSCoPilotPresenterAsset\").execute(function(){e()}))},t=function(a){var c=f.createElement(\"div\");c.innerHTML=a;a=0;for(var b=c.children.length;a<b;a++){var d=f.createElement(\"script\");d.type=\"text/javascript\";\n",
       "d.innerHTML=c.children[a].innerHTML;h.appendChild(d)}},s=function(a){var b=f.createElement(\"div\");b.innerHTML=a;a=0;for(var e=b.children.length;a<e;a++)h.appendChild(b.children[a])},p=function(a,b,e){var d=f.createElement(\"script\");d.type=\"text/javascript\";d.src=a;d.async=b?!1:!0;e&&(d.onload=e);h.appendChild(d)}})();\n",
       "\n",
       "amzn.copilot.checkCoPilotSession();\n",
       "\n",
       "</script>\n",
       "<script>window.ue && ue.count && ue.count('CSMLibrarySize', 17818)</script><div id=\"a-page\"><script data-a-state='{\"key\":\"a-wlab-states\"}' type=\"a-state\">{\"AUI_ACCORDION_A11Y_ROLE_354025\":\"C\"}</script>\n",
       "<div class=\"a-section a-padding-medium auth-workflow\">\n",
       "<div class=\"a-section a-spacing-none auth-navbar\">\n",
       "<div class=\"a-section a-spacing-medium a-text-center\">\n",
       "<a class=\"a-link-nav-icon\" href=\"/ref=ap_frn_logo\" tabindex=\"-1\">\n",
       "<i aria-label=\"Amazon\" class=\"a-icon a-icon-logo\" role=\"img\"></i>\n",
       "<i class=\"a-icon a-icon-domain-in a-icon-domain\" role=\"presentation\"></i>\n",
       "</a>\n",
       "</div>\n",
       "</div>\n",
       "<div class=\"a-section\" id=\"authportal-center-section\">\n",
       "<div class=\"a-section\" id=\"authportal-main-section\">\n",
       "<div class=\"a-section a-spacing-base auth-pagelet-container\">\n",
       "<div aria-atomic=\"true\" aria-live=\"polite\" class=\"a-box a-alert a-alert-warning\" id=\"auth-cookie-warning-message\"><div class=\"a-box-inner a-alert-container\"><h4 class=\"a-alert-heading\">Please Enable Cookies to Continue</h4><i class=\"a-icon a-icon-alert\"></i><div class=\"a-alert-content\">\n",
       "<p>\n",
       "<a class=\"a-link-normal\" href=\"/gp/help/customer/display.html/ref=ap_cookie_error_help?\">\n",
       "</a>\n",
       "</p>\n",
       "</div></div></div>\n",
       "</div>\n",
       "<div class=\"a-section auth-pagelet-container\">\n",
       "<!-- Set cross domain sso variables to be used for making Ajax calls to central Identity domain -->\n",
       "<!-- Set cross domain sso variables to be used for making Ajax calls to central Identity domain -->\n",
       "<!-- show a warning modal dialog when the third party account is connected with Amazon -->\n",
       "<div class=\"a-section a-spacing-base\">\n",
       "<div class=\"a-section\">\n",
       "<form action=\"https://www.amazon.in/ap/signin\" class=\"auth-validate-form auth-real-time-validation a-spacing-none\" method=\"post\" name=\"signIn\" novalidate=\"\">\n",
       "<input name=\"appActionToken\" type=\"hidden\" value=\"2LF51uI61mWd5ALMXL30WE6YCawj3D\"/><input name=\"appAction\" type=\"hidden\" value=\"SIGNIN_PWD_COLLECT\"/>\n",
       "<input name=\"subPageType\" type=\"hidden\" value=\"SignInClaimCollect\"/>\n",
       "<input name=\"openid.return_to\" type=\"hidden\" value=\"ape:aHR0cHM6Ly93d3cuYW1hem9uLmluL05ldy1BcHBsZS1pUGhvbmUtMTItMTI4R0IvcHJvZHVjdC1yZXZpZXdzL0IwOEw1VE5KSEcvcmVmPWNtX2NyX2FycF9kX3BhZ2luZ19idG1fbmV4dF8yP2llPVVURjgmcmV2aWV3ZXJUeXBlPWFsbF9yZXZpZXdzJnBhZ2VOdW1iZXI9Mg==\"/>\n",
       "<input name=\"prevRID\" type=\"hidden\" value=\"ape:SlkwMDBZUlE0S0NGOFZaUEM0UEc=\"/>\n",
       "<input name=\"workflowState\" type=\"hidden\" value=\"eyJ6aXAiOiJERUYiLCJlbmMiOiJBMjU2R0NNIiwiYWxnIjoiQTI1NktXIn0.3oem2lT8LmSMb0mYiC_BEiQiXt5uBc-6g3ZeGjDjnVzdLi5aD1u5NA.9sQrrAgdP902LVPu.5mVtmN-dVTrUoA8lUlts7BR7XGAhEW_7JdFh2LccsVsk29_PDCAYWXkZsdxzTxL8gyfIGNtyjSdkQ0bUTVp95wC_QRprIX9J9ZW7Ouk71U5hOLNm-AyfAGuXz5A4Kj1fnG6u5ztsqlUkkUaCS1udDWBRNOpAkD7n1P0wVmUUYGCxGb-QjWYzYgv8ExpwCl9TGrbFriuxvMefPvab5Ve8yQaOd6uO8lHF3nJy5fnNtv7jh04x3o8G6DQoSLr2NEdKAaqm9sZ2-YAQXwWxDAr21b1jrmOGANQfqs6JpvQeFqaD7r2hQJOnEtXjpdXE2Qq3QujTW0BJ5xTYLEqpYRPMH-Q69Bx95AmJZA.3rTk1hzh36l7FKKIZOnAsA\"/>\n",
       "<div class=\"a-section\">\n",
       "<div class=\"a-box\"><div class=\"a-box-inner a-padding-extra-large\">\n",
       "<h1 class=\"a-spacing-small\">\n",
       "            Sign in\n",
       "          </h1>\n",
       "<!-- optional subheading element -->\n",
       "<div class=\"a-row a-spacing-base\">\n",
       "<label class=\"a-form-label\" for=\"ap_email\">\n",
       "              Email or mobile phone number\n",
       "            </label>\n",
       "<input class=\"a-input-text a-span12 auth-autofocus auth-required-field\" id=\"ap_email\" maxlength=\"128\" name=\"email\" tabindex=\"1\" type=\"email\"/>\n",
       "<input class=\"a-input-text hide\" id=\"ap-credential-autofill-hint\" maxlength=\"1024\" name=\"password\" type=\"password\"/>\n",
       "<div class=\"a-box a-alert-inline a-alert-inline-error auth-inlined-error-message a-spacing-top-mini\" id=\"auth-email-missing-alert\" role=\"alert\"><div class=\"a-box-inner a-alert-container\"><i class=\"a-icon a-icon-alert\"></i><div class=\"a-alert-content\">\n",
       "  Enter your email or mobile phone number\n",
       "</div></div></div>\n",
       "</div>\n",
       "<input name=\"create\" type=\"hidden\" value=\"0\"/>\n",
       "<div class=\"a-section\">\n",
       "<span class=\"a-button a-button-span12 a-button-primary\" id=\"continue\"><span class=\"a-button-inner\"><input aria-labelledby=\"continue-announce\" class=\"a-button-input\" id=\"continue\" tabindex=\"5\" type=\"submit\"/><span aria-hidden=\"true\" class=\"a-button-text\" id=\"continue-announce\">\n",
       "              Continue\n",
       "            </span></span></span>\n",
       "<div class=\"a-row a-spacing-top-medium a-size-small\" id=\"legalTextRow\">\n",
       "  By continuing, you agree to Amazon's <a href=\"/gp/help/customer/display.html/ref=ap_signin_notification_condition_of_use?ie=UTF8&amp;nodeId=200545940\">Conditions of Use</a> and <a href=\"/gp/help/customer/display.html/ref=ap_signin_notification_privacy_notice?ie=UTF8&amp;nodeId=200534380\">Privacy Notice</a>.\n",
       "</div>\n",
       "<script>\n",
       "  function cf() {\n",
       "    if (typeof window.uet === 'function') {\n",
       "      uet('cf');\n",
       "    }\n",
       "    if (window.embedNotification &&\n",
       "      typeof window.embedNotification.onCF === 'function') {\n",
       "      embedNotification.onCF();\n",
       "    }\n",
       "  }\n",
       "</script>\n",
       "<script type=\"text/javascript\">cf()</script>\n",
       "</div>\n",
       "<div class=\"a-section\">\n",
       "<div class=\"a-row a-expander-container a-expander-inline-container\">\n",
       "<a aria-expanded=\"false\" class=\"a-expander-header a-declarative a-expander-inline-header a-link-expander\" data-a-expander-toggle='{\"allowLinkDefault\":true, \"expand_prompt\":\"\", \"collapse_prompt\":\"\"}' data-action=\"a-expander-toggle\" data-csa-c-func-deps=\"aui-da-a-expander-toggle\" data-csa-c-type=\"widget\" data-csa-interaction-events=\"click\" href=\"javascript:void(0)\" role=\"button\"><i class=\"a-icon a-icon-expand\"></i><span class=\"a-expander-prompt\">\n",
       "      Need help?\n",
       "    </span></a>\n",
       "<div aria-expanded=\"false\" class=\"a-expander-content a-expander-inline-content a-expander-inner\" style=\"display:none\">\n",
       "<a class=\"a-link-normal\" href=\"https://www.amazon.in/ap/forgotpassword?showRememberMe=true&amp;openid.pape.max_auth_age=3600&amp;openid.identity=http%3A%2F%2Fspecs.openid.net%2Fauth%2F2.0%2Fidentifier_select&amp;language=en_IN&amp;pageId=inflex&amp;mobileBrowserWeblabTreatment=C&amp;openid.return_to=https%3A%2F%2Fwww.amazon.in%2FNew-Apple-iPhone-12-128GB%2Fproduct-reviews%2FB08L5TNJHG%2Fref%3Dcm_cr_arp_d_paging_btm_next_2%3Fie%3DUTF8%26reviewerType%3Dall_reviews%26pageNumber%3D2&amp;prevRID=JY000YRQ4KCF8VZPC4PG&amp;openid.assoc_handle=inflex&amp;openid.mode=checkid_setup&amp;desktopBrowserWeblabTreatment=C&amp;prepopulatedLoginId=&amp;failedSignInCount=0&amp;openid.claimed_id=http%3A%2F%2Fspecs.openid.net%2Fauth%2F2.0%2Fidentifier_select&amp;openid.ns=http%3A%2F%2Fspecs.openid.net%2Fauth%2F2.0\" id=\"auth-fpp-link-bottom\">\n",
       "  Forgot Password\n",
       "</a>\n",
       "</div>\n",
       "<div aria-expanded=\"false\" class=\"a-expander-content a-expander-inline-content a-expander-inner\" style=\"display:none\">\n",
       "<a class=\"a-link-normal\" href=\"/gp/help/customer/account-issues/ref=ap_login_with_otp_claim_collection?ie=UTF8\" id=\"ap-other-signin-issues-link\">\n",
       "        Other issues with Sign-In\n",
       "      </a>\n",
       "</div>\n",
       "</div>\n",
       "</div>\n",
       "</div></div>\n",
       "</div>\n",
       "</form>\n",
       "</div>\n",
       "<div class=\"a-divider a-divider-break\"><h5 aria-level=\"5\">New to Amazon?</h5></div>\n",
       "<span class=\"a-button a-button-span12 a-button-base\" id=\"auth-create-account-link\"><span class=\"a-button-inner\"><a class=\"a-button-text\" href=\"https://www.amazon.in/ap/register?showRememberMe=true&amp;openid.pape.max_auth_age=3600&amp;openid.identity=http%3A%2F%2Fspecs.openid.net%2Fauth%2F2.0%2Fidentifier_select&amp;language=en_IN&amp;pageId=inflex&amp;mobileBrowserWeblabTreatment=C&amp;openid.return_to=https%3A%2F%2Fwww.amazon.in%2FNew-Apple-iPhone-12-128GB%2Fproduct-reviews%2FB08L5TNJHG%2Fref%3Dcm_cr_arp_d_paging_btm_next_2%3Fie%3DUTF8%26reviewerType%3Dall_reviews%26pageNumber%3D2&amp;prevRID=JY000YRQ4KCF8VZPC4PG&amp;openid.assoc_handle=inflex&amp;openid.mode=checkid_setup&amp;desktopBrowserWeblabTreatment=C&amp;prepopulatedLoginId=&amp;failedSignInCount=0&amp;openid.claimed_id=http%3A%2F%2Fspecs.openid.net%2Fauth%2F2.0%2Fidentifier_select&amp;openid.ns=http%3A%2F%2Fspecs.openid.net%2Fauth%2F2.0\" id=\"createAccountSubmit\">\n",
       "          Create your Amazon account\n",
       "        </a></span></span>\n",
       "<script>\n",
       "    P.when('A', 'IdentityWebAuthn', 'ready').register('webauthn', async function(A, IdentityWebAuthn) {\n",
       "      /*\n",
       "      This is a temporary workaround for changing the autocomplete value for the text input field. Once AUI\n",
       "      adds the needed enum then we can change the value above.\n",
       "      */\n",
       "      A.$('#ap_email').attr(\"autocomplete\", \"webauthn\");\n",
       "      const isCMA = await PublicKeyCredential.isConditionalMediationAvailable();\n",
       "      const isPlatformSupported = await PublicKeyCredential.isUserVerifyingPlatformAuthenticatorAvailable();\n",
       "      if (isPlatformSupported && isCMA) {\n",
       "        const randomString = (Math.random() + 1).toString(36).substring(2);\n",
       "        const abortController = new AbortController();\n",
       "\n",
       "        const publicKeyCredentialRequestOptions = {\n",
       "          mediation: \"conditional\",\n",
       "          signal: abortController.signal,\n",
       "          publicKey: {\n",
       "            challenge: Uint8Array.from(randomString, c => c.charCodeAt(0)),\n",
       "            timeout: 60000,\n",
       "            rpId: window.location.hostname,\n",
       "            userVerification: \"preferred\"\n",
       "          }\n",
       "        };\n",
       "\n",
       "        // Once implemented, we will use IdentityWebAuthn functions to invoke autofill.\n",
       "        navigator.credentials.get(publicKeyCredentialRequestOptions).then(assertion => {\n",
       "          const clientData = JSON.parse(new TextDecoder().decode(assertion.response.clientDataJSON));\n",
       "          const authenticatorData = new TextDecoder().decode(assertion.response.clientDataJSON);\n",
       "\n",
       "          const output = {\n",
       "            clientData: clientData,\n",
       "            authenticatorData: authenticatorData\n",
       "          };\n",
       "\n",
       "          console.log(output);\n",
       "        }).catch(error => console.log(error));\n",
       "      }\n",
       "    });\n",
       "  </script>\n",
       "</div>\n",
       "</div>\n",
       "</div>\n",
       "</div>\n",
       "<div id=\"right-2\">\n",
       "</div>\n",
       "<div class=\"a-section a-spacing-top-extra-large auth-footer\">\n",
       "<div class=\"a-divider a-divider-section\"><div class=\"a-divider-inner\"></div></div>\n",
       "<div class=\"a-section a-spacing-small a-text-center a-size-mini\">\n",
       "<span class=\"auth-footer-seperator\"></span>\n",
       "<a class=\"a-link-normal\" href=\"/gp/help/customer/display.html/ref=ap_desktop_footer_cou?ie=UTF8&amp;nodeId=200545940\" target=\"_blank\">\n",
       "      Conditions of Use\n",
       "    </a>\n",
       "<span class=\"auth-footer-seperator\"></span>\n",
       "<a class=\"a-link-normal\" href=\"/gp/help/customer/display.html/ref=ap_desktop_footer_privacy_notice?ie=UTF8&amp;nodeId=200534380\" target=\"_blank\">\n",
       "      Privacy Notice\n",
       "    </a>\n",
       "<span class=\"auth-footer-seperator\"></span>\n",
       "<a class=\"a-link-normal\" href=\"/help\" target=\"_blank\">\n",
       "      Help\n",
       "    </a>\n",
       "<span class=\"auth-footer-seperator\"></span>\n",
       "</div>\n",
       "<div class=\"a-section a-spacing-none a-text-center\">\n",
       "<span class=\"a-size-mini a-color-secondary\">\n",
       "  © 1996-2023, Amazon.com, Inc. or its affiliates\n",
       "</span>\n",
       "</div>\n",
       "</div>\n",
       "</div>\n",
       "<div class=\"auth-external-javascript\" data-external-javascripts=\"\" id=\"auth-external-javascript\">\n",
       "</div>\n",
       "<script type=\"text/javascript\">\n",
       "  try {\n",
       "    var metadataList = document.getElementsByName('metadata1');\n",
       "    if (metadataList.length == 0) {\n",
       "      var input = document.createElement('input');\n",
       "      input.name = 'metadata1';\n",
       "      input.type = 'hidden';\n",
       "      input.value = 'true';\n",
       "\n",
       "      var authenticationFormList = document.getElementsByName('signIn');\n",
       "      for (var index = 0; index < authenticationFormList.length; index++) {\n",
       "        authenticationFormList[index].appendChild(input);\n",
       "      }\n",
       "    } else {\n",
       "      for (var index = 0; index < metadataList.length; index++) {\n",
       "        metadataList[index].value = 'true';\n",
       "      }\n",
       "    }\n",
       "  } catch (e) {\n",
       "    if (typeof window.ueLogError === 'function') {\n",
       "      window.ueLogError(e, {\n",
       "        message: 'Failed to populate default metadata value',\n",
       "        logLevel: 'warn',\n",
       "        attribution: 'FWCIMAssets'\n",
       "      });\n",
       "    }\n",
       "  }\n",
       "</script>\n",
       "<script type=\"text/javascript\">\n",
       "    window.fwcimCmd = [\n",
       "        \n",
       "            ['profile', 'signIn']\n",
       "            \n",
       "        \n",
       "    ];\n",
       "</script>\n",
       "<!--ACICSetup-->\n",
       "<script type=\"text/javascript\">\n",
       "var acicActionType = false;\n",
       "P.when('auth-validate-form-handler', \"acic-component\", \"ready\").execute('acic-setup', function(AuthValidateFormHandler) {\n",
       "    var aautTargetForm = document.querySelector('form[name=\"signIn\"]');\n",
       "    if (aautTargetForm) {\n",
       "        setAAToken(\"262-2745510-6589301-\" + Date.now(), aautTargetForm);\n",
       "        if ((typeof acic !== 'undefined') && (acic != null)) {\n",
       "            acic.setupACIC({\n",
       "                \"data-mode\": \"1\", \n",
       "                \"data-ref-id\": \"ap\",\n",
       "                \"data-context\": getClientContext(aautTargetForm),\n",
       "                \"data-callback\": function(data) {\n",
       "                    if (data.sessionToken) {\n",
       "                        setAAToken(data.sessionToken, aautTargetForm);\n",
       "                    }\n",
       "                    if (data.actionType && data.actionType !== \"PASS\") {\n",
       "                        acicActionType = true;\n",
       "                    }\n",
       "                },\n",
       "                \"data-host-config\": \"prod.EUAmazon\"\n",
       "            });\n",
       "        }\n",
       "\n",
       "        var submitInputs = aautTargetForm.querySelectorAll('input[type=\"submit\"]');\n",
       "        if (submitInputs && submitInputs.length === 1) {\n",
       "            var submitInput = submitInputs[0];\n",
       "            submitInput.addEventListener(\"click\", function(event) {\n",
       "                acicEventListener(AuthValidateFormHandler, aautTargetForm, submitInput, event);\n",
       "            });\n",
       "        }\n",
       "    }\n",
       "});\n",
       "\n",
       "var acicShouldSetup = true;\n",
       "function acicEventListener(AuthValidateFormHandler, aautTargetForm, submitInput, event) {\n",
       "    \n",
       "    \n",
       "    if (acicShouldSetup &&\n",
       "        (typeof acic !== 'undefined') && (acic != null) &&\n",
       "        AuthValidateFormHandler.validate(aautTargetForm) &&\n",
       "        (acicActionType || isTestEmailPattern(getEmailAddress(aautTargetForm)))) {\n",
       "        event.stopPropagation();\n",
       "        event.stopImmediatePropagation();\n",
       "        event.preventDefault();\n",
       "\n",
       "        acic.setupACIC({\n",
       "            \"data-ref-id\": \"ap\",\n",
       "            \"data-context\": getClientContext(aautTargetForm),\n",
       "            \"data-callback\": function(data) {\n",
       "                if (data.sessionToken) {\n",
       "                    setAAToken(data.sessionToken, aautTargetForm);\n",
       "                }\n",
       "                submitForm(submitInput);\n",
       "            },\n",
       "            \"data-host-config\": \"prod.EUAmazon\"\n",
       "        });\n",
       "    }\n",
       "}\n",
       "\n",
       "function submitForm(submitInput) {\n",
       "    acicShouldSetup = false;\n",
       "    submitInput.click();\n",
       "}\n",
       "\n",
       "function setAAToken(sessionToken, aautTargetForm) {\n",
       "    if (sessionToken) {\n",
       "        var aaTokenInput = aautTargetForm.querySelector(\"input[name='aaToken']\");\n",
       "        if (!aaTokenInput) {\n",
       "            aaTokenInput = document.createElement(\"input\");\n",
       "            aaTokenInput.type = \"hidden\";\n",
       "            aaTokenInput.name = \"aaToken\";\n",
       "            aautTargetForm.appendChild(aaTokenInput);\n",
       "        }\n",
       "        aaTokenInput.value = sessionToken;\n",
       "    }\n",
       "}\n",
       "\n",
       "function getClientContext(aautTargetForm) {\n",
       "    var context = {};\n",
       "    var emailAddress = getEmailAddress(aautTargetForm);\n",
       "    if (emailAddress) {\n",
       "        context.emailAddress = emailAddress;\n",
       "    }\n",
       "    context.sessionId = \"262-2745510-6589301\";\n",
       "    context.marketplaceId = \"A21TJRUUN4KGV\";\n",
       "    context.rid = \"JY000YRQ4KCF8VZPC4PG\";\n",
       "    context.ubid = \"257-9512114-1849954\";\n",
       "\n",
       "    context.pageType = \"AuthenticationPortal\";\n",
       "\n",
       "    var appActionInput = aautTargetForm.querySelector(\"input[name='appAction']\");\n",
       "    if (appActionInput) {\n",
       "        context.appAction = appActionInput.value;\n",
       "    }\n",
       "\n",
       "    var subPageTypeInput = aautTargetForm.querySelector(\"input[name='subPageType']\");\n",
       "    if (subPageTypeInput) {\n",
       "        context.subPageType = subPageTypeInput.value;\n",
       "    }\n",
       "\n",
       "    return JSON.stringify(context);\n",
       "}\n",
       "\n",
       "function getEmailAddress(aautTargetForm) {\n",
       "    var emailInput = aautTargetForm.querySelector(\"input[type='email']\");\n",
       "    if (!emailInput) {\n",
       "        emailInput = aautTargetForm.querySelector(\"input[name='email']\");\n",
       "    }\n",
       "    if (emailInput) {\n",
       "        return emailInput.value;\n",
       "    }\n",
       "    return null;\n",
       "}\n",
       "\n",
       "function isTestEmailPattern(emailAddress) {\n",
       "    \n",
       "    return emailAddress &&\n",
       "        (emailAddress.indexOf('sentinels') >= 0) &&\n",
       "        emailAddress.endsWith('@amazon.com');\n",
       "}\n",
       "</script>\n",
       "<!-- cache slot rendered -->\n",
       "</div><div id=\"be\" style=\"display:none;visibility:hidden;\"><form action=\"get\" name=\"ue_backdetect\"><input name=\"ue_back\" type=\"hidden\" value=\"1\"/></form>\n",
       "<script type=\"text/javascript\">\n",
       "window.ue_ibe = (window.ue_ibe || 0) + 1;\n",
       "if (window.ue_ibe === 1) {\n",
       "(function(e,c){function h(b,a){f.push([b,a])}function g(b,a){if(b){var c=e.head||e.getElementsByTagName(\"head\")[0]||e.documentElement,d=e.createElement(\"script\");d.async=\"async\";d.src=b;d.setAttribute(\"crossorigin\",\"anonymous\");a&&a.onerror&&(d.onerror=a.onerror);a&&a.onload&&(d.onload=a.onload);c.insertBefore(d,c.firstChild)}}function k(){ue.uels=g;for(var b=0;b<f.length;b++){var a=f[b];g(a[0],a[1])}ue.deffered=1}var f=[];c.ue&&(ue.uels=h,c.ue.attach&&c.ue.attach(\"load\",k))})(document,window);\n",
       "\n",
       "\n",
       "if (window.ue && window.ue.uels) {\n",
       "            ue.uels(\"https://images-eu.ssl-images-amazon.com/images/I/31bJewCvY-L.js\");\n",
       "}\n",
       "var ue_mbl=ue_csm.ue.exec(function(h,a){function s(c){b=c||{};a.AMZNPerformance=b;b.transition=b.transition||{};b.timing=b.timing||{};if(a.csa){var d;b.timing.transitionStart&&(d=b.timing.transitionStart);b.timing.processStart&&(d=b.timing.processStart);d&&(csa(\"PageTiming\")(\"mark\",\"nativeTransitionStart\",d),csa(\"PageTiming\")(\"mark\",\"transitionStart\",d))}h.ue.exec(t,\"csm-android-check\")()&&b.tags instanceof Array&&(c=-1!=b.tags.indexOf(\"usesAppStartTime\")||b.transition.type?!b.transition.type&&-1<\n",
       "b.tags.indexOf(\"usesAppStartTime\")?\"warm-start\":void 0:\"view-transition\",c&&(b.transition.type=c));n=null;\"reload\"===e._nt&&h.ue_orct||\"intrapage-transition\"===e._nt?u(b):\"undefined\"===typeof e._nt&&f&&f.timing&&f.timing.navigationStart&&a.history&&\"function\"===typeof a.History&&\"object\"===typeof a.history&&a.history.length&&1!=a.history.length&&(b.timing.transitionStart=f.timing.navigationStart);p&&e.ssw(q,\"\"+(b.timing.transitionStart||n||\"\"));c=b.transition;d=e._nt?e._nt:void 0;c.subType=d;a.ue&&\n",
       "a.ue.tag&&a.ue.tag(\"has-AMZNPerformance\");e.isl&&a.uex&&a.uex(\"at\",\"csm-timing\");v()}function w(c){a.ue&&a.ue.count&&a.ue.count(\"csm-cordova-plugin-failed\",1)}function t(){return a.cordova&&a.cordova.platformId&&\"android\"==a.cordova.platformId}function u(){if(p){var c=e.ssw(q),a=function(){},x=e.count||a,a=e.tag||a,k=b.timing.transitionStart,g=c&&!c.e&&c.val;n=c=g?+c.val:null;k&&g&&k>c?(x(\"csm.jumpStart.mtsDiff\",k-c||0),a(\"csm-rld-mts-gt\")):k&&g?a(\"csm-rld-mts-leq\"):g?k||a(\"csm-rld-mts-no-new\"):a(\"csm-rld-mts-no-old\")}f&&\n",
       "f.timing&&f.timing.navigationStart?b.timing.transitionStart=f.timing.navigationStart:delete b.timing.transitionStart}function v(){try{a.P.register(\"AMZNPerformance\",function(){return b})}catch(c){}}function r(){if(!b)return\"\";ue_mbl.cnt=null;var c=b.timing,d=b.transition,d=[\"mts\",l(c.transitionStart),\"mps\",l(c.processStart),\"mtt\",d.type,\"mtst\",d.subType,\"mtlt\",d.launchType];a.ue&&a.ue.tag&&(c.fr_ovr&&a.ue.tag(\"fr_ovr\"),c.fcp_ovr&&a.ue.tag(\"fcp_ovr\"),d.push(\"fr_ovr\",l(c.fr_ovr),\"fcp_ovr\",l(c.fcp_ovr)));\n",
       "for(var c=\"\",e=0;e<d.length;e+=2){var f=d[e],g=d[e+1];\"undefined\"!==typeof g&&(c+=\"&\"+f+\"=\"+g)}return c}function l(a){if(\"undefined\"!==typeof a&&\"undefined\"!==typeof m)return a-m}function y(a,d){b&&(m=d,b.timing.transitionStart=a,b.transition.type=\"view-transition\",b.transition.subType=\"ajax-transition\",b.transition.launchType=\"normal\",ue_mbl.cnt=r)}var e=h.ue||{},m=h.ue_t0,q=\"csm-last-mts\",p=1===h.ue_sswmts,n,f=a.performance,b;if(a.P&&a.P.when&&a.P.register)return 1===a.ue_fnt&&(m=a.aPageStart||\n",
       "h.ue_t0),a.P.when(\"CSMPlugin\").execute(function(a){a.buildAMZNPerformance&&a.buildAMZNPerformance({successCallback:s,failCallback:w})}),{cnt:r,ajax:y}},\"mobile-timing\")(ue_csm,ue_csm.window);\n",
       "\n",
       "(function(d){d._uess=function(){var a=\"\";screen&&screen.width&&screen.height&&(a+=\"&sw=\"+screen.width+\"&sh=\"+screen.height);var b=function(a){var b=document.documentElement[\"client\"+a];return\"CSS1Compat\"===document.compatMode&&b||document.body[\"client\"+a]||b},c=b(\"Width\"),b=b(\"Height\");c&&b&&(a+=\"&vw=\"+c+\"&vh=\"+b);return a}})(ue_csm);\n",
       "\n",
       "(function(a){function c(a){d(\"log\",a)}var d=csa(\"Errors\",{producerId:\"csa\"});a.ue_err.buffer&&d&&(a.ue_err.buffer.forEach(c),a.ue_err.buffer.push=c);var b=document.ue_backdetect;b&&b.ue_back&&a.ue&&(a.ue.bfini=b.ue_back.value);a.uet&&a.uet(\"be\");a.onLdEnd&&(window.addEventListener?window.addEventListener(\"load\",a.onLdEnd,!1):window.attachEvent&&window.attachEvent(\"onload\",a.onLdEnd));a.ueh&&a.ueh(0,window,\"load\",a.onLd,1);a.ue&&a.ue.tag&&(a.ue_furl?(b=a.ue_furl.replace(/\\./g,\"-\"),a.ue.tag(b)):a.ue.tag(\"nofls\"))})(ue_csm);\n",
       "\n",
       "(function(g,h){function d(a,d){var b={};if(!e||!f)try{var c=h.sessionStorage;c?a&&(\"undefined\"!==typeof d?c.setItem(a,d):b.val=c.getItem(a)):f=1}catch(g){e=1}e&&(b.e=1);return b}var b=g.ue||{},a=\"\",f,e,c,a=d(\"csmtid\");f?a=\"NA\":a.e?a=\"ET\":(a=a.val,a||(a=b.oid||\"NI\",d(\"csmtid\",a)),c=d(b.oid),c.e||(c.val=c.val||0,d(b.oid,c.val+1)),b.ssw=d);b.tabid=a})(ue_csm,ue_csm.window);\n",
       "\n",
       "ue_csm.ue.exec(function(e,f){var a=e.ue||{},b=a._wlo,d;if(a.ssw){d=a.ssw(\"CSM_previousURL\").val;var c=f.location,b=b?b:c&&c.href?c.href.split(\"#\")[0]:void 0;c=(b||\"\")===a.ssw(\"CSM_previousURL\").val;!c&&b&&a.ssw(\"CSM_previousURL\",b);d=c?\"reload\":d?\"intrapage-transition\":\"first-view\"}else d=\"unknown\";a._nt=d},\"NavTypeModule\")(ue_csm,window);\n",
       "ue_csm.ue.exec(function(c,a){function g(a){a.run(function(e){d.tag(\"csm-feature-\"+a.name+\":\"+e);d.isl&&c.uex(\"at\")})}if(a.addEventListener)for(var d=c.ue||{},f=[{name:\"touch-enabled\",run:function(b){var e=function(){a.removeEventListener(\"touchstart\",c,!0);a.removeEventListener(\"mousemove\",d,!0)},c=function(){b(\"true\");e()},d=function(){b(\"false\");e()};a.addEventListener(\"touchstart\",c,!0);a.addEventListener(\"mousemove\",d,!0)}}],b=0;b<f.length;b++)g(f[b])},\"csm-features\")(ue_csm,window);\n",
       "\n",
       "\n",
       "(function(a,e){function c(a){d(\"recordCounter\",a.c,a.v)}var b=e.images,d=csa(\"Metrics\",{producerId:\"csa\"});b&&b.length&&a.ue.count(\"totalImages\",b.length);a.ue.cv.buffer&&d&&(a.ue.cv.buffer.forEach(c),a.ue.cv.buffer.push=c)})(ue_csm,document);\n",
       "(function(b){function c(){var d=[];a.log&&a.log.isStub&&a.log.replay(function(a){e(d,a)});a.clog&&a.clog.isStub&&a.clog.replay(function(a){e(d,a)});d.length&&(a._flhs+=1,n(d),p(d))}function g(){a.log&&a.log.isStub&&(a.onflush&&a.onflush.replay&&a.onflush.replay(function(a){a[0]()}),a.onunload&&a.onunload.replay&&a.onunload.replay(function(a){a[0]()}),c())}function e(d,b){var c=b[1],f=b[0],e={};a._lpn[c]=(a._lpn[c]||0)+1;e[c]=f;d.push(e)}function n(b){q&&(a._lpn.csm=(a._lpn.csm||0)+1,b.push({csm:{k:\"chk\",\n",
       "f:a._flhs,l:a._lpn,s:\"inln\"}}))}function p(a){if(h)a=k(a),b.navigator.sendBeacon(l,a);else{a=k(a);var c=new b[f];c.open(\"POST\",l,!0);c.setRequestHeader&&c.setRequestHeader(\"Content-type\",\"text/plain\");c.send(a)}}function k(a){return JSON.stringify({rid:b.ue_id,sid:b.ue_sid,mid:b.ue_mid,mkt:b.ue_mkt,sn:b.ue_sn,reqs:a})}var f=\"XMLHttpRequest\",q=1===b.ue_ddq,a=b.ue,r=b[f]&&\"withCredentials\"in new b[f],h=b.navigator&&b.navigator.sendBeacon,l=\"//\"+b.ue_furl+\"/1/batch/1/OE/\",m=b.ue_fci_ft||5E3;a&&(r||h)&&\n",
       "(a._flhs=a._flhs||0,a._lpn=a._lpn||{},a.attach&&(a.attach(\"beforeunload\",a.exec(g,\"fcli-bfu\")),a.attach(\"pagehide\",a.exec(g,\"fcli-ph\"))),m&&b.setTimeout(a.exec(c,\"fcli-t\"),m),a._ffci=a.exec(c))})(window);\n",
       "\n",
       "\n",
       "(function(k,c){function l(a,b){return a.filter(function(a){return a.initiatorType==b})}function f(a,c){if(b.t[a]){var g=b.t[a]-b._t0,e=c.filter(function(a){return 0!==a.responseEnd&&m(a)<g}),f=l(e,\"script\"),h=l(e,\"link\"),k=l(e,\"img\"),n=e.map(function(a){return a.name.split(\"/\")[2]}).filter(function(a,b,c){return a&&c.lastIndexOf(a)==b}),q=e.filter(function(a){return a.duration<p}),s=g-Math.max.apply(null,e.map(m))<r|0;\"af\"==a&&(b._afjs=f.length);return a+\":\"+[e[d],f[d],h[d],k[d],n[d],q[d],s].join(\"-\")}}\n",
       "function m(a){return a.responseEnd-(b._t0-c.timing.navigationStart)}function n(){var a=c[h](\"resource\"),d=f(\"cf\",a),g=f(\"af\",a),a=f(\"ld\",a);delete b._rt;b._ld=b.t.ld-b._t0;b._art&&b._art();return[d,g,a].join(\"_\")}var p=20,r=50,d=\"length\",b=k.ue,h=\"getEntriesByType\";b._rre=m;b._rt=c&&c.timing&&c[h]&&n})(ue_csm,window.performance);\n",
       "\n",
       "\n",
       "(function(c,d){var b=c.ue,a=d.navigator;b&&b.tag&&a&&(a=a.connection||a.mozConnection||a.webkitConnection)&&a.type&&b.tag(\"netInfo:\"+a.type)})(ue_csm,window);\n",
       "\n",
       "\n",
       "(function(c,d){function h(a,b){for(var c=[],d=0;d<a.length;d++){var e=a[d],f=b.encode(e);if(e[k]){var g=b.metaSep,e=e[k],l=b.metaPairSep,h=[],m=void 0;for(m in e)e.hasOwnProperty(m)&&h.push(m+\"=\"+e[m]);e=h.join(l);f+=g+e}c.push(f)}return c.join(b.resourceSep)}function s(a){var b=a[k]=a[k]||{};b[t]||(b[t]=c.ue_mid);b[u]||(b[u]=c.ue_sid);b[f]||(b[f]=c.ue_id);b.csm=1;a=\"//\"+c.ue_furl+\"/1/\"+a[v]+\"/1/OP/\"+a[w]+\"/\"+a[x]+\"/\"+h([a],y);if(n)try{n.call(d[p],a)}catch(g){c.ue.sbf=1,(new Image).src=a}else(new Image).src=\n",
       "a}function q(){g&&g.isStub&&g.replay(function(a,b,c){a=a[0];b=a[k]=a[k]||{};b[f]=b[f]||c;s(a)});l.impression=s;g=null}if(!(1<c.ueinit)){var k=\"metadata\",x=\"impressionType\",v=\"foresterChannel\",w=\"programGroup\",t=\"marketplaceId\",u=\"session\",f=\"requestId\",p=\"navigator\",l=c.ue||{},n=d[p]&&d[p].sendBeacon,r=function(a,b,c,d){return{encode:d,resourceSep:a,metaSep:b,metaPairSep:c}},y=r(\"\",\"?\",\"&\",function(a){return h(a.impressionData,z)}),z=r(\"/\",\":\",\",\",function(a){return a.featureName+\":\"+h(a.resources,\n",
       "A)}),A=r(\",\",\"@\",\"|\",function(a){return a.id}),g=l.impression;n?q():(l.attach(\"load\",q),l.attach(\"beforeunload\",q));try{d.P&&d.P.register&&d.P.register(\"impression-client\",function(){})}catch(B){c.ueLogError(B,{logLevel:\"WARN\"})}}})(ue_csm,window);\n",
       "\n",
       "\n",
       "\n",
       "var ue_pty = \"AuthenticationPortal\";\n",
       "\n",
       "var ue_spty = \"SignInClaimCollect\";\n",
       "\n",
       "\n",
       "\n",
       "var ue_adb = 4;\n",
       "var ue_adb_rtla = 1;\n",
       "ue_csm.ue.exec(function(y,a){function t(){if(d&&f){var a;a:{try{a=d.getItem(g);break a}catch(c){}a=void 0}if(a)return b=a,!0}return!1}function u(){if(a.fetch)fetch(m).then(function(a){if(!a.ok)throw Error(a.statusText);return a.text?a.text():null}).then(function(b){b?(-1<b.indexOf(\"window.ue_adb_chk = 1\")&&(a.ue_adb_chk=1),n()):h()})[\"catch\"](h);else e.uels(m,{onerror:h,onload:n})}function h(){b=k;l();if(f)try{d.setItem(g,b)}catch(a){}}function n(){b=1===a.ue_adb_chk?p:k;l();if(f)try{d.setItem(g,\n",
       "b)}catch(c){}}function q(){a.ue_adb_rtla&&c&&0<c.ec&&!1===r&&(c.elh=null,ueLogError({m:\"Hit Info\",fromOnError:1},{logLevel:\"INFO\",adb:b}),r=!0)}function l(){e.tag(b);e.isl&&a.uex&&uex(\"at\",b);s&&s.updateCsmHit(\"adb\",b);c&&0<c.ec?q():a.ue_adb_rtla&&c&&(c.elh=q)}function v(){return b}if(a.ue_adb){a.ue_fadb=a.ue_fadb||10;var e=a.ue,k=\"adblk_yes\",p=\"adblk_no\",m=\"https://m.media-amazon.com/images/G/01/csm/showads.v2.js?action=ads&banner.id=_300x250Banner_&AdType=_google_ads_\",b=\"adblk_unk\",d;a:{try{d=\n",
       "a.localStorage;break a}catch(z){}d=void 0}var g=\"csm:adb\",c=a.ue_err,s=e.cookie,f=void 0!==a.localStorage,w=Math.random()>1-1/a.ue_fadb,r=!1,x=t();w||!x?u():l();a.ue_isAdb=v;a.ue_isAdb.unk=\"adblk_unk\";a.ue_isAdb.no=p;a.ue_isAdb.yes=k}},\"adb\")(document,window);\n",
       "\n",
       "\n",
       "\n",
       "\n",
       "(function(c,l,m){function h(a){if(a)try{if(a.id)return\"//*[@id='\"+a.id+\"']\";var b,d=1,e;for(e=a.previousSibling;e;e=e.previousSibling)e.nodeName===a.nodeName&&(d+=1);b=d;var c=a.nodeName;1!==b&&(c+=\"[\"+b+\"]\");a.parentNode&&(c=h(a.parentNode)+\"/\"+c);return c}catch(f){return\"DETACHED\"}}function f(a){if(a&&a.getAttribute)return a.getAttribute(k)?a.getAttribute(k):f(a.parentElement)}var k=\"data-cel-widget\",g=!1,d=[];(c.ue||{}).isBF=function(){try{var a=JSON.parse(localStorage[\"csm-bf\"]||\"[]\"),b=0<=a.indexOf(c.ue_id);\n",
       "a.unshift(c.ue_id);a=a.slice(0,20);localStorage[\"csm-bf\"]=JSON.stringify(a);return b}catch(d){return!1}}();c.ue_utils={getXPath:h,getFirstAscendingWidget:function(a,b){c.ue_cel&&c.ue_fem?!0===g?b(f(a)):d.push({element:a,callback:b}):b()},notifyWidgetsLabeled:function(){if(!1===g){g=!0;for(var a=f,b=0;b<d.length;b++)if(d[b].hasOwnProperty(\"callback\")&&d[b].hasOwnProperty(\"element\")){var c=d[b].callback,e=d[b].element;\"function\"===typeof c&&\"function\"===typeof a&&c(a(e))}d=null}},extractStringValue:function(a){if(\"string\"===\n",
       "typeof a)return a}}})(ue_csm,window,document);\n",
       "\n",
       "\n",
       "\n",
       "\n",
       "\n",
       "ue_csm.ue_unrt = 1500;\n",
       "(function(d,b,t){function u(a,g){var c=a.srcElement||a.target||{},b={k:v,t:g.t,dt:g.dt,x:a.pageX,y:a.pageY,p:e.getXPath(c),n:c.nodeName};a.button&&(b.b=a.button);c.type&&(b.ty=c.type);c.href&&(b.r=e.extractStringValue(c.href));c.id&&(b.i=c.id);c.className&&c.className.split&&(b.c=c.className.split(/\\s+/));h+=1;e.getFirstAscendingWidget(c,function(a){b.wd=a;d.ue.log(b,r)})}function w(a){if(!x(a.srcElement||a.target)){m+=1;n=!0;var g=f=d.ue.d(),c;p&&\"function\"===typeof p.now&&a.timeStamp&&(c=p.now()-\n",
       "a.timeStamp,c=parseFloat(c.toFixed(2)));s=b.setTimeout(function(){u(a,{t:g,dt:c})},y)}}function z(a){if(a){var b=a.filter(A);a.length!==b.length&&(q=!0,k=d.ue.d(),n&&q&&(k&&f&&d.ue.log({k:B,t:f,m:Math.abs(k-f)},r),l(),q=!1,k=0))}}function A(a){if(!a)return!1;var b=\"characterData\"===a.type?a.target.parentElement:a.target;if(!b||!b.hasAttributes||!b.attributes)return!1;var c={\"class\":\"gw-clock gw-clock-aria s-item-container-height-auto feed-carousel using-mouse kfs-inner-container\".split(\" \"),id:[\"dealClock\",\n",
       "\"deal_expiry_timer\",\"timer\"],role:[\"timer\"]},d=!1;Object.keys(c).forEach(function(a){var e=b.attributes[a]?b.attributes[a].value:\"\";(c[a]||\"\").forEach(function(a){-1!==e.indexOf(a)&&(d=!0)})});return d}function x(a){if(!a)return!1;var b=(e.extractStringValue(a.nodeName)||\"\").toLowerCase(),c=(e.extractStringValue(a.type)||\"\").toLowerCase(),d=(e.extractStringValue(a.href)||\"\").toLowerCase();a=(e.extractStringValue(a.id)||\"\").toLowerCase();var f=\"checkbox color date datetime-local email file month number password radio range reset search tel text time url week\".split(\" \");\n",
       "if(-1!==[\"select\",\"textarea\",\"html\"].indexOf(b)||\"input\"===b&&-1!==f.indexOf(c)||\"a\"===b&&-1!==d.indexOf(\"http\")||-1!==[\"sitbreaderrightpageturner\",\"sitbreaderleftpageturner\",\"sitbreaderpagecontainer\"].indexOf(a))return!0}function l(){n=!1;f=0;b.clearTimeout(s)}function C(){b.ue.onunload(function(){ue.count(\"armored-cxguardrails.unresponsive-clicks.violations\",h);ue.count(\"armored-cxguardrails.unresponsive-clicks.violationRate\",h/m*100||0)})}if(b.MutationObserver&&b.addEventListener&&Object.keys&&\n",
       "d&&d.ue&&d.ue.log&&d.ue_unrt&&d.ue_utils){var y=d.ue_unrt,r=\"cel\",v=\"unr_mcm\",B=\"res_mcm\",p=b.performance,e=d.ue_utils,n=!1,f=0,s=0,q=!1,k=0,h=0,m=0;b.addEventListener&&(b.addEventListener(\"mousedown\",w,!0),b.addEventListener(\"beforeunload\",l,!0),b.addEventListener(\"visibilitychange\",l,!0),b.addEventListener(\"pagehide\",l,!0));b.ue&&b.ue.event&&b.ue.onSushiUnload&&b.ue.onunload&&C();(new MutationObserver(z)).observe(t,{childList:!0,attributes:!0,characterData:!0,subtree:!0})}})(ue_csm,window,document);\n",
       "\n",
       "\n",
       "ue_csm.ue.exec(function(g,e){if(e.ue_err){var f=\"\";e.ue_err.errorHandlers||(e.ue_err.errorHandlers=[]);e.ue_err.errorHandlers.push({name:\"fctx\",handler:function(a){if(!a.logLevel||\"FATAL\"===a.logLevel)if(f=g.getElementsByTagName(\"html\")[0].innerHTML){var b=f.indexOf(\"var ue_t0=ue_t0||+new Date();\");if(-1!==b){var b=f.substr(0,b).split(String.fromCharCode(10)),d=Math.max(b.length-10-1,0),b=b.slice(d,b.length-1);a.fcsmln=d+b.length+1;a.cinfo=a.cinfo||{};for(var c=0;c<b.length;c++)a.cinfo[d+c+1+\"\"]=\n",
       "b[c]}b=f.split(String.fromCharCode(10));a.cinfo=a.cinfo||{};if(!(a.f||void 0===a.l||a.l in a.cinfo))for(c=+a.l-1,d=Math.max(c-5,0),c=Math.min(c+5,b.length-1);d<=c;d++)a.cinfo[d+1+\"\"]=b[d]}}})}},\"fatals-context\")(document,window);\n",
       "\n",
       "\n",
       "(function(m,a){function c(k){function f(b){b&&\"string\"===typeof b&&(b=(b=b.match(/^(?:https?:)?\\/\\/(.*?)(\\/|$)/i))&&1<b.length?b[1]:null,b&&b&&(\"number\"===typeof e[b]?e[b]++:e[b]=1))}function d(b){var e=10,d=+new Date;b&&b.timeRemaining?e=b.timeRemaining():b={timeRemaining:function(){return Math.max(0,e-(+new Date-d))}};for(var c=a.performance.getEntries(),k=e;g<c.length&&k>n;)c[g].name&&f(c[g].name),g++,k=b.timeRemaining();g>=c.length?h(!0):l()}function h(b){if(!b){b=m.scripts;var c;if(b)for(var d=\n",
       "0;d<b.length;d++)(c=b[d].getAttribute(\"src\"))&&\"undefined\"!==c&&f(c)}0<Object.keys(e).length&&(p&&ue_csm.ue&&ue_csm.ue.event&&ue_csm.ue.event({domains:e,pageType:a.ue_pty||null,subPageType:a.ue_spty||null,pageTypeId:a.ue_pti||null},\"csm\",\"csm.CrossOriginDomains.2\"),a.ue_ext=e)}function l(){!0===k?d():a.requestIdleCallback?a.requestIdleCallback(d):a.requestAnimationFrame?a.requestAnimationFrame(d):a.setTimeout(d,100)}function c(){if(a.performance&&a.performance.getEntries){var b=a.performance.getEntries();\n",
       "!b||0>=b.length?h(!1):l()}else h(!1)}var e=a.ue_ext||{};a.ue_ext||c();return e}function q(){setTimeout(c,r)}var s=a.ue_dserr||!1,p=!0,n=1,r=2E3,g=0;a.ue_err&&s&&(a.ue_err.errorHandlers||(a.ue_err.errorHandlers=[]),a.ue_err.errorHandlers.push({name:\"ext\",handler:function(a){if(!a.logLevel||\"FATAL\"===a.logLevel){var f=c(!0),d=[],h;for(h in f){var f=h,g=f.match(/amazon(\\.com?)?\\.\\w{2,3}$/i);g&&1<g.length||-1!==f.indexOf(\"amazon-adsystem.com\")||-1!==f.indexOf(\"amazonpay.com\")||-1!==f.indexOf(\"cloudfront-labs.amazonaws.com\")||\n",
       "d.push(h)}a.ext=d}}}));a.ue&&a.ue.isl?c():a.ue&&ue.attach&&ue.attach(\"load\",q)})(document,window);\n",
       "\n",
       "\n",
       "\n",
       "\n",
       "\n",
       "var ue_wtc_c = 3;\n",
       "ue_csm.ue.exec(function(b,e){function l(){for(var a=0;a<f.length;a++)a:for(var d=s.replace(A,f[a])+g[f[a]]+t,c=arguments,b=0;b<c.length;b++)try{c[b].send(d);break a}catch(e){}g={};f=[];n=0;k=p}function u(){B?l(q):l(C,q)}function v(a,m,c){r++;if(r>w)d.count&&1==r-w&&(d.count(\"WeblabTriggerThresholdReached\",1),b.ue_int&&console.error(\"Number of max call reached. Data will no longer be send\"));else{var h=c||{};h&&-1<h.constructor.toString().indexOf(D)&&a&&-1<a.constructor.toString().indexOf(x)&&m&&-1<\n",
       "m.constructor.toString().indexOf(x)?(h=b.ue_id,c&&c.rid&&(h=c.rid),c=h,a=encodeURIComponent(\",wl=\"+a+\"/\"+m),2E3>a.length+p?(2E3<k+a.length&&u(),void 0===g[c]&&(g[c]=\"\",f.push(c)),g[c]+=a,k+=a.length,n||(n=e.setTimeout(u,E))):b.ue_int&&console.error(\"Invalid API call. The input provided is over 2000 chars.\")):d.count&&(d.count(\"WeblabTriggerImproperAPICall\",1),b.ue_int&&console.error(\"Invalid API call. The input provided does not match the API protocol i.e ue.trigger(String, String, Object).\"))}}function F(){d.trigger&&\n",
       "d.trigger.isStub&&d.trigger.replay(function(a){v.apply(this,a)})}function y(){z||(f.length&&l(q),z=!0)}var t=\":1234\",s=\"//\"+b.ue_furl+\"/1/remote-weblab-triggers/1/OE/\"+b.ue_mid+\":\"+b.ue_sid+\":PLCHLDR_RID$s:wl-client-id%3DCSMTriger\",A=\"PLCHLDR_RID\",E=b.wtt||1E4,p=s.length+t.length,w=b.mwtc||2E3,G=1===e.ue_wtc_c,B=3===e.ue_wtc_c,H=e.XMLHttpRequest&&\"withCredentials\"in new e.XMLHttpRequest,x=\"String\",D=\"Object\",d=b.ue,g={},f=[],k=p,n,z=!1,r=0,C=function(){return{send:function(a){if(H){var b=new e.XMLHttpRequest;\n",
       "b.open(\"GET\",a,!0);G&&(b.withCredentials=!0);b.send()}else throw\"\";}}}(),q=function(){return{send:function(a){(new Image).src=a}}}();e.encodeURIComponent&&(d.attach&&(d.attach(\"beforeunload\",y),d.attach(\"pagehide\",y)),F(),d.trigger=v)},\"client-wbl-trg\")(ue_csm,window);\n",
       "\n",
       "\n",
       "(function(k,d,h){function f(a,c,b){a&&a.indexOf&&0===a.indexOf(\"http\")&&0!==a.indexOf(\"https\")&&l(s,c,a,b)}function g(a,c,b){a&&a.indexOf&&(location.href.split(\"#\")[0]!=a&&null!==a&&\"undefined\"!==typeof a||l(t,c,a,b))}function l(a,c,b,e){m[b]||(e=u&&e?n(e):\"N/A\",d.ueLogError&&d.ueLogError({message:a+c+\" : \"+b,logLevel:v,stack:\"N/A\"},{attribution:e}),m[b]=1,p++)}function e(a,c){if(a&&c)for(var b=0;b<a.length;b++)try{c(a[b])}catch(d){}}function q(){return d.performance&&d.performance.getEntriesByType?\n",
       "d.performance.getEntriesByType(\"resource\"):[]}function n(a){if(a.id)return\"//*[@id='\"+a.id+\"']\";var c;c=1;var b;for(b=a.previousSibling;b;b=b.previousSibling)b.nodeName==a.nodeName&&(c+=1);b=a.nodeName;1!=c&&(b+=\"[\"+c+\"]\");a.parentNode&&(b=n(a.parentNode)+\"/\"+b);return b}function w(){var a=h.images;a&&a.length&&e(a,function(a){var b=a.getAttribute(\"src\");f(b,\"img\",a);g(b,\"img\",a)})}function x(){var a=h.scripts;a&&a.length&&e(a,function(a){var b=a.getAttribute(\"src\");f(b,\"script\",a);g(b,\"script\",a)})}\n",
       "function y(){var a=h.styleSheets;a&&a.length&&e(a,function(a){if(a=a.ownerNode){var b=a.getAttribute(\"href\");f(b,\"style\",a);g(b,\"style\",a)}})}function z(){if(A){var a=q();e(a,function(a){f(a.name,a.initiatorType)})}}function B(){e(q(),function(a){g(a.name,a.initiatorType)})}function r(){var a;a=d.location&&d.location.protocol?d.location.protocol:void 0;\"https:\"==a&&(z(),w(),x(),y(),B(),p<C&&setTimeout(r,D))}var s=\"[CSM] Insecure content detected \",t=\"[CSM] Ajax request to same page detected \",v=\"WARN\",\n",
       "m={},p=0,D=k.ue_nsip||1E3,C=5,A=1==k.ue_urt,u=!0;ue_csm.ue_disableNonSecure||(d.performance&&d.performance.setResourceTimingBufferSize&&d.performance.setResourceTimingBufferSize(300),r())})(ue_csm,window,document);\n",
       "\n",
       "\n",
       "var ue_aa_a = \"\";\n",
       "if (ue.trigger && (ue_aa_a === \"C\" || ue_aa_a === \"T1\")) {\n",
       "    ue.trigger(\"UEDATA_AA_SERVERSIDE_ASSIGNMENT_CLIENTSIDE_TRIGGER_190249\", ue_aa_a);\n",
       "}\n",
       "(function(f,b){function g(){try{b.PerformanceObserver&&\"function\"===typeof b.PerformanceObserver&&(a=new b.PerformanceObserver(function(b){c(b.getEntries())}),a.observe(d))}catch(h){k()}}function m(){for(var h=d.entryTypes,a=0;a<h.length;a++)c(b.performance.getEntriesByType(h[a]))}function c(a){if(a&&Array.isArray(a)){for(var c=0,e=0;e<a.length;e++){var d=l.indexOf(a[e].name);if(-1!==d){var g=Math.round(b.performance.timing.navigationStart+a[e].startTime);f.uet(n[d],void 0,void 0,g);c++}}l.length===\n",
       "c&&k()}}function k(){a&&a.disconnect&&\"function\"===typeof a.disconnect&&a.disconnect()}if(\"function\"===typeof f.uet&&b.performance&&\"object\"===typeof b.performance&&b.performance.getEntriesByType&&\"function\"===typeof b.performance.getEntriesByType&&b.performance.timing&&\"object\"===typeof b.performance.timing&&\"number\"===typeof b.performance.timing.navigationStart){var d={entryTypes:[\"paint\"]},l=[\"first-paint\",\"first-contentful-paint\"],n=[\"fp\",\"fcp\"],a;try{m(),g()}catch(p){f.ueLogError(p,{logLevel:\"ERROR\",\n",
       "attribution:\"performanceMetrics\"})}}})(ue_csm,window);\n",
       "\n",
       "\n",
       "if (window.csa) {\n",
       "    csa(\"Events\")(\"setEntity\", {\n",
       "        page:{pageType: \"AuthenticationPortal\", subPageType: \"SignInClaimCollect\", pageTypeId: \"\"}\n",
       "    });\n",
       "}\n",
       "csa.plugin(function(c){var m=\"transitionStart\",n=\"pageVisible\",e=\"PageTiming\",t=\"visibilitychange\",s=\"$latency.visible\",i=c.global,r=(i.performance||{}).timing,a=[\"navigationStart\",\"unloadEventStart\",\"unloadEventEnd\",\"redirectStart\",\"redirectEnd\",\"fetchStart\",\"domainLookupStart\",\"domainLookupEnd\",\"connectStart\",\"connectEnd\",\"secureConnectionStart\",\"requestStart\",\"responseStart\",\"responseEnd\",\"domLoading\",\"domInteractive\",\"domContentLoadedEventStart\",\"domContentLoadedEventEnd\",\"domComplete\",\"loadEventStart\",\"loadEventEnd\"],o=i.Math,u=o.max,l=o.floor,d=i.document||{},g=(r||{}).navigationStart,f=g,v=0,p=null;if(i.Object.keys&&[].forEach&&!c.config[\"KillSwitch.\"+e]){if(!r||null===g||g<=0||void 0===g)return c.error(\"Invalid navigation timing data: \"+g);p=new S({schemaId:\"<ns>.PageLatency.5\",producerId:\"csa\"}),\"boolean\"!=typeof d.hidden&&\"string\"!=typeof d.visibilityState||!d.removeEventListener?c.emit(s):h()?(c.emit(s),E(n,g)):c.on(d,t,function e(){h()&&(f=c.time(),d.removeEventListener(t,e),E(m,f),E(n,f),c.emit(s))}),c.once(\"$unload\",I),c.once(\"$load\",I),c.on(\"$pageTransition\",function(){f=c.time()}),c.register(e,{mark:E,instance:function(e){return new S(e)}})}function S(e){var i,r=null,a=e.ent||{page:[\"pageType\",\"subPageType\",\"requestId\"]},o=e.logger||c(\"Events\",{producerId:e.producerId});if(!e||!e.producerId||!e.schemaId)return c.error(\"The producer id and schema Id must be defined for PageLatencyInstance.\");function d(){return i||f}function n(){r=c.UUID()}this.mark=function(n,t){if(null!=n)return t=t||c.time(),n===m&&(i=t),c.once(s,function(){o(\"log\",{messageId:r,__merge:function(e){e.markers[n]=function(e,n){return u(0,n-(e||f))}(d(),t),e.markerTimestamps[n]=l(t)},markers:{},markerTimestamps:{},navigationStartTimestamp:d()?new Date(d()).toISOString():null,schemaId:e.schemaId},{ent:a})}),t},n(),c.on(\"$beforePageTransition\",n)}function E(e,n){e===m&&(f=n);var t=p.mark(e,n);c.emit(\"$timing:\"+e,t)}function I(){if(!v){for(var e=0;e<a.length;e++)r[a[e]]&&E(a[e],r[a[e]]);v=1}}function h(){return!d.hidden||\"visible\"===d.visibilityState}});csa.plugin(function(f){var u,c,l=\"length\",a=\"parentElement\",t=\"target\",i=\"getEntriesByName\",e=\"perf\",n=null,r=\"_csa_flt\",o=\"_csa_llt\",s=\"previousSibling\",d=\"_osrc\",g=\"_elt\",h=\"_eid\",m=10,p=5,v=15,y=100,E=f.global,S=f.timeout,b=E.Math,x=b.max,L=b.floor,O=b.ceil,_=E.document,w=E.performance||{},T=(w.timing||{}).navigationStart,I=Date.now,N=Object.values||(f.types||{}).ovl,k=f(\"PageTiming\"),B=f(\"SpeedIndexBuffers\"),Y=[],C=[],F=[],H=[],M=[],R=[],V=.1,W=.1,$=0,P=0,X=!0,D=0,J=0,j=1==f.config[\"SpeedIndex.ForceReplay\"],q=0,Q=1,U=0,z={},A=[],G=0,K={buffered:1};function Z(e){f.global.ue_csa_ss_tag||f.emit(\"$csmTag:\"+e,0,K)}function ee(){for(var e=I(),n=0;u;){if(0!==u[l]){if(!1!==u.h(u[0])&&u.shift(),n++,!j&&n%m==0&&I()-e>p)break}else u=u.n}$=0,u&&($||(!0===_.hidden?(j=1,ee()):f.timeout(ee,0)))}function ne(e,n,t,i,r){U=L(e),Y=n,C=t,F=i,R=r;var o=_.createTreeWalker(_.body,NodeFilter.SHOW_TEXT,null,null),a={w:E.innerWidth,h:E.innerHeight,x:E.pageXOffset,y:E.pageYOffset};_.body[g]=e,H.push({w:o,vp:a}),M.push({img:_.images,iter:0}),Y.h=te,(Y.n=C).h=ie,(C.n=F).h=re,(F.n=H).h=oe,(H.n=M).h=ae,(M.n=R).h=fe,u=Y,ee()}function te(e){e.m.forEach(function(e){for(var n=e;n&&(e===n||!n[r]||!n[o]);)n[r]||(n[r]=e[r]),n[o]||(n[o]=e[o]),n[g]=n[r]-T,n=n[s]})}function ie(e){e.m.forEach(function(e){var n=e[t];d in n||(n[d]=e.oldValue)})}function re(n){n.m.forEach(function(e){e[t][g]=n.t-T})}function oe(e){for(var n,t=e.vp,i=e.w,r=m;(n=i.nextNode())&&0<r;){r-=1;var o=(n[a]||{}).nodeName;\"SCRIPT\"!==o&&\"STYLE\"!==o&&\"NOSCRIPT\"!==o&&\"BODY\"!==o&&0!==(n.nodeValue||\"\").trim()[l]&&de(n[a],ue(n),t)}return!n}function ae(e){for(var n={w:E.innerWidth,h:E.innerHeight,x:E.pageXOffset,y:E.pageYOffset},t=m;e.iter<e.img[l]&&0<t;){var i,r=e.img[e.iter],o=se(r),a=o&&ue(o)||ue(r);o?(o[g]=a,i=le(o.querySelector('[aria-posinset=\"1\"] img')||r)||a,r=o):i=le(r)||a,J&&c<i&&(i=a),de(r,i,n),e.iter+=1,t-=1}return e.img[l]<=e.iter}function fe(e){var n=[],i=0,r=0,o=P,t=L(e.y/y),a=O((e.y+E.innerHeight)/y);A.slice(t,a).forEach(function(e){(e.elems||[]).forEach(function(e){e.lt in n||(n[e.lt]={}),e.id in n[e.lt]||(i+=(n[e.lt][e.id]=e).a)})}),Z(\"startVL\"),N(n).forEach(function(e){N(e).forEach(function(e){var n=1-r/i,t=x(e.lt,o);G+=n*(t-o),o=t,function(e,n){var t;for(;V<=1&&V-.01<=e;)ge(\"visuallyLoaded\"+(t=(100*V).toFixed(0)),n.lt),\"50\"!==t&&\"90\"!==t||f(\"Content\",{target:n.e})(\"mark\",\"visuallyLoaded\"+t,T+O(n.lt||0)),V+=W}((r+=e.a)/i,e)})}),Z(\"endVL\"),P=e.t-T,R[l]<=1&&(ge(\"speedIndex\",G),ge(\"visuallyLoaded0\",U)),X&&(X=!1,ge(\"atfSpeedIndex\",G))}function ue(e){for(var n=e[a],t=v;n&&0<t;){if(n[g]||0===n[g])return x(n[g],U);n=n.parentElement,t-=1}}function ce(e,n){if(e){if(!e.indexOf(\"data:\"))return ue(n);var t=w[i](e)||[];if(0<t[l])return x(O(t[0].responseEnd||0),U)}}function le(e){return ce(e[d],e)||ce(e.currentSrc,e)||ce(e.src,e)}function se(e){for(var n=10,t=e.parentElement;t&&0<n;){if(t.classList&&t.classList.contains(\"a-carousel-viewport\"))return t;t=t.parentElement,n-=1}return null}function de(e,n,t){if((n||0===n)&&!e[h]){var i=e.getBoundingClientRect(),r=i.width*i.height,o=i.width/2,a=Q++;if(0!=r&&!(o<i.right-t.w||i.right<o)){for(var f={e:e,lt:n,a:r,id:a},u=L((i.top+t.y)/y),c=O((i.top+t.y+i.height)/y),l=u;l<=c;l++)l in A||(A[l]={elems:[],lt:0}),A[l].elems.push(f);e[h]=a}}}function ge(e,n){k(\"mark\",e,T+O((z[e]=n)||0))}function he(e){q||(Z(\"browserQuite\"+e),B(\"getBuffers\",ne),q=1)}T&&N&&w[i]?(Z(e+\"Yes\"),B(\"registerListener\",function(){J&&(clearTimeout(D),D=S(he.bind(n,\"Mut\"),2500))}),f.once(\"$unload\",function(){j=1,he(\"Ud\")}),f.once(\"$load\",function(){J=1,c=I()-T,D=S(he.bind(n,\"Ld\"),2500)}),f.once(\"$timing:functional\",he.bind(n,\"Fn\")),B(\"replayModuleIsLive\"),f.register(\"SpeedIndex\",{getMarkers:function(e){e&&e(JSON.parse(JSON.stringify(z)))}})):Z(e+\"No\")});csa.plugin(function(e){var m=!!e.config[\"LCP.elementDedup\"],t=!1,n=e(\"PageTiming\"),r=e.global.PerformanceObserver,a=e.global.performance;function i(){return a.timing.navigationStart}function o(){t||function(o){var l=new r(function(e){var t=e.getEntries();if(0!==t.length){var n=t[t.length-1];if(m&&\"\"!==n.id&&n.element&&\"IMG\"===n.element.tagName){for(var r={},a=t[0],i=0;i<t.length;i++)t[i].id in r||(\"\"!==t[i].id&&(r[t[i].id]=!0),a.startTime<t[i].startTime&&(a=t[i]));n=a}l.disconnect(),o({startTime:n.startTime,renderTime:n.renderTime,loadTime:n.loadTime})}});try{l.observe({type:\"largest-contentful-paint\",buffered:!0})}catch(e){}}(function(e){e&&(t=!0,n(\"mark\",\"largestContentfulPaint\",Math.floor(e.startTime+i())),e.renderTime&&n(\"mark\",\"largestContentfulPaint.render\",Math.floor(e.renderTime+i())),e.loadTime&&n(\"mark\",\"largestContentfulPaint.load\",Math.floor(e.loadTime+i())))})}r&&a&&a.timing&&(e.once(\"$unload\",o),e.once(\"$load\",o),e.register(\"LargestContentfulPaint\",{}))});csa.plugin(function(r){var e=r(\"Metrics\",{producerId:\"csa\"}),n=r.global.PerformanceObserver;n&&(n=new n(function(r){var t=r.getEntries();if(0===t.length||!t[0].processingStart||!t[0].startTime)return;!function(r){r=r||0,n.disconnect(),0<=r?e(\"recordMetric\",\"firstInputDelay\",r):e(\"recordMetric\",\"firstInputDelay.invalid\",1)}(t[0].processingStart-t[0].startTime)}),function(){try{n.observe({type:\"first-input\",buffered:!0})}catch(r){}}())});csa.plugin(function(d){var e=\"Metrics\",g=0;function r(i){var c,t,e=i.producerId,r=i.logger,s=r||d(\"Events\",{producerId:e}),o=(i||{}).dimensions||{},u={},n=-1;if(!e&&!r)return d.error(\"Either a producer id or custom logger must be defined\");function a(){n!==g&&(c=d.UUID(),t=d.UUID(),u={},n=g)}this.recordMetric=function(r,n){var e=i.logOptions||{ent:{page:[\"pageType\",\"subPageType\",\"requestId\"]}};e.debugMetric=i.debugMetric,a(),s(\"log\",{messageId:c,schemaId:i.schemaId||\"<ns>.Metric.3\",metrics:{},dimensions:o,__merge:function(e){e.metrics[r]=n}},e)},this.recordCounter=function(r,e){var n=i.logOptions||{ent:{page:[\"pageType\",\"subPageType\",\"requestId\"]}};if(\"string\"!=typeof r||\"number\"!=typeof e||!isFinite(e))return d.error(\"Invalid type given for counter name or counter value: \"+r+\"/\"+e);a(),r in u||(u[r]={});var c=u[r];\"f\"in c||(c.f=e),c.c=(c.c||0)+1,c.s=(c.s||0)+e,c.l=e,s(\"log\",{messageId:t,schemaId:i.schemaId||\"<ns>.InternalCounters.2\",c:{},__merge:function(e){r in e.c||(e.c[r]={}),c.fs||(c.fs=1,e.c[r].f=c.f),1<c.c&&(e.c[r].s=c.s,e.c[r].l=c.l,e.c[r].c=c.c)}},n)}}d.config[\"KillSwitch.\"+e]||(new r({producerId:\"csa\"}).recordMetric(\"baselineMetricEvent\",1),d.on(\"$beforePageTransition\",function(){g++}),d.register(e,{instance:function(e){return new r(e||{})}}))});csa.plugin(function(t){var a,r=(t.global.performance||{}).timing,s=(r||{}).navigationStart||t.time();function e(){a=t.UUID()}function n(i){var r=(i=i||{}).producerId,e=i.logger,o=e||t(\"Events\",{producerId:r});if(!r&&!e)return t.error(\"Either a producer id or custom logger must be defined\");this.mark=function(e,r){var n=(void 0===r?t.time():r)-s;o(\"log\",{messageId:a,schemaId:i.schemaId||\"<ns>.Timer.1\",markers:{},__merge:function(r){r.markers[e]=n}},i.logOptions)}}r&&(e(),t.on(\"$beforePageTransition\",e),t.register(\"Timers\",{instance:function(r){return new n(r||{})}}))});csa.plugin(function(t){var e=\"takeRecords\",i=\"disconnect\",n=\"function\",o=t(\"Metrics\",{producerId:\"csa\"}),c=t(\"PageTiming\"),a=t.global,u=t.timeout,r=t.on,f=a.PerformanceObserver,m=0,l=!1,s=0,d=a.performance,h=a.document,v=null,y=!1,g=t.blank;function p(){l||(l=!0,clearTimeout(v),typeof f[e]===n&&f[e](),typeof f[i]===n&&f[i](),o(\"recordMetric\",\"documentCumulativeLayoutShift\",m),c(\"mark\",\"cumulativeLayoutShiftLastTimestamp\",Math.floor(s+d.timing.navigationStart)))}f&&d&&d.timing&&h&&(f=new f(function(t){v&&clearTimeout(v);t.getEntries().forEach(function(t){t.hadRecentInput||(m+=t.value,s<t.startTime&&(s=t.startTime))}),v=u(p,5e3)}),function(){try{f.observe({type:\"layout-shift\",buffered:!0}),v=u(p,5e3)}catch(t){}}(),g=r(h,\"click\",function(t){y||(y=!0,o(\"recordMetric\",\"documentCumulativeLayoutShiftToFirstInput\",m),g())}),r(h,\"visibilitychange\",function(){\"hidden\"===h.visibilityState&&p()}),t.once(\"$unload\",p))});csa.plugin(function(e){var t,n=e.global,r=n.PerformanceObserver,c=e(\"Metrics\",{producerId:\"csa\"}),o=0,i=0,a=-1,l=n.Math,f=l.max,u=l.ceil;if(r){t=new r(function(e){e.getEntries().forEach(function(e){var t=e.duration;o+=t,i+=t,a=f(t,a)})});try{t.observe({type:\"longtask\",buffered:!0})}catch(e){}t=new r(function(e){0<e.getEntries().length&&(i=0,a=-1)});try{t.observe({type:\"largest-contentful-paint\",buffered:!0})}catch(e){}e.on(\"$unload\",g),e.on(\"$beforePageTransition\",g)}function g(){c(\"recordMetric\",\"totalBlockingTime\",u(i||0)),c(\"recordMetric\",\"totalBlockingTimeInclLCP\",u(o||0)),c(\"recordMetric\",\"maxBlockingTime\",u(a||0)),i=o=0,a=-1}});csa.plugin(function(r){var e=\"CacheDetection\",o=\"csa-ctoken-\",n=r.store,t=r.deleteStored,c=r.config,a=c[e+\".RequestID\"],i=c[e+\".Callback\"],s=r.global,u=s.document||{},d=s.Date,f=r(\"Events\"),l=r(\"Events\",{producerId:\"csa\"});function p(e){try{var n=u.cookie.match(RegExp(\"(^| )\"+e+\"=([^;]+)\"));return n&&n[2].trim()}catch(e){}}!function(){var e=function(){var e=p(\"cdn-rid\");if(e)return{r:e,s:\"cdn\"}}()||function(){if(r.store(o+a))return{r:r.UUID().toUpperCase().replace(/-/g,\"\").slice(0,20),s:\"device\"}}()||{},n=e.r,c=e.s;if(!!n){var t=p(\"session-id\");!function(e,n,c,t){f(\"setEntity\",{page:{pageSource:\"cache\",requestId:e,cacheRequestId:a,cacheSource:t},session:{id:c}})}(n,0,t,c),\"device\"===c&&l(\"log\",{schemaId:\"<ns>.CacheImpression.1\"},{ent:\"all\"}),i&&i(n,t,c)}}(),n(o+a,d.now()+36e5),r.once(\"$load\",function(){var c=d.now();t(function(e,n){return 0==e.indexOf(o)&&parseInt(n)<c})})});csa.plugin(function(u){var i,t=\"Content\",e=\"MutationObserver\",n=\"addedNodes\",a=\"querySelectorAll\",f=\"matches\",o=\"getAttributeNames\",r=\"getAttribute\",s=\"dataset\",c=\"widget\",l=\"producerId\",d=\"slotId\",h=\"iSlotId\",g={ent:{element:1,page:[\"pageType\",\"subPageType\",\"requestId\"]}},p=5,m=u.config[t+\".BubbleUp.SearchDepth\"]||20,y=u.config[t+\".SearchPage\"]||0,v=\"csaC\",b=v+\"Id\",E=\"logRender\",w={},I=u.config,O=I[t+\".Selectors\"]||[],C=I[t+\".WhitelistedAttributes\"]||{href:1,class:1},N=I[t+\".EnableContentEntities\"],S=I[\"KillSwitch.ContentRendered\"],k=u.global,A=k.document||{},U=A.documentElement,L=k.HTMLElement,R={},_=[],j=function(t,e,n,i){var r=this,o=u(\"Events\",{producerId:t||\"csa\"});e.type=e.type||c,r.id=e.id,r.l=o,r.e=e,r.el=n,r.rt=i,r.dlo=g,r.op=W(n,\"csaOp\"),r.log=function(t,e){o(\"log\",t,e||g)},e.id&&o(\"setEntity\",{element:e})},x=j.prototype;function D(t){var e=(t=t||{}).element,n=t.target;return e?function(t,e){var n;n=t instanceof L?K(t)||Y(e[l],t,z,u.time()):R[t.id]||H(e[l],0,t,u.time());return n}(e,t):n?M(n):u.error(\"No element or target argument provided.\")}function M(t){var e=function(t){var e=null,n=0;for(;t&&n<m;){if(n++,P(t,b)){e=t;break}t=t.parentElement}return e}(t);return e?K(e):new j(\"csa\",{id:null},null,u.time())}function P(t,e){if(t&&t.dataset)return t.dataset[e]}function T(t,e,n){_.push({n:n,e:t,t:e}),B()}function q(){for(var t=u.time(),e=0;0<_.length;){var n=_.shift();if(w[n.n](n.e,n.t),++e%10==0&&u.time()-t>p)break}i=0,_.length&&B()}function B(){i=i||u.raf(q)}function X(t,e,n){return{n:t,e:e,t:n}}function Y(t,e,n,i){var r=u.UUID(),o={id:r},c=M(e);return e[s][b]=r,n(o,e),c&&c.id&&(o.parentId=c.id),H(t,e,o,i)}function $(t){return isNaN(t)?null:Math.round(t)}function H(t,e,n,i){N&&(n.schemaId=\"<ns>.ContentEntity.2\"),n.id=n.id||u.UUID();var r=new j(t,n,e,i);return function(t){return!S&&((t.op||{}).hasOwnProperty(E)||y)}(r)&&function(t,e){var n={},i=u.exec($);t.el&&(n=t.el.getBoundingClientRect()),t.log({schemaId:\"<ns>.ContentRender.2\",timestamp:e,width:i(n.width),height:i(n.height),positionX:i(n.left+k.pageXOffset),positionY:i(n.top+k.pageYOffset)})}(r,i),u.emit(\"$content.register\",r),R[n.id]=r}function K(t){return R[(t[s]||{})[b]]}function W(n,i){var r={};return o in(n=n||{})&&Object.keys(n[s]).forEach(function(t){if(!t.indexOf(i)&&i.length<t.length){var e=function(t){return(t[0]||\"\").toLowerCase()+t.slice(1)}(t.slice(i.length));r[e]=n[s][t]}}),r}function z(t,e){o in e&&(function(t,e){var n=W(t,v);Object.keys(n).forEach(function(t){e[t]=n[t]})}(e,t),d in t&&(t[h]=t[d]),function(e,n){(e[o]()||[]).forEach(function(t){t in C&&(n[t]=e[r](t))})}(e,t))}U&&A[a]&&k[e]&&(O.push({selector:\"*[data-csa-c-type]\",entity:z}),O.push({selector:\".celwidget\",entity:function(t,e){z(t,e),t[d]=t[d]||e[r](\"cel_widget_id\")||e.id,t.legacyId=e[r](\"cel_widget_id\")||e.id,t.type=t.type||c}}),w[1]=function(t,e){t.forEach(function(t){t[n]&&t[n].constructor&&\"NodeList\"===t[n].constructor.name&&Array.prototype.forEach.call(t[n],function(t){_.unshift(X(2,t,e))})})},w[2]=function(o,c){a in o&&f in o&&O.forEach(function(t){for(var e=t.selector,n=o[f](e),i=o[a](e),r=i.length-1;0<=r;r--)_.unshift(X(3,{e:i[r],s:t},c));n&&_.unshift(X(3,{e:o,s:t},c))})},w[3]=function(t,e){var n=t.e;K(n)||Y(\"csa\",n,t.s.entity,e)},w[4]=function(){u.register(t,{instance:D})},new k[e](function(t){T(t,u.time(),1)}).observe(U,{childList:!0,subtree:!0}),T(U,u.time(),2),T(null,u.time(),4),u.on(\"$content.export\",function(e){Object.keys(e).forEach(function(t){x[t]=e[t]})}))});csa.plugin(function(o){var i,t=\"ContentImpressions\",e=\"KillSwitch.\",n=\"IntersectionObserver\",r=\"getAttribute\",s=\"dataset\",c=\"intersectionRatio\",a=\"csaCId\",m=1e3,l=o.global,f=o.config,u=f[e+t],v=f[e+t+\".ContentViews\"],g=((l.performance||{}).timing||{}).navigationStart||o.time(),d={};function h(t){t&&(t.v=1,function(t){t.vt=o.time(),t.el.log({schemaId:\"<ns>.ContentView.3\",timeToViewed:t.vt-t.el.rt,pageFirstPaintToElementViewed:t.vt-g})}(t))}function I(t){t&&!t.it&&(t.i=o.time()-t.is>m,function(t){t.it=o.time(),t.el.log({schemaId:\"<ns>.ContentImpressed.2\",timeToImpressed:t.it-t.el.rt,pageFirstPaintToElementImpressed:t.it-g})}(t))}!u&&l[n]&&(i=new l[n](function(t){var n=o.time();t.forEach(function(t){var e=function(t){if(t&&t[r])return d[t[s][a]]}(t.target);if(e){o.emit(\"$content.intersection\",{meta:e.el,t:n,e:t});var i=t.intersectionRect;t.isIntersecting&&0<i.width&&0<i.height&&(v||e.v||h(e),.5<=t[c]&&!e.is&&(e.is=n,e.timer=o.timeout(function(){I(e)},m))),t[c]<.5&&!e.it&&e.timer&&(l.clearTimeout(e.timer),e.is=0,e.timer=0)}})},{threshold:[0,.5,.99]}),o.on(\"$content.register\",function(t){var e=t.el;e&&(d[t.id]={el:t,v:0,i:0,is:0,vt:0,it:0},i.observe(e))}))});csa.plugin(function(e){e.config[\"KillSwitch.ContentLatency\"]||e.emit(\"$content.export\",{mark:function(t,n){var o=this;o.t||(o.t=e(\"Timers\",{logger:o.l,schemaId:\"<ns>.ContentLatency.1\",logOptions:o.dlo})),o.t(\"mark\",t,n)}})});csa.plugin(function(t){function n(i,e,o){var c={};function r(t,n,e){t in c&&o<=n-c[t].s&&(function(n,e,i){if(!p)return;S(function(t){T(n,t),t.w[n][e]=a((t.w[n][e]||0)+i)})}(t,i,n-c[t].d),c[t].d=n),e||delete c[t]}this.update=function(t,n){n.isIntersecting&&e<=n.intersectionRatio?function(t,n){t in c||(c[t]={s:n,d:n})}(t,u()):r(t,u())},this.stopAll=function(t){var n=u();for(var e in c)r(e,n,t)},this.reset=function(){var t=u();for(var n in c)c[n].s=t,c[n].d=t}}var e=t.config,u=t.time,i=\"ContentInteractionsSummary\",o=e[i+\".FlushInterval\"]||5e3,c=e[i+\".FlushBackoff\"]||1.5,r=t.global,s=t.on,a=Math.floor,f=(r.document||{}).documentElement||{},l=((r.performance||{}).timing||{}).responseStart||t.time(),d=o,m=0,p=!0,v=t.UUID(),g=t(\"Events\",{producerId:\"csa\"}),I=new n(\"it0\",0,0),w=new n(\"it50\",.5,1e3),h=new n(\"it100\",.99,0),A={},b={};function $(){I.stopAll(!0),w.stopAll(!0),h.stopAll(!0),U()}function C(){I.reset(),w.reset(),h.reset(),U()}function U(){d&&(clearTimeout(m),m=t.timeout($,d),d*=c)}function E(n){S(function(t){T(n,t),t.w[n].mc=(t.w[n].mc||0)+1})}function S(t){g(\"log\",{messageId:v,schemaId:\"<ns>.ContentInteractionsSummary.1\",w:{},__merge:t},{ent:{page:[\"requestId\"]}})}function T(t,n){t in n.w||(n.w[t]={})}s(\"$content.intersection\",function(t){if(t&&t.meta&&t.e){var n=t.meta.id;if(n in A){var e=t.e.boundingClientRect||{};e.width<5||e.height<5||(I.update(n,t.e),w.update(n,t.e),h.update(n,t.e),!t.e.isIntersecting||n in b||(b[n]=1,function(n,e){S(function(t){T(n,t),t.w[n].ttfv=a(e)})}(n,u()-l)))}}}),s(\"$content.register\",function(t){(t.e||{}).slotId&&(A[t.id]={},function(e){S(function(t){var n=e.id;T(n,t),t.w[n].sid=(e.e||{}).slotId,t.w[n].cid=(e.e||{}).contentId})}(t))}),s(\"$beforePageTransition\",function(){$(),C(),v=t.UUID(),U()}),s(\"$beforeunload\",function(){I.stopAll(),w.stopAll(),h.stopAll(),d=null}),s(\"$visible\",function(t){t?C():($(),clearTimeout(m)),p=t},{buffered:1}),s(f,\"click\",function(t){for(var n=t.target,e=25;n&&0<e;){var i=(n.dataset||{}).csaCId;i&&E(i),n=n.parentElement,e-=1}},{capture:!0,passive:!0}),U()});csa.plugin(function(o){var t,n,i=\"normal\",s=\"reload\",e=\"history\",d=\"new-tab\",a=\"ajax\",r=1,c=2,u=\"lastActive\",l=\"lastInteraction\",f=\"used\",p=\"csa-tabbed-browsing\",g=\"visibilityState\",v={\"back-memory-cache\":1,\"tab-switch\":1,\"history-navigation-page-cache\":1},b=\"<ns>.TabbedBrowsing.2\",m=\"visible\",y=o.global,I=o(\"Events\",{producerId:\"csa\"}),h=y.location||{},T=y.document,w=y.JSON,z=((y.performance||{}).navigation||{}).type,P=o.store,S=o.on,k=o.storageSupport(),x=!1,A={},C={},O={},$={},j=!1,q=!1,B=!1;function E(i){try{return w.parse(P(p,void 0,{session:i})||\"{}\")||{}}catch(i){o.error('Could not parse storage value for key \"'+p+'\": '+i)}return{}}function J(i,t){P(p,w.stringify(t||{}),{session:i})}function N(i){var t=C.tid||i.id,n=A[u]||{};n.tid===t&&(n.pid=i.id),$={pid:i.id,tid:t,lastInteraction:C[l]||{},initialized:!0},O={lastActive:n,lastInteraction:A[l]||{},time:o.time()}}function D(i){var t=i===d,n=T.referrer,e=!(n&&n.length)||!~n.indexOf(h.origin||\"\"),a=t&&e,r={type:i,toTabId:$.tid,toPageId:$.pid,transitTime:o.time()-A.time||null};a||function(i,t,n){var e=i===s,a=t?A[u]||{}:C,r=A[l]||{},o=C[l]||{},d=t?r:o;n.fromTabId=a.tid,n.fromPageId=a.pid,e||!d.id||d[f]||(n.interactionId=d.id||null,r.id===d.id&&(r[f]=!0),o.id===d.id&&(o[f]=!0))}(i,t,r),I(\"log\",{navigation:r,schemaId:b},{ent:{page:[\"pageType\",\"subPageType\",\"requestId\"]}})}function F(i){B=function(i){return i&&i in v}(i.transitionType),function(){A=E(!1),C=E(!0);var i=A[l],t=C[l],n=!1,e=!1;i&&t&&i.id===t.id&&i[f]!==t[f]&&(n=!i[f],e=!t[f],t[f]=i[f]=!0,n&&J(!1,A),e&&J(!0,C))}(),N(i),j=!0,function(i){var t,n;t=H(),n=K(),(t||n)&&N(i)}(i)}function G(){x&&!B?D(a):(x=!0,D(z===c||B?e:z===r?C.initialized?s:d:C.initialized?i:d))}function H(){return!(!j||!t)&&(C[l]={id:t.messageId,used:!(A[l]={id:t.messageId,used:!1})},!(t=null))}function K(){var i=!1;if(q=T[g]===m,j){var t=A[u]||{};i=function(i,t,n){var e=!1,a=i[u];return q?a&&a.tid===$.tid&&a[m]&&a.pid===n||(i[u]={visible:!0,pid:n,tid:t},e=!0):a&&a.tid===$.tid&&a[m]&&(e=!(a[m]=!1)),e}(A,C.tid||t.tid||$.tid,C.pid||t.pid||$.pid)}return i}k.local&&k.session&&w&&T&&g in T&&(n=function(){try{return y.self!==y.top}catch(i){return!0}}(),S(\"$pageChange\",function(i){n||(F(i),G(),J(!1,O),J(!0,$),C=$,A=O)},{buffered:1}),S(\"$content.interaction\",function(i){t=i,H()&&(J(!1,A),J(!0,C))}),S(T,\"visibilitychange\",function(){!n&&K()&&J(!1,A)},{capture:!1,passive:!0}))});csa.plugin(function(c){var e=c(\"Metrics\",{producerId:\"csa\"});c.on(c.global,\"pageshow\",function(c){c&&c.persisted&&e(\"recordMetric\",\"bfCache\",1)})});csa.plugin(function(n){var e,t,i,o,r,a,c,u,f,s,l,d,m,p,g,v,h=\"hasFocus\",b=\"$app.\",y=\"avail\",S=\"client\",T=\"document\",$=\"inner\",I=\"offset\",P=\"screen\",w=\"scroll\",D=\"Width\",E=\"Height\",F=y+D,O=y+E,q=S+D,x=S+E,z=$+D,C=$+E,H=I+D,K=I+E,M=w+D,W=w+E,X=n.config[\"KillSwitch.PageInteractionsSummary\"],Y=n(\"Events\",{producerId:\"csa\"}),j=1,k=n.global||{},A=n.time,B=n.on,G=n.once,J=k[T]||{},L=k[P]||{},N=k.Math||{},Q=N.abs,R=N.max,U=N.ceil,V=((k.performance||{}).timing||{}).responseStart,Z=function(){return J[h]()},_=1,nn=100,en={},tn=1;function on(){c=t=o=r=e,i=0,a=u=f=s=0,cn(),an()}function rn(){V&&!o&&(c=U((o=l)-V),tn=1)}function an(){u=U(R(u,m+v)),d&&(f=U(R(f,d+g))),tn=1}function cn(){l=A(),d=Q(k.pageXOffset||0),m=Q(k.pageYOffset||0),p=0<d||0<m,g=k[z]||0,v=k[C]||0}function un(){cn(),rn(),function(){var n=m-i;t&&!(t&&t<=l)||(n&&(++a,tn=1),i=m,n),t=l+nn}(),an()}function fn(){if(r){var n=U(A()-r);s+=n,r=e,tn=0<n}}function sn(){r=r||A()}function ln(n,e,t,i){e[n+D]=U(t||0),e[n+E]=U(i||0)}function dn(n){var e=n===en,t=Z();if(t||tn){if(!e){if(!j)return;j=0,t&&fn()}var i=function(){var n={},e=J.documentElement||{},t=J.body||{};return ln(\"availableScreen\",n,L[F],L[O]),ln(T,n,R(t[M]||0,t[H]||0,e[q]||0,e[M]||0,e[H]||0),R(t[W]||0,t[K]||0,e[x]||0,e[W]||0,e[K]||0)),ln(P,n,L.width,L.height),ln(\"viewport\",n,k[z],k[C]),n}(),o=function(){var n={scrollCounts:a,reachedDepth:u,horizontalScrollDistance:f,dwellTime:s};return\"number\"==typeof c&&(n.clientTimeToFirstScroll=c),n}();e?tn=0:(on(),V=A(),t&&(r=V)),Y(\"log\",{activity:o,dimensions:i,schemaId:\"<ns>.PageInteractionsSummary.1\"},{ent:{page:[\"pageType\",\"subPageType\",\"requestId\"]}})}}function mn(){fn(),dn(en)}function pn(n,e){return function(){_=e,n()}}function gn(){Z=function(){return _},_&&!r&&(r=A())}\"function\"!=typeof J[h]||X||(on(),p&&rn(),B(k,w,un,{passive:!0}),B(k,\"blur\",mn),B(k,\"focus\",pn(sn,1)),G(b+\"android\",gn),G(b+\"ios\",gn),B(b+\"pause\",pn(mn,0)),B(b+\"resume\",pn(sn,1)),B(b+\"resign\",pn(mn,0)),B(b+\"active\",pn(sn,1)),Z()&&(r=V||A()),G(\"$beforeunload\",dn),B(\"$beforeunload\",dn),B(\"$document.hidden\",mn),B(\"$beforePageTransition\",dn),B(\"$afterPageTransition\",function(){tn=j=1}))});csa.plugin(function(e){var o,n,r=\"<ns>.Navigator.4\",a=e.global,i=a.navigator||{},d=i.connection||{},c=a.Math.round,t=e(\"Events\",{producerId:\"csa\"});function l(){o={network:{downlink:void 0,downlinkMax:void 0,rtt:void 0,type:void 0,effectiveType:void 0,saveData:void 0},language:void 0,doNotTrack:void 0,hardwareConcurrency:void 0,deviceMemory:void 0,cookieEnabled:void 0,webdriver:void 0},v(),o.language=i.language||null,o.doNotTrack=function(){switch(i.doNotTrack){case\"1\":return\"enabled\";case\"0\":return\"disabled\";case\"unspecified\":return i.doNotTrack;default:return null}}(),o.hardwareConcurrency=\"hardwareConcurrency\"in i?c(i.hardwareConcurrency||0):null,o.deviceMemory=\"deviceMemory\"in i?c(i.deviceMemory||0):null,o.cookieEnabled=\"cookieEnabled\"in i?i.cookieEnabled:null,o.webdriver=\"webdriver\"in i?i.webdriver:null}function u(){t(\"log\",{network:(n={},Object.keys(o.network).forEach(function(e){n[e]=o.network[e]+\"\"}),n),language:o.language,doNotTrack:o.doNotTrack,hardwareConcurrency:o.hardwareConcurrency,deviceMemory:o.deviceMemory,cookieEnabled:o.cookieEnabled,webdriver:o.webdriver,schemaId:r},{ent:{page:[\"pageType\",\"subPageType\",\"requestId\"]}})}function v(){!function(n){Object.keys(o.network).forEach(function(e){o.network[e]=n[e]})}({downlink:\"downlink\"in d?c(d.downlink||0):null,downlinkMax:\"downlinkMax\"in d?c(d.downlinkMax||0):null,rtt:\"rtt\"in d?(d.rtt||0).toFixed():null,type:d.type||null,effectiveType:d.effectiveType||null,saveData:\"saveData\"in d?d.saveData:null})}function k(){v(),u()}function w(){l(),u()}l(),u(),e.on(\"$afterPageTransition\",w),e.on(d,\"change\",k)});\n",
       "if (window.ue && window.ue.uels) {\n",
       "    ue.uels(\"https://c.amazon-adsystem.com/bao-csm/forensics/a9-tq-forensics.min.js\");\n",
       "}\n",
       "\n",
       "\n",
       "}\n",
       "/* ◬ */\n",
       "</script>\n",
       "</div>\n",
       "<noscript>\n",
       "<img alt=\"\" height=\"1\" src=\"//fls-eu.amazon.com/1/batch/1/OP/A21TJRUUN4KGV:262-2745510-6589301:JY000YRQ4KCF8VZPC4PG$uedata=s:%2Fap%2Fuedata%3Fnoscript%26id%3DJY000YRQ4KCF8VZPC4PG:0\" style=\"display:none;visibility:hidden;\" width=\"1\"/>\n",
       "</noscript>\n",
       "<script>window.ue && ue.count && ue.count('CSMLibrarySize', 47048)</script></body>\n",
       "</html>"
      ]
     },
     "execution_count": 30,
     "metadata": {},
     "output_type": "execute_result"
    }
   ],
   "source": [
    "soup1"
   ]
  },
  {
   "cell_type": "code",
   "execution_count": 31,
   "id": "38f39da7",
   "metadata": {},
   "outputs": [
    {
     "name": "stdout",
     "output_type": "stream",
     "text": [
      "<!DOCTYPE html>\n",
      "<html class=\"a-no-js\" data-19ax5a9jf=\"dingo\">\n",
      " <head>\n",
      "  <script type=\"text/javascript\">\n",
      "   var ue_t0=ue_t0||+new Date();\n",
      "  </script>\n",
      "  <script type=\"text/javascript\">\n",
      "   window.ue_ihb = (window.ue_ihb || window.ueinit || 0) + 1;\n",
      "if (window.ue_ihb === 1) {\n",
      "\n",
      "var ue_csm = window,\n",
      "    ue_hob = +new Date();\n",
      "(function(d){var e=d.ue=d.ue||{},f=Date.now||function(){return+new Date};e.d=function(b){return f()-(b?0:d.ue_t0)};e.stub=function(b,a){if(!b[a]){var c=[];b[a]=function(){c.push([c.slice.call(arguments),e.d(),d.ue_id])};b[a].replay=function(b){for(var a;a=c.shift();)b(a[0],a[1],a[2])};b[a].isStub=1}};e.exec=function(b,a){return function(){try{return b.apply(this,arguments)}catch(c){ueLogError(c,{attribution:a||\"undefined\",logLevel:\"WARN\"})}}}})(ue_csm);\n",
      "\n",
      "\n",
      "    var ue_err_chan = 'jserr-rw';\n",
      "(function(d,e){function h(f,b){if(!(a.ec>a.mxe)&&f){a.ter.push(f);b=b||{};var c=f.logLevel||b.logLevel;c&&c!==k&&c!==m&&c!==n&&c!==p||a.ec++;c&&c!=k||a.ecf++;b.pageURL=\"\"+(e.location?e.location.href:\"\");b.logLevel=c;b.attribution=f.attribution||b.attribution;a.erl.push({ex:f,info:b})}}function l(a,b,c,e,g){d.ueLogError({m:a,f:b,l:c,c:\"\"+e,err:g,fromOnError:1,args:arguments},g?{attribution:g.attribution,logLevel:g.logLevel}:void 0);return!1}var k=\"FATAL\",m=\"ERROR\",n=\"WARN\",p=\"DOWNGRADED\",a={ec:0,ecf:0,\n",
      "pec:0,ts:0,erl:[],ter:[],buffer:[],mxe:50,startTimer:function(){a.ts++;setInterval(function(){d.ue&&a.pec<a.ec&&d.uex(\"at\");a.pec=a.ec},1E4)}};l.skipTrace=1;h.skipTrace=1;h.isStub=1;d.ueLogError=h;d.ue_err=a;e.onerror=l})(ue_csm,window);\n",
      "\n",
      "\n",
      "var ue_id = 'JY000YRQ4KCF8VZPC4PG',\n",
      "    ue_url = '/ap/uedata',\n",
      "    ue_navtiming = 1,\n",
      "    ue_mid = 'A21TJRUUN4KGV',\n",
      "    ue_sid = '262-2745510-6589301',\n",
      "    ue_sn = 'www.amazon.in',\n",
      "    ue_furl = 'fls-eu.amazon.com',\n",
      "    ue_surl = 'https://unagi-eu.amazon.com/1/events/com.amazon.csm.nexusclient.prod',\n",
      "    ue_int = 0,\n",
      "    ue_fcsn = 1,\n",
      "    ue_urt = 3,\n",
      "    ue_rpl_ns = 'cel-rpl',\n",
      "    ue_ddq = 1,\n",
      "    ue_fpf = '//fls-eu.amazon.com/1/batch/1/OP/A21TJRUUN4KGV:262-2745510-6589301:JY000YRQ4KCF8VZPC4PG$uedata=s:',\n",
      "    ue_sbuimp = 1,\n",
      "    ue_ibft = 0,\n",
      "    ue_fnt = 0,\n",
      "\n",
      "    ue_swi = 1;\n",
      "var ue_viz=function(){(function(b,e,a){function k(c){if(b.ue.viz.length<p&&!l){var a=c.type;c=c.originalEvent;/^focus./.test(a)&&c&&(c.toElement||c.fromElement||c.relatedTarget)||(a=e[m]||(\"blur\"==a||\"focusout\"==a?\"hidden\":\"visible\"),b.ue.viz.push(a+\":\"+(+new Date-b.ue.t0)),\"visible\"==a&&(b.ue.isl&&q(\"at\"),l=1))}}for(var l=0,q=b.uex,f,g,m,n=[\"\",\"webkit\",\"o\",\"ms\",\"moz\"],d=0,p=20,h=0;h<n.length&&!d;h++)if(a=n[h],f=(a?a+\"H\":\"h\")+\"idden\",d=\"boolean\"==typeof e[f])g=a+\"visibilitychange\",m=(a?a+\"V\":\"v\")+\n",
      "\"isibilityState\";k({});d&&e.addEventListener(g,k,0);b.ue&&d&&(b.ue.pageViz={event:g,propHid:f})})(ue_csm,ue_csm.document,ue_csm.window)};\n",
      "\n",
      "(function(d,h,N){function H(a){return a&&a.replace&&a.replace(/^\\s+|\\s+$/g,\"\")}function u(a){return\"undefined\"===typeof a}function B(a,b){for(var c in b)b[v](c)&&(a[c]=b[c])}function I(a){try{var b=N.cookie.match(RegExp(\"(^| )\"+a+\"=([^;]+)\"));if(b)return b[2].trim()}catch(c){}}function O(k,b,c){var q=(x||{}).type;if(\"device\"!==c||2!==q&&1!==q)k&&(d.ue_id=a.id=a.rid=k,w&&(w=w.replace(/((.*?:){2})(\\w+)/,function(a,b){return b+k})),D&&(e(\"id\",D,k),D=0)),b&&(w&&(w=w.replace(/(.*?:)(\\w|-)+/,function(a,\n",
      "c){return c+b})),d.ue_sid=b),c&&a.tag(\"page-source:\"+c),d.ue_fpf=w}function P(){var a={};return function(b){b&&(a[b]=1);b=[];for(var c in a)a[v](c)&&b.push(c);return b}}function y(d,b,c,q){q=q||+new E;var f,m;if(b||u(c)){if(d)for(m in f=b?e(\"t\",b)||e(\"t\",b,{}):a.t,f[d]=q,c)c[v](m)&&e(m,b,c[m]);return q}}function e(d,b,c){var e=b&&b!=a.id?a.sc[b]:a;e||(e=a.sc[b]={});\"id\"===d&&c&&(Q=1);return e[d]=c||e[d]}function R(d,b,c,e,f){c=\"on\"+c;var m=b[c];\"function\"===typeof m?d&&(a.h[d]=m):m=function(){};b[c]=\n",
      "function(a){f?(e(a),m(a)):(m(a),e(a))};b[c]&&(b[c].isUeh=1)}function S(k,b,c,q){function p(b,c){var d=[b],g=0,f={},m,h;c?(d.push(\"m=1\"),f[c]=1):f=a.sc;for(h in f)if(f[v](h)){var q=e(\"wb\",h),p=e(\"t\",h)||{},n=e(\"t0\",h)||a.t0,l;if(c||2==q){q=q?g++:\"\";d.push(\"sc\"+q+\"=\"+h);for(l in p)u(p[l])||null===p[l]||d.push(l+q+\"=\"+(p[l]-n));d.push(\"t\"+q+\"=\"+p[k]);if(e(\"ctb\",h)||e(\"wb\",h))m=1}}!J&&m&&d.push(\"ctb=1\");return d.join(\"&\")}function m(b,c,g,e,f){if(b){var k=d.ue_err;d.ue_url&&!e&&!f&&b&&0<b.length&&(e=\n",
      "new Image,a.iel.push(e),e.src=b,a.count&&a.count(\"postbackImageSize\",b.length));w?(f=h.encodeURIComponent)&&b&&(e=new Image,b=\"\"+d.ue_fpf+f(b)+\":\"+(+new E-d.ue_t0),a.iel.push(e),e.src=b):a.log&&(a.log(b,\"uedata\",{n:1}),a.ielf.push(b));k&&!k.ts&&k.startTimer();a.b&&(k=a.b,a.b=\"\",m(k,c,g,1))}}function A(b){var c=x?x.type:F,d=2==c||a.isBFonMshop,c=c&&!d,e=a.bfini;Q||(e&&1<e&&(b+=\"&bfform=1\",c||(a.isBFT=e-1)),d&&(b+=\"&bfnt=1\",a.isBFT=a.isBFT||1),a.ssw&&a.isBFT&&(a.isBFonMshop&&(a.isNRBF=0),u(a.isNRBF)&&\n",
      "(d=a.ssw(a.oid),d.e||u(d.val)||(a.isNRBF=1<d.val?0:1)),u(a.isNRBF)||(b+=\"&nrbf=\"+a.isNRBF)),a.isBFT&&!a.isNRBF&&(b+=\"&bft=\"+a.isBFT));return b}if(!a.paused&&(b||u(c))){for(var l in c)c[v](l)&&e(l,b,c[l]);a.isBFonMshop||y(\"pc\",b,c);l=\"ld\"===k&&b&&e(\"wb\",b);var s=e(\"id\",b)||a.id;l||s===a.oid||(D=b,ba(s,(e(\"t\",b)||{}).tc||+e(\"t0\",b),+e(\"t0\",b)));var s=e(\"id\",b)||a.id,t=e(\"id2\",b),g=a.url+\"?\"+k+\"&v=\"+a.v+\"&id=\"+s,J=e(\"ctb\",b)||e(\"wb\",b),z;J&&(g+=\"&ctb=\"+J);t&&(g+=\"&id2=\"+t);1<d.ueinit&&(g+=\"&ic=\"+d.ueinit);\n",
      "if(!(\"ld\"!=k&&\"ul\"!=k||b&&b!=s)){if(\"ld\"==k){try{h[K]&&h[K].isUeh&&(h[K]=null)}catch(I){}if(h.chrome)for(t=0;t<L.length;t++)T(G,L[t]);(t=N.ue_backdetect)&&t.ue_back&&t.ue_back.value++;d._uess&&(z=d._uess());a.isl=1}a._bf&&(g+=\"&bf=\"+a._bf());d.ue_navtiming&&f&&(e(\"ctb\",s,\"1\"),a.isBFonMshop||y(\"tc\",F,F,M));!C||a.isBFonMshop||U||(f&&B(a.t,{na_:f.navigationStart,ul_:f.unloadEventStart,_ul:f.unloadEventEnd,rd_:f.redirectStart,_rd:f.redirectEnd,fe_:f.fetchStart,lk_:f.domainLookupStart,_lk:f.domainLookupEnd,\n",
      "co_:f.connectStart,_co:f.connectEnd,sc_:f.secureConnectionStart,rq_:f.requestStart,rs_:f.responseStart,_rs:f.responseEnd,dl_:f.domLoading,di_:f.domInteractive,de_:f.domContentLoadedEventStart,_de:f.domContentLoadedEventEnd,_dc:f.domComplete,ld_:f.loadEventStart,_ld:f.loadEventEnd,ntd:(\"function\"!==typeof C.now||u(M)?0:new E(M+C.now())-new E)+a.t0}),x&&B(a.t,{ty:x.type+a.t0,rc:x.redirectCount+a.t0}),U=1);a.isBFonMshop||B(a.t,{hob:d.ue_hob,hoe:d.ue_hoe});a.ifr&&(g+=\"&ifr=1\")}y(k,b,c,q);var r,n;l||b&&\n",
      "b!==s||ca(b);(c=d.ue_mbl)&&c.cnt&&!l&&(g+=c.cnt());l?e(\"wb\",b,2):\"ld\"==k&&(a.lid=H(s));for(r in a.sc)if(1==e(\"wb\",r))break;if(l){if(a.s)return;g=p(g,null)}else c=p(g,null),c!=g&&(c=A(c),a.b=c),z&&(g+=z),g=p(g,b||a.id);g=A(g);if(a.b||l)for(r in a.sc)2==e(\"wb\",r)&&delete a.sc[r];z=0;a._rt&&(g+=\"&rt=\"+a._rt());c=h.csa;if(!l&&c)for(n in r=e(\"t\",b)||{},c=c(\"PageTiming\"),r)r[v](n)&&c(\"mark\",da[n]||n,r[n]);l||(a.s=0,(n=d.ue_err)&&0<n.ec&&n.pec<n.ec&&(n.pec=n.ec,g+=\"&ec=\"+n.ec+\"&ecf=\"+n.ecf),z=e(\"ctb\",b),\n",
      "\"ld\"!==k||b||a.markers?a.markers&&a.isl&&!l&&b&&B(a.markers,e(\"t\",b)):(a.markers={},B(a.markers,e(\"t\",b))),e(\"t\",b,{}));a.tag&&a.tag().length&&(g+=\"&csmtags=\"+a.tag().join(\"|\"),a.tag=P());n=a.viz||[];(r=n.length)&&(g+=\"&viz=\"+n.splice(0,r).join(\"|\"));u(d.ue_pty)||(g+=\"&pty=\"+d.ue_pty+\"&spty=\"+d.ue_spty+\"&pti=\"+d.ue_pti);a.tabid&&(g+=\"&tid=\"+a.tabid);a.aftb&&(g+=\"&aftb=1\");!a._ui||b&&b!=s||(g+=a._ui());a.a=g;m(g,k,z,l,b&&\"string\"===typeof b&&-1!==b.indexOf(\"csa:\"))}}function ca(a){var b=h.ue_csm_markers||\n",
      "{},c;for(c in b)b[v](c)&&y(c,a,F,b[c])}function A(a,b,c){c=c||h;if(c[V])c[V](a,b,!1);else if(c[W])c[W](\"on\"+a,b)}function T(a,b,c){c=c||h;if(c[X])c[X](a,b,!1);else if(c[Y])c[Y](\"on\"+a,b)}function Z(){function a(){d.onUl()}function b(a){return function(){c[a]||(c[a]=1,S(a))}}var c={},e,f;d.onLd=b(\"ld\");d.onLdEnd=b(\"ld\");d.onUl=b(\"ul\");e={stop:b(\"os\")};h.chrome?(A(G,a),L.push(a)):e[G]=d.onUl;for(f in e)e[v](f)&&R(0,h,f,e[f]);d.ue_viz&&ue_viz();A(\"load\",d.onLd);y(\"ue\")}function ba(e,b,c){var f=d.ue_mbl,\n",
      "p=h.csa,m=p&&p(\"SPA\"),p=p&&p(\"PageTiming\");f&&f.ajax&&f.ajax(b,c);m&&p&&(m(\"newPage\",{requestId:e,transitionType:\"soft\"}),p(\"mark\",\"transitionStart\",b));a.tag(\"ajax-transition\")}d.ueinit=(d.ueinit||0)+1;var a=d.ue=d.ue||{};a.t0=h.aPageStart||d.ue_t0;a.id=d.ue_id;a.url=d.ue_url;a.rid=d.ue_id;a.a=\"\";a.b=\"\";a.h={};a.s=1;a.t={};a.sc={};a.iel=[];a.ielf=[];a.viz=[];a.v=\"0.244781.0\";a.paused=!1;var v=\"hasOwnProperty\",G=\"beforeunload\",K=\"on\"+G,V=\"addEventListener\",X=\"removeEventListener\",W=\"attachEvent\",\n",
      "Y=\"detachEvent\",da={cf:\"criticalFeature\",af:\"aboveTheFold\",fn:\"functional\",fp:\"firstPaint\",fcp:\"firstContentfulPaint\",bb:\"bodyBegin\",be:\"bodyEnd\",ld:\"loaded\"},E=h.Date,C=h.performance||h.webkitPerformance,f=(C||{}).timing,x=(C||{}).navigation,M=(f||{}).navigationStart,w=d.ue_fpf,Q=0,U=0,L=[],D=0,F;a.oid=H(a.id);a.lid=H(a.id);a._t0=a.t0;a.tag=P();a.ifr=h.top!==h.self||h.frameElement?1:0;a.markers=null;a.attach=A;a.detach=T;if(\"000-0000000-8675309\"===d.ue_sid){var $=I(\"cdn-rid\"),aa=I(\"session-id\");\n",
      "$&&aa&&O($,aa,\"cdn\")}d.uei=Z;d.ueh=R;d.ues=e;d.uet=y;d.uex=S;a.reset=O;a.pause=function(d){a.paused=d};Z()})(ue_csm,ue_csm.window,ue_csm.document);\n",
      "\n",
      "\n",
      "ue.stub(ue,\"log\");ue.stub(ue,\"onunload\");ue.stub(ue,\"onflush\");\n",
      "(function(b){var a=b.ue,g=1===b.ue_no_counters;a.cv={};a.cv.scopes={};a.cv.buffer=[];a.count=function(b,f,c){var e={},d=a.cv,h=c&&0===c.c;e.counter=b;e.value=f;e.t=a.d();c&&c.scope&&(d=a.cv.scopes[c.scope]=a.cv.scopes[c.scope]||{},e.scope=c.scope);if(void 0===f)return d[b];d[b]=f;d=0;c&&c.bf&&(d=1);g||(ue_csm.ue_sclog||!a.clog||0!==d||h?a.log&&a.log(e,\"csmcount\",{c:1,bf:d}):a.clog(e,\"csmcount\",{bf:d}));a.cv.buffer.push({c:b,v:f})};a.count(\"baselineCounter2\",1);a&&a.event&&(a.event({requestId:b.ue_id||\n",
      "\"rid\",server:b.ue_sn||\"sn\",obfuscatedMarketplaceId:b.ue_mid||\"mid\"},\"csm\",\"csm.CSMBaselineEvent.4\"),a.count(\"nexusBaselineCounter\",1,{bf:1}))})(ue_csm);\n",
      "\n",
      "\n",
      "\n",
      "var ue_hoe = +new Date();\n",
      "}\n",
      "window.ueinit = window.ue_ihb;\n",
      "  </script>\n",
      "  <!-- 8bb2o9nmtux0wdve7ypdhzj -->\n",
      "  <script>\n",
      "   window.ue && ue.count && ue.count('CSMLibrarySize', 9735)\n",
      "  </script>\n",
      "  <script>\n",
      "   var aPageStart = (new Date()).getTime();\n",
      "  </script>\n",
      "  <meta charset=\"utf-8\"/>\n",
      "  <title dir=\"ltr\">\n",
      "   Amazon Sign In\n",
      "  </title>\n",
      "  <script>\n",
      "   if (!window.ueLogError) {\n",
      "          // CSM is not supported so disable SIEGE CSM instrumentation\n",
      "          window.siegeCseConfig = {\n",
      "            disableCsmInstrumentation: true\n",
      "          }\n",
      "        }\n",
      "  </script>\n",
      "  <link href=\"https://images-eu.ssl-images-amazon.com/images/I/61A6IErPNXL._RC|11Fd9tJOdtL.css,11tfezETfFL.css,31Q3id-QR0L.css,31U9HrBLKmL.css_.css?AUIClients/AmazonUI#us.not-trident\" rel=\"stylesheet\"/>\n",
      "  <link href=\"https://images-eu.ssl-images-amazon.com/images/I/01SdjaY0ZsL._RC|31jdWD+JB+L.css,41GEwrYEGlL.css_.css?AUIClients/AuthenticationPortalAssets\" rel=\"stylesheet\"/>\n",
      "  <link href=\"https://images-eu.ssl-images-amazon.com/images/I/21yxad+ZMHL.css?AUIClients/CVFAssets\" rel=\"stylesheet\"/>\n",
      "  <script>\n",
      "   (function(d,g,R,H){function x(a){y&&y.tag&&y.tag(m(\":\",\"aui\",a))}function p(a,b){y&&y.count&&y.count(\"aui:\"+a,0===b?0:b||(y.count(\"aui:\"+a)||0)+1)}function r(a){try{return a.test(navigator.userAgent)}catch(b){return!1}}function t(a){return\"function\"===typeof a}function z(a,b,c){a.addEventListener?a.addEventListener(b,c,!1):a.attachEvent&&a.attachEvent(\"on\"+b,c)}function m(a,b,c,d){b=b&&c?b+a+c:b||c;return d?m(a,b,d):b}function I(a,b,c){try{Object.defineProperty(a,b,{value:c,writable:!1})}catch(v){a[b]=\n",
      "c}return c}function ta(a,b,c){var d=c=a.length,f=function(){d--||(S.push(b),T||(setTimeout(da,0),T=!0))};for(f();c--;)ea[a[c]]?f():(C[a[c]]=C[a[c]]||[]).push(f)}function ua(a,b,c,d,f){var e=g.createElement(a?\"script\":\"link\");z(e,\"error\",d);f&&z(e,\"load\",f);a?(e.type=\"text/javascript\",e.async=!0,c&&/AUIClients|images[/]I/.test(b)&&e.setAttribute(\"crossorigin\",\"anonymous\"),e.src=b):(e.rel=\"stylesheet\",e.href=b);g.getElementsByTagName(\"head\")[0].appendChild(e)}function fa(a,b){return function(c,v){function f(){ua(b,\n",
      "c,e,function(b){U?p(\"resource_unload\"):e?(e=!1,p(\"resource_retry\"),f()):(p(\"resource_error\"),a.log(\"Asset failed to load: \"+c));b&&b.stopPropagation?b.stopPropagation():d.event&&(d.event.cancelBubble=!0)},v)}if(ha[c])return!1;ha[c]=!0;p(\"resource_count\");var e=!0;return!f()}}function va(a,b,c){for(var d={name:a,guard:function(c){return b.guardFatal(a,c)},guardTime:function(a){return b.guardTime(a)},logError:function(c,d,e){b.logError(c,d,e,a)}},f=[],e=0;e<c.length;e++)J.hasOwnProperty(c[e])&&(f[e]=\n",
      "V.hasOwnProperty(c[e])?V[c[e]](J[c[e]],d):J[c[e]]);return f}function D(a,b,c,v,f){return function(e,g){function p(){var a=null;v?a=g:t(g)&&(A.start=B(),a=g.apply(d,va(e,h,q)),A.end=B());if(b){J[e]=a;a=e;for(ea[a]=!0;(C[a]||[]).length;)C[a].shift()();delete C[a]}A.done=!0}var h=f||this;t(e)&&(g=e,e=H);b&&(e=e?e.replace(ia,\"\"):\"__NONAME__\",W.hasOwnProperty(e)&&h.error(m(\", reregistered by \",m(\" by \",e+\" already registered\",W[e]),h.attribution),e),W[e]=h.attribution);for(var q=[],l=0;l<a.length;l++)q[l]=\n",
      "a[l].replace(ia,\"\");var A=E[e||\"anon\"+ ++wa]={depend:q,registered:B(),namespace:h.namespace};e&&xa.hasOwnProperty(e);c?p():ta(q,h.guardFatal(e,p),e);return{decorate:function(a){V[e]=h.guardFatal(e,a)}}}}function ja(a){return function(){var b=Array.prototype.slice.call(arguments);return{execute:D(b,!1,a,!1,this),register:D(b,!0,a,!1,this)}}}function X(a,b){return function(c,d){d||(d=c,c=H);var f=this.attribution;return function(){w.push(b||{attribution:f,name:c,logLevel:a});var e=d.apply(this,arguments);\n",
      "w.pop();return e}}}function K(a,b){this.load={js:fa(this,!0),css:fa(this)};I(this,\"namespace\",b);I(this,\"attribution\",a)}function ka(){g.body?u.trigger(\"a-bodyBegin\"):setTimeout(ka,20)}function F(a,b){a.className=Y(a,b)+\" \"+b}function Y(a,b){return(\" \"+a.className+\" \").split(\" \"+b+\" \").join(\" \").replace(/^ | $/g,\"\")}function la(a){try{return a()}catch(b){return!1}}function L(){if(M){var a={w:d.innerWidth||h.clientWidth,h:d.innerHeight||h.clientHeight};5<Math.abs(a.w-Z.w)||50<a.h-Z.h?(Z=a,N=4,(a=l.mobile||\n",
      "l.tablet?450<a.w&&a.w>a.h:1250<=a.w)?F(h,\"a-ws\"):h.className=Y(h,\"a-ws\")):0<N&&(N--,ma=setTimeout(L,16))}}function ya(a){(M=a===H?!M:!!a)&&L()}function za(){return M}\"use strict\";var O=R.now=R.now||function(){return+new R},B=function(a){return a&&a.now?a.now.bind(a):O}(d.performance),P=B(),xa={},n=d.AmazonUIPageJS||d.P;if(n&&n.when&&n.register){P=[];for(var k=g.currentScript;k;k=k.parentElement)k.id&&P.push(k.id);return n.log(\"A copy of P has already been loaded on this page.\",\"FATAL\",P.join(\" \"))}var y=\n",
      "d.ue;x();x(\"aui_build_date:3.23.1-2023-03-25\");var S=[],Aa=[],T=!1;var da=function(){for(var a=setTimeout(da,0),b=O();Aa.length||S.length;)if(S.shift()(),50<O()-b)return;clearTimeout(a);T=!1};var ea={},C={},ha={},U=!1;z(d,\"beforeunload\",function(){U=!0;setTimeout(function(){U=!1},1E4)});var ia=/^prv:/,W={},J={},V={},E={},wa=0,aa=String.fromCharCode(92),w=[],na=!0,oa=d.onerror;d.onerror=function(a,b,c,v,f){f&&\"object\"===typeof f||(f=Error(a,b,c),f.columnNumber=v,f.stack=b||c||v?m(aa,f.message,\"at \"+\n",
      "m(\":\",b,c,v)):H);var e=w.pop()||{};f.attribution=m(\":\",f.attribution||e.attribution,e.name);f.logLevel=e.logLevel;f.attribution&&console&&console.log&&console.log([f.logLevel||\"ERROR\",a,\"thrown by\",f.attribution].join(\" \"));w=[];oa&&(e=[].slice.call(arguments),e[4]=f,oa.apply(d,e))};K.prototype={logError:function(a,b,c,v){b={message:b,logLevel:c||\"ERROR\",attribution:m(\":\",this.attribution,v)};if(d.ueLogError)return d.ueLogError(a||b,a?b:null),!0;console&&console.error&&(console.log(b),console.error(a));\n",
      "return!1},error:function(a,b,c,d){a=Error(m(\":\",d,a,c));a.attribution=m(\":\",this.attribution,b);throw a;},guardError:X(),guardFatal:X(\"FATAL\"),guardCurrent:function(a){var b=w[w.length-1];return b?X(b.logLevel,b).call(this,a):a},guardTime:function(a){var b=w[w.length-1],c=b&&b.name;return c&&c in E?function(){var b=B(),d=a.apply(this,arguments);E[c].async=(E[c].async||0)+B()-b;return d}:a},log:function(a,b,c){return this.logError(null,a,b,c)},declare:D([],!0,!0,!0),register:D([],!0),execute:D([]),\n",
      "AUI_BUILD_DATE:\"3.23.1-2023-03-25\",when:ja(),now:ja(!0),trigger:function(a,b,c){var g=O();this.declare(a,{data:b,pageElapsedTime:g-(d.aPageStart||NaN),triggerTime:g});c&&c.instrument&&G.when(\"prv:a-logTrigger\").execute(function(b){b(a)})},handleTriggers:function(){this.log(\"handleTriggers deprecated\")},attributeErrors:function(a){return new K(a)},_namespace:function(a,b){return new K(a,b)},setPriority:function(a){na?na=!1:this.log(\"setPriority only accept the first call.\")}};var u=I(d,\"AmazonUIPageJS\",\n",
      "new K);var G=u._namespace(\"PageJS\",\"AmazonUI\");G.declare(\"prv:p-debug\",E);u.declare(\"p-recorder-events\",[]);u.declare(\"p-recorder-stop\",function(){});I(d,\"P\",u);ka();if(g.addEventListener){var pa;g.addEventListener(\"DOMContentLoaded\",pa=function(){u.trigger(\"a-domready\");g.removeEventListener(\"DOMContentLoaded\",pa,!1)},!1)}var h=g.documentElement,ba=function(){var a=[\"O\",\"ms\",\"Moz\",\"Webkit\"],b=g.createElement(\"div\");return{testGradients:function(){return!0},test:function(c){var d=c.charAt(0).toUpperCase()+\n",
      "c.substr(1);c=(a.join(d+\" \")+d+\" \"+c).split(\" \");for(d=c.length;d--;)if(\"\"===b.style[c[d]])return!0;return!1},testTransform3d:function(){return!0}}}();n=h.className;var qa=/(^| )a-mobile( |$)/.test(n),ra=/(^| )a-tablet( |$)/.test(n),l={audio:function(){return!!g.createElement(\"audio\").canPlayType},video:function(){return!!g.createElement(\"video\").canPlayType},canvas:function(){return!!g.createElement(\"canvas\").getContext},svg:function(){return!!g.createElementNS&&!!g.createElementNS(\"http://www.w3.org/2000/svg\",\n",
      "\"svg\").createSVGRect},offline:function(){return navigator.hasOwnProperty&&navigator.hasOwnProperty(\"onLine\")&&navigator.onLine},dragDrop:function(){return\"draggable\"in g.createElement(\"span\")},geolocation:function(){return!!navigator.geolocation},history:function(){return!(!d.history||!d.history.pushState)},webworker:function(){return!!d.Worker},autofocus:function(){return\"autofocus\"in g.createElement(\"input\")},inputPlaceholder:function(){return\"placeholder\"in g.createElement(\"input\")},textareaPlaceholder:function(){return\"placeholder\"in\n",
      "g.createElement(\"textarea\")},localStorage:function(){return\"localStorage\"in d&&null!==d.localStorage},orientation:function(){return\"orientation\"in d},touch:function(){return\"ontouchend\"in g},gradients:function(){return ba.testGradients()},hires:function(){var a=d.devicePixelRatio&&1.5<=d.devicePixelRatio||d.matchMedia&&d.matchMedia(\"(min-resolution:144dpi)\").matches;p(\"hiRes\"+(qa?\"Mobile\":ra?\"Tablet\":\"Desktop\"),a?1:0);return a},transform3d:function(){return ba.testTransform3d()},touchScrolling:function(){return r(/Windowshop|android|OS ([5-9]|[1-9][0-9]+)(_[0-9]{1,2})+ like Mac OS X|SOFTWARE=([5-9]|[1-9][0-9]+)(.[0-9]{1,2})+.*DEVICE=iPhone|Chrome|Silk|Firefox|Trident.+?; Touch/i)},\n",
      "ios:function(){return r(/OS [1-9][0-9]*(_[0-9]*)+ like Mac OS X/i)&&!r(/trident|Edge/i)},android:function(){return r(/android.([1-9]|[L-Z])/i)&&!r(/trident|Edge/i)},mobile:function(){return qa},tablet:function(){return ra},rtl:function(){return\"rtl\"===h.dir}};for(k in l)l.hasOwnProperty(k)&&(l[k]=la(l[k]));for(var ca=\"textShadow textStroke boxShadow borderRadius borderImage opacity transform transition\".split(\" \"),Q=0;Q<ca.length;Q++)l[ca[Q]]=la(function(){return ba.test(ca[Q])});var M=!0,ma=0,Z=\n",
      "{w:0,h:0},N=4;L();z(d,\"resize\",function(){clearTimeout(ma);N=4;L()});var sa={getItem:function(a){try{return d.localStorage.getItem(a)}catch(b){}},setItem:function(a,b){try{return d.localStorage.setItem(a,b)}catch(c){}}};h.className=Y(h,\"a-no-js\");F(h,\"a-js\");!r(/OS [1-8](_[0-9]*)+ like Mac OS X/i)||d.navigator.standalone||r(/safari/i)||F(h,\"a-ember\");n=[];for(k in l)l.hasOwnProperty(k)&&l[k]&&n.push(\"a-\"+k.replace(/([A-Z])/g,function(a){return\"-\"+a.toLowerCase()}));F(h,n.join(\" \"));h.setAttribute(\"data-aui-build-date\",\n",
      "\"3.23.1-2023-03-25\");u.register(\"p-detect\",function(){return{capabilities:l,localStorage:l.localStorage&&sa,toggleResponsiveGrid:ya,responsiveGridEnabled:za}});r(/UCBrowser/i)||l.localStorage&&F(h,sa.getItem(\"a-font-class\"));u.declare(\"a-event-revised-handling\",!1);u.execute(\"RetailPageServiceWorker\",function(){function a(a,b){k.controller&&a?(a={feature:\"retail_service_worker_messaging\",command:a},b&&(a.data=b),k.controller.postMessage(a)):a&&p(\"sw:sw_message_no_ctrl\",1)}function b(a){var b=a.data;\n",
      "if(b&&\"retail_service_worker_messaging\"===b.feature&&b.command&&b.data){var c=b.data;a=d.ue;var e=d.ueLogError;switch(b.command){case \"log_counter\":a&&t(a.count)&&c.name&&a.count(c.name,0===c.value?0:c.value||1);break;case \"log_tag\":a&&t(a.tag)&&c.tag&&(a.tag(c.tag),b=d.uex,a.isl&&t(b)&&b(\"at\"));break;case \"log_error\":e&&t(e)&&c.message&&e({message:c.message,logLevel:c.level||\"ERROR\",attribution:c.attribution||\"RetailServiceWorker\"});break;case \"log_weblab_trigger\":if(!c.weblab||!c.treatment)break;\n",
      "a&&t(a.trigger)?a.trigger(c.weblab,c.treatment):(p(\"sw:wt:miss\"),p(\"sw:wt:miss:\"+c.weblab+\":\"+c.treatment));break;default:p(\"sw:unsupported_message_command\",1)}}}function c(a,b){return\"sw:\"+(b||\"\")+\":\"+a+\":\"}function h(){n.forEach(function(a){x(a)})}function f(a){return a.capabilities.isAmazonApp&&a.capabilities.android}function e(a,b,d){if(b)if(b.mshop&&f(a))a=c(d,\"mshop_and\"),b=b.mshop.action,n.push(a+\"supported\"),b(a,d);else if(b.browser){a=r(/Chrome/i)&&!r(/Edge/i)&&!r(/OPR/i)&&!a.capabilities.isAmazonApp&&\n",
      "!r(new RegExp(aa+\"bwv\"+aa+\"b\"));var e=b.browser;b=c(d,\"browser\");a?(a=e.action,n.push(b+\"supported\"),a(b,d)):n.push(b+\"unsupported\")}}function l(a,b,d){a&&n.push(c(\"register\",d)+\"unsupported\");b&&n.push(c(\"unregister\",d)+\"unsupported\");h()}try{var k=navigator.serviceWorker}catch(A){x(\"sw:nav_err\")}(function(){if(k){var c=function(){a(\"page_loaded\",{rid:d.ue_id,mid:d.ue_mid,pty:d.ue_pty,sid:d.ue_sid,spty:d.ue_spty,furl:d.ue_furl})};z(k,\"message\",b);a(\"client_messaging_ready\");u.when(\"load\").execute(c);\n",
      "z(k,\"controllerchange\",function(){a(\"client_messaging_ready\");\"complete\"===g.readyState&&c()})}})();var n=[],q=function(a,b){var c=d.uex,e=d.uet;a=m(\":\",\"aui\",\"sw\",a);\"ld\"===b&&t(c)?c(\"ld\",a,{wb:1}):t(e)&&e(b,a,{wb:1})},w=function(a,b,c){function e(a){b&&t(b.failure)&&b.failure(a)}function f(){l=setTimeout(function(){x(m(\":\",\"sw:\"+h,g.TIMED_OUT));e({ok:!1,statusCode:g.TIMED_OUT,done:!1});q(h,\"ld\")},c||4E3)}var g={NO_CONTROLLER:\"no_ctrl\",TIMED_OUT:\"timed_out\",UNSUPPORTED_BROWSER:\"unsupported_browser\",\n",
      "UNEXPECTED_RESPONSE:\"unexpected_response\"},h=m(\":\",a.feature,a.command),l,n=!0;if(\"MessageChannel\"in d&&k&&\"controller\"in k)if(k.controller){var A=new MessageChannel;A.port1.onmessage=function(c){(c=c.data)&&c.feature===a.feature&&c.command===a.command?(n&&(q(h,\"cf\"),n=!1),q(h,\"af\"),clearTimeout(l),c.done||f(),c.ok?b&&t(b.success)&&b.success(c):e(c),c.done&&q(h,\"ld\")):p(m(\":\",\"sw:\"+h,g.UNEXPECTED_RESPONSE),1)};f();q(h,\"bb\");k.controller.postMessage(a,[A.port2])}else x(m(\":\",\"sw:\"+a.feature,g.NO_CONTROLLER)),\n",
      "e({ok:!1,statusCode:g.NO_CONTROLLER,done:!0});else x(m(\":\",\"sw:\"+a.feature,g.UNSUPPORTED_BROWSER)),e({ok:!1,statusCode:g.UNSUPPORTED_BROWSER,done:!0})};(function(){k?(q(\"ctrl_changed\",\"bb\"),k.addEventListener(\"controllerchange\",function(){x(\"sw:ctrl_changed\");q(\"ctrl_changed\",\"ld\")})):p(m(\":\",\"sw:ctrl_changed\",\"sw_unsupp\"),1)})();(function(){var a=function(){q(b,\"ld\");var a=d.uex;w({feature:\"page_proxy\",command:\"request_feature_tags\"},{success:function(b){b=b.data;Array.isArray(b)&&b.forEach(function(a){\"string\"===\n",
      "typeof a?x(m(\":\",\"sw:ppft\",a)):p(m(\":\",\"sw:ppft\",\"invalid_tag\"),1)});p(m(\":\",\"sw:ppft\",\"success\"),1);y&&y.isl&&t(a)&&a(\"at\")},failure:function(a){p(m(\":\",\"sw:ppft\",\"error:\"+(a.statusCode||\"ppft_error\")),1)}})};if(\"requestIdleCallback\"in d){var b=m(\":\",\"ppft\",\"callback_ricb\");d.requestIdleCallback(a,{timeout:1E3})}else b=m(\":\",\"ppft\",\"callback_timeout\"),setTimeout(a,0);q(b,\"bb\")})();(function(a){var b=a.reg,c=a.unreg;k&&k.getRegistrations?(G.when(\"A\").execute(function(b){if((a.reg.mshop||a.unreg.mshop)&&\n",
      "\"function\"===typeof f&&f(b)){var g=a.reg.mshop?\"T1\":\"C\",h=d.ue;h&&h.trigger?h.trigger(\"MSHOP_SW_CLIENT_446196\",g):p(\"sw:mshop:wt:failed\")}e(b,c,\"unregister\")}),z(d,\"load\",function(){G.when(\"A\").execute(function(a){e(a,b,\"register\");h()})})):(l(b&&b.browser,c&&c.browser,\"browser\"),G.when(\"A\").execute(function(a){\"function\"===typeof f&&f(a)&&l(b&&b.mshop,c&&c.mshop,\"mshop_and\")}))})({reg:{},unreg:{}})});u.declare(\"a-fix-event-off\",!1);p(\"pagejs:pkgExecTime\",B()-P)})(window,document,Date);\n",
      "  (window.AmazonUIPageJS ? AmazonUIPageJS : P).load.js('https://images-eu.ssl-images-amazon.com/images/I/61yXDIPmT-L._RC|11Y+5x+kkTL.js,51KMV3Cz2XL.js,31x4ENTlVIL.js,31f4+QIEeqL.js,01N6xzIJxbL.js,518BI433aLL.js,01rpauTep4L.js,31QZSjMuoeL.js,61ofwvddDeL.js,01KsMxlPtzL.js_.js?AUIClients/AmazonUI');\n",
      "  (window.AmazonUIPageJS ? AmazonUIPageJS : P).load.js('https://images-eu.ssl-images-amazon.com/images/I/21ZMwVh4T0L._RC|21OJDARBhQL.js,218GJg15I8L.js,31lucpmF4CL.js,2119M3Ks9rL.js,51IBJwOVAbL.js_.js?AUIClients/AuthenticationPortalAssets');\n",
      "  (window.AmazonUIPageJS ? AmazonUIPageJS : P).load.js('https://images-eu.ssl-images-amazon.com/images/I/01wGDSlxwdL.js?AUIClients/AuthenticationPortalInlineAssets');\n",
      "  (window.AmazonUIPageJS ? AmazonUIPageJS : P).load.js('https://images-eu.ssl-images-amazon.com/images/I/41jWouoe0hL.js?AUIClients/CVFAssets');\n",
      "  (window.AmazonUIPageJS ? AmazonUIPageJS : P).load.js('https://images-eu.ssl-images-amazon.com/images/I/8135BpGZX3L.js?AUIClients/SiegeClientSideEncryptionAUI');\n",
      "  (window.AmazonUIPageJS ? AmazonUIPageJS : P).load.js('https://images-eu.ssl-images-amazon.com/images/I/31jdfgcsPAL.js?AUIClients/AmazonUIFormControlsJS');\n",
      "  (window.AmazonUIPageJS ? AmazonUIPageJS : P).load.js('https://images-eu.ssl-images-amazon.com/images/I/81oF63sDyiL.js?AUIClients/FWCIMAssets');\n",
      "  (window.AmazonUIPageJS ? AmazonUIPageJS : P).load.js('https://images-eu.ssl-images-amazon.com/images/I/71mTge6vIEL.js?AUIClients/ACICAssets');\n",
      "  </script>\n",
      "  <script type=\"text/javascript\">\n",
      "   window.ue_ihe = (window.ue_ihe || 0) + 1;\n",
      "if (window.ue_ihe === 1) {\n",
      "(function(c){c&&1===c.ue_jsmtf&&\"object\"===typeof c.P&&\"function\"===typeof c.P.when&&c.P.when(\"mshop-interactions\").execute(function(e){\"object\"===typeof e&&\"function\"===typeof e.addListener&&e.addListener(function(b){\"object\"===typeof b&&\"ORIGIN\"===b.dataSource&&\"number\"===typeof b.clickTime&&\"object\"===typeof b.events&&\"number\"===typeof b.events.pageVisible&&(c.ue_jsmtf_interaction={pv:b.events.pageVisible,ct:b.clickTime})})})})(ue_csm);\n",
      "(function(c,e,b){function m(a){f||(f=d[a.type].id,\"undefined\"===typeof a.clientX?(h=a.pageX,k=a.pageY):(h=a.clientX,k=a.clientY),2!=f||l&&(l!=h||n!=k)?(r(),g.isl&&e.setTimeout(function(){p(\"at\",g.id)},0)):(l=h,n=k,f=0))}function r(){for(var a in d)d.hasOwnProperty(a)&&g.detach(a,m,d[a].parent)}function s(){for(var a in d)d.hasOwnProperty(a)&&g.attach(a,m,d[a].parent)}function t(){var a=\"\";!q&&f&&(q=1,a+=\"&ui=\"+f);return a}var g=c.ue,p=c.uex,q=0,f=0,l,n,h,k,d={click:{id:1,parent:b},mousemove:{id:2,\n",
      "parent:b},scroll:{id:3,parent:e},keydown:{id:4,parent:b}};g&&p&&(s(),g._ui=t)})(ue_csm,window,document);\n",
      "\n",
      "\n",
      "(function(s,l){function m(b,e,c){c=c||new Date(+new Date+t);c=\"expires=\"+c.toUTCString();n.cookie=b+\"=\"+e+\";\"+c+\";path=/\"}function p(b){b+=\"=\";for(var e=n.cookie.split(\";\"),c=0;c<e.length;c++){for(var a=e[c];\" \"==a.charAt(0);)a=a.substring(1);if(0===a.indexOf(b))return decodeURIComponent(a.substring(b.length,a.length))}return\"\"}function q(b,e,c){if(!e)return b;-1<b.indexOf(\"{\")&&(b=\"\");for(var a=b.split(\"&\"),f,d=!1,h=!1,g=0;g<a.length;g++)f=a[g].split(\":\"),f[0]==e?(!c||d?a.splice(g,1):(f[1]=c,a[g]=\n",
      "f.join(\":\")),h=d=!0):2>f.length&&(a.splice(g,1),h=!0);h&&(b=a.join(\"&\"));!d&&c&&(0<b.length&&(b+=\"&\"),b+=e+\":\"+c);return b}var k=s.ue||{},t=3024E7,n=ue_csm.document||l.document,r=null,d;a:{try{d=l.localStorage;break a}catch(u){}d=void 0}k.count&&k.count(\"csm.cookieSize\",document.cookie.length);k.cookie={get:p,set:m,updateCsmHit:function(b,e,c){try{var a;if(!(a=r)){var f;a:{try{if(d&&d.getItem){f=d.getItem(\"csm-hit\");break a}}catch(k){}f=void 0}a=f||p(\"csm-hit\")||\"{}\"}a=q(a,b,e);r=a=q(a,\"t\",+new Date);\n",
      "try{d&&d.setItem&&d.setItem(\"csm-hit\",a)}catch(h){}m(\"csm-hit\",a,c)}catch(g){\"function\"==typeof l.ueLogError&&ueLogError(Error(\"Cookie manager: \"+g.message),{logLevel:\"WARN\"})}}}})(ue_csm,window);\n",
      "\n",
      "\n",
      "(function(l,e){function c(b){b=\"\";var c=a.isBFT?\"b\":\"s\",d=\"\"+a.oid,g=\"\"+a.lid,h=d;d!=g&&20==g.length&&(c+=\"a\",h+=\"-\"+g);a.tabid&&(b=a.tabid+\"+\");b+=c+\"-\"+h;b!=f&&100>b.length&&(f=b,a.cookie?a.cookie.updateCsmHit(m,b+(\"|\"+ +new Date)):e.cookie=\"csm-hit=\"+b+(\"|\"+ +new Date)+n+\"; path=/\")}function p(){f=0}function d(b){!0===e[a.pageViz.propHid]?f=0:!1===e[a.pageViz.propHid]&&c({type:\"visible\"})}var n=\"; expires=\"+(new Date(+new Date+6048E5)).toGMTString(),m=\"tb\",f,a=l.ue||{},k=a.pageViz&&a.pageViz.event&&\n",
      "a.pageViz.propHid;a.attach&&(a.attach(\"click\",c),a.attach(\"keyup\",c),k||(a.attach(\"focus\",c),a.attach(\"blur\",p)),k&&(a.attach(a.pageViz.event,d,e),d({})));a.aftb=1})(ue_csm,ue_csm.document);\n",
      "\n",
      "\n",
      "ue_csm.ue.stub(ue,\"impression\");\n",
      "\n",
      "\n",
      "ue.stub(ue,\"trigger\");\n",
      "\n",
      "\n",
      "\n",
      "if(window.ue&&uet) { uet('bb'); }\n",
      "\n",
      "}\n",
      "  </script>\n",
      "  <script>\n",
      "   window.ue && ue.count && ue.count('CSMLibrarySize', 3173)\n",
      "  </script>\n",
      " </head>\n",
      " <body class=\"auth-no-skin ap-locale-en_IN a-m-us a-aui_72554-c a-aui_accordion_a11y_role_354025-c a-aui_killswitch_csa_logger_372963-c a-aui_pci_risk_banner_210084-c a-aui_preload_261698-c a-aui_rel_noreferrer_noopener_309527-c a-aui_template_weblab_cache_333406-c a-aui_tnr_v2_180836-c\">\n",
      "  <img alt=\"\" height=\"1\" onload=\"window.ue_sbl &amp;&amp; window.ue_sbl();\" src=\"//fls-eu.amazon.com/1/batch/1/OP/A21TJRUUN4KGV:262-2745510-6589301:JY000YRQ4KCF8VZPC4PG$uedata=s:%2Fap%2Fuedata%3Fstaticb%26id%3DJY000YRQ4KCF8VZPC4PG:0\" style=\"display:none;visibility:hidden;\" width=\"1\"/>\n",
      "  <script>\n",
      "   !function(){function n(n,t){var r=i(n);return t&&(r=r(\"instance\",t)),r}var r=[],c=0,i=function(t){return function(){var n=c++;return r.push([t,[].slice.call(arguments,0),n,{time:Date.now()}]),i(n)}};n._s=r,this.csa=n}();;\n",
      "csa('Config', {\"ContentInteractionsSummary.FlushInterval\":5000});\n",
      "if (window.csa) {\n",
      "    csa(\"Config\", {\n",
      "        \n",
      "        'Events.Namespace': 'csa',\n",
      "        'ObfuscatedMarketplaceId': 'A21TJRUUN4KGV',\n",
      "        'Events.SushiEndpoint': 'https://unagi.amazon.in/1/events/com.amazon.csm.csa.prod',\n",
      "        'CacheDetection.RequestID': \"JY000YRQ4KCF8VZPC4PG\",\n",
      "        'CacheDetection.Callback': window.ue && ue.reset,\n",
      "        'LCP.elementDedup': 1\n",
      "    });\n",
      "\n",
      "    csa(\"Events\")(\"setEntity\", {\n",
      "        page: {requestId: \"JY000YRQ4KCF8VZPC4PG\", meaningful: \"interactive\"},\n",
      "        session: {id: \"262-2745510-6589301\"}\n",
      "    });\n",
      "}\n",
      "!function(r){var i,e,o=\"splice\",u=r.csa,f={},c={},a=r.csa._s,s=0,l=0,g=-1,h={},v={},d={},n=Object.keys,p=function(){};function t(n,t){return u(n,t)}function m(n,t){var r=c[n]||{};k(r,t),c[n]=r,l++,S(U,0)}function w(n,t,r){var i=!0;return t=D(t),r&&r.buffered&&(i=(d[n]||[]).every(function(n){return!1!==t(n)})),i?(h[n]||(h[n]=[]),h[n].push(t),function(){!function(n,t){var r=h[n];r&&r[o](r.indexOf(t),1)}(n,t)}):p}function b(n,t){if(t=D(t),n in v)return t(v[n]),p;return w(n,function(n){return t(n),!1})}function y(n,t){if(u(\"Errors\")(\"logError\",n),f.DEBUG)throw t||n}function E(){return Math.abs(4294967295*Math.random()|0).toString(36)}function D(n,t){return function(){try{return n.apply(this,arguments)}catch(n){y(n.message||n,n)}}}function S(n,t){return r.setTimeout(D(n),t)}function U(){for(var n=0;n<a.length;){var t=a[n],r=t[0]in c;if(!r&&!e)return void(s=t.length);r?(a[o](s=n,1),I(t)):n++}g=l}function I(n){var arguments,t=c[n[0]],r=(arguments=n[1])[0];if(!t||!t[r])return y(\"Undefined function: \"+t+\"/\"+r);i=n[3],c[n[2]]=t[r].apply(t,arguments.slice(1))||{},i=0}function O(){e=1,U()}function k(t,r){n(r).forEach(function(n){t[n]=r[n]})}b(\"$beforeunload\",O),m(\"Config\",{instance:function(n){k(f,n)}}),u.plugin=D(function(n){n(t)}),t.config=f,t.register=m,t.on=w,t.once=b,t.blank=p,t.emit=function(n,t,r){for(var i=h[n]||[],e=0;e<i.length;)!1===i[e](t)?i[o](e,1):e++;v[n]=t||{},r&&r.buffered&&(d[n]||(d[n]=[]),100<=d[n].length&&d[n].shift(),d[n].push(t||{}))},t.UUID=function(){return[E(),E(),E(),E()].join(\"-\")},t.time=function(n){var t=i?new Date(i.time):new Date;return\"ISO\"===n?t.toISOString():t.getTime()},t.error=y,t.warn=function(n,t){if(u(\"Errors\")(\"logWarn\",n),f.DEBUG)throw t||n},t.exec=D,t.timeout=S,t.interval=function(n,t){return r.setInterval(D(n),t)},(t.global=r).csa._s.push=function(n){n[0]in c&&(!a.length||e)?(I(n),a.length&&g!==l&&U()):a[o](s++,0,n)},U(),S(function(){S(O,f.SkipMissingPluginsTimeout||5e3)},1)}(\"undefined\"!=typeof window?window:global);csa.plugin(function(o){var f=\"addEventListener\",e=\"requestAnimationFrame\",t=o.exec,r=o.global,u=o.on;o.raf=function(n){if(r[e])return r[e](t(n))},o.on=function(n,e,t,r){if(n&&\"function\"==typeof n[f]){var i=o.exec(t);return n[f](e,i,r),function(){n.removeEventListener(e,i,r)}}return\"string\"==typeof n?u(n,e,t,r):o.blank}});csa.plugin(function(o){var t,n,r={},e=\"localStorage\",c=\"sessionStorage\",a=\"local\",i=\"session\",u=o.exec;function s(e,t){var n;try{r[t]=!!(n=o.global[e]),n=n||{}}catch(e){r[t]=!(n={})}return n}function f(){t=t||s(e,a),n=n||s(c,i)}function l(e){return e&&e[i]?n:t}o.store=u(function(e,t,n){f();var o=l(n);return e?t?void(o[e]=t):o[e]:Object.keys(o)}),o.storageSupport=u(function(){return f(),r}),o.deleteStored=u(function(e,t){f();var n=l(t);if(\"function\"==typeof e)for(var o in n)n.hasOwnProperty(o)&&e(o,n[o])&&delete n[o];else delete n[e]})});csa.plugin(function(n){n.types={ovl:function(n){var r=[];if(n)for(var i in n)n.hasOwnProperty(i)&&r.push(n[i]);return r}}});csa.plugin(function(i){function e(n){return function(e){i(\"Metrics\",{producerId:\"csa\",dimensions:{message:e}})(\"recordMetric\",n,1)}}function n(r){var o,t,l=i(\"Events\",{producerId:r.producerId}),u=[\"name\",\"type\",\"csm\",\"adb\"],c={url:\"pageURL\",file:\"f\",line:\"l\",column:\"c\"};this.log=function(e){if(!function(e){if(!e)return!0;for(var n in e)return!1;return!0}(e)){var n=r.logOptions||{ent:{page:[\"pageType\",\"subPageType\",\"requestId\"]}};l(\"log\",function(n){return o=i.UUID(),t={messageId:o,schemaId:r.schemaId||\"<ns>.Error.4\",errorMessage:n.m||null,attribution:n.attribution||null,logLevel:\"FATAL\",url:null,file:null,line:null,column:null,stack:n.s||[],context:{},surfaceInfo:{}},n.logLevel&&(t.logLevel=\"\"+n.logLevel),u.forEach(function(e){n[e]&&(t.context[e]=n[e])}),\"INFO\"===n.logLevel||Object.keys(c).forEach(function(e){\"number\"!=typeof n[c[e]]&&\"string\"!=typeof n[c[e]]||(t[e]=\"\"+n[c[e]])}),t}(e),n)}}}i.register(\"Errors\",{instance:function(e){return new n(e||{})},logError:e(\"jsError\"),logWarn:e(\"jsWarn\")})});csa.plugin(function(o){var r,e,n,t,a,i=\"function\",u=\"willDisappear\",f=\"$app.\",p=\"$document.\",c=\"focus\",s=\"blur\",d=\"active\",l=\"resign\",$=o.global,b=o.exec,m=o.config[\"Transport.AnonymizeRequests\"]||!1,g=o(\"Events\"),h=$.location,v=$.document||{},y=$.P||{},P=(($.performance||{}).navigation||{}).type,w=o.on,k=o.emit,E=v.hidden,T={};h&&v&&(w($,\"beforeunload\",D),w($,\"pagehide\",D),w(v,\"visibilitychange\",R(p,function(){return v.visibilityState||\"unknown\"})),w(v,c,R(p+c)),w(v,s,R(p+s)),y.when&&y.when(\"mash\").execute(function(e){e&&(w(e,\"appPause\",R(f+\"pause\")),w(e,\"appResume\",R(f+\"resume\")),R(f+\"deviceready\")(),$.cordova&&$.cordova.platformId&&R(f+cordova.platformId)(),w(v,d,R(f+d)),w(v,l,R(f+l)))}),e=$.app||{},n=b(function(){k(f+\"willDisappear\"),D()}),a=typeof(t=e[u])==i,e[u]=b(function(){n(),a&&t()}),$.app||($.app=e),\"complete\"===v.readyState?A():w($,\"load\",A),E?S():x(),o.on(\"$app.blur\",S),o.on(\"$app.focus\",x),o.on(\"$document.blur\",S),o.on(\"$document.focus\",x),o.on(\"$document.hidden\",S),o.on(\"$document.visible\",x),o.register(\"SPA\",{newPage:I}),I({transitionType:{0:\"hard\",1:\"refresh\",2:\"back-button\"}[P]||\"unknown\"}));function I(n,e){var t=!!r,a=(e=e||{}).keepPageAttributes;t&&(k(\"$beforePageTransition\"),k(\"$pageTransition\")),t&&!a&&g(\"removeEntity\",\"page\"),r=o.UUID(),a?T.id=r:T={schemaId:\"<ns>.PageEntity.1\",id:r,url:m?h.href.split(\"?\")[0]:h.href,server:h.hostname,path:h.pathname,referrer:m?v.referrer.split(\"?\")[0]:v.referrer,title:v.title},Object.keys(n||{}).forEach(function(e){T[e]=n[e]}),g(\"setEntity\",{page:T}),k(\"$pageChange\",T,{buffered:1}),t&&k(\"$afterPageTransition\")}function A(){k(\"$load\"),k(\"$ready\"),k(\"$afterload\")}function D(){k(\"$ready\"),k(\"$beforeunload\"),k(\"$unload\"),k(\"$afterunload\")}function S(){E||(k(\"$visible\",!1,{buffered:1}),E=!0)}function x(){E&&(k(\"$visible\",!0,{buffered:1}),E=!1)}function R(n,t){return b(function(){var e=typeof t==i?n+t():n;k(e)})}});csa.plugin(function(c){var e=\"Events\",t=\"UNKNOWN\",s=\"id\",a=\"all\",n=\"messageId\",i=\"timestamp\",u=\"producerId\",o=\"application\",r=\"obfuscatedMarketplaceId\",f=\"entities\",d=\"schemaId\",l=\"version\",p=\"attributes\",v=\"<ns>\",g=\"session\",h=c.config,m=(c.global.location||{}).host,y=h[e+\".Namespace\"]||\"csa_other\",I=h.Application||\"Other\"+(m?\":\"+m:\"\"),b=h[\"Transport.AnonymizeRequests\"]||!1,O=c(\"Transport\"),E={},U=function(e,t){Object.keys(e).forEach(t)};function A(n,i,o){U(i,function(e){var t=o===a||(o||{})[e];e in n||(n[e]={version:1,id:i[e][s]||c.UUID()}),N(n[e],i[e],t)})}function N(t,n,i){U(n,function(e){!function(e,t,n){return\"string\"!=typeof t&&e!==l?c.error(\"Attribute is not of type string: \"+e):!0===n||1===n||(e===s||!!~(n||[]).indexOf(e))}(e,n[e],i)||(t[e]=n[e])})}function S(o,e,r){U(e,function(e){var t=o[e];if(t[d]){var n={},i={};n[s]=t[s],n[u]=t[u]||r,n[d]=t[d],n[l]=t[l]++,n[p]=i,k(n),N(i,t,1),w(i),O(\"log\",n)}})}function k(e){e[i]=function(e){return\"number\"==typeof e&&(e=new Date(e).toISOString()),e||c.time(\"ISO\")}(e[i]),e[n]=e[n]||c.UUID(),e[o]=I,e[r]=h.ObfuscatedMarketplaceId||t,e[d]=e[d].replace(v,y)}function w(e){delete e[l],delete e[d],delete e[u]}function D(o){var r={};this.log=function(e,t){var n={},i=(t||{}).ent;return e?\"string\"!=typeof e[d]?c.error(\"A valid schema id is required for the event\"):(k(e),A(n,E,i),A(n,r,i),A(n,e[f]||{},i),U(n,function(e){w(n[e])}),e[u]=o[u],e[f]=n,void O(\"log\",e,t)):c.error(\"The event cannot be undefined\")},this.setEntity=function(e){b&&delete e[g],A(r,e,a),S(r,e,o[u])}}h[\"KillSwitch.\"+e]||c.register(e,{setEntity:function(e){b&&delete e[g],A(E,e,a),S(E,e,\"csa\")},removeEntity:function(e){delete E[e]},instance:function(e){return new D(e)}})});csa.plugin(function(s){var c,g=\"Transport\",l=\"post\",f=\"preflight\",r=\"csa.cajun.\",i=\"store\",a=\"deleteStored\",u=\"sendBeacon\",t=\"__merge\",e=\"messageId\",n=\".FlushInterval\",o=0,d=s.config[g+\".BufferSize\"]||2e3,h=s.config[g+\".RetryDelay\"]||1500,p=s.config[g+\".AnonymizeRequests\"]||!1,v={},y=0,m=[],E=s.global,R=E.document,b=s.timeout,k=E.Object.keys,w=s.config[g+n]||5e3,I=w,O=s.config[g+n+\".BackoffFactor\"]||1,S=s.config[g+n+\".BackoffLimit\"]||3e4,B=0;function T(n){if(864e5<s.time()-+new Date(n.timestamp))return s.warn(\"Event is too old: \"+n);y<d&&(n[e]in v||(v[n[e]]=n,y++),\"function\"==typeof n[t]&&n[t](v[n[e]]),!B&&o&&(B=b(q,function(){var n=I;return I=Math.min(n*O,S),n}())))}function q(){m.forEach(function(e){var o=[];k(v).forEach(function(n){var t=v[n];e.accepts(t)&&o.push(t)}),o.length&&(e.chunks?e.chunks(o).forEach(function(n){D(e,n)}):D(e,o))}),v={},B=0}function D(t,e){function o(){s[a](r+n)}var n=s.UUID();s[i](r+n,JSON.stringify(e)),[function(n,t,e){var o=E.navigator||{},r=E.cordova||{};if(p)return 0;if(!o[u]||!n[l])return 0;n[f]&&r&&\"ios\"===r.platformId&&!c&&((new Image).src=n[f]().url,c=1);var i=n[l](t);if(!i.type&&o[u](i.url,i.body))return e(),1},function(n,t,e){if(!n[l])return 0;var o=n[l](t),r=o.url,i=o.body,c=o.type,f=new XMLHttpRequest,a=0;function u(n,t,e){f.open(\"POST\",n),f.withCredentials=!p,e&&f.setRequestHeader(\"Content-Type\",e),f.send(t)}return f.onload=function(){f.status<299?e():s.config[g+\".XHRRetries\"]&&a<3&&b(function(){u(r,i,c)},++a*h)},u(r,i,c),1}].some(function(n){try{return n(t,e,o)}catch(n){}})}k&&(s.once(\"$afterload\",function(){o=1,function(e){(s[i]()||[]).forEach(function(n){if(!n.indexOf(r))try{var t=s[i](n);s[a](n),JSON.parse(t).forEach(e)}catch(n){s.error(n)}})}(T),s.on(R,\"visibilitychange\",q,!1),q()}),s.once(\"$afterunload\",function(){o=1,q()}),s.on(\"$afterPageTransition\",function(){y=0,I=w}),s.register(g,{log:T,register:function(n){m.push(n)}}))});csa.plugin(function(n){var r=n.config[\"Events.SushiEndpoint\"];n(\"Transport\")(\"register\",{accepts:function(n){return n.schemaId},post:function(n){var t=n.map(function(n){return{data:n}});return{url:r,body:JSON.stringify({events:t})}},preflight:function(){var n,t=/\\/\\/(.*?)\\//.exec(r);return t&&t[1]&&(n=\"https://\"+t[1]+\"/ping\"),{url:n}},chunks:function(n){for(var t=[];500<n.length;)t.push(n.splice(0,500));return t.push(n),t}})});csa.plugin(function(n){var t,a,o,r,e=n.config,i=\"PageViews\",d=e[i+\".ImpressionMinimumTime\"]||1e3,s=\"hidden\",c=\"innerHeight\",g=\"innerWidth\",l=\"renderedTo\",f=l+\"Viewed\",m=l+\"Meaningful\",u=l+\"Impressed\",p=1,v=2,h=3,w=4,y=5,P=\"loaded\",I=7,T=8,b=n.global,E=n.on,V=n(\"Events\",{producerId:\"csa\"}),$=b.document,M={},S={},H=y;function K(e){if(!M[I]){var i;if(M[e]=n.time(),e!==h&&e!==P||(t=t||M[e]),t&&H===w)a=a||M[e],(i={})[m]=t-o,i[f]=a-o,R(\"PageView.4\",i),r=r||n.timeout(j,d);if(e!==y&&e!==p&&e!==v||(clearTimeout(r),r=0),e!==p&&e!==v||R(\"PageRender.3\",{transitionType:e===p?\"hard\":\"soft\"}),e===I)(i={})[m]=t-o,i[f]=a-o,i[u]=M[e]-o,R(\"PageImpressed.2\",i)}}function R(e,i){S[e]||(i.schemaId=\"<ns>.\"+e,V(\"log\",i,{ent:\"all\"}),S[e]=1)}function W(){0===b[c]&&0===b[g]?(H=T,n(\"Events\")(\"setEntity\",{page:{viewport:\"hidden-iframe\"}})):H=$[s]?y:w,K(H)}function j(){K(I),r=0}function k(){var e=o?v:p;M={},S={},a=t=0,o=n.time(),K(e),W()}function q(){var e=$.readyState;\"interactive\"===e&&K(h),\"complete\"===e&&K(P)}e[\"KillSwitch.\"+i]||($&&void 0!==$[s]?(k(),E($,\"visibilitychange\",W,!1),E($,\"readystatechange\",q,!1),E(\"$afterPageTransition\",k),E(\"$timing:loaded\",q),n.once(\"$load\",q)):n.warn(\"Page visibility not supported\"))});csa.plugin(function(c){var s=c.config[\"Interactions.ParentChainLength\"]||15,e=\"click\",r=\"touches\",f=\"timeStamp\",o=\"length\",u=\"pageX\",g=\"pageY\",p=\"pageXOffset\",h=\"pageYOffset\",m=250,v=5,d=200,l=.5,t={capture:!0,passive:!0},X=c.global,Y=c.emit,n=c.on,x=X.Math.abs,a=(X.document||{}).documentElement||{},y={x:0,y:0,t:0,sX:0,sY:0},N={x:0,y:0,t:0,sX:0,sY:0};function b(t){if(t.id)return\"//*[@id='\"+t.id+\"']\";var e=function(t){var e,n=1;for(e=t.previousSibling;e;e=e.previousSibling)e.nodeName===t.nodeName&&(n+=1);return n}(t),n=t.nodeName;return 1!==e&&(n+=\"[\"+e+\"]\"),t.parentNode&&(n=b(t.parentNode)+\"/\"+n),n}function I(t,e,n){var a=c(\"Content\",{target:n}),i={schemaId:\"<ns>.ContentInteraction.1\",interaction:t,interactionData:e,messageId:c.UUID()};if(n){var r=b(n);r&&(i.attribution=r);var o=function(t){for(var e=t,n=e.tagName,a=!1,i=t?t.href:null,r=0;r<s;r++){if(!e||!e.parentElement){a=!0;break}n=(e=e.parentElement).tagName+\"/\"+n,i=i||e.href}return a||(n=\".../\"+n),{pc:n,hr:i}}(n);o.pc&&(i.interactionData.parentChain=o.pc),o.hr&&(i.interactionData.href=o.hr)}a(\"log\",i),Y(\"$content.interaction\",i)}function i(t){I(e,{interactionX:\"\"+t.pageX,interactionY:\"\"+t.pageY},t.target)}function C(t){if(t&&t[r]&&1===t[r][o]){var e=t[r][0];N=y={e:t.target,x:e[u],y:e[g],t:t[f],sX:X[p],sY:X[h]}}}function D(t){if(t&&t[r]&&1===t[r][o]&&y&&N){var e=t[r][0],n=t[f],a=n-N.t,i={e:t.target,x:e[u],y:e[g],t:n,sX:X[p],sY:X[h]};N=i,d<=a&&(y=i)}}function E(t){if(t){var e=x(y.x-N.x),n=x(y.y-N.y),a=x(y.sX-N.sX),i=x(y.sY-N.sY),r=t[f]-y.t;if(m<1e3*e/r&&v<e||m<1e3*n/r&&v<n){var o=n<e;o&&a&&e*l<=a||!o&&i&&n*l<=i||I((o?\"horizontal\":\"vertical\")+\"-swipe\",{interactionX:\"\"+y.x,interactionY:\"\"+y.y,endX:\"\"+N.x,endY:\"\"+N.y},y.e)}}}n(a,e,i,t),n(a,\"touchstart\",C,t),n(a,\"touchmove\",D,t),n(a,\"touchend\",E,t)});csa.plugin(function(r){var a,o,t,e=\"MutationObserver\",c=\"observe\",n=\"disconnect\",s=\"mutObs\",f=\"_csa_flt\",l=\"_csa_llt\",b=\"_csa_mr\",d=\"_csa_mi\",m=\"lastChild\",p=\"length\",_={childList:!0,subtree:!0},g=10,h=4,u=r.global,i=u.document,v=i.body||i.documentElement,y=Date.now,O=[],k=[],w=[],L=0,B=0,I=0,M=1,Y=[],$=[],x=0,A=r.blank,C={buffered:1},D=0;function E(e){r.global.ue_csa_ss_tag||r.emit(\"$csmTag:\"+e,0,C)}y&&u[e]?(E(s+\"Yes\"),L=0,o=new u[e](N),(t=new u[e](F))[c](v,{attributes:!0,subtree:!0,attributeFilter:[\"src\"],attributeOldValue:!0}),A=r.on(u,\"scroll\",S,{passive:!0}),r.once(\"$ready\",V),M&&T(),r.register(\"SpeedIndexBuffers\",{getBuffers:function(e){e&&(V(),S(),e(L,Y,O,k,w),o&&o[n](),t&&t[n](),A())},registerListener:function(e){a=e},replayModuleIsLive:function(){r.raf(V)}})):E(s+\"No\");function F(e){O.push({t:y(),m:e})}function N(e){k.push({t:y(),m:e}),D||E(s+\"Active\"),D=I=1,a&&a()}function S(){I&&(w.push({t:y(),y:B}),B=u.pageYOffset,I=0)}function T(){for(var e=v,t=y(),n=[],s=[],u=0,i=0;e;)e[f]?++u:(e[f]=t,n.push(e),i=1),s[p]<h&&s.push(e),e[d]=x,e[l]=t,e=e[m];i&&(u<$[p]&&function(e){for(var t=e,n=$[p];t<n;t++){var s=$[t];if(s){if(s[b])break;if(s[d]<x){s[b]=1,o[c](s,_);break}}}}(u),$=s,Y.push({t:t,m:n}),++x,I=i,a&&a()),M&&(i?r.raf(T):r.timeout(T,g))}function V(){M&&(M=0,T(),o[c](v,_))}});\n",
      "  </script>\n",
      "  <script type=\"text/javascript\">\n",
      "   (function(){function l(a){for(var c=b.location.search.substring(1).split(\"&\"),e=0;e<c.length;e++){var d=c[e].split(\"=\");if(d[0]===a)return d[1]}}window.amzn=window.amzn||{};amzn.copilot=amzn.copilot||{};var b=window,f=document,g=b.P||b.AmazonUIPageJS,h=f.head||f.getElementsByTagName(\"head\")[0],m=0,n=0;amzn.copilot.checkCoPilotSession=function(){f.cookie.match(\"cpidv\")&&(\"undefined\"!==typeof jQuery&&k(jQuery),g&&g.when&&g.when(\"jQuery\").execute(function(a){k(a)}),b.amznJQ&&b.amznJQ.available&&b.amznJQ.available(\"jQuery\",\n",
      "function(){k(jQuery)}),b.jQuery||g||b.amznJQ||q())};var q=function(){m?b.ue&&\"function\"===typeof b.ue.count&&b.ue.count(\"cpJQUnavailable\",1):(m=1,f.addEventListener?f.addEventListener(\"DOMContentLoaded\",amzn.copilot.checkCoPilotSession,!1):f.attachEvent&&f.attachEvent(\"onreadystatechange\",function(){\"complete\"===f.readyState&&amzn.copilot.checkCoPilotSession()}))},k=function(a){if(!n){n=1;amzn.copilot.jQuery=a;a=l(\"debugJS\");var c=\"https:\"===b.location.protocol?1:0,e=1;url=\"/gp/copilot/handlers/copilot_strings_resources.html\";\n",
      "window.texas&&texas.locations&&(url=texas.locations.makeUrl(url));g&&g.AUI_BUILD_DATE&&(e=0);amzn.copilot.jQuery.ajax&&amzn.copilot.jQuery.ajax({url:url,dataType:\"json\",data:{isDebug:a,isSecure:c,includeAUIP:e},success:function(a){amzn.copilot.vip=a.serviceEndPoint;amzn.copilot.enableMultipleTabSession=a.isFollowMe;r(a)},error:function(){b.ue.count(\"cpLoadResourceError\",1)}})}},r=function(a){var c=amzn.copilot.jQuery,e=function(){amzn.copilot.setup(c.extend({isContinuedSession:!0},a))};a.CSSUrls&&\n",
      "c.each(a.CSSUrls[0],function(a,c){var b=f.createElement(\"link\");b.type=\"text/css\";b.rel=\"stylesheet\";b.href=c;h.appendChild(b)});a.CSSTag&&s(a.CSSTag);if(a.JSUrls){var d=l(\"forceSynchronousJS\"),b=a.JSUrls[0];c.each(b,function(a,c){a===b.length-1?p(c,d,e):p(c,d)})}a.JSTag&&(t(a.JSTag),P.when(\"CSCoPilotPresenterAsset\").execute(function(){e()}))},t=function(a){var c=f.createElement(\"div\");c.innerHTML=a;a=0;for(var b=c.children.length;a<b;a++){var d=f.createElement(\"script\");d.type=\"text/javascript\";\n",
      "d.innerHTML=c.children[a].innerHTML;h.appendChild(d)}},s=function(a){var b=f.createElement(\"div\");b.innerHTML=a;a=0;for(var e=b.children.length;a<e;a++)h.appendChild(b.children[a])},p=function(a,b,e){var d=f.createElement(\"script\");d.type=\"text/javascript\";d.src=a;d.async=b?!1:!0;e&&(d.onload=e);h.appendChild(d)}})();\n",
      "\n",
      "amzn.copilot.checkCoPilotSession();\n",
      "  </script>\n",
      "  <script>\n",
      "   window.ue && ue.count && ue.count('CSMLibrarySize', 17818)\n",
      "  </script>\n",
      "  <div id=\"a-page\">\n",
      "   <script data-a-state='{\"key\":\"a-wlab-states\"}' type=\"a-state\">\n",
      "    {\"AUI_ACCORDION_A11Y_ROLE_354025\":\"C\"}\n",
      "   </script>\n",
      "   <div class=\"a-section a-padding-medium auth-workflow\">\n",
      "    <div class=\"a-section a-spacing-none auth-navbar\">\n",
      "     <div class=\"a-section a-spacing-medium a-text-center\">\n",
      "      <a class=\"a-link-nav-icon\" href=\"/ref=ap_frn_logo\" tabindex=\"-1\">\n",
      "       <i aria-label=\"Amazon\" class=\"a-icon a-icon-logo\" role=\"img\">\n",
      "       </i>\n",
      "       <i class=\"a-icon a-icon-domain-in a-icon-domain\" role=\"presentation\">\n",
      "       </i>\n",
      "      </a>\n",
      "     </div>\n",
      "    </div>\n",
      "    <div class=\"a-section\" id=\"authportal-center-section\">\n",
      "     <div class=\"a-section\" id=\"authportal-main-section\">\n",
      "      <div class=\"a-section a-spacing-base auth-pagelet-container\">\n",
      "       <div aria-atomic=\"true\" aria-live=\"polite\" class=\"a-box a-alert a-alert-warning\" id=\"auth-cookie-warning-message\">\n",
      "        <div class=\"a-box-inner a-alert-container\">\n",
      "         <h4 class=\"a-alert-heading\">\n",
      "          Please Enable Cookies to Continue\n",
      "         </h4>\n",
      "         <i class=\"a-icon a-icon-alert\">\n",
      "         </i>\n",
      "         <div class=\"a-alert-content\">\n",
      "          <p>\n",
      "           <a class=\"a-link-normal\" href=\"/gp/help/customer/display.html/ref=ap_cookie_error_help?\">\n",
      "           </a>\n",
      "          </p>\n",
      "         </div>\n",
      "        </div>\n",
      "       </div>\n",
      "      </div>\n",
      "      <div class=\"a-section auth-pagelet-container\">\n",
      "       <!-- Set cross domain sso variables to be used for making Ajax calls to central Identity domain -->\n",
      "       <!-- Set cross domain sso variables to be used for making Ajax calls to central Identity domain -->\n",
      "       <!-- show a warning modal dialog when the third party account is connected with Amazon -->\n",
      "       <div class=\"a-section a-spacing-base\">\n",
      "        <div class=\"a-section\">\n",
      "         <form action=\"https://www.amazon.in/ap/signin\" class=\"auth-validate-form auth-real-time-validation a-spacing-none\" method=\"post\" name=\"signIn\" novalidate=\"\">\n",
      "          <input name=\"appActionToken\" type=\"hidden\" value=\"2LF51uI61mWd5ALMXL30WE6YCawj3D\"/>\n",
      "          <input name=\"appAction\" type=\"hidden\" value=\"SIGNIN_PWD_COLLECT\"/>\n",
      "          <input name=\"subPageType\" type=\"hidden\" value=\"SignInClaimCollect\"/>\n",
      "          <input name=\"openid.return_to\" type=\"hidden\" value=\"ape:aHR0cHM6Ly93d3cuYW1hem9uLmluL05ldy1BcHBsZS1pUGhvbmUtMTItMTI4R0IvcHJvZHVjdC1yZXZpZXdzL0IwOEw1VE5KSEcvcmVmPWNtX2NyX2FycF9kX3BhZ2luZ19idG1fbmV4dF8yP2llPVVURjgmcmV2aWV3ZXJUeXBlPWFsbF9yZXZpZXdzJnBhZ2VOdW1iZXI9Mg==\"/>\n",
      "          <input name=\"prevRID\" type=\"hidden\" value=\"ape:SlkwMDBZUlE0S0NGOFZaUEM0UEc=\"/>\n",
      "          <input name=\"workflowState\" type=\"hidden\" value=\"eyJ6aXAiOiJERUYiLCJlbmMiOiJBMjU2R0NNIiwiYWxnIjoiQTI1NktXIn0.3oem2lT8LmSMb0mYiC_BEiQiXt5uBc-6g3ZeGjDjnVzdLi5aD1u5NA.9sQrrAgdP902LVPu.5mVtmN-dVTrUoA8lUlts7BR7XGAhEW_7JdFh2LccsVsk29_PDCAYWXkZsdxzTxL8gyfIGNtyjSdkQ0bUTVp95wC_QRprIX9J9ZW7Ouk71U5hOLNm-AyfAGuXz5A4Kj1fnG6u5ztsqlUkkUaCS1udDWBRNOpAkD7n1P0wVmUUYGCxGb-QjWYzYgv8ExpwCl9TGrbFriuxvMefPvab5Ve8yQaOd6uO8lHF3nJy5fnNtv7jh04x3o8G6DQoSLr2NEdKAaqm9sZ2-YAQXwWxDAr21b1jrmOGANQfqs6JpvQeFqaD7r2hQJOnEtXjpdXE2Qq3QujTW0BJ5xTYLEqpYRPMH-Q69Bx95AmJZA.3rTk1hzh36l7FKKIZOnAsA\"/>\n",
      "          <div class=\"a-section\">\n",
      "           <div class=\"a-box\">\n",
      "            <div class=\"a-box-inner a-padding-extra-large\">\n",
      "             <h1 class=\"a-spacing-small\">\n",
      "              Sign in\n",
      "             </h1>\n",
      "             <!-- optional subheading element -->\n",
      "             <div class=\"a-row a-spacing-base\">\n",
      "              <label class=\"a-form-label\" for=\"ap_email\">\n",
      "               Email or mobile phone number\n",
      "              </label>\n",
      "              <input class=\"a-input-text a-span12 auth-autofocus auth-required-field\" id=\"ap_email\" maxlength=\"128\" name=\"email\" tabindex=\"1\" type=\"email\"/>\n",
      "              <input class=\"a-input-text hide\" id=\"ap-credential-autofill-hint\" maxlength=\"1024\" name=\"password\" type=\"password\"/>\n",
      "              <div class=\"a-box a-alert-inline a-alert-inline-error auth-inlined-error-message a-spacing-top-mini\" id=\"auth-email-missing-alert\" role=\"alert\">\n",
      "               <div class=\"a-box-inner a-alert-container\">\n",
      "                <i class=\"a-icon a-icon-alert\">\n",
      "                </i>\n",
      "                <div class=\"a-alert-content\">\n",
      "                 Enter your email or mobile phone number\n",
      "                </div>\n",
      "               </div>\n",
      "              </div>\n",
      "             </div>\n",
      "             <input name=\"create\" type=\"hidden\" value=\"0\"/>\n",
      "             <div class=\"a-section\">\n",
      "              <span class=\"a-button a-button-span12 a-button-primary\" id=\"continue\">\n",
      "               <span class=\"a-button-inner\">\n",
      "                <input aria-labelledby=\"continue-announce\" class=\"a-button-input\" id=\"continue\" tabindex=\"5\" type=\"submit\"/>\n",
      "                <span aria-hidden=\"true\" class=\"a-button-text\" id=\"continue-announce\">\n",
      "                 Continue\n",
      "                </span>\n",
      "               </span>\n",
      "              </span>\n",
      "              <div class=\"a-row a-spacing-top-medium a-size-small\" id=\"legalTextRow\">\n",
      "               By continuing, you agree to Amazon's\n",
      "               <a href=\"/gp/help/customer/display.html/ref=ap_signin_notification_condition_of_use?ie=UTF8&amp;nodeId=200545940\">\n",
      "                Conditions of Use\n",
      "               </a>\n",
      "               and\n",
      "               <a href=\"/gp/help/customer/display.html/ref=ap_signin_notification_privacy_notice?ie=UTF8&amp;nodeId=200534380\">\n",
      "                Privacy Notice\n",
      "               </a>\n",
      "               .\n",
      "              </div>\n",
      "              <script>\n",
      "               function cf() {\n",
      "    if (typeof window.uet === 'function') {\n",
      "      uet('cf');\n",
      "    }\n",
      "    if (window.embedNotification &&\n",
      "      typeof window.embedNotification.onCF === 'function') {\n",
      "      embedNotification.onCF();\n",
      "    }\n",
      "  }\n",
      "              </script>\n",
      "              <script type=\"text/javascript\">\n",
      "               cf()\n",
      "              </script>\n",
      "             </div>\n",
      "             <div class=\"a-section\">\n",
      "              <div class=\"a-row a-expander-container a-expander-inline-container\">\n",
      "               <a aria-expanded=\"false\" class=\"a-expander-header a-declarative a-expander-inline-header a-link-expander\" data-a-expander-toggle='{\"allowLinkDefault\":true, \"expand_prompt\":\"\", \"collapse_prompt\":\"\"}' data-action=\"a-expander-toggle\" data-csa-c-func-deps=\"aui-da-a-expander-toggle\" data-csa-c-type=\"widget\" data-csa-interaction-events=\"click\" href=\"javascript:void(0)\" role=\"button\">\n",
      "                <i class=\"a-icon a-icon-expand\">\n",
      "                </i>\n",
      "                <span class=\"a-expander-prompt\">\n",
      "                 Need help?\n",
      "                </span>\n",
      "               </a>\n",
      "               <div aria-expanded=\"false\" class=\"a-expander-content a-expander-inline-content a-expander-inner\" style=\"display:none\">\n",
      "                <a class=\"a-link-normal\" href=\"https://www.amazon.in/ap/forgotpassword?showRememberMe=true&amp;openid.pape.max_auth_age=3600&amp;openid.identity=http%3A%2F%2Fspecs.openid.net%2Fauth%2F2.0%2Fidentifier_select&amp;language=en_IN&amp;pageId=inflex&amp;mobileBrowserWeblabTreatment=C&amp;openid.return_to=https%3A%2F%2Fwww.amazon.in%2FNew-Apple-iPhone-12-128GB%2Fproduct-reviews%2FB08L5TNJHG%2Fref%3Dcm_cr_arp_d_paging_btm_next_2%3Fie%3DUTF8%26reviewerType%3Dall_reviews%26pageNumber%3D2&amp;prevRID=JY000YRQ4KCF8VZPC4PG&amp;openid.assoc_handle=inflex&amp;openid.mode=checkid_setup&amp;desktopBrowserWeblabTreatment=C&amp;prepopulatedLoginId=&amp;failedSignInCount=0&amp;openid.claimed_id=http%3A%2F%2Fspecs.openid.net%2Fauth%2F2.0%2Fidentifier_select&amp;openid.ns=http%3A%2F%2Fspecs.openid.net%2Fauth%2F2.0\" id=\"auth-fpp-link-bottom\">\n",
      "                 Forgot Password\n",
      "                </a>\n",
      "               </div>\n",
      "               <div aria-expanded=\"false\" class=\"a-expander-content a-expander-inline-content a-expander-inner\" style=\"display:none\">\n",
      "                <a class=\"a-link-normal\" href=\"/gp/help/customer/account-issues/ref=ap_login_with_otp_claim_collection?ie=UTF8\" id=\"ap-other-signin-issues-link\">\n",
      "                 Other issues with Sign-In\n",
      "                </a>\n",
      "               </div>\n",
      "              </div>\n",
      "             </div>\n",
      "            </div>\n",
      "           </div>\n",
      "          </div>\n",
      "         </form>\n",
      "        </div>\n",
      "        <div class=\"a-divider a-divider-break\">\n",
      "         <h5 aria-level=\"5\">\n",
      "          New to Amazon?\n",
      "         </h5>\n",
      "        </div>\n",
      "        <span class=\"a-button a-button-span12 a-button-base\" id=\"auth-create-account-link\">\n",
      "         <span class=\"a-button-inner\">\n",
      "          <a class=\"a-button-text\" href=\"https://www.amazon.in/ap/register?showRememberMe=true&amp;openid.pape.max_auth_age=3600&amp;openid.identity=http%3A%2F%2Fspecs.openid.net%2Fauth%2F2.0%2Fidentifier_select&amp;language=en_IN&amp;pageId=inflex&amp;mobileBrowserWeblabTreatment=C&amp;openid.return_to=https%3A%2F%2Fwww.amazon.in%2FNew-Apple-iPhone-12-128GB%2Fproduct-reviews%2FB08L5TNJHG%2Fref%3Dcm_cr_arp_d_paging_btm_next_2%3Fie%3DUTF8%26reviewerType%3Dall_reviews%26pageNumber%3D2&amp;prevRID=JY000YRQ4KCF8VZPC4PG&amp;openid.assoc_handle=inflex&amp;openid.mode=checkid_setup&amp;desktopBrowserWeblabTreatment=C&amp;prepopulatedLoginId=&amp;failedSignInCount=0&amp;openid.claimed_id=http%3A%2F%2Fspecs.openid.net%2Fauth%2F2.0%2Fidentifier_select&amp;openid.ns=http%3A%2F%2Fspecs.openid.net%2Fauth%2F2.0\" id=\"createAccountSubmit\">\n",
      "           Create your Amazon account\n",
      "          </a>\n",
      "         </span>\n",
      "        </span>\n",
      "        <script>\n",
      "         P.when('A', 'IdentityWebAuthn', 'ready').register('webauthn', async function(A, IdentityWebAuthn) {\n",
      "      /*\n",
      "      This is a temporary workaround for changing the autocomplete value for the text input field. Once AUI\n",
      "      adds the needed enum then we can change the value above.\n",
      "      */\n",
      "      A.$('#ap_email').attr(\"autocomplete\", \"webauthn\");\n",
      "      const isCMA = await PublicKeyCredential.isConditionalMediationAvailable();\n",
      "      const isPlatformSupported = await PublicKeyCredential.isUserVerifyingPlatformAuthenticatorAvailable();\n",
      "      if (isPlatformSupported && isCMA) {\n",
      "        const randomString = (Math.random() + 1).toString(36).substring(2);\n",
      "        const abortController = new AbortController();\n",
      "\n",
      "        const publicKeyCredentialRequestOptions = {\n",
      "          mediation: \"conditional\",\n",
      "          signal: abortController.signal,\n",
      "          publicKey: {\n",
      "            challenge: Uint8Array.from(randomString, c => c.charCodeAt(0)),\n",
      "            timeout: 60000,\n",
      "            rpId: window.location.hostname,\n",
      "            userVerification: \"preferred\"\n",
      "          }\n",
      "        };\n",
      "\n",
      "        // Once implemented, we will use IdentityWebAuthn functions to invoke autofill.\n",
      "        navigator.credentials.get(publicKeyCredentialRequestOptions).then(assertion => {\n",
      "          const clientData = JSON.parse(new TextDecoder().decode(assertion.response.clientDataJSON));\n",
      "          const authenticatorData = new TextDecoder().decode(assertion.response.clientDataJSON);\n",
      "\n",
      "          const output = {\n",
      "            clientData: clientData,\n",
      "            authenticatorData: authenticatorData\n",
      "          };\n",
      "\n",
      "          console.log(output);\n",
      "        }).catch(error => console.log(error));\n",
      "      }\n",
      "    });\n",
      "        </script>\n",
      "       </div>\n",
      "      </div>\n",
      "     </div>\n",
      "    </div>\n",
      "    <div id=\"right-2\">\n",
      "    </div>\n",
      "    <div class=\"a-section a-spacing-top-extra-large auth-footer\">\n",
      "     <div class=\"a-divider a-divider-section\">\n",
      "      <div class=\"a-divider-inner\">\n",
      "      </div>\n",
      "     </div>\n",
      "     <div class=\"a-section a-spacing-small a-text-center a-size-mini\">\n",
      "      <span class=\"auth-footer-seperator\">\n",
      "      </span>\n",
      "      <a class=\"a-link-normal\" href=\"/gp/help/customer/display.html/ref=ap_desktop_footer_cou?ie=UTF8&amp;nodeId=200545940\" target=\"_blank\">\n",
      "       Conditions of Use\n",
      "      </a>\n",
      "      <span class=\"auth-footer-seperator\">\n",
      "      </span>\n",
      "      <a class=\"a-link-normal\" href=\"/gp/help/customer/display.html/ref=ap_desktop_footer_privacy_notice?ie=UTF8&amp;nodeId=200534380\" target=\"_blank\">\n",
      "       Privacy Notice\n",
      "      </a>\n",
      "      <span class=\"auth-footer-seperator\">\n",
      "      </span>\n",
      "      <a class=\"a-link-normal\" href=\"/help\" target=\"_blank\">\n",
      "       Help\n",
      "      </a>\n",
      "      <span class=\"auth-footer-seperator\">\n",
      "      </span>\n",
      "     </div>\n",
      "     <div class=\"a-section a-spacing-none a-text-center\">\n",
      "      <span class=\"a-size-mini a-color-secondary\">\n",
      "       © 1996-2023, Amazon.com, Inc. or its affiliates\n",
      "      </span>\n",
      "     </div>\n",
      "    </div>\n",
      "   </div>\n",
      "   <div class=\"auth-external-javascript\" data-external-javascripts=\"\" id=\"auth-external-javascript\">\n",
      "   </div>\n",
      "   <script type=\"text/javascript\">\n",
      "    try {\n",
      "    var metadataList = document.getElementsByName('metadata1');\n",
      "    if (metadataList.length == 0) {\n",
      "      var input = document.createElement('input');\n",
      "      input.name = 'metadata1';\n",
      "      input.type = 'hidden';\n",
      "      input.value = 'true';\n",
      "\n",
      "      var authenticationFormList = document.getElementsByName('signIn');\n",
      "      for (var index = 0; index < authenticationFormList.length; index++) {\n",
      "        authenticationFormList[index].appendChild(input);\n",
      "      }\n",
      "    } else {\n",
      "      for (var index = 0; index < metadataList.length; index++) {\n",
      "        metadataList[index].value = 'true';\n",
      "      }\n",
      "    }\n",
      "  } catch (e) {\n",
      "    if (typeof window.ueLogError === 'function') {\n",
      "      window.ueLogError(e, {\n",
      "        message: 'Failed to populate default metadata value',\n",
      "        logLevel: 'warn',\n",
      "        attribution: 'FWCIMAssets'\n",
      "      });\n",
      "    }\n",
      "  }\n",
      "   </script>\n",
      "   <script type=\"text/javascript\">\n",
      "    window.fwcimCmd = [\n",
      "        \n",
      "            ['profile', 'signIn']\n",
      "            \n",
      "        \n",
      "    ];\n",
      "   </script>\n",
      "   <!--ACICSetup-->\n",
      "   <script type=\"text/javascript\">\n",
      "    var acicActionType = false;\n",
      "P.when('auth-validate-form-handler', \"acic-component\", \"ready\").execute('acic-setup', function(AuthValidateFormHandler) {\n",
      "    var aautTargetForm = document.querySelector('form[name=\"signIn\"]');\n",
      "    if (aautTargetForm) {\n",
      "        setAAToken(\"262-2745510-6589301-\" + Date.now(), aautTargetForm);\n",
      "        if ((typeof acic !== 'undefined') && (acic != null)) {\n",
      "            acic.setupACIC({\n",
      "                \"data-mode\": \"1\", \n",
      "                \"data-ref-id\": \"ap\",\n",
      "                \"data-context\": getClientContext(aautTargetForm),\n",
      "                \"data-callback\": function(data) {\n",
      "                    if (data.sessionToken) {\n",
      "                        setAAToken(data.sessionToken, aautTargetForm);\n",
      "                    }\n",
      "                    if (data.actionType && data.actionType !== \"PASS\") {\n",
      "                        acicActionType = true;\n",
      "                    }\n",
      "                },\n",
      "                \"data-host-config\": \"prod.EUAmazon\"\n",
      "            });\n",
      "        }\n",
      "\n",
      "        var submitInputs = aautTargetForm.querySelectorAll('input[type=\"submit\"]');\n",
      "        if (submitInputs && submitInputs.length === 1) {\n",
      "            var submitInput = submitInputs[0];\n",
      "            submitInput.addEventListener(\"click\", function(event) {\n",
      "                acicEventListener(AuthValidateFormHandler, aautTargetForm, submitInput, event);\n",
      "            });\n",
      "        }\n",
      "    }\n",
      "});\n",
      "\n",
      "var acicShouldSetup = true;\n",
      "function acicEventListener(AuthValidateFormHandler, aautTargetForm, submitInput, event) {\n",
      "    \n",
      "    \n",
      "    if (acicShouldSetup &&\n",
      "        (typeof acic !== 'undefined') && (acic != null) &&\n",
      "        AuthValidateFormHandler.validate(aautTargetForm) &&\n",
      "        (acicActionType || isTestEmailPattern(getEmailAddress(aautTargetForm)))) {\n",
      "        event.stopPropagation();\n",
      "        event.stopImmediatePropagation();\n",
      "        event.preventDefault();\n",
      "\n",
      "        acic.setupACIC({\n",
      "            \"data-ref-id\": \"ap\",\n",
      "            \"data-context\": getClientContext(aautTargetForm),\n",
      "            \"data-callback\": function(data) {\n",
      "                if (data.sessionToken) {\n",
      "                    setAAToken(data.sessionToken, aautTargetForm);\n",
      "                }\n",
      "                submitForm(submitInput);\n",
      "            },\n",
      "            \"data-host-config\": \"prod.EUAmazon\"\n",
      "        });\n",
      "    }\n",
      "}\n",
      "\n",
      "function submitForm(submitInput) {\n",
      "    acicShouldSetup = false;\n",
      "    submitInput.click();\n",
      "}\n",
      "\n",
      "function setAAToken(sessionToken, aautTargetForm) {\n",
      "    if (sessionToken) {\n",
      "        var aaTokenInput = aautTargetForm.querySelector(\"input[name='aaToken']\");\n",
      "        if (!aaTokenInput) {\n",
      "            aaTokenInput = document.createElement(\"input\");\n",
      "            aaTokenInput.type = \"hidden\";\n",
      "            aaTokenInput.name = \"aaToken\";\n",
      "            aautTargetForm.appendChild(aaTokenInput);\n",
      "        }\n",
      "        aaTokenInput.value = sessionToken;\n",
      "    }\n",
      "}\n",
      "\n",
      "function getClientContext(aautTargetForm) {\n",
      "    var context = {};\n",
      "    var emailAddress = getEmailAddress(aautTargetForm);\n",
      "    if (emailAddress) {\n",
      "        context.emailAddress = emailAddress;\n",
      "    }\n",
      "    context.sessionId = \"262-2745510-6589301\";\n",
      "    context.marketplaceId = \"A21TJRUUN4KGV\";\n",
      "    context.rid = \"JY000YRQ4KCF8VZPC4PG\";\n",
      "    context.ubid = \"257-9512114-1849954\";\n",
      "\n",
      "    context.pageType = \"AuthenticationPortal\";\n",
      "\n",
      "    var appActionInput = aautTargetForm.querySelector(\"input[name='appAction']\");\n",
      "    if (appActionInput) {\n",
      "        context.appAction = appActionInput.value;\n",
      "    }\n",
      "\n",
      "    var subPageTypeInput = aautTargetForm.querySelector(\"input[name='subPageType']\");\n",
      "    if (subPageTypeInput) {\n",
      "        context.subPageType = subPageTypeInput.value;\n",
      "    }\n",
      "\n",
      "    return JSON.stringify(context);\n",
      "}\n",
      "\n",
      "function getEmailAddress(aautTargetForm) {\n",
      "    var emailInput = aautTargetForm.querySelector(\"input[type='email']\");\n",
      "    if (!emailInput) {\n",
      "        emailInput = aautTargetForm.querySelector(\"input[name='email']\");\n",
      "    }\n",
      "    if (emailInput) {\n",
      "        return emailInput.value;\n",
      "    }\n",
      "    return null;\n",
      "}\n",
      "\n",
      "function isTestEmailPattern(emailAddress) {\n",
      "    \n",
      "    return emailAddress &&\n",
      "        (emailAddress.indexOf('sentinels') >= 0) &&\n",
      "        emailAddress.endsWith('@amazon.com');\n",
      "}\n",
      "   </script>\n",
      "   <!-- cache slot rendered -->\n",
      "  </div>\n",
      "  <div id=\"be\" style=\"display:none;visibility:hidden;\">\n",
      "   <form action=\"get\" name=\"ue_backdetect\">\n",
      "    <input name=\"ue_back\" type=\"hidden\" value=\"1\"/>\n",
      "   </form>\n",
      "   <script type=\"text/javascript\">\n",
      "    window.ue_ibe = (window.ue_ibe || 0) + 1;\n",
      "if (window.ue_ibe === 1) {\n",
      "(function(e,c){function h(b,a){f.push([b,a])}function g(b,a){if(b){var c=e.head||e.getElementsByTagName(\"head\")[0]||e.documentElement,d=e.createElement(\"script\");d.async=\"async\";d.src=b;d.setAttribute(\"crossorigin\",\"anonymous\");a&&a.onerror&&(d.onerror=a.onerror);a&&a.onload&&(d.onload=a.onload);c.insertBefore(d,c.firstChild)}}function k(){ue.uels=g;for(var b=0;b<f.length;b++){var a=f[b];g(a[0],a[1])}ue.deffered=1}var f=[];c.ue&&(ue.uels=h,c.ue.attach&&c.ue.attach(\"load\",k))})(document,window);\n",
      "\n",
      "\n",
      "if (window.ue && window.ue.uels) {\n",
      "            ue.uels(\"https://images-eu.ssl-images-amazon.com/images/I/31bJewCvY-L.js\");\n",
      "}\n",
      "var ue_mbl=ue_csm.ue.exec(function(h,a){function s(c){b=c||{};a.AMZNPerformance=b;b.transition=b.transition||{};b.timing=b.timing||{};if(a.csa){var d;b.timing.transitionStart&&(d=b.timing.transitionStart);b.timing.processStart&&(d=b.timing.processStart);d&&(csa(\"PageTiming\")(\"mark\",\"nativeTransitionStart\",d),csa(\"PageTiming\")(\"mark\",\"transitionStart\",d))}h.ue.exec(t,\"csm-android-check\")()&&b.tags instanceof Array&&(c=-1!=b.tags.indexOf(\"usesAppStartTime\")||b.transition.type?!b.transition.type&&-1<\n",
      "b.tags.indexOf(\"usesAppStartTime\")?\"warm-start\":void 0:\"view-transition\",c&&(b.transition.type=c));n=null;\"reload\"===e._nt&&h.ue_orct||\"intrapage-transition\"===e._nt?u(b):\"undefined\"===typeof e._nt&&f&&f.timing&&f.timing.navigationStart&&a.history&&\"function\"===typeof a.History&&\"object\"===typeof a.history&&a.history.length&&1!=a.history.length&&(b.timing.transitionStart=f.timing.navigationStart);p&&e.ssw(q,\"\"+(b.timing.transitionStart||n||\"\"));c=b.transition;d=e._nt?e._nt:void 0;c.subType=d;a.ue&&\n",
      "a.ue.tag&&a.ue.tag(\"has-AMZNPerformance\");e.isl&&a.uex&&a.uex(\"at\",\"csm-timing\");v()}function w(c){a.ue&&a.ue.count&&a.ue.count(\"csm-cordova-plugin-failed\",1)}function t(){return a.cordova&&a.cordova.platformId&&\"android\"==a.cordova.platformId}function u(){if(p){var c=e.ssw(q),a=function(){},x=e.count||a,a=e.tag||a,k=b.timing.transitionStart,g=c&&!c.e&&c.val;n=c=g?+c.val:null;k&&g&&k>c?(x(\"csm.jumpStart.mtsDiff\",k-c||0),a(\"csm-rld-mts-gt\")):k&&g?a(\"csm-rld-mts-leq\"):g?k||a(\"csm-rld-mts-no-new\"):a(\"csm-rld-mts-no-old\")}f&&\n",
      "f.timing&&f.timing.navigationStart?b.timing.transitionStart=f.timing.navigationStart:delete b.timing.transitionStart}function v(){try{a.P.register(\"AMZNPerformance\",function(){return b})}catch(c){}}function r(){if(!b)return\"\";ue_mbl.cnt=null;var c=b.timing,d=b.transition,d=[\"mts\",l(c.transitionStart),\"mps\",l(c.processStart),\"mtt\",d.type,\"mtst\",d.subType,\"mtlt\",d.launchType];a.ue&&a.ue.tag&&(c.fr_ovr&&a.ue.tag(\"fr_ovr\"),c.fcp_ovr&&a.ue.tag(\"fcp_ovr\"),d.push(\"fr_ovr\",l(c.fr_ovr),\"fcp_ovr\",l(c.fcp_ovr)));\n",
      "for(var c=\"\",e=0;e<d.length;e+=2){var f=d[e],g=d[e+1];\"undefined\"!==typeof g&&(c+=\"&\"+f+\"=\"+g)}return c}function l(a){if(\"undefined\"!==typeof a&&\"undefined\"!==typeof m)return a-m}function y(a,d){b&&(m=d,b.timing.transitionStart=a,b.transition.type=\"view-transition\",b.transition.subType=\"ajax-transition\",b.transition.launchType=\"normal\",ue_mbl.cnt=r)}var e=h.ue||{},m=h.ue_t0,q=\"csm-last-mts\",p=1===h.ue_sswmts,n,f=a.performance,b;if(a.P&&a.P.when&&a.P.register)return 1===a.ue_fnt&&(m=a.aPageStart||\n",
      "h.ue_t0),a.P.when(\"CSMPlugin\").execute(function(a){a.buildAMZNPerformance&&a.buildAMZNPerformance({successCallback:s,failCallback:w})}),{cnt:r,ajax:y}},\"mobile-timing\")(ue_csm,ue_csm.window);\n",
      "\n",
      "(function(d){d._uess=function(){var a=\"\";screen&&screen.width&&screen.height&&(a+=\"&sw=\"+screen.width+\"&sh=\"+screen.height);var b=function(a){var b=document.documentElement[\"client\"+a];return\"CSS1Compat\"===document.compatMode&&b||document.body[\"client\"+a]||b},c=b(\"Width\"),b=b(\"Height\");c&&b&&(a+=\"&vw=\"+c+\"&vh=\"+b);return a}})(ue_csm);\n",
      "\n",
      "(function(a){function c(a){d(\"log\",a)}var d=csa(\"Errors\",{producerId:\"csa\"});a.ue_err.buffer&&d&&(a.ue_err.buffer.forEach(c),a.ue_err.buffer.push=c);var b=document.ue_backdetect;b&&b.ue_back&&a.ue&&(a.ue.bfini=b.ue_back.value);a.uet&&a.uet(\"be\");a.onLdEnd&&(window.addEventListener?window.addEventListener(\"load\",a.onLdEnd,!1):window.attachEvent&&window.attachEvent(\"onload\",a.onLdEnd));a.ueh&&a.ueh(0,window,\"load\",a.onLd,1);a.ue&&a.ue.tag&&(a.ue_furl?(b=a.ue_furl.replace(/\\./g,\"-\"),a.ue.tag(b)):a.ue.tag(\"nofls\"))})(ue_csm);\n",
      "\n",
      "(function(g,h){function d(a,d){var b={};if(!e||!f)try{var c=h.sessionStorage;c?a&&(\"undefined\"!==typeof d?c.setItem(a,d):b.val=c.getItem(a)):f=1}catch(g){e=1}e&&(b.e=1);return b}var b=g.ue||{},a=\"\",f,e,c,a=d(\"csmtid\");f?a=\"NA\":a.e?a=\"ET\":(a=a.val,a||(a=b.oid||\"NI\",d(\"csmtid\",a)),c=d(b.oid),c.e||(c.val=c.val||0,d(b.oid,c.val+1)),b.ssw=d);b.tabid=a})(ue_csm,ue_csm.window);\n",
      "\n",
      "ue_csm.ue.exec(function(e,f){var a=e.ue||{},b=a._wlo,d;if(a.ssw){d=a.ssw(\"CSM_previousURL\").val;var c=f.location,b=b?b:c&&c.href?c.href.split(\"#\")[0]:void 0;c=(b||\"\")===a.ssw(\"CSM_previousURL\").val;!c&&b&&a.ssw(\"CSM_previousURL\",b);d=c?\"reload\":d?\"intrapage-transition\":\"first-view\"}else d=\"unknown\";a._nt=d},\"NavTypeModule\")(ue_csm,window);\n",
      "ue_csm.ue.exec(function(c,a){function g(a){a.run(function(e){d.tag(\"csm-feature-\"+a.name+\":\"+e);d.isl&&c.uex(\"at\")})}if(a.addEventListener)for(var d=c.ue||{},f=[{name:\"touch-enabled\",run:function(b){var e=function(){a.removeEventListener(\"touchstart\",c,!0);a.removeEventListener(\"mousemove\",d,!0)},c=function(){b(\"true\");e()},d=function(){b(\"false\");e()};a.addEventListener(\"touchstart\",c,!0);a.addEventListener(\"mousemove\",d,!0)}}],b=0;b<f.length;b++)g(f[b])},\"csm-features\")(ue_csm,window);\n",
      "\n",
      "\n",
      "(function(a,e){function c(a){d(\"recordCounter\",a.c,a.v)}var b=e.images,d=csa(\"Metrics\",{producerId:\"csa\"});b&&b.length&&a.ue.count(\"totalImages\",b.length);a.ue.cv.buffer&&d&&(a.ue.cv.buffer.forEach(c),a.ue.cv.buffer.push=c)})(ue_csm,document);\n",
      "(function(b){function c(){var d=[];a.log&&a.log.isStub&&a.log.replay(function(a){e(d,a)});a.clog&&a.clog.isStub&&a.clog.replay(function(a){e(d,a)});d.length&&(a._flhs+=1,n(d),p(d))}function g(){a.log&&a.log.isStub&&(a.onflush&&a.onflush.replay&&a.onflush.replay(function(a){a[0]()}),a.onunload&&a.onunload.replay&&a.onunload.replay(function(a){a[0]()}),c())}function e(d,b){var c=b[1],f=b[0],e={};a._lpn[c]=(a._lpn[c]||0)+1;e[c]=f;d.push(e)}function n(b){q&&(a._lpn.csm=(a._lpn.csm||0)+1,b.push({csm:{k:\"chk\",\n",
      "f:a._flhs,l:a._lpn,s:\"inln\"}}))}function p(a){if(h)a=k(a),b.navigator.sendBeacon(l,a);else{a=k(a);var c=new b[f];c.open(\"POST\",l,!0);c.setRequestHeader&&c.setRequestHeader(\"Content-type\",\"text/plain\");c.send(a)}}function k(a){return JSON.stringify({rid:b.ue_id,sid:b.ue_sid,mid:b.ue_mid,mkt:b.ue_mkt,sn:b.ue_sn,reqs:a})}var f=\"XMLHttpRequest\",q=1===b.ue_ddq,a=b.ue,r=b[f]&&\"withCredentials\"in new b[f],h=b.navigator&&b.navigator.sendBeacon,l=\"//\"+b.ue_furl+\"/1/batch/1/OE/\",m=b.ue_fci_ft||5E3;a&&(r||h)&&\n",
      "(a._flhs=a._flhs||0,a._lpn=a._lpn||{},a.attach&&(a.attach(\"beforeunload\",a.exec(g,\"fcli-bfu\")),a.attach(\"pagehide\",a.exec(g,\"fcli-ph\"))),m&&b.setTimeout(a.exec(c,\"fcli-t\"),m),a._ffci=a.exec(c))})(window);\n",
      "\n",
      "\n",
      "(function(k,c){function l(a,b){return a.filter(function(a){return a.initiatorType==b})}function f(a,c){if(b.t[a]){var g=b.t[a]-b._t0,e=c.filter(function(a){return 0!==a.responseEnd&&m(a)<g}),f=l(e,\"script\"),h=l(e,\"link\"),k=l(e,\"img\"),n=e.map(function(a){return a.name.split(\"/\")[2]}).filter(function(a,b,c){return a&&c.lastIndexOf(a)==b}),q=e.filter(function(a){return a.duration<p}),s=g-Math.max.apply(null,e.map(m))<r|0;\"af\"==a&&(b._afjs=f.length);return a+\":\"+[e[d],f[d],h[d],k[d],n[d],q[d],s].join(\"-\")}}\n",
      "function m(a){return a.responseEnd-(b._t0-c.timing.navigationStart)}function n(){var a=c[h](\"resource\"),d=f(\"cf\",a),g=f(\"af\",a),a=f(\"ld\",a);delete b._rt;b._ld=b.t.ld-b._t0;b._art&&b._art();return[d,g,a].join(\"_\")}var p=20,r=50,d=\"length\",b=k.ue,h=\"getEntriesByType\";b._rre=m;b._rt=c&&c.timing&&c[h]&&n})(ue_csm,window.performance);\n",
      "\n",
      "\n",
      "(function(c,d){var b=c.ue,a=d.navigator;b&&b.tag&&a&&(a=a.connection||a.mozConnection||a.webkitConnection)&&a.type&&b.tag(\"netInfo:\"+a.type)})(ue_csm,window);\n",
      "\n",
      "\n",
      "(function(c,d){function h(a,b){for(var c=[],d=0;d<a.length;d++){var e=a[d],f=b.encode(e);if(e[k]){var g=b.metaSep,e=e[k],l=b.metaPairSep,h=[],m=void 0;for(m in e)e.hasOwnProperty(m)&&h.push(m+\"=\"+e[m]);e=h.join(l);f+=g+e}c.push(f)}return c.join(b.resourceSep)}function s(a){var b=a[k]=a[k]||{};b[t]||(b[t]=c.ue_mid);b[u]||(b[u]=c.ue_sid);b[f]||(b[f]=c.ue_id);b.csm=1;a=\"//\"+c.ue_furl+\"/1/\"+a[v]+\"/1/OP/\"+a[w]+\"/\"+a[x]+\"/\"+h([a],y);if(n)try{n.call(d[p],a)}catch(g){c.ue.sbf=1,(new Image).src=a}else(new Image).src=\n",
      "a}function q(){g&&g.isStub&&g.replay(function(a,b,c){a=a[0];b=a[k]=a[k]||{};b[f]=b[f]||c;s(a)});l.impression=s;g=null}if(!(1<c.ueinit)){var k=\"metadata\",x=\"impressionType\",v=\"foresterChannel\",w=\"programGroup\",t=\"marketplaceId\",u=\"session\",f=\"requestId\",p=\"navigator\",l=c.ue||{},n=d[p]&&d[p].sendBeacon,r=function(a,b,c,d){return{encode:d,resourceSep:a,metaSep:b,metaPairSep:c}},y=r(\"\",\"?\",\"&\",function(a){return h(a.impressionData,z)}),z=r(\"/\",\":\",\",\",function(a){return a.featureName+\":\"+h(a.resources,\n",
      "A)}),A=r(\",\",\"@\",\"|\",function(a){return a.id}),g=l.impression;n?q():(l.attach(\"load\",q),l.attach(\"beforeunload\",q));try{d.P&&d.P.register&&d.P.register(\"impression-client\",function(){})}catch(B){c.ueLogError(B,{logLevel:\"WARN\"})}}})(ue_csm,window);\n",
      "\n",
      "\n",
      "\n",
      "var ue_pty = \"AuthenticationPortal\";\n",
      "\n",
      "var ue_spty = \"SignInClaimCollect\";\n",
      "\n",
      "\n",
      "\n",
      "var ue_adb = 4;\n",
      "var ue_adb_rtla = 1;\n",
      "ue_csm.ue.exec(function(y,a){function t(){if(d&&f){var a;a:{try{a=d.getItem(g);break a}catch(c){}a=void 0}if(a)return b=a,!0}return!1}function u(){if(a.fetch)fetch(m).then(function(a){if(!a.ok)throw Error(a.statusText);return a.text?a.text():null}).then(function(b){b?(-1<b.indexOf(\"window.ue_adb_chk = 1\")&&(a.ue_adb_chk=1),n()):h()})[\"catch\"](h);else e.uels(m,{onerror:h,onload:n})}function h(){b=k;l();if(f)try{d.setItem(g,b)}catch(a){}}function n(){b=1===a.ue_adb_chk?p:k;l();if(f)try{d.setItem(g,\n",
      "b)}catch(c){}}function q(){a.ue_adb_rtla&&c&&0<c.ec&&!1===r&&(c.elh=null,ueLogError({m:\"Hit Info\",fromOnError:1},{logLevel:\"INFO\",adb:b}),r=!0)}function l(){e.tag(b);e.isl&&a.uex&&uex(\"at\",b);s&&s.updateCsmHit(\"adb\",b);c&&0<c.ec?q():a.ue_adb_rtla&&c&&(c.elh=q)}function v(){return b}if(a.ue_adb){a.ue_fadb=a.ue_fadb||10;var e=a.ue,k=\"adblk_yes\",p=\"adblk_no\",m=\"https://m.media-amazon.com/images/G/01/csm/showads.v2.js?action=ads&banner.id=_300x250Banner_&AdType=_google_ads_\",b=\"adblk_unk\",d;a:{try{d=\n",
      "a.localStorage;break a}catch(z){}d=void 0}var g=\"csm:adb\",c=a.ue_err,s=e.cookie,f=void 0!==a.localStorage,w=Math.random()>1-1/a.ue_fadb,r=!1,x=t();w||!x?u():l();a.ue_isAdb=v;a.ue_isAdb.unk=\"adblk_unk\";a.ue_isAdb.no=p;a.ue_isAdb.yes=k}},\"adb\")(document,window);\n",
      "\n",
      "\n",
      "\n",
      "\n",
      "(function(c,l,m){function h(a){if(a)try{if(a.id)return\"//*[@id='\"+a.id+\"']\";var b,d=1,e;for(e=a.previousSibling;e;e=e.previousSibling)e.nodeName===a.nodeName&&(d+=1);b=d;var c=a.nodeName;1!==b&&(c+=\"[\"+b+\"]\");a.parentNode&&(c=h(a.parentNode)+\"/\"+c);return c}catch(f){return\"DETACHED\"}}function f(a){if(a&&a.getAttribute)return a.getAttribute(k)?a.getAttribute(k):f(a.parentElement)}var k=\"data-cel-widget\",g=!1,d=[];(c.ue||{}).isBF=function(){try{var a=JSON.parse(localStorage[\"csm-bf\"]||\"[]\"),b=0<=a.indexOf(c.ue_id);\n",
      "a.unshift(c.ue_id);a=a.slice(0,20);localStorage[\"csm-bf\"]=JSON.stringify(a);return b}catch(d){return!1}}();c.ue_utils={getXPath:h,getFirstAscendingWidget:function(a,b){c.ue_cel&&c.ue_fem?!0===g?b(f(a)):d.push({element:a,callback:b}):b()},notifyWidgetsLabeled:function(){if(!1===g){g=!0;for(var a=f,b=0;b<d.length;b++)if(d[b].hasOwnProperty(\"callback\")&&d[b].hasOwnProperty(\"element\")){var c=d[b].callback,e=d[b].element;\"function\"===typeof c&&\"function\"===typeof a&&c(a(e))}d=null}},extractStringValue:function(a){if(\"string\"===\n",
      "typeof a)return a}}})(ue_csm,window,document);\n",
      "\n",
      "\n",
      "\n",
      "\n",
      "\n",
      "ue_csm.ue_unrt = 1500;\n",
      "(function(d,b,t){function u(a,g){var c=a.srcElement||a.target||{},b={k:v,t:g.t,dt:g.dt,x:a.pageX,y:a.pageY,p:e.getXPath(c),n:c.nodeName};a.button&&(b.b=a.button);c.type&&(b.ty=c.type);c.href&&(b.r=e.extractStringValue(c.href));c.id&&(b.i=c.id);c.className&&c.className.split&&(b.c=c.className.split(/\\s+/));h+=1;e.getFirstAscendingWidget(c,function(a){b.wd=a;d.ue.log(b,r)})}function w(a){if(!x(a.srcElement||a.target)){m+=1;n=!0;var g=f=d.ue.d(),c;p&&\"function\"===typeof p.now&&a.timeStamp&&(c=p.now()-\n",
      "a.timeStamp,c=parseFloat(c.toFixed(2)));s=b.setTimeout(function(){u(a,{t:g,dt:c})},y)}}function z(a){if(a){var b=a.filter(A);a.length!==b.length&&(q=!0,k=d.ue.d(),n&&q&&(k&&f&&d.ue.log({k:B,t:f,m:Math.abs(k-f)},r),l(),q=!1,k=0))}}function A(a){if(!a)return!1;var b=\"characterData\"===a.type?a.target.parentElement:a.target;if(!b||!b.hasAttributes||!b.attributes)return!1;var c={\"class\":\"gw-clock gw-clock-aria s-item-container-height-auto feed-carousel using-mouse kfs-inner-container\".split(\" \"),id:[\"dealClock\",\n",
      "\"deal_expiry_timer\",\"timer\"],role:[\"timer\"]},d=!1;Object.keys(c).forEach(function(a){var e=b.attributes[a]?b.attributes[a].value:\"\";(c[a]||\"\").forEach(function(a){-1!==e.indexOf(a)&&(d=!0)})});return d}function x(a){if(!a)return!1;var b=(e.extractStringValue(a.nodeName)||\"\").toLowerCase(),c=(e.extractStringValue(a.type)||\"\").toLowerCase(),d=(e.extractStringValue(a.href)||\"\").toLowerCase();a=(e.extractStringValue(a.id)||\"\").toLowerCase();var f=\"checkbox color date datetime-local email file month number password radio range reset search tel text time url week\".split(\" \");\n",
      "if(-1!==[\"select\",\"textarea\",\"html\"].indexOf(b)||\"input\"===b&&-1!==f.indexOf(c)||\"a\"===b&&-1!==d.indexOf(\"http\")||-1!==[\"sitbreaderrightpageturner\",\"sitbreaderleftpageturner\",\"sitbreaderpagecontainer\"].indexOf(a))return!0}function l(){n=!1;f=0;b.clearTimeout(s)}function C(){b.ue.onunload(function(){ue.count(\"armored-cxguardrails.unresponsive-clicks.violations\",h);ue.count(\"armored-cxguardrails.unresponsive-clicks.violationRate\",h/m*100||0)})}if(b.MutationObserver&&b.addEventListener&&Object.keys&&\n",
      "d&&d.ue&&d.ue.log&&d.ue_unrt&&d.ue_utils){var y=d.ue_unrt,r=\"cel\",v=\"unr_mcm\",B=\"res_mcm\",p=b.performance,e=d.ue_utils,n=!1,f=0,s=0,q=!1,k=0,h=0,m=0;b.addEventListener&&(b.addEventListener(\"mousedown\",w,!0),b.addEventListener(\"beforeunload\",l,!0),b.addEventListener(\"visibilitychange\",l,!0),b.addEventListener(\"pagehide\",l,!0));b.ue&&b.ue.event&&b.ue.onSushiUnload&&b.ue.onunload&&C();(new MutationObserver(z)).observe(t,{childList:!0,attributes:!0,characterData:!0,subtree:!0})}})(ue_csm,window,document);\n",
      "\n",
      "\n",
      "ue_csm.ue.exec(function(g,e){if(e.ue_err){var f=\"\";e.ue_err.errorHandlers||(e.ue_err.errorHandlers=[]);e.ue_err.errorHandlers.push({name:\"fctx\",handler:function(a){if(!a.logLevel||\"FATAL\"===a.logLevel)if(f=g.getElementsByTagName(\"html\")[0].innerHTML){var b=f.indexOf(\"var ue_t0=ue_t0||+new Date();\");if(-1!==b){var b=f.substr(0,b).split(String.fromCharCode(10)),d=Math.max(b.length-10-1,0),b=b.slice(d,b.length-1);a.fcsmln=d+b.length+1;a.cinfo=a.cinfo||{};for(var c=0;c<b.length;c++)a.cinfo[d+c+1+\"\"]=\n",
      "b[c]}b=f.split(String.fromCharCode(10));a.cinfo=a.cinfo||{};if(!(a.f||void 0===a.l||a.l in a.cinfo))for(c=+a.l-1,d=Math.max(c-5,0),c=Math.min(c+5,b.length-1);d<=c;d++)a.cinfo[d+1+\"\"]=b[d]}}})}},\"fatals-context\")(document,window);\n",
      "\n",
      "\n",
      "(function(m,a){function c(k){function f(b){b&&\"string\"===typeof b&&(b=(b=b.match(/^(?:https?:)?\\/\\/(.*?)(\\/|$)/i))&&1<b.length?b[1]:null,b&&b&&(\"number\"===typeof e[b]?e[b]++:e[b]=1))}function d(b){var e=10,d=+new Date;b&&b.timeRemaining?e=b.timeRemaining():b={timeRemaining:function(){return Math.max(0,e-(+new Date-d))}};for(var c=a.performance.getEntries(),k=e;g<c.length&&k>n;)c[g].name&&f(c[g].name),g++,k=b.timeRemaining();g>=c.length?h(!0):l()}function h(b){if(!b){b=m.scripts;var c;if(b)for(var d=\n",
      "0;d<b.length;d++)(c=b[d].getAttribute(\"src\"))&&\"undefined\"!==c&&f(c)}0<Object.keys(e).length&&(p&&ue_csm.ue&&ue_csm.ue.event&&ue_csm.ue.event({domains:e,pageType:a.ue_pty||null,subPageType:a.ue_spty||null,pageTypeId:a.ue_pti||null},\"csm\",\"csm.CrossOriginDomains.2\"),a.ue_ext=e)}function l(){!0===k?d():a.requestIdleCallback?a.requestIdleCallback(d):a.requestAnimationFrame?a.requestAnimationFrame(d):a.setTimeout(d,100)}function c(){if(a.performance&&a.performance.getEntries){var b=a.performance.getEntries();\n",
      "!b||0>=b.length?h(!1):l()}else h(!1)}var e=a.ue_ext||{};a.ue_ext||c();return e}function q(){setTimeout(c,r)}var s=a.ue_dserr||!1,p=!0,n=1,r=2E3,g=0;a.ue_err&&s&&(a.ue_err.errorHandlers||(a.ue_err.errorHandlers=[]),a.ue_err.errorHandlers.push({name:\"ext\",handler:function(a){if(!a.logLevel||\"FATAL\"===a.logLevel){var f=c(!0),d=[],h;for(h in f){var f=h,g=f.match(/amazon(\\.com?)?\\.\\w{2,3}$/i);g&&1<g.length||-1!==f.indexOf(\"amazon-adsystem.com\")||-1!==f.indexOf(\"amazonpay.com\")||-1!==f.indexOf(\"cloudfront-labs.amazonaws.com\")||\n",
      "d.push(h)}a.ext=d}}}));a.ue&&a.ue.isl?c():a.ue&&ue.attach&&ue.attach(\"load\",q)})(document,window);\n",
      "\n",
      "\n",
      "\n",
      "\n",
      "\n",
      "var ue_wtc_c = 3;\n",
      "ue_csm.ue.exec(function(b,e){function l(){for(var a=0;a<f.length;a++)a:for(var d=s.replace(A,f[a])+g[f[a]]+t,c=arguments,b=0;b<c.length;b++)try{c[b].send(d);break a}catch(e){}g={};f=[];n=0;k=p}function u(){B?l(q):l(C,q)}function v(a,m,c){r++;if(r>w)d.count&&1==r-w&&(d.count(\"WeblabTriggerThresholdReached\",1),b.ue_int&&console.error(\"Number of max call reached. Data will no longer be send\"));else{var h=c||{};h&&-1<h.constructor.toString().indexOf(D)&&a&&-1<a.constructor.toString().indexOf(x)&&m&&-1<\n",
      "m.constructor.toString().indexOf(x)?(h=b.ue_id,c&&c.rid&&(h=c.rid),c=h,a=encodeURIComponent(\",wl=\"+a+\"/\"+m),2E3>a.length+p?(2E3<k+a.length&&u(),void 0===g[c]&&(g[c]=\"\",f.push(c)),g[c]+=a,k+=a.length,n||(n=e.setTimeout(u,E))):b.ue_int&&console.error(\"Invalid API call. The input provided is over 2000 chars.\")):d.count&&(d.count(\"WeblabTriggerImproperAPICall\",1),b.ue_int&&console.error(\"Invalid API call. The input provided does not match the API protocol i.e ue.trigger(String, String, Object).\"))}}function F(){d.trigger&&\n",
      "d.trigger.isStub&&d.trigger.replay(function(a){v.apply(this,a)})}function y(){z||(f.length&&l(q),z=!0)}var t=\":1234\",s=\"//\"+b.ue_furl+\"/1/remote-weblab-triggers/1/OE/\"+b.ue_mid+\":\"+b.ue_sid+\":PLCHLDR_RID$s:wl-client-id%3DCSMTriger\",A=\"PLCHLDR_RID\",E=b.wtt||1E4,p=s.length+t.length,w=b.mwtc||2E3,G=1===e.ue_wtc_c,B=3===e.ue_wtc_c,H=e.XMLHttpRequest&&\"withCredentials\"in new e.XMLHttpRequest,x=\"String\",D=\"Object\",d=b.ue,g={},f=[],k=p,n,z=!1,r=0,C=function(){return{send:function(a){if(H){var b=new e.XMLHttpRequest;\n",
      "b.open(\"GET\",a,!0);G&&(b.withCredentials=!0);b.send()}else throw\"\";}}}(),q=function(){return{send:function(a){(new Image).src=a}}}();e.encodeURIComponent&&(d.attach&&(d.attach(\"beforeunload\",y),d.attach(\"pagehide\",y)),F(),d.trigger=v)},\"client-wbl-trg\")(ue_csm,window);\n",
      "\n",
      "\n",
      "(function(k,d,h){function f(a,c,b){a&&a.indexOf&&0===a.indexOf(\"http\")&&0!==a.indexOf(\"https\")&&l(s,c,a,b)}function g(a,c,b){a&&a.indexOf&&(location.href.split(\"#\")[0]!=a&&null!==a&&\"undefined\"!==typeof a||l(t,c,a,b))}function l(a,c,b,e){m[b]||(e=u&&e?n(e):\"N/A\",d.ueLogError&&d.ueLogError({message:a+c+\" : \"+b,logLevel:v,stack:\"N/A\"},{attribution:e}),m[b]=1,p++)}function e(a,c){if(a&&c)for(var b=0;b<a.length;b++)try{c(a[b])}catch(d){}}function q(){return d.performance&&d.performance.getEntriesByType?\n",
      "d.performance.getEntriesByType(\"resource\"):[]}function n(a){if(a.id)return\"//*[@id='\"+a.id+\"']\";var c;c=1;var b;for(b=a.previousSibling;b;b=b.previousSibling)b.nodeName==a.nodeName&&(c+=1);b=a.nodeName;1!=c&&(b+=\"[\"+c+\"]\");a.parentNode&&(b=n(a.parentNode)+\"/\"+b);return b}function w(){var a=h.images;a&&a.length&&e(a,function(a){var b=a.getAttribute(\"src\");f(b,\"img\",a);g(b,\"img\",a)})}function x(){var a=h.scripts;a&&a.length&&e(a,function(a){var b=a.getAttribute(\"src\");f(b,\"script\",a);g(b,\"script\",a)})}\n",
      "function y(){var a=h.styleSheets;a&&a.length&&e(a,function(a){if(a=a.ownerNode){var b=a.getAttribute(\"href\");f(b,\"style\",a);g(b,\"style\",a)}})}function z(){if(A){var a=q();e(a,function(a){f(a.name,a.initiatorType)})}}function B(){e(q(),function(a){g(a.name,a.initiatorType)})}function r(){var a;a=d.location&&d.location.protocol?d.location.protocol:void 0;\"https:\"==a&&(z(),w(),x(),y(),B(),p<C&&setTimeout(r,D))}var s=\"[CSM] Insecure content detected \",t=\"[CSM] Ajax request to same page detected \",v=\"WARN\",\n",
      "m={},p=0,D=k.ue_nsip||1E3,C=5,A=1==k.ue_urt,u=!0;ue_csm.ue_disableNonSecure||(d.performance&&d.performance.setResourceTimingBufferSize&&d.performance.setResourceTimingBufferSize(300),r())})(ue_csm,window,document);\n",
      "\n",
      "\n",
      "var ue_aa_a = \"\";\n",
      "if (ue.trigger && (ue_aa_a === \"C\" || ue_aa_a === \"T1\")) {\n",
      "    ue.trigger(\"UEDATA_AA_SERVERSIDE_ASSIGNMENT_CLIENTSIDE_TRIGGER_190249\", ue_aa_a);\n",
      "}\n",
      "(function(f,b){function g(){try{b.PerformanceObserver&&\"function\"===typeof b.PerformanceObserver&&(a=new b.PerformanceObserver(function(b){c(b.getEntries())}),a.observe(d))}catch(h){k()}}function m(){for(var h=d.entryTypes,a=0;a<h.length;a++)c(b.performance.getEntriesByType(h[a]))}function c(a){if(a&&Array.isArray(a)){for(var c=0,e=0;e<a.length;e++){var d=l.indexOf(a[e].name);if(-1!==d){var g=Math.round(b.performance.timing.navigationStart+a[e].startTime);f.uet(n[d],void 0,void 0,g);c++}}l.length===\n",
      "c&&k()}}function k(){a&&a.disconnect&&\"function\"===typeof a.disconnect&&a.disconnect()}if(\"function\"===typeof f.uet&&b.performance&&\"object\"===typeof b.performance&&b.performance.getEntriesByType&&\"function\"===typeof b.performance.getEntriesByType&&b.performance.timing&&\"object\"===typeof b.performance.timing&&\"number\"===typeof b.performance.timing.navigationStart){var d={entryTypes:[\"paint\"]},l=[\"first-paint\",\"first-contentful-paint\"],n=[\"fp\",\"fcp\"],a;try{m(),g()}catch(p){f.ueLogError(p,{logLevel:\"ERROR\",\n",
      "attribution:\"performanceMetrics\"})}}})(ue_csm,window);\n",
      "\n",
      "\n",
      "if (window.csa) {\n",
      "    csa(\"Events\")(\"setEntity\", {\n",
      "        page:{pageType: \"AuthenticationPortal\", subPageType: \"SignInClaimCollect\", pageTypeId: \"\"}\n",
      "    });\n",
      "}\n",
      "csa.plugin(function(c){var m=\"transitionStart\",n=\"pageVisible\",e=\"PageTiming\",t=\"visibilitychange\",s=\"$latency.visible\",i=c.global,r=(i.performance||{}).timing,a=[\"navigationStart\",\"unloadEventStart\",\"unloadEventEnd\",\"redirectStart\",\"redirectEnd\",\"fetchStart\",\"domainLookupStart\",\"domainLookupEnd\",\"connectStart\",\"connectEnd\",\"secureConnectionStart\",\"requestStart\",\"responseStart\",\"responseEnd\",\"domLoading\",\"domInteractive\",\"domContentLoadedEventStart\",\"domContentLoadedEventEnd\",\"domComplete\",\"loadEventStart\",\"loadEventEnd\"],o=i.Math,u=o.max,l=o.floor,d=i.document||{},g=(r||{}).navigationStart,f=g,v=0,p=null;if(i.Object.keys&&[].forEach&&!c.config[\"KillSwitch.\"+e]){if(!r||null===g||g<=0||void 0===g)return c.error(\"Invalid navigation timing data: \"+g);p=new S({schemaId:\"<ns>.PageLatency.5\",producerId:\"csa\"}),\"boolean\"!=typeof d.hidden&&\"string\"!=typeof d.visibilityState||!d.removeEventListener?c.emit(s):h()?(c.emit(s),E(n,g)):c.on(d,t,function e(){h()&&(f=c.time(),d.removeEventListener(t,e),E(m,f),E(n,f),c.emit(s))}),c.once(\"$unload\",I),c.once(\"$load\",I),c.on(\"$pageTransition\",function(){f=c.time()}),c.register(e,{mark:E,instance:function(e){return new S(e)}})}function S(e){var i,r=null,a=e.ent||{page:[\"pageType\",\"subPageType\",\"requestId\"]},o=e.logger||c(\"Events\",{producerId:e.producerId});if(!e||!e.producerId||!e.schemaId)return c.error(\"The producer id and schema Id must be defined for PageLatencyInstance.\");function d(){return i||f}function n(){r=c.UUID()}this.mark=function(n,t){if(null!=n)return t=t||c.time(),n===m&&(i=t),c.once(s,function(){o(\"log\",{messageId:r,__merge:function(e){e.markers[n]=function(e,n){return u(0,n-(e||f))}(d(),t),e.markerTimestamps[n]=l(t)},markers:{},markerTimestamps:{},navigationStartTimestamp:d()?new Date(d()).toISOString():null,schemaId:e.schemaId},{ent:a})}),t},n(),c.on(\"$beforePageTransition\",n)}function E(e,n){e===m&&(f=n);var t=p.mark(e,n);c.emit(\"$timing:\"+e,t)}function I(){if(!v){for(var e=0;e<a.length;e++)r[a[e]]&&E(a[e],r[a[e]]);v=1}}function h(){return!d.hidden||\"visible\"===d.visibilityState}});csa.plugin(function(f){var u,c,l=\"length\",a=\"parentElement\",t=\"target\",i=\"getEntriesByName\",e=\"perf\",n=null,r=\"_csa_flt\",o=\"_csa_llt\",s=\"previousSibling\",d=\"_osrc\",g=\"_elt\",h=\"_eid\",m=10,p=5,v=15,y=100,E=f.global,S=f.timeout,b=E.Math,x=b.max,L=b.floor,O=b.ceil,_=E.document,w=E.performance||{},T=(w.timing||{}).navigationStart,I=Date.now,N=Object.values||(f.types||{}).ovl,k=f(\"PageTiming\"),B=f(\"SpeedIndexBuffers\"),Y=[],C=[],F=[],H=[],M=[],R=[],V=.1,W=.1,$=0,P=0,X=!0,D=0,J=0,j=1==f.config[\"SpeedIndex.ForceReplay\"],q=0,Q=1,U=0,z={},A=[],G=0,K={buffered:1};function Z(e){f.global.ue_csa_ss_tag||f.emit(\"$csmTag:\"+e,0,K)}function ee(){for(var e=I(),n=0;u;){if(0!==u[l]){if(!1!==u.h(u[0])&&u.shift(),n++,!j&&n%m==0&&I()-e>p)break}else u=u.n}$=0,u&&($||(!0===_.hidden?(j=1,ee()):f.timeout(ee,0)))}function ne(e,n,t,i,r){U=L(e),Y=n,C=t,F=i,R=r;var o=_.createTreeWalker(_.body,NodeFilter.SHOW_TEXT,null,null),a={w:E.innerWidth,h:E.innerHeight,x:E.pageXOffset,y:E.pageYOffset};_.body[g]=e,H.push({w:o,vp:a}),M.push({img:_.images,iter:0}),Y.h=te,(Y.n=C).h=ie,(C.n=F).h=re,(F.n=H).h=oe,(H.n=M).h=ae,(M.n=R).h=fe,u=Y,ee()}function te(e){e.m.forEach(function(e){for(var n=e;n&&(e===n||!n[r]||!n[o]);)n[r]||(n[r]=e[r]),n[o]||(n[o]=e[o]),n[g]=n[r]-T,n=n[s]})}function ie(e){e.m.forEach(function(e){var n=e[t];d in n||(n[d]=e.oldValue)})}function re(n){n.m.forEach(function(e){e[t][g]=n.t-T})}function oe(e){for(var n,t=e.vp,i=e.w,r=m;(n=i.nextNode())&&0<r;){r-=1;var o=(n[a]||{}).nodeName;\"SCRIPT\"!==o&&\"STYLE\"!==o&&\"NOSCRIPT\"!==o&&\"BODY\"!==o&&0!==(n.nodeValue||\"\").trim()[l]&&de(n[a],ue(n),t)}return!n}function ae(e){for(var n={w:E.innerWidth,h:E.innerHeight,x:E.pageXOffset,y:E.pageYOffset},t=m;e.iter<e.img[l]&&0<t;){var i,r=e.img[e.iter],o=se(r),a=o&&ue(o)||ue(r);o?(o[g]=a,i=le(o.querySelector('[aria-posinset=\"1\"] img')||r)||a,r=o):i=le(r)||a,J&&c<i&&(i=a),de(r,i,n),e.iter+=1,t-=1}return e.img[l]<=e.iter}function fe(e){var n=[],i=0,r=0,o=P,t=L(e.y/y),a=O((e.y+E.innerHeight)/y);A.slice(t,a).forEach(function(e){(e.elems||[]).forEach(function(e){e.lt in n||(n[e.lt]={}),e.id in n[e.lt]||(i+=(n[e.lt][e.id]=e).a)})}),Z(\"startVL\"),N(n).forEach(function(e){N(e).forEach(function(e){var n=1-r/i,t=x(e.lt,o);G+=n*(t-o),o=t,function(e,n){var t;for(;V<=1&&V-.01<=e;)ge(\"visuallyLoaded\"+(t=(100*V).toFixed(0)),n.lt),\"50\"!==t&&\"90\"!==t||f(\"Content\",{target:n.e})(\"mark\",\"visuallyLoaded\"+t,T+O(n.lt||0)),V+=W}((r+=e.a)/i,e)})}),Z(\"endVL\"),P=e.t-T,R[l]<=1&&(ge(\"speedIndex\",G),ge(\"visuallyLoaded0\",U)),X&&(X=!1,ge(\"atfSpeedIndex\",G))}function ue(e){for(var n=e[a],t=v;n&&0<t;){if(n[g]||0===n[g])return x(n[g],U);n=n.parentElement,t-=1}}function ce(e,n){if(e){if(!e.indexOf(\"data:\"))return ue(n);var t=w[i](e)||[];if(0<t[l])return x(O(t[0].responseEnd||0),U)}}function le(e){return ce(e[d],e)||ce(e.currentSrc,e)||ce(e.src,e)}function se(e){for(var n=10,t=e.parentElement;t&&0<n;){if(t.classList&&t.classList.contains(\"a-carousel-viewport\"))return t;t=t.parentElement,n-=1}return null}function de(e,n,t){if((n||0===n)&&!e[h]){var i=e.getBoundingClientRect(),r=i.width*i.height,o=i.width/2,a=Q++;if(0!=r&&!(o<i.right-t.w||i.right<o)){for(var f={e:e,lt:n,a:r,id:a},u=L((i.top+t.y)/y),c=O((i.top+t.y+i.height)/y),l=u;l<=c;l++)l in A||(A[l]={elems:[],lt:0}),A[l].elems.push(f);e[h]=a}}}function ge(e,n){k(\"mark\",e,T+O((z[e]=n)||0))}function he(e){q||(Z(\"browserQuite\"+e),B(\"getBuffers\",ne),q=1)}T&&N&&w[i]?(Z(e+\"Yes\"),B(\"registerListener\",function(){J&&(clearTimeout(D),D=S(he.bind(n,\"Mut\"),2500))}),f.once(\"$unload\",function(){j=1,he(\"Ud\")}),f.once(\"$load\",function(){J=1,c=I()-T,D=S(he.bind(n,\"Ld\"),2500)}),f.once(\"$timing:functional\",he.bind(n,\"Fn\")),B(\"replayModuleIsLive\"),f.register(\"SpeedIndex\",{getMarkers:function(e){e&&e(JSON.parse(JSON.stringify(z)))}})):Z(e+\"No\")});csa.plugin(function(e){var m=!!e.config[\"LCP.elementDedup\"],t=!1,n=e(\"PageTiming\"),r=e.global.PerformanceObserver,a=e.global.performance;function i(){return a.timing.navigationStart}function o(){t||function(o){var l=new r(function(e){var t=e.getEntries();if(0!==t.length){var n=t[t.length-1];if(m&&\"\"!==n.id&&n.element&&\"IMG\"===n.element.tagName){for(var r={},a=t[0],i=0;i<t.length;i++)t[i].id in r||(\"\"!==t[i].id&&(r[t[i].id]=!0),a.startTime<t[i].startTime&&(a=t[i]));n=a}l.disconnect(),o({startTime:n.startTime,renderTime:n.renderTime,loadTime:n.loadTime})}});try{l.observe({type:\"largest-contentful-paint\",buffered:!0})}catch(e){}}(function(e){e&&(t=!0,n(\"mark\",\"largestContentfulPaint\",Math.floor(e.startTime+i())),e.renderTime&&n(\"mark\",\"largestContentfulPaint.render\",Math.floor(e.renderTime+i())),e.loadTime&&n(\"mark\",\"largestContentfulPaint.load\",Math.floor(e.loadTime+i())))})}r&&a&&a.timing&&(e.once(\"$unload\",o),e.once(\"$load\",o),e.register(\"LargestContentfulPaint\",{}))});csa.plugin(function(r){var e=r(\"Metrics\",{producerId:\"csa\"}),n=r.global.PerformanceObserver;n&&(n=new n(function(r){var t=r.getEntries();if(0===t.length||!t[0].processingStart||!t[0].startTime)return;!function(r){r=r||0,n.disconnect(),0<=r?e(\"recordMetric\",\"firstInputDelay\",r):e(\"recordMetric\",\"firstInputDelay.invalid\",1)}(t[0].processingStart-t[0].startTime)}),function(){try{n.observe({type:\"first-input\",buffered:!0})}catch(r){}}())});csa.plugin(function(d){var e=\"Metrics\",g=0;function r(i){var c,t,e=i.producerId,r=i.logger,s=r||d(\"Events\",{producerId:e}),o=(i||{}).dimensions||{},u={},n=-1;if(!e&&!r)return d.error(\"Either a producer id or custom logger must be defined\");function a(){n!==g&&(c=d.UUID(),t=d.UUID(),u={},n=g)}this.recordMetric=function(r,n){var e=i.logOptions||{ent:{page:[\"pageType\",\"subPageType\",\"requestId\"]}};e.debugMetric=i.debugMetric,a(),s(\"log\",{messageId:c,schemaId:i.schemaId||\"<ns>.Metric.3\",metrics:{},dimensions:o,__merge:function(e){e.metrics[r]=n}},e)},this.recordCounter=function(r,e){var n=i.logOptions||{ent:{page:[\"pageType\",\"subPageType\",\"requestId\"]}};if(\"string\"!=typeof r||\"number\"!=typeof e||!isFinite(e))return d.error(\"Invalid type given for counter name or counter value: \"+r+\"/\"+e);a(),r in u||(u[r]={});var c=u[r];\"f\"in c||(c.f=e),c.c=(c.c||0)+1,c.s=(c.s||0)+e,c.l=e,s(\"log\",{messageId:t,schemaId:i.schemaId||\"<ns>.InternalCounters.2\",c:{},__merge:function(e){r in e.c||(e.c[r]={}),c.fs||(c.fs=1,e.c[r].f=c.f),1<c.c&&(e.c[r].s=c.s,e.c[r].l=c.l,e.c[r].c=c.c)}},n)}}d.config[\"KillSwitch.\"+e]||(new r({producerId:\"csa\"}).recordMetric(\"baselineMetricEvent\",1),d.on(\"$beforePageTransition\",function(){g++}),d.register(e,{instance:function(e){return new r(e||{})}}))});csa.plugin(function(t){var a,r=(t.global.performance||{}).timing,s=(r||{}).navigationStart||t.time();function e(){a=t.UUID()}function n(i){var r=(i=i||{}).producerId,e=i.logger,o=e||t(\"Events\",{producerId:r});if(!r&&!e)return t.error(\"Either a producer id or custom logger must be defined\");this.mark=function(e,r){var n=(void 0===r?t.time():r)-s;o(\"log\",{messageId:a,schemaId:i.schemaId||\"<ns>.Timer.1\",markers:{},__merge:function(r){r.markers[e]=n}},i.logOptions)}}r&&(e(),t.on(\"$beforePageTransition\",e),t.register(\"Timers\",{instance:function(r){return new n(r||{})}}))});csa.plugin(function(t){var e=\"takeRecords\",i=\"disconnect\",n=\"function\",o=t(\"Metrics\",{producerId:\"csa\"}),c=t(\"PageTiming\"),a=t.global,u=t.timeout,r=t.on,f=a.PerformanceObserver,m=0,l=!1,s=0,d=a.performance,h=a.document,v=null,y=!1,g=t.blank;function p(){l||(l=!0,clearTimeout(v),typeof f[e]===n&&f[e](),typeof f[i]===n&&f[i](),o(\"recordMetric\",\"documentCumulativeLayoutShift\",m),c(\"mark\",\"cumulativeLayoutShiftLastTimestamp\",Math.floor(s+d.timing.navigationStart)))}f&&d&&d.timing&&h&&(f=new f(function(t){v&&clearTimeout(v);t.getEntries().forEach(function(t){t.hadRecentInput||(m+=t.value,s<t.startTime&&(s=t.startTime))}),v=u(p,5e3)}),function(){try{f.observe({type:\"layout-shift\",buffered:!0}),v=u(p,5e3)}catch(t){}}(),g=r(h,\"click\",function(t){y||(y=!0,o(\"recordMetric\",\"documentCumulativeLayoutShiftToFirstInput\",m),g())}),r(h,\"visibilitychange\",function(){\"hidden\"===h.visibilityState&&p()}),t.once(\"$unload\",p))});csa.plugin(function(e){var t,n=e.global,r=n.PerformanceObserver,c=e(\"Metrics\",{producerId:\"csa\"}),o=0,i=0,a=-1,l=n.Math,f=l.max,u=l.ceil;if(r){t=new r(function(e){e.getEntries().forEach(function(e){var t=e.duration;o+=t,i+=t,a=f(t,a)})});try{t.observe({type:\"longtask\",buffered:!0})}catch(e){}t=new r(function(e){0<e.getEntries().length&&(i=0,a=-1)});try{t.observe({type:\"largest-contentful-paint\",buffered:!0})}catch(e){}e.on(\"$unload\",g),e.on(\"$beforePageTransition\",g)}function g(){c(\"recordMetric\",\"totalBlockingTime\",u(i||0)),c(\"recordMetric\",\"totalBlockingTimeInclLCP\",u(o||0)),c(\"recordMetric\",\"maxBlockingTime\",u(a||0)),i=o=0,a=-1}});csa.plugin(function(r){var e=\"CacheDetection\",o=\"csa-ctoken-\",n=r.store,t=r.deleteStored,c=r.config,a=c[e+\".RequestID\"],i=c[e+\".Callback\"],s=r.global,u=s.document||{},d=s.Date,f=r(\"Events\"),l=r(\"Events\",{producerId:\"csa\"});function p(e){try{var n=u.cookie.match(RegExp(\"(^| )\"+e+\"=([^;]+)\"));return n&&n[2].trim()}catch(e){}}!function(){var e=function(){var e=p(\"cdn-rid\");if(e)return{r:e,s:\"cdn\"}}()||function(){if(r.store(o+a))return{r:r.UUID().toUpperCase().replace(/-/g,\"\").slice(0,20),s:\"device\"}}()||{},n=e.r,c=e.s;if(!!n){var t=p(\"session-id\");!function(e,n,c,t){f(\"setEntity\",{page:{pageSource:\"cache\",requestId:e,cacheRequestId:a,cacheSource:t},session:{id:c}})}(n,0,t,c),\"device\"===c&&l(\"log\",{schemaId:\"<ns>.CacheImpression.1\"},{ent:\"all\"}),i&&i(n,t,c)}}(),n(o+a,d.now()+36e5),r.once(\"$load\",function(){var c=d.now();t(function(e,n){return 0==e.indexOf(o)&&parseInt(n)<c})})});csa.plugin(function(u){var i,t=\"Content\",e=\"MutationObserver\",n=\"addedNodes\",a=\"querySelectorAll\",f=\"matches\",o=\"getAttributeNames\",r=\"getAttribute\",s=\"dataset\",c=\"widget\",l=\"producerId\",d=\"slotId\",h=\"iSlotId\",g={ent:{element:1,page:[\"pageType\",\"subPageType\",\"requestId\"]}},p=5,m=u.config[t+\".BubbleUp.SearchDepth\"]||20,y=u.config[t+\".SearchPage\"]||0,v=\"csaC\",b=v+\"Id\",E=\"logRender\",w={},I=u.config,O=I[t+\".Selectors\"]||[],C=I[t+\".WhitelistedAttributes\"]||{href:1,class:1},N=I[t+\".EnableContentEntities\"],S=I[\"KillSwitch.ContentRendered\"],k=u.global,A=k.document||{},U=A.documentElement,L=k.HTMLElement,R={},_=[],j=function(t,e,n,i){var r=this,o=u(\"Events\",{producerId:t||\"csa\"});e.type=e.type||c,r.id=e.id,r.l=o,r.e=e,r.el=n,r.rt=i,r.dlo=g,r.op=W(n,\"csaOp\"),r.log=function(t,e){o(\"log\",t,e||g)},e.id&&o(\"setEntity\",{element:e})},x=j.prototype;function D(t){var e=(t=t||{}).element,n=t.target;return e?function(t,e){var n;n=t instanceof L?K(t)||Y(e[l],t,z,u.time()):R[t.id]||H(e[l],0,t,u.time());return n}(e,t):n?M(n):u.error(\"No element or target argument provided.\")}function M(t){var e=function(t){var e=null,n=0;for(;t&&n<m;){if(n++,P(t,b)){e=t;break}t=t.parentElement}return e}(t);return e?K(e):new j(\"csa\",{id:null},null,u.time())}function P(t,e){if(t&&t.dataset)return t.dataset[e]}function T(t,e,n){_.push({n:n,e:t,t:e}),B()}function q(){for(var t=u.time(),e=0;0<_.length;){var n=_.shift();if(w[n.n](n.e,n.t),++e%10==0&&u.time()-t>p)break}i=0,_.length&&B()}function B(){i=i||u.raf(q)}function X(t,e,n){return{n:t,e:e,t:n}}function Y(t,e,n,i){var r=u.UUID(),o={id:r},c=M(e);return e[s][b]=r,n(o,e),c&&c.id&&(o.parentId=c.id),H(t,e,o,i)}function $(t){return isNaN(t)?null:Math.round(t)}function H(t,e,n,i){N&&(n.schemaId=\"<ns>.ContentEntity.2\"),n.id=n.id||u.UUID();var r=new j(t,n,e,i);return function(t){return!S&&((t.op||{}).hasOwnProperty(E)||y)}(r)&&function(t,e){var n={},i=u.exec($);t.el&&(n=t.el.getBoundingClientRect()),t.log({schemaId:\"<ns>.ContentRender.2\",timestamp:e,width:i(n.width),height:i(n.height),positionX:i(n.left+k.pageXOffset),positionY:i(n.top+k.pageYOffset)})}(r,i),u.emit(\"$content.register\",r),R[n.id]=r}function K(t){return R[(t[s]||{})[b]]}function W(n,i){var r={};return o in(n=n||{})&&Object.keys(n[s]).forEach(function(t){if(!t.indexOf(i)&&i.length<t.length){var e=function(t){return(t[0]||\"\").toLowerCase()+t.slice(1)}(t.slice(i.length));r[e]=n[s][t]}}),r}function z(t,e){o in e&&(function(t,e){var n=W(t,v);Object.keys(n).forEach(function(t){e[t]=n[t]})}(e,t),d in t&&(t[h]=t[d]),function(e,n){(e[o]()||[]).forEach(function(t){t in C&&(n[t]=e[r](t))})}(e,t))}U&&A[a]&&k[e]&&(O.push({selector:\"*[data-csa-c-type]\",entity:z}),O.push({selector:\".celwidget\",entity:function(t,e){z(t,e),t[d]=t[d]||e[r](\"cel_widget_id\")||e.id,t.legacyId=e[r](\"cel_widget_id\")||e.id,t.type=t.type||c}}),w[1]=function(t,e){t.forEach(function(t){t[n]&&t[n].constructor&&\"NodeList\"===t[n].constructor.name&&Array.prototype.forEach.call(t[n],function(t){_.unshift(X(2,t,e))})})},w[2]=function(o,c){a in o&&f in o&&O.forEach(function(t){for(var e=t.selector,n=o[f](e),i=o[a](e),r=i.length-1;0<=r;r--)_.unshift(X(3,{e:i[r],s:t},c));n&&_.unshift(X(3,{e:o,s:t},c))})},w[3]=function(t,e){var n=t.e;K(n)||Y(\"csa\",n,t.s.entity,e)},w[4]=function(){u.register(t,{instance:D})},new k[e](function(t){T(t,u.time(),1)}).observe(U,{childList:!0,subtree:!0}),T(U,u.time(),2),T(null,u.time(),4),u.on(\"$content.export\",function(e){Object.keys(e).forEach(function(t){x[t]=e[t]})}))});csa.plugin(function(o){var i,t=\"ContentImpressions\",e=\"KillSwitch.\",n=\"IntersectionObserver\",r=\"getAttribute\",s=\"dataset\",c=\"intersectionRatio\",a=\"csaCId\",m=1e3,l=o.global,f=o.config,u=f[e+t],v=f[e+t+\".ContentViews\"],g=((l.performance||{}).timing||{}).navigationStart||o.time(),d={};function h(t){t&&(t.v=1,function(t){t.vt=o.time(),t.el.log({schemaId:\"<ns>.ContentView.3\",timeToViewed:t.vt-t.el.rt,pageFirstPaintToElementViewed:t.vt-g})}(t))}function I(t){t&&!t.it&&(t.i=o.time()-t.is>m,function(t){t.it=o.time(),t.el.log({schemaId:\"<ns>.ContentImpressed.2\",timeToImpressed:t.it-t.el.rt,pageFirstPaintToElementImpressed:t.it-g})}(t))}!u&&l[n]&&(i=new l[n](function(t){var n=o.time();t.forEach(function(t){var e=function(t){if(t&&t[r])return d[t[s][a]]}(t.target);if(e){o.emit(\"$content.intersection\",{meta:e.el,t:n,e:t});var i=t.intersectionRect;t.isIntersecting&&0<i.width&&0<i.height&&(v||e.v||h(e),.5<=t[c]&&!e.is&&(e.is=n,e.timer=o.timeout(function(){I(e)},m))),t[c]<.5&&!e.it&&e.timer&&(l.clearTimeout(e.timer),e.is=0,e.timer=0)}})},{threshold:[0,.5,.99]}),o.on(\"$content.register\",function(t){var e=t.el;e&&(d[t.id]={el:t,v:0,i:0,is:0,vt:0,it:0},i.observe(e))}))});csa.plugin(function(e){e.config[\"KillSwitch.ContentLatency\"]||e.emit(\"$content.export\",{mark:function(t,n){var o=this;o.t||(o.t=e(\"Timers\",{logger:o.l,schemaId:\"<ns>.ContentLatency.1\",logOptions:o.dlo})),o.t(\"mark\",t,n)}})});csa.plugin(function(t){function n(i,e,o){var c={};function r(t,n,e){t in c&&o<=n-c[t].s&&(function(n,e,i){if(!p)return;S(function(t){T(n,t),t.w[n][e]=a((t.w[n][e]||0)+i)})}(t,i,n-c[t].d),c[t].d=n),e||delete c[t]}this.update=function(t,n){n.isIntersecting&&e<=n.intersectionRatio?function(t,n){t in c||(c[t]={s:n,d:n})}(t,u()):r(t,u())},this.stopAll=function(t){var n=u();for(var e in c)r(e,n,t)},this.reset=function(){var t=u();for(var n in c)c[n].s=t,c[n].d=t}}var e=t.config,u=t.time,i=\"ContentInteractionsSummary\",o=e[i+\".FlushInterval\"]||5e3,c=e[i+\".FlushBackoff\"]||1.5,r=t.global,s=t.on,a=Math.floor,f=(r.document||{}).documentElement||{},l=((r.performance||{}).timing||{}).responseStart||t.time(),d=o,m=0,p=!0,v=t.UUID(),g=t(\"Events\",{producerId:\"csa\"}),I=new n(\"it0\",0,0),w=new n(\"it50\",.5,1e3),h=new n(\"it100\",.99,0),A={},b={};function $(){I.stopAll(!0),w.stopAll(!0),h.stopAll(!0),U()}function C(){I.reset(),w.reset(),h.reset(),U()}function U(){d&&(clearTimeout(m),m=t.timeout($,d),d*=c)}function E(n){S(function(t){T(n,t),t.w[n].mc=(t.w[n].mc||0)+1})}function S(t){g(\"log\",{messageId:v,schemaId:\"<ns>.ContentInteractionsSummary.1\",w:{},__merge:t},{ent:{page:[\"requestId\"]}})}function T(t,n){t in n.w||(n.w[t]={})}s(\"$content.intersection\",function(t){if(t&&t.meta&&t.e){var n=t.meta.id;if(n in A){var e=t.e.boundingClientRect||{};e.width<5||e.height<5||(I.update(n,t.e),w.update(n,t.e),h.update(n,t.e),!t.e.isIntersecting||n in b||(b[n]=1,function(n,e){S(function(t){T(n,t),t.w[n].ttfv=a(e)})}(n,u()-l)))}}}),s(\"$content.register\",function(t){(t.e||{}).slotId&&(A[t.id]={},function(e){S(function(t){var n=e.id;T(n,t),t.w[n].sid=(e.e||{}).slotId,t.w[n].cid=(e.e||{}).contentId})}(t))}),s(\"$beforePageTransition\",function(){$(),C(),v=t.UUID(),U()}),s(\"$beforeunload\",function(){I.stopAll(),w.stopAll(),h.stopAll(),d=null}),s(\"$visible\",function(t){t?C():($(),clearTimeout(m)),p=t},{buffered:1}),s(f,\"click\",function(t){for(var n=t.target,e=25;n&&0<e;){var i=(n.dataset||{}).csaCId;i&&E(i),n=n.parentElement,e-=1}},{capture:!0,passive:!0}),U()});csa.plugin(function(o){var t,n,i=\"normal\",s=\"reload\",e=\"history\",d=\"new-tab\",a=\"ajax\",r=1,c=2,u=\"lastActive\",l=\"lastInteraction\",f=\"used\",p=\"csa-tabbed-browsing\",g=\"visibilityState\",v={\"back-memory-cache\":1,\"tab-switch\":1,\"history-navigation-page-cache\":1},b=\"<ns>.TabbedBrowsing.2\",m=\"visible\",y=o.global,I=o(\"Events\",{producerId:\"csa\"}),h=y.location||{},T=y.document,w=y.JSON,z=((y.performance||{}).navigation||{}).type,P=o.store,S=o.on,k=o.storageSupport(),x=!1,A={},C={},O={},$={},j=!1,q=!1,B=!1;function E(i){try{return w.parse(P(p,void 0,{session:i})||\"{}\")||{}}catch(i){o.error('Could not parse storage value for key \"'+p+'\": '+i)}return{}}function J(i,t){P(p,w.stringify(t||{}),{session:i})}function N(i){var t=C.tid||i.id,n=A[u]||{};n.tid===t&&(n.pid=i.id),$={pid:i.id,tid:t,lastInteraction:C[l]||{},initialized:!0},O={lastActive:n,lastInteraction:A[l]||{},time:o.time()}}function D(i){var t=i===d,n=T.referrer,e=!(n&&n.length)||!~n.indexOf(h.origin||\"\"),a=t&&e,r={type:i,toTabId:$.tid,toPageId:$.pid,transitTime:o.time()-A.time||null};a||function(i,t,n){var e=i===s,a=t?A[u]||{}:C,r=A[l]||{},o=C[l]||{},d=t?r:o;n.fromTabId=a.tid,n.fromPageId=a.pid,e||!d.id||d[f]||(n.interactionId=d.id||null,r.id===d.id&&(r[f]=!0),o.id===d.id&&(o[f]=!0))}(i,t,r),I(\"log\",{navigation:r,schemaId:b},{ent:{page:[\"pageType\",\"subPageType\",\"requestId\"]}})}function F(i){B=function(i){return i&&i in v}(i.transitionType),function(){A=E(!1),C=E(!0);var i=A[l],t=C[l],n=!1,e=!1;i&&t&&i.id===t.id&&i[f]!==t[f]&&(n=!i[f],e=!t[f],t[f]=i[f]=!0,n&&J(!1,A),e&&J(!0,C))}(),N(i),j=!0,function(i){var t,n;t=H(),n=K(),(t||n)&&N(i)}(i)}function G(){x&&!B?D(a):(x=!0,D(z===c||B?e:z===r?C.initialized?s:d:C.initialized?i:d))}function H(){return!(!j||!t)&&(C[l]={id:t.messageId,used:!(A[l]={id:t.messageId,used:!1})},!(t=null))}function K(){var i=!1;if(q=T[g]===m,j){var t=A[u]||{};i=function(i,t,n){var e=!1,a=i[u];return q?a&&a.tid===$.tid&&a[m]&&a.pid===n||(i[u]={visible:!0,pid:n,tid:t},e=!0):a&&a.tid===$.tid&&a[m]&&(e=!(a[m]=!1)),e}(A,C.tid||t.tid||$.tid,C.pid||t.pid||$.pid)}return i}k.local&&k.session&&w&&T&&g in T&&(n=function(){try{return y.self!==y.top}catch(i){return!0}}(),S(\"$pageChange\",function(i){n||(F(i),G(),J(!1,O),J(!0,$),C=$,A=O)},{buffered:1}),S(\"$content.interaction\",function(i){t=i,H()&&(J(!1,A),J(!0,C))}),S(T,\"visibilitychange\",function(){!n&&K()&&J(!1,A)},{capture:!1,passive:!0}))});csa.plugin(function(c){var e=c(\"Metrics\",{producerId:\"csa\"});c.on(c.global,\"pageshow\",function(c){c&&c.persisted&&e(\"recordMetric\",\"bfCache\",1)})});csa.plugin(function(n){var e,t,i,o,r,a,c,u,f,s,l,d,m,p,g,v,h=\"hasFocus\",b=\"$app.\",y=\"avail\",S=\"client\",T=\"document\",$=\"inner\",I=\"offset\",P=\"screen\",w=\"scroll\",D=\"Width\",E=\"Height\",F=y+D,O=y+E,q=S+D,x=S+E,z=$+D,C=$+E,H=I+D,K=I+E,M=w+D,W=w+E,X=n.config[\"KillSwitch.PageInteractionsSummary\"],Y=n(\"Events\",{producerId:\"csa\"}),j=1,k=n.global||{},A=n.time,B=n.on,G=n.once,J=k[T]||{},L=k[P]||{},N=k.Math||{},Q=N.abs,R=N.max,U=N.ceil,V=((k.performance||{}).timing||{}).responseStart,Z=function(){return J[h]()},_=1,nn=100,en={},tn=1;function on(){c=t=o=r=e,i=0,a=u=f=s=0,cn(),an()}function rn(){V&&!o&&(c=U((o=l)-V),tn=1)}function an(){u=U(R(u,m+v)),d&&(f=U(R(f,d+g))),tn=1}function cn(){l=A(),d=Q(k.pageXOffset||0),m=Q(k.pageYOffset||0),p=0<d||0<m,g=k[z]||0,v=k[C]||0}function un(){cn(),rn(),function(){var n=m-i;t&&!(t&&t<=l)||(n&&(++a,tn=1),i=m,n),t=l+nn}(),an()}function fn(){if(r){var n=U(A()-r);s+=n,r=e,tn=0<n}}function sn(){r=r||A()}function ln(n,e,t,i){e[n+D]=U(t||0),e[n+E]=U(i||0)}function dn(n){var e=n===en,t=Z();if(t||tn){if(!e){if(!j)return;j=0,t&&fn()}var i=function(){var n={},e=J.documentElement||{},t=J.body||{};return ln(\"availableScreen\",n,L[F],L[O]),ln(T,n,R(t[M]||0,t[H]||0,e[q]||0,e[M]||0,e[H]||0),R(t[W]||0,t[K]||0,e[x]||0,e[W]||0,e[K]||0)),ln(P,n,L.width,L.height),ln(\"viewport\",n,k[z],k[C]),n}(),o=function(){var n={scrollCounts:a,reachedDepth:u,horizontalScrollDistance:f,dwellTime:s};return\"number\"==typeof c&&(n.clientTimeToFirstScroll=c),n}();e?tn=0:(on(),V=A(),t&&(r=V)),Y(\"log\",{activity:o,dimensions:i,schemaId:\"<ns>.PageInteractionsSummary.1\"},{ent:{page:[\"pageType\",\"subPageType\",\"requestId\"]}})}}function mn(){fn(),dn(en)}function pn(n,e){return function(){_=e,n()}}function gn(){Z=function(){return _},_&&!r&&(r=A())}\"function\"!=typeof J[h]||X||(on(),p&&rn(),B(k,w,un,{passive:!0}),B(k,\"blur\",mn),B(k,\"focus\",pn(sn,1)),G(b+\"android\",gn),G(b+\"ios\",gn),B(b+\"pause\",pn(mn,0)),B(b+\"resume\",pn(sn,1)),B(b+\"resign\",pn(mn,0)),B(b+\"active\",pn(sn,1)),Z()&&(r=V||A()),G(\"$beforeunload\",dn),B(\"$beforeunload\",dn),B(\"$document.hidden\",mn),B(\"$beforePageTransition\",dn),B(\"$afterPageTransition\",function(){tn=j=1}))});csa.plugin(function(e){var o,n,r=\"<ns>.Navigator.4\",a=e.global,i=a.navigator||{},d=i.connection||{},c=a.Math.round,t=e(\"Events\",{producerId:\"csa\"});function l(){o={network:{downlink:void 0,downlinkMax:void 0,rtt:void 0,type:void 0,effectiveType:void 0,saveData:void 0},language:void 0,doNotTrack:void 0,hardwareConcurrency:void 0,deviceMemory:void 0,cookieEnabled:void 0,webdriver:void 0},v(),o.language=i.language||null,o.doNotTrack=function(){switch(i.doNotTrack){case\"1\":return\"enabled\";case\"0\":return\"disabled\";case\"unspecified\":return i.doNotTrack;default:return null}}(),o.hardwareConcurrency=\"hardwareConcurrency\"in i?c(i.hardwareConcurrency||0):null,o.deviceMemory=\"deviceMemory\"in i?c(i.deviceMemory||0):null,o.cookieEnabled=\"cookieEnabled\"in i?i.cookieEnabled:null,o.webdriver=\"webdriver\"in i?i.webdriver:null}function u(){t(\"log\",{network:(n={},Object.keys(o.network).forEach(function(e){n[e]=o.network[e]+\"\"}),n),language:o.language,doNotTrack:o.doNotTrack,hardwareConcurrency:o.hardwareConcurrency,deviceMemory:o.deviceMemory,cookieEnabled:o.cookieEnabled,webdriver:o.webdriver,schemaId:r},{ent:{page:[\"pageType\",\"subPageType\",\"requestId\"]}})}function v(){!function(n){Object.keys(o.network).forEach(function(e){o.network[e]=n[e]})}({downlink:\"downlink\"in d?c(d.downlink||0):null,downlinkMax:\"downlinkMax\"in d?c(d.downlinkMax||0):null,rtt:\"rtt\"in d?(d.rtt||0).toFixed():null,type:d.type||null,effectiveType:d.effectiveType||null,saveData:\"saveData\"in d?d.saveData:null})}function k(){v(),u()}function w(){l(),u()}l(),u(),e.on(\"$afterPageTransition\",w),e.on(d,\"change\",k)});\n",
      "if (window.ue && window.ue.uels) {\n",
      "    ue.uels(\"https://c.amazon-adsystem.com/bao-csm/forensics/a9-tq-forensics.min.js\");\n",
      "}\n",
      "\n",
      "\n",
      "}\n",
      "/* ◬ */\n",
      "   </script>\n",
      "  </div>\n",
      "  <noscript>\n",
      "   <img alt=\"\" height=\"1\" src=\"//fls-eu.amazon.com/1/batch/1/OP/A21TJRUUN4KGV:262-2745510-6589301:JY000YRQ4KCF8VZPC4PG$uedata=s:%2Fap%2Fuedata%3Fnoscript%26id%3DJY000YRQ4KCF8VZPC4PG:0\" style=\"display:none;visibility:hidden;\" width=\"1\"/>\n",
      "  </noscript>\n",
      "  <script>\n",
      "   window.ue && ue.count && ue.count('CSMLibrarySize', 47048)\n",
      "  </script>\n",
      " </body>\n",
      "</html>\n",
      "\n"
     ]
    }
   ],
   "source": [
    "print(soup1.prettify())"
   ]
  },
  {
   "cell_type": "code",
   "execution_count": 32,
   "id": "c3302f59",
   "metadata": {},
   "outputs": [],
   "source": [
    "names1=soup1.find_all('div',class_='a-profile-content')"
   ]
  },
  {
   "cell_type": "code",
   "execution_count": 33,
   "id": "7d785cc0",
   "metadata": {},
   "outputs": [],
   "source": [
    "cust_name1=[]\n",
    "for i in range(0,len(names1)):\n",
    "    cust_name1.append(names1[i].get_text())"
   ]
  },
  {
   "cell_type": "code",
   "execution_count": 34,
   "id": "411063f6",
   "metadata": {},
   "outputs": [
    {
     "data": {
      "text/plain": [
       "[]"
      ]
     },
     "execution_count": 34,
     "metadata": {},
     "output_type": "execute_result"
    }
   ],
   "source": [
    "cust_name1"
   ]
  },
  {
   "cell_type": "code",
   "execution_count": 35,
   "id": "cd8a98cc",
   "metadata": {},
   "outputs": [
    {
     "ename": "IndexError",
     "evalue": "pop from empty list",
     "output_type": "error",
     "traceback": [
      "\u001b[1;31m---------------------------------------------------------------------------\u001b[0m",
      "\u001b[1;31mIndexError\u001b[0m                                Traceback (most recent call last)",
      "Cell \u001b[1;32mIn[35], line 1\u001b[0m\n\u001b[1;32m----> 1\u001b[0m \u001b[43mcust_name1\u001b[49m\u001b[38;5;241;43m.\u001b[39;49m\u001b[43mpop\u001b[49m\u001b[43m(\u001b[49m\u001b[38;5;241;43m0\u001b[39;49m\u001b[43m)\u001b[49m\n",
      "\u001b[1;31mIndexError\u001b[0m: pop from empty list"
     ]
    }
   ],
   "source": [
    "cust_name1.pop(0)"
   ]
  },
  {
   "cell_type": "code",
   "execution_count": null,
   "id": "604e7d88",
   "metadata": {},
   "outputs": [],
   "source": [
    "cust_name1.pop(0)"
   ]
  },
  {
   "cell_type": "code",
   "execution_count": null,
   "id": "2cd9c21d",
   "metadata": {},
   "outputs": [],
   "source": [
    "review_title1=soup1.find_all('a',class_='review-title')"
   ]
  },
  {
   "cell_type": "code",
   "execution_count": null,
   "id": "c80e157c",
   "metadata": {},
   "outputs": [],
   "source": [
    "review_title1"
   ]
  },
  {
   "cell_type": "code",
   "execution_count": null,
   "id": "29bbd3f8",
   "metadata": {},
   "outputs": [],
   "source": [
    "re_title1=[]\n",
    "for i in range(0,len(review_title1)):\n",
    "    re_title1.append(review_title1[i].get_text())\n",
    "re_title1"
   ]
  },
  {
   "cell_type": "code",
   "execution_count": null,
   "id": "cd6d9d0e",
   "metadata": {},
   "outputs": [],
   "source": [
    "#list comprehension\n",
    "re_title1[:]=[titles.lstrip('\\n') for titles in re_title1]"
   ]
  },
  {
   "cell_type": "code",
   "execution_count": null,
   "id": "722f6fdf",
   "metadata": {},
   "outputs": [],
   "source": [
    "re_title1"
   ]
  },
  {
   "cell_type": "code",
   "execution_count": null,
   "id": "7451b7e3",
   "metadata": {},
   "outputs": [],
   "source": [
    "re_title1[:]=[titles.rstrip() for titles in re_title1]"
   ]
  },
  {
   "cell_type": "code",
   "execution_count": null,
   "id": "94f8208c",
   "metadata": {},
   "outputs": [],
   "source": [
    "re_title1"
   ]
  },
  {
   "cell_type": "code",
   "execution_count": null,
   "id": "92e3cb53",
   "metadata": {},
   "outputs": [],
   "source": [
    "rating1=soup1.find_all('i',class_='review-rating')"
   ]
  },
  {
   "cell_type": "code",
   "execution_count": null,
   "id": "fb29ff9d",
   "metadata": {},
   "outputs": [],
   "source": [
    "rating1"
   ]
  },
  {
   "cell_type": "code",
   "execution_count": null,
   "id": "4b3b9980",
   "metadata": {},
   "outputs": [],
   "source": [
    "ratings1=[]\n",
    "for i in range(0,len(rating1)):\n",
    "    ratings1.append(rating1[i].get_text())\n",
    "ratings1"
   ]
  },
  {
   "cell_type": "code",
   "execution_count": null,
   "id": "264b9cc5",
   "metadata": {},
   "outputs": [],
   "source": [
    "ratings1.pop(0)"
   ]
  },
  {
   "cell_type": "code",
   "execution_count": null,
   "id": "12568f28",
   "metadata": {},
   "outputs": [],
   "source": [
    "ratings1.pop(0)"
   ]
  },
  {
   "cell_type": "code",
   "execution_count": null,
   "id": "259b5f06",
   "metadata": {},
   "outputs": [],
   "source": [
    "ratings1[:]=[x.rstrip(' out of 5 stars') for x in ratings1]\n",
    "ratings1"
   ]
  },
  {
   "cell_type": "code",
   "execution_count": null,
   "id": "5d698623",
   "metadata": {},
   "outputs": [],
   "source": [
    "comment1=soup1.find_all('span',{'data-hook':\"review-body\"})\n",
    "comment1"
   ]
  },
  {
   "cell_type": "code",
   "execution_count": null,
   "id": "12041a83",
   "metadata": {},
   "outputs": [],
   "source": [
    "re_comments1=[]\n",
    "for i in range(0,len(comment1)):\n",
    "    re_comments1.append(comment1[i].get_text())\n",
    "re_comments1"
   ]
  },
  {
   "cell_type": "code",
   "execution_count": null,
   "id": "9cddc3bd",
   "metadata": {},
   "outputs": [],
   "source": [
    "re_comments1[:]=[x.lstrip('\\n') for x in re_comments1]"
   ]
  },
  {
   "cell_type": "code",
   "execution_count": null,
   "id": "4d0e9da7",
   "metadata": {},
   "outputs": [],
   "source": [
    "re_comments1[:]=[x.rstrip('\\n') for x in re_comments1]"
   ]
  },
  {
   "cell_type": "code",
   "execution_count": null,
   "id": "a283e31a",
   "metadata": {},
   "outputs": [],
   "source": [
    "re_comments1"
   ]
  },
  {
   "cell_type": "code",
   "execution_count": null,
   "id": "cd81f2bd",
   "metadata": {},
   "outputs": [],
   "source": [
    "len(re_comments1)"
   ]
  },
  {
   "cell_type": "code",
   "execution_count": null,
   "id": "5f384a23",
   "metadata": {},
   "outputs": [],
   "source": [
    "cust_name1\n",
    "re_comments1\n",
    "ratings1\n",
    "re_title1"
   ]
  },
  {
   "cell_type": "code",
   "execution_count": null,
   "id": "3be313a0",
   "metadata": {},
   "outputs": [],
   "source": [
    "data1=pd.DataFrame({'name':cust_name1,'titles':re_title1,'rating':ratings1,'comments':re_comments1})\n",
    "data1"
   ]
  },
  {
   "cell_type": "markdown",
   "id": "ae6c9a60",
   "metadata": {},
   "source": [
    "### Now i going to use for loop coz manualy i only get more than 10 user data. so using i can get user data from other pages"
   ]
  },
  {
   "cell_type": "code",
   "execution_count": null,
   "id": "2926fc0e",
   "metadata": {},
   "outputs": [],
   "source": [
    "# firstly i stored urls of next pages and stored in variable\n",
    "URL=[]\n",
    "for i in range(1,1200):\n",
    "    url='https://www.amazon.in/New-Apple-iPhone-12-128GB/product-reviews/B08L5TNJHG/ref=cm_cr_arp_d_paging_btm_next_2?ie=UTF8&reviewerType=all_reviews&pageNumber='\n",
    "    URL.append(url+str(i))\n",
    "\n",
    "# then i exctracted name,title,rating and comments from all those pages\n",
    "cust_name=[]\n",
    "re_title=[]\n",
    "ratings=[]\n",
    "re_comments=[]\n",
    "\n",
    "for i in URL:    \n",
    "    page=re.get(i)\n",
    "    \n",
    "    soup=bs(page.content,'html.parser')\n",
    "    \n",
    "    names=soup.find_all('div',class_='a-profile-content')\n",
    "    \n",
    "    for i in range(0,len(names)):\n",
    "        cust_name.append(names[i].get_text())\n",
    "    \n",
    "    review_title=soup.find_all('a',class_='review-title')\n",
    "    \n",
    "    for i in range(0,len(review_title)):\n",
    "        re_title.append(review_title[i].get_text())\n",
    "\n",
    "    #list comprehension to remove '\\n' unwanted charactar\n",
    "    re_title[:]=[titles.lstrip('\\n') for titles in re_title]\n",
    "    re_title[:]=[titles.rstrip('\\n') for titles in re_title]\n",
    "    \n",
    "    rating=soup.find_all('i',class_='review-rating')\n",
    "    \n",
    "    for i in range(0,len(rating)):\n",
    "        ratings.append(rating[i].get_text())\n",
    "    ratings\n",
    "    \n",
    "    ratings[:]=[x.rstrip(' out of 5 stars') for x in ratings]\n",
    "    ratings\n",
    "    \n",
    "    comment=soup.find_all('span',{'data-hook':\"review-body\"})\n",
    "    comment\n",
    "    \n",
    "    for i in range(0,len(comment)):\n",
    "        re_comments.append(comment[i].get_text())\n",
    "    re_comments\n",
    "    \n",
    "    re_comments[:]=[x.lstrip('\\n') for x in re_comments]\n",
    "    re_comments[:]=[x.rstrip('\\n') for x in re_comments]\n",
    "\n"
   ]
  },
  {
   "cell_type": "code",
   "execution_count": null,
   "id": "2ee8d630",
   "metadata": {},
   "outputs": [],
   "source": [
    "if len(re_comments)<len(ratings):\n",
    "    c=len(ratings)-len(re_comments)\n",
    "    c=int(c)\n",
    "    for i in range(0,c):\n",
    "        ratings.pop(i)\n",
    "        cust_name.pop(i)\n",
    "        if len(re_comments)==len(ratings):\n",
    "            print('now the length is equal of both variables')"
   ]
  },
  {
   "cell_type": "code",
   "execution_count": null,
   "id": "baab4c38",
   "metadata": {},
   "outputs": [],
   "source": [
    "len(re_comments)"
   ]
  },
  {
   "cell_type": "code",
   "execution_count": null,
   "id": "90221644",
   "metadata": {},
   "outputs": [],
   "source": [
    "len(ratings)"
   ]
  },
  {
   "cell_type": "code",
   "execution_count": null,
   "id": "047a9612",
   "metadata": {},
   "outputs": [],
   "source": [
    "len(re_title)"
   ]
  },
  {
   "cell_type": "code",
   "execution_count": null,
   "id": "b5ea77cb",
   "metadata": {},
   "outputs": [],
   "source": [
    "# i tried to convert into dataframe but some of the values from colunms was missing so i cant create the dataframe\n",
    "#data=pd.DataFrame({'name':cust_name,'rating':ratings,'titles':re_title,'comments':re_comments,})"
   ]
  },
  {
   "cell_type": "code",
   "execution_count": null,
   "id": "6a2c9052",
   "metadata": {},
   "outputs": [],
   "source": [
    "data=pd.DataFrame({'name':cust_name,'titles':re_title,'rating':ratings,'comments':re_comments})\n",
    "data"
   ]
  },
  {
   "cell_type": "code",
   "execution_count": null,
   "id": "30165ed9",
   "metadata": {},
   "outputs": [],
   "source": [
    "data.to_csv(r'Iphone-12_Review.csv',index=True)"
   ]
  },
  {
   "cell_type": "markdown",
   "id": "519a2606",
   "metadata": {},
   "source": [
    "###  Now we are doing emotion mining on the dataset"
   ]
  },
  {
   "cell_type": "code",
   "execution_count": 582,
   "id": "55b75ab3",
   "metadata": {},
   "outputs": [],
   "source": [
    "# we imported saved csv file so we can check is it having any issue while importing or not\n",
    "data=pd.read_csv('Iphone-12_Review_main.csv',index_col=0)"
   ]
  },
  {
   "cell_type": "code",
   "execution_count": 583,
   "id": "c37234e2",
   "metadata": {},
   "outputs": [
    {
     "data": {
      "text/html": [
       "<div>\n",
       "<style scoped>\n",
       "    .dataframe tbody tr th:only-of-type {\n",
       "        vertical-align: middle;\n",
       "    }\n",
       "\n",
       "    .dataframe tbody tr th {\n",
       "        vertical-align: top;\n",
       "    }\n",
       "\n",
       "    .dataframe thead th {\n",
       "        text-align: right;\n",
       "    }\n",
       "</style>\n",
       "<table border=\"1\" class=\"dataframe\">\n",
       "  <thead>\n",
       "    <tr style=\"text-align: right;\">\n",
       "      <th></th>\n",
       "      <th>name</th>\n",
       "      <th>titles</th>\n",
       "      <th>rating</th>\n",
       "      <th>comments</th>\n",
       "    </tr>\n",
       "  </thead>\n",
       "  <tbody>\n",
       "    <tr>\n",
       "      <th>0</th>\n",
       "      <td>Yaswanth S.</td>\n",
       "      <td>An overall good premium experience</td>\n",
       "      <td>3.0</td>\n",
       "      <td>SUMMERY: As a first time iPhone user, I would ...</td>\n",
       "    </tr>\n",
       "    <tr>\n",
       "      <th>1</th>\n",
       "      <td>Navish Paik</td>\n",
       "      <td>Excellent product</td>\n",
       "      <td>4.0</td>\n",
       "      <td>Satisfied with the quality and performance but...</td>\n",
       "    </tr>\n",
       "    <tr>\n",
       "      <th>2</th>\n",
       "      <td>Mantu  kumar</td>\n",
       "      <td>In the era of 14 this is still beast</td>\n",
       "      <td>4.0</td>\n",
       "      <td>Using for few months, no heating issue, but ni...</td>\n",
       "    </tr>\n",
       "    <tr>\n",
       "      <th>3</th>\n",
       "      <td>Yogesh Kumar Sharma</td>\n",
       "      <td>mujhe acha laga istmal kar ke</td>\n",
       "      <td>4.0</td>\n",
       "      <td>In 2022 best iPhone ever</td>\n",
       "    </tr>\n",
       "    <tr>\n",
       "      <th>4</th>\n",
       "      <td>Swapnil S Joshi</td>\n",
       "      <td>iphone 12 is good for normal use but don’t exp...</td>\n",
       "      <td>4.0</td>\n",
       "      <td>Whereas brand is apple, you can expect standar...</td>\n",
       "    </tr>\n",
       "  </tbody>\n",
       "</table>\n",
       "</div>"
      ],
      "text/plain": [
       "                  name                                             titles  \\\n",
       "0          Yaswanth S.                 An overall good premium experience   \n",
       "1          Navish Paik                                  Excellent product   \n",
       "2         Mantu  kumar               In the era of 14 this is still beast   \n",
       "3  Yogesh Kumar Sharma                      mujhe acha laga istmal kar ke   \n",
       "4      Swapnil S Joshi  iphone 12 is good for normal use but don’t exp...   \n",
       "\n",
       "   rating                                           comments  \n",
       "0     3.0  SUMMERY: As a first time iPhone user, I would ...  \n",
       "1     4.0  Satisfied with the quality and performance but...  \n",
       "2     4.0  Using for few months, no heating issue, but ni...  \n",
       "3     4.0                           In 2022 best iPhone ever  \n",
       "4     4.0  Whereas brand is apple, you can expect standar...  "
      ]
     },
     "execution_count": 583,
     "metadata": {},
     "output_type": "execute_result"
    }
   ],
   "source": [
    "data.head()"
   ]
  },
  {
   "cell_type": "code",
   "execution_count": 584,
   "id": "382bc029",
   "metadata": {},
   "outputs": [
    {
     "data": {
      "text/plain": [
       "14"
      ]
     },
     "execution_count": 584,
     "metadata": {},
     "output_type": "execute_result"
    }
   ],
   "source": [
    "data.duplicated().sum()"
   ]
  },
  {
   "cell_type": "code",
   "execution_count": 585,
   "id": "ed1e1155",
   "metadata": {},
   "outputs": [],
   "source": [
    "data.drop_duplicates(inplace=True)"
   ]
  },
  {
   "cell_type": "code",
   "execution_count": 586,
   "id": "1699d326",
   "metadata": {},
   "outputs": [
    {
     "data": {
      "text/plain": [
       "name          0\n",
       "titles        3\n",
       "rating        0\n",
       "comments    100\n",
       "dtype: int64"
      ]
     },
     "execution_count": 586,
     "metadata": {},
     "output_type": "execute_result"
    }
   ],
   "source": [
    "data.isna().sum()"
   ]
  },
  {
   "cell_type": "code",
   "execution_count": 587,
   "id": "384d4505",
   "metadata": {},
   "outputs": [],
   "source": [
    "data.dropna(inplace=True)"
   ]
  },
  {
   "cell_type": "code",
   "execution_count": 588,
   "id": "93c7a68f",
   "metadata": {},
   "outputs": [],
   "source": [
    "data.reset_index(inplace=True)"
   ]
  },
  {
   "cell_type": "code",
   "execution_count": 589,
   "id": "922aed67",
   "metadata": {},
   "outputs": [
    {
     "name": "stdout",
     "output_type": "stream",
     "text": [
      "<class 'pandas.core.frame.DataFrame'>\n",
      "RangeIndex: 1920 entries, 0 to 1919\n",
      "Data columns (total 5 columns):\n",
      " #   Column    Non-Null Count  Dtype  \n",
      "---  ------    --------------  -----  \n",
      " 0   index     1920 non-null   int64  \n",
      " 1   name      1920 non-null   object \n",
      " 2   titles    1920 non-null   object \n",
      " 3   rating    1920 non-null   float64\n",
      " 4   comments  1920 non-null   object \n",
      "dtypes: float64(1), int64(1), object(3)\n",
      "memory usage: 75.1+ KB\n"
     ]
    }
   ],
   "source": [
    "data.info()"
   ]
  },
  {
   "cell_type": "code",
   "execution_count": 590,
   "id": "156ae1ad",
   "metadata": {},
   "outputs": [
    {
     "data": {
      "text/plain": [
       "index       0\n",
       "name        0\n",
       "titles      0\n",
       "rating      0\n",
       "comments    0\n",
       "dtype: int64"
      ]
     },
     "execution_count": 590,
     "metadata": {},
     "output_type": "execute_result"
    }
   ],
   "source": [
    "data.isna().sum()"
   ]
  },
  {
   "cell_type": "code",
   "execution_count": 591,
   "id": "9377b905",
   "metadata": {},
   "outputs": [
    {
     "data": {
      "text/plain": [
       "0"
      ]
     },
     "execution_count": 591,
     "metadata": {},
     "output_type": "execute_result"
    }
   ],
   "source": [
    "data.duplicated().sum()"
   ]
  },
  {
   "cell_type": "code",
   "execution_count": 592,
   "id": "d82a8ecf",
   "metadata": {},
   "outputs": [],
   "source": [
    "data1=data.loc[:,['comments']]"
   ]
  },
  {
   "cell_type": "code",
   "execution_count": 593,
   "id": "142ad823",
   "metadata": {},
   "outputs": [
    {
     "data": {
      "text/html": [
       "<div>\n",
       "<style scoped>\n",
       "    .dataframe tbody tr th:only-of-type {\n",
       "        vertical-align: middle;\n",
       "    }\n",
       "\n",
       "    .dataframe tbody tr th {\n",
       "        vertical-align: top;\n",
       "    }\n",
       "\n",
       "    .dataframe thead th {\n",
       "        text-align: right;\n",
       "    }\n",
       "</style>\n",
       "<table border=\"1\" class=\"dataframe\">\n",
       "  <thead>\n",
       "    <tr style=\"text-align: right;\">\n",
       "      <th></th>\n",
       "      <th>comments</th>\n",
       "    </tr>\n",
       "  </thead>\n",
       "  <tbody>\n",
       "    <tr>\n",
       "      <th>0</th>\n",
       "      <td>SUMMERY: As a first time iPhone user, I would ...</td>\n",
       "    </tr>\n",
       "    <tr>\n",
       "      <th>1</th>\n",
       "      <td>Satisfied with the quality and performance but...</td>\n",
       "    </tr>\n",
       "    <tr>\n",
       "      <th>2</th>\n",
       "      <td>Using for few months, no heating issue, but ni...</td>\n",
       "    </tr>\n",
       "    <tr>\n",
       "      <th>3</th>\n",
       "      <td>In 2022 best iPhone ever</td>\n",
       "    </tr>\n",
       "    <tr>\n",
       "      <th>4</th>\n",
       "      <td>Whereas brand is apple, you can expect standar...</td>\n",
       "    </tr>\n",
       "    <tr>\n",
       "      <th>...</th>\n",
       "      <td>...</td>\n",
       "    </tr>\n",
       "    <tr>\n",
       "      <th>1915</th>\n",
       "      <td>Upgraded from 7+. Amazing product. Loving it.</td>\n",
       "    </tr>\n",
       "    <tr>\n",
       "      <th>1916</th>\n",
       "      <td>No need to comment because this is Apple.</td>\n",
       "    </tr>\n",
       "    <tr>\n",
       "      <th>1917</th>\n",
       "      <td>Upgraded from iPhone x after over 3 years. I d...</td>\n",
       "    </tr>\n",
       "    <tr>\n",
       "      <th>1918</th>\n",
       "      <td>Just great, feel awesome to unbox all good at ...</td>\n",
       "    </tr>\n",
       "    <tr>\n",
       "      <th>1919</th>\n",
       "      <td>Good performance</td>\n",
       "    </tr>\n",
       "  </tbody>\n",
       "</table>\n",
       "<p>1920 rows × 1 columns</p>\n",
       "</div>"
      ],
      "text/plain": [
       "                                               comments\n",
       "0     SUMMERY: As a first time iPhone user, I would ...\n",
       "1     Satisfied with the quality and performance but...\n",
       "2     Using for few months, no heating issue, but ni...\n",
       "3                              In 2022 best iPhone ever\n",
       "4     Whereas brand is apple, you can expect standar...\n",
       "...                                                 ...\n",
       "1915      Upgraded from 7+. Amazing product. Loving it.\n",
       "1916          No need to comment because this is Apple.\n",
       "1917  Upgraded from iPhone x after over 3 years. I d...\n",
       "1918  Just great, feel awesome to unbox all good at ...\n",
       "1919                                   Good performance\n",
       "\n",
       "[1920 rows x 1 columns]"
      ]
     },
     "execution_count": 593,
     "metadata": {},
     "output_type": "execute_result"
    }
   ],
   "source": [
    "data1"
   ]
  },
  {
   "cell_type": "code",
   "execution_count": 594,
   "id": "418c2ac0",
   "metadata": {},
   "outputs": [],
   "source": [
    "# as you can there are still number there\n",
    "import re"
   ]
  },
  {
   "cell_type": "code",
   "execution_count": 595,
   "id": "21fa451d",
   "metadata": {},
   "outputs": [],
   "source": [
    "def remove_pattern(text,pattern):\n",
    "    x=re.findall(pattern,str(text))\n",
    "    for i in x:\n",
    "        text=re.sub(i,'',str(text))\n",
    "    return text"
   ]
  },
  {
   "cell_type": "code",
   "execution_count": 596,
   "id": "9ff3d68d",
   "metadata": {},
   "outputs": [
    {
     "data": {
      "text/html": [
       "<div>\n",
       "<style scoped>\n",
       "    .dataframe tbody tr th:only-of-type {\n",
       "        vertical-align: middle;\n",
       "    }\n",
       "\n",
       "    .dataframe tbody tr th {\n",
       "        vertical-align: top;\n",
       "    }\n",
       "\n",
       "    .dataframe thead th {\n",
       "        text-align: right;\n",
       "    }\n",
       "</style>\n",
       "<table border=\"1\" class=\"dataframe\">\n",
       "  <thead>\n",
       "    <tr style=\"text-align: right;\">\n",
       "      <th></th>\n",
       "      <th>comments</th>\n",
       "      <th>cleaned</th>\n",
       "    </tr>\n",
       "  </thead>\n",
       "  <tbody>\n",
       "    <tr>\n",
       "      <th>0</th>\n",
       "      <td>SUMMERY: As a first time iPhone user, I would ...</td>\n",
       "      <td>SUMMERY: As a first time iPhone user, I would ...</td>\n",
       "    </tr>\n",
       "    <tr>\n",
       "      <th>1</th>\n",
       "      <td>Satisfied with the quality and performance but...</td>\n",
       "      <td>Satisfied with the quality and performance but...</td>\n",
       "    </tr>\n",
       "    <tr>\n",
       "      <th>2</th>\n",
       "      <td>Using for few months, no heating issue, but ni...</td>\n",
       "      <td>Using for few months, no heating issue, but ni...</td>\n",
       "    </tr>\n",
       "    <tr>\n",
       "      <th>3</th>\n",
       "      <td>In 2022 best iPhone ever</td>\n",
       "      <td>In  best iPhone ever</td>\n",
       "    </tr>\n",
       "    <tr>\n",
       "      <th>4</th>\n",
       "      <td>Whereas brand is apple, you can expect standar...</td>\n",
       "      <td>Whereas brand is apple, you can expect standar...</td>\n",
       "    </tr>\n",
       "    <tr>\n",
       "      <th>...</th>\n",
       "      <td>...</td>\n",
       "      <td>...</td>\n",
       "    </tr>\n",
       "    <tr>\n",
       "      <th>1915</th>\n",
       "      <td>Upgraded from 7+. Amazing product. Loving it.</td>\n",
       "      <td>Upgraded from +. Amazing product. Loving it.</td>\n",
       "    </tr>\n",
       "    <tr>\n",
       "      <th>1916</th>\n",
       "      <td>No need to comment because this is Apple.</td>\n",
       "      <td>No need to comment because this is Apple.</td>\n",
       "    </tr>\n",
       "    <tr>\n",
       "      <th>1917</th>\n",
       "      <td>Upgraded from iPhone x after over 3 years. I d...</td>\n",
       "      <td>Upgraded from iPhone x after over  years. I do...</td>\n",
       "    </tr>\n",
       "    <tr>\n",
       "      <th>1918</th>\n",
       "      <td>Just great, feel awesome to unbox all good at ...</td>\n",
       "      <td>Just great, feel awesome to unbox all good at ...</td>\n",
       "    </tr>\n",
       "    <tr>\n",
       "      <th>1919</th>\n",
       "      <td>Good performance</td>\n",
       "      <td>Good performance</td>\n",
       "    </tr>\n",
       "  </tbody>\n",
       "</table>\n",
       "<p>1920 rows × 2 columns</p>\n",
       "</div>"
      ],
      "text/plain": [
       "                                               comments  \\\n",
       "0     SUMMERY: As a first time iPhone user, I would ...   \n",
       "1     Satisfied with the quality and performance but...   \n",
       "2     Using for few months, no heating issue, but ni...   \n",
       "3                              In 2022 best iPhone ever   \n",
       "4     Whereas brand is apple, you can expect standar...   \n",
       "...                                                 ...   \n",
       "1915      Upgraded from 7+. Amazing product. Loving it.   \n",
       "1916          No need to comment because this is Apple.   \n",
       "1917  Upgraded from iPhone x after over 3 years. I d...   \n",
       "1918  Just great, feel awesome to unbox all good at ...   \n",
       "1919                                   Good performance   \n",
       "\n",
       "                                                cleaned  \n",
       "0     SUMMERY: As a first time iPhone user, I would ...  \n",
       "1     Satisfied with the quality and performance but...  \n",
       "2     Using for few months, no heating issue, but ni...  \n",
       "3                                  In  best iPhone ever  \n",
       "4     Whereas brand is apple, you can expect standar...  \n",
       "...                                                 ...  \n",
       "1915       Upgraded from +. Amazing product. Loving it.  \n",
       "1916          No need to comment because this is Apple.  \n",
       "1917  Upgraded from iPhone x after over  years. I do...  \n",
       "1918  Just great, feel awesome to unbox all good at ...  \n",
       "1919                                   Good performance  \n",
       "\n",
       "[1920 rows x 2 columns]"
      ]
     },
     "execution_count": 596,
     "metadata": {},
     "output_type": "execute_result"
    }
   ],
   "source": [
    "data1['cleaned']=data1['comments'].apply(lambda x: remove_pattern(x,'[0-9]*'))\n",
    "data1"
   ]
  },
  {
   "cell_type": "code",
   "execution_count": 597,
   "id": "9d18807e",
   "metadata": {},
   "outputs": [],
   "source": [
    "from nltk.corpus import stopwords"
   ]
  },
  {
   "cell_type": "code",
   "execution_count": 598,
   "id": "879667c5",
   "metadata": {},
   "outputs": [],
   "source": [
    "# i didnt removed punctuations \n",
    "stop_words=list(stopwords.words('english'))"
   ]
  },
  {
   "cell_type": "code",
   "execution_count": 599,
   "id": "fa93a4a8",
   "metadata": {},
   "outputs": [],
   "source": [
    "from nltk import word_tokenize"
   ]
  },
  {
   "cell_type": "code",
   "execution_count": 600,
   "id": "dcdda316",
   "metadata": {},
   "outputs": [
    {
     "data": {
      "text/html": [
       "<div>\n",
       "<style scoped>\n",
       "    .dataframe tbody tr th:only-of-type {\n",
       "        vertical-align: middle;\n",
       "    }\n",
       "\n",
       "    .dataframe tbody tr th {\n",
       "        vertical-align: top;\n",
       "    }\n",
       "\n",
       "    .dataframe thead th {\n",
       "        text-align: right;\n",
       "    }\n",
       "</style>\n",
       "<table border=\"1\" class=\"dataframe\">\n",
       "  <thead>\n",
       "    <tr style=\"text-align: right;\">\n",
       "      <th></th>\n",
       "      <th>comments</th>\n",
       "      <th>cleaned</th>\n",
       "      <th>tokenized</th>\n",
       "    </tr>\n",
       "  </thead>\n",
       "  <tbody>\n",
       "    <tr>\n",
       "      <th>0</th>\n",
       "      <td>SUMMERY: As a first time iPhone user, I would ...</td>\n",
       "      <td>SUMMERY: As a first time iPhone user, I would ...</td>\n",
       "      <td>[SUMMERY, :, As, a, first, time, iPhone, user,...</td>\n",
       "    </tr>\n",
       "    <tr>\n",
       "      <th>1</th>\n",
       "      <td>Satisfied with the quality and performance but...</td>\n",
       "      <td>Satisfied with the quality and performance but...</td>\n",
       "      <td>[Satisfied, with, the, quality, and, performan...</td>\n",
       "    </tr>\n",
       "    <tr>\n",
       "      <th>2</th>\n",
       "      <td>Using for few months, no heating issue, but ni...</td>\n",
       "      <td>Using for few months, no heating issue, but ni...</td>\n",
       "      <td>[Using, for, few, months, ,, no, heating, issu...</td>\n",
       "    </tr>\n",
       "    <tr>\n",
       "      <th>3</th>\n",
       "      <td>In 2022 best iPhone ever</td>\n",
       "      <td>In  best iPhone ever</td>\n",
       "      <td>[In, best, iPhone, ever]</td>\n",
       "    </tr>\n",
       "    <tr>\n",
       "      <th>4</th>\n",
       "      <td>Whereas brand is apple, you can expect standar...</td>\n",
       "      <td>Whereas brand is apple, you can expect standar...</td>\n",
       "      <td>[Whereas, brand, is, apple, ,, you, can, expec...</td>\n",
       "    </tr>\n",
       "    <tr>\n",
       "      <th>...</th>\n",
       "      <td>...</td>\n",
       "      <td>...</td>\n",
       "      <td>...</td>\n",
       "    </tr>\n",
       "    <tr>\n",
       "      <th>1915</th>\n",
       "      <td>Upgraded from 7+. Amazing product. Loving it.</td>\n",
       "      <td>Upgraded from +. Amazing product. Loving it.</td>\n",
       "      <td>[Upgraded, from, +, ., Amazing, product, ., Lo...</td>\n",
       "    </tr>\n",
       "    <tr>\n",
       "      <th>1916</th>\n",
       "      <td>No need to comment because this is Apple.</td>\n",
       "      <td>No need to comment because this is Apple.</td>\n",
       "      <td>[No, need, to, comment, because, this, is, App...</td>\n",
       "    </tr>\n",
       "    <tr>\n",
       "      <th>1917</th>\n",
       "      <td>Upgraded from iPhone x after over 3 years. I d...</td>\n",
       "      <td>Upgraded from iPhone x after over  years. I do...</td>\n",
       "      <td>[Upgraded, from, iPhone, x, after, over, years...</td>\n",
       "    </tr>\n",
       "    <tr>\n",
       "      <th>1918</th>\n",
       "      <td>Just great, feel awesome to unbox all good at ...</td>\n",
       "      <td>Just great, feel awesome to unbox all good at ...</td>\n",
       "      <td>[Just, great, ,, feel, awesome, to, unbox, all...</td>\n",
       "    </tr>\n",
       "    <tr>\n",
       "      <th>1919</th>\n",
       "      <td>Good performance</td>\n",
       "      <td>Good performance</td>\n",
       "      <td>[Good, performance]</td>\n",
       "    </tr>\n",
       "  </tbody>\n",
       "</table>\n",
       "<p>1920 rows × 3 columns</p>\n",
       "</div>"
      ],
      "text/plain": [
       "                                               comments  \\\n",
       "0     SUMMERY: As a first time iPhone user, I would ...   \n",
       "1     Satisfied with the quality and performance but...   \n",
       "2     Using for few months, no heating issue, but ni...   \n",
       "3                              In 2022 best iPhone ever   \n",
       "4     Whereas brand is apple, you can expect standar...   \n",
       "...                                                 ...   \n",
       "1915      Upgraded from 7+. Amazing product. Loving it.   \n",
       "1916          No need to comment because this is Apple.   \n",
       "1917  Upgraded from iPhone x after over 3 years. I d...   \n",
       "1918  Just great, feel awesome to unbox all good at ...   \n",
       "1919                                   Good performance   \n",
       "\n",
       "                                                cleaned  \\\n",
       "0     SUMMERY: As a first time iPhone user, I would ...   \n",
       "1     Satisfied with the quality and performance but...   \n",
       "2     Using for few months, no heating issue, but ni...   \n",
       "3                                  In  best iPhone ever   \n",
       "4     Whereas brand is apple, you can expect standar...   \n",
       "...                                                 ...   \n",
       "1915       Upgraded from +. Amazing product. Loving it.   \n",
       "1916          No need to comment because this is Apple.   \n",
       "1917  Upgraded from iPhone x after over  years. I do...   \n",
       "1918  Just great, feel awesome to unbox all good at ...   \n",
       "1919                                   Good performance   \n",
       "\n",
       "                                              tokenized  \n",
       "0     [SUMMERY, :, As, a, first, time, iPhone, user,...  \n",
       "1     [Satisfied, with, the, quality, and, performan...  \n",
       "2     [Using, for, few, months, ,, no, heating, issu...  \n",
       "3                              [In, best, iPhone, ever]  \n",
       "4     [Whereas, brand, is, apple, ,, you, can, expec...  \n",
       "...                                                 ...  \n",
       "1915  [Upgraded, from, +, ., Amazing, product, ., Lo...  \n",
       "1916  [No, need, to, comment, because, this, is, App...  \n",
       "1917  [Upgraded, from, iPhone, x, after, over, years...  \n",
       "1918  [Just, great, ,, feel, awesome, to, unbox, all...  \n",
       "1919                                [Good, performance]  \n",
       "\n",
       "[1920 rows x 3 columns]"
      ]
     },
     "execution_count": 600,
     "metadata": {},
     "output_type": "execute_result"
    }
   ],
   "source": [
    "data1['tokenized']=[word_tokenize(x) for x in data1['cleaned']]\n",
    "data1"
   ]
  },
  {
   "cell_type": "code",
   "execution_count": 601,
   "id": "0093bcbc",
   "metadata": {},
   "outputs": [],
   "source": [
    "data1['tokenized']=data1['tokenized'].apply(lambda x: [word for word in x if word not in stop_words])"
   ]
  },
  {
   "cell_type": "code",
   "execution_count": 602,
   "id": "6785bad4",
   "metadata": {},
   "outputs": [
    {
     "data": {
      "text/html": [
       "<div>\n",
       "<style scoped>\n",
       "    .dataframe tbody tr th:only-of-type {\n",
       "        vertical-align: middle;\n",
       "    }\n",
       "\n",
       "    .dataframe tbody tr th {\n",
       "        vertical-align: top;\n",
       "    }\n",
       "\n",
       "    .dataframe thead th {\n",
       "        text-align: right;\n",
       "    }\n",
       "</style>\n",
       "<table border=\"1\" class=\"dataframe\">\n",
       "  <thead>\n",
       "    <tr style=\"text-align: right;\">\n",
       "      <th></th>\n",
       "      <th>comments</th>\n",
       "      <th>cleaned</th>\n",
       "      <th>tokenized</th>\n",
       "    </tr>\n",
       "  </thead>\n",
       "  <tbody>\n",
       "    <tr>\n",
       "      <th>0</th>\n",
       "      <td>SUMMERY: As a first time iPhone user, I would ...</td>\n",
       "      <td>SUMMERY: As a first time iPhone user, I would ...</td>\n",
       "      <td>[SUMMERY, :, As, first, time, iPhone, user, ,,...</td>\n",
       "    </tr>\n",
       "    <tr>\n",
       "      <th>1</th>\n",
       "      <td>Satisfied with the quality and performance but...</td>\n",
       "      <td>Satisfied with the quality and performance but...</td>\n",
       "      <td>[Satisfied, quality, performance, 's, battery,...</td>\n",
       "    </tr>\n",
       "    <tr>\n",
       "      <th>2</th>\n",
       "      <td>Using for few months, no heating issue, but ni...</td>\n",
       "      <td>Using for few months, no heating issue, but ni...</td>\n",
       "      <td>[Using, months, ,, heating, issue, ,, night, c...</td>\n",
       "    </tr>\n",
       "    <tr>\n",
       "      <th>3</th>\n",
       "      <td>In 2022 best iPhone ever</td>\n",
       "      <td>In  best iPhone ever</td>\n",
       "      <td>[In, best, iPhone, ever]</td>\n",
       "    </tr>\n",
       "    <tr>\n",
       "      <th>4</th>\n",
       "      <td>Whereas brand is apple, you can expect standar...</td>\n",
       "      <td>Whereas brand is apple, you can expect standar...</td>\n",
       "      <td>[Whereas, brand, apple, ,, expect, standard, h...</td>\n",
       "    </tr>\n",
       "  </tbody>\n",
       "</table>\n",
       "</div>"
      ],
      "text/plain": [
       "                                            comments  \\\n",
       "0  SUMMERY: As a first time iPhone user, I would ...   \n",
       "1  Satisfied with the quality and performance but...   \n",
       "2  Using for few months, no heating issue, but ni...   \n",
       "3                           In 2022 best iPhone ever   \n",
       "4  Whereas brand is apple, you can expect standar...   \n",
       "\n",
       "                                             cleaned  \\\n",
       "0  SUMMERY: As a first time iPhone user, I would ...   \n",
       "1  Satisfied with the quality and performance but...   \n",
       "2  Using for few months, no heating issue, but ni...   \n",
       "3                               In  best iPhone ever   \n",
       "4  Whereas brand is apple, you can expect standar...   \n",
       "\n",
       "                                           tokenized  \n",
       "0  [SUMMERY, :, As, first, time, iPhone, user, ,,...  \n",
       "1  [Satisfied, quality, performance, 's, battery,...  \n",
       "2  [Using, months, ,, heating, issue, ,, night, c...  \n",
       "3                           [In, best, iPhone, ever]  \n",
       "4  [Whereas, brand, apple, ,, expect, standard, h...  "
      ]
     },
     "execution_count": 602,
     "metadata": {},
     "output_type": "execute_result"
    }
   ],
   "source": [
    "data1.head()"
   ]
  },
  {
   "cell_type": "code",
   "execution_count": 603,
   "id": "546928b4",
   "metadata": {},
   "outputs": [
    {
     "data": {
      "text/html": [
       "<div>\n",
       "<style scoped>\n",
       "    .dataframe tbody tr th:only-of-type {\n",
       "        vertical-align: middle;\n",
       "    }\n",
       "\n",
       "    .dataframe tbody tr th {\n",
       "        vertical-align: top;\n",
       "    }\n",
       "\n",
       "    .dataframe thead th {\n",
       "        text-align: right;\n",
       "    }\n",
       "</style>\n",
       "<table border=\"1\" class=\"dataframe\">\n",
       "  <thead>\n",
       "    <tr style=\"text-align: right;\">\n",
       "      <th></th>\n",
       "      <th>comments</th>\n",
       "      <th>cleaned</th>\n",
       "      <th>tokenized</th>\n",
       "    </tr>\n",
       "  </thead>\n",
       "  <tbody>\n",
       "    <tr>\n",
       "      <th>0</th>\n",
       "      <td>SUMMERY: As a first time iPhone user, I would ...</td>\n",
       "      <td>SUMMERY: As a first time iPhone user, I would ...</td>\n",
       "      <td>[SUMMERY, :, As, first, time, iPhone, user, ,,...</td>\n",
       "    </tr>\n",
       "    <tr>\n",
       "      <th>1</th>\n",
       "      <td>Satisfied with the quality and performance but...</td>\n",
       "      <td>Satisfied with the quality and performance but...</td>\n",
       "      <td>[Satisfied, quality, performance, 's, battery,...</td>\n",
       "    </tr>\n",
       "    <tr>\n",
       "      <th>2</th>\n",
       "      <td>Using for few months, no heating issue, but ni...</td>\n",
       "      <td>Using for few months, no heating issue, but ni...</td>\n",
       "      <td>[Using, months, ,, heating, issue, ,, night, c...</td>\n",
       "    </tr>\n",
       "    <tr>\n",
       "      <th>3</th>\n",
       "      <td>In 2022 best iPhone ever</td>\n",
       "      <td>In  best iPhone ever</td>\n",
       "      <td>[In, best, iPhone, ever]</td>\n",
       "    </tr>\n",
       "    <tr>\n",
       "      <th>4</th>\n",
       "      <td>Whereas brand is apple, you can expect standar...</td>\n",
       "      <td>Whereas brand is apple, you can expect standar...</td>\n",
       "      <td>[Whereas, brand, apple, ,, expect, standard, h...</td>\n",
       "    </tr>\n",
       "    <tr>\n",
       "      <th>...</th>\n",
       "      <td>...</td>\n",
       "      <td>...</td>\n",
       "      <td>...</td>\n",
       "    </tr>\n",
       "    <tr>\n",
       "      <th>1915</th>\n",
       "      <td>Upgraded from 7+. Amazing product. Loving it.</td>\n",
       "      <td>Upgraded from +. Amazing product. Loving it.</td>\n",
       "      <td>[Upgraded, +, ., Amazing, product, ., Loving, .]</td>\n",
       "    </tr>\n",
       "    <tr>\n",
       "      <th>1916</th>\n",
       "      <td>No need to comment because this is Apple.</td>\n",
       "      <td>No need to comment because this is Apple.</td>\n",
       "      <td>[No, need, comment, Apple, .]</td>\n",
       "    </tr>\n",
       "    <tr>\n",
       "      <th>1917</th>\n",
       "      <td>Upgraded from iPhone x after over 3 years. I d...</td>\n",
       "      <td>Upgraded from iPhone x after over  years. I do...</td>\n",
       "      <td>[Upgraded, iPhone, x, years, ., I, ’, see, maj...</td>\n",
       "    </tr>\n",
       "    <tr>\n",
       "      <th>1918</th>\n",
       "      <td>Just great, feel awesome to unbox all good at ...</td>\n",
       "      <td>Just great, feel awesome to unbox all good at ...</td>\n",
       "      <td>[Just, great, ,, feel, awesome, unbox, good, f...</td>\n",
       "    </tr>\n",
       "    <tr>\n",
       "      <th>1919</th>\n",
       "      <td>Good performance</td>\n",
       "      <td>Good performance</td>\n",
       "      <td>[Good, performance]</td>\n",
       "    </tr>\n",
       "  </tbody>\n",
       "</table>\n",
       "<p>1920 rows × 3 columns</p>\n",
       "</div>"
      ],
      "text/plain": [
       "                                               comments  \\\n",
       "0     SUMMERY: As a first time iPhone user, I would ...   \n",
       "1     Satisfied with the quality and performance but...   \n",
       "2     Using for few months, no heating issue, but ni...   \n",
       "3                              In 2022 best iPhone ever   \n",
       "4     Whereas brand is apple, you can expect standar...   \n",
       "...                                                 ...   \n",
       "1915      Upgraded from 7+. Amazing product. Loving it.   \n",
       "1916          No need to comment because this is Apple.   \n",
       "1917  Upgraded from iPhone x after over 3 years. I d...   \n",
       "1918  Just great, feel awesome to unbox all good at ...   \n",
       "1919                                   Good performance   \n",
       "\n",
       "                                                cleaned  \\\n",
       "0     SUMMERY: As a first time iPhone user, I would ...   \n",
       "1     Satisfied with the quality and performance but...   \n",
       "2     Using for few months, no heating issue, but ni...   \n",
       "3                                  In  best iPhone ever   \n",
       "4     Whereas brand is apple, you can expect standar...   \n",
       "...                                                 ...   \n",
       "1915       Upgraded from +. Amazing product. Loving it.   \n",
       "1916          No need to comment because this is Apple.   \n",
       "1917  Upgraded from iPhone x after over  years. I do...   \n",
       "1918  Just great, feel awesome to unbox all good at ...   \n",
       "1919                                   Good performance   \n",
       "\n",
       "                                              tokenized  \n",
       "0     [SUMMERY, :, As, first, time, iPhone, user, ,,...  \n",
       "1     [Satisfied, quality, performance, 's, battery,...  \n",
       "2     [Using, months, ,, heating, issue, ,, night, c...  \n",
       "3                              [In, best, iPhone, ever]  \n",
       "4     [Whereas, brand, apple, ,, expect, standard, h...  \n",
       "...                                                 ...  \n",
       "1915   [Upgraded, +, ., Amazing, product, ., Loving, .]  \n",
       "1916                      [No, need, comment, Apple, .]  \n",
       "1917  [Upgraded, iPhone, x, years, ., I, ’, see, maj...  \n",
       "1918  [Just, great, ,, feel, awesome, unbox, good, f...  \n",
       "1919                                [Good, performance]  \n",
       "\n",
       "[1920 rows x 3 columns]"
      ]
     },
     "execution_count": 603,
     "metadata": {},
     "output_type": "execute_result"
    }
   ],
   "source": [
    "data1"
   ]
  },
  {
   "cell_type": "code",
   "execution_count": 604,
   "id": "cab69100",
   "metadata": {},
   "outputs": [],
   "source": [
    "from nltk import PorterStemmer"
   ]
  },
  {
   "cell_type": "code",
   "execution_count": 605,
   "id": "5853ced4",
   "metadata": {},
   "outputs": [],
   "source": [
    "stemm=PorterStemmer()"
   ]
  },
  {
   "cell_type": "code",
   "execution_count": 606,
   "id": "1eab6901",
   "metadata": {},
   "outputs": [],
   "source": [
    "data1['tokenized']=data1['tokenized'].apply(lambda x:[stemm.stem(i) for i in x])"
   ]
  },
  {
   "cell_type": "code",
   "execution_count": 607,
   "id": "e52ff8a7",
   "metadata": {},
   "outputs": [
    {
     "data": {
      "text/html": [
       "<div>\n",
       "<style scoped>\n",
       "    .dataframe tbody tr th:only-of-type {\n",
       "        vertical-align: middle;\n",
       "    }\n",
       "\n",
       "    .dataframe tbody tr th {\n",
       "        vertical-align: top;\n",
       "    }\n",
       "\n",
       "    .dataframe thead th {\n",
       "        text-align: right;\n",
       "    }\n",
       "</style>\n",
       "<table border=\"1\" class=\"dataframe\">\n",
       "  <thead>\n",
       "    <tr style=\"text-align: right;\">\n",
       "      <th></th>\n",
       "      <th>comments</th>\n",
       "      <th>cleaned</th>\n",
       "      <th>tokenized</th>\n",
       "    </tr>\n",
       "  </thead>\n",
       "  <tbody>\n",
       "    <tr>\n",
       "      <th>0</th>\n",
       "      <td>SUMMERY: As a first time iPhone user, I would ...</td>\n",
       "      <td>SUMMERY: As a first time iPhone user, I would ...</td>\n",
       "      <td>[summeri, :, as, first, time, iphon, user, ,, ...</td>\n",
       "    </tr>\n",
       "    <tr>\n",
       "      <th>1</th>\n",
       "      <td>Satisfied with the quality and performance but...</td>\n",
       "      <td>Satisfied with the quality and performance but...</td>\n",
       "      <td>[satisfi, qualiti, perform, 's, batteri, drain...</td>\n",
       "    </tr>\n",
       "    <tr>\n",
       "      <th>2</th>\n",
       "      <td>Using for few months, no heating issue, but ni...</td>\n",
       "      <td>Using for few months, no heating issue, but ni...</td>\n",
       "      <td>[use, month, ,, heat, issu, ,, night, camera, ...</td>\n",
       "    </tr>\n",
       "    <tr>\n",
       "      <th>3</th>\n",
       "      <td>In 2022 best iPhone ever</td>\n",
       "      <td>In  best iPhone ever</td>\n",
       "      <td>[in, best, iphon, ever]</td>\n",
       "    </tr>\n",
       "    <tr>\n",
       "      <th>4</th>\n",
       "      <td>Whereas brand is apple, you can expect standar...</td>\n",
       "      <td>Whereas brand is apple, you can expect standar...</td>\n",
       "      <td>[wherea, brand, appl, ,, expect, standard, han...</td>\n",
       "    </tr>\n",
       "  </tbody>\n",
       "</table>\n",
       "</div>"
      ],
      "text/plain": [
       "                                            comments  \\\n",
       "0  SUMMERY: As a first time iPhone user, I would ...   \n",
       "1  Satisfied with the quality and performance but...   \n",
       "2  Using for few months, no heating issue, but ni...   \n",
       "3                           In 2022 best iPhone ever   \n",
       "4  Whereas brand is apple, you can expect standar...   \n",
       "\n",
       "                                             cleaned  \\\n",
       "0  SUMMERY: As a first time iPhone user, I would ...   \n",
       "1  Satisfied with the quality and performance but...   \n",
       "2  Using for few months, no heating issue, but ni...   \n",
       "3                               In  best iPhone ever   \n",
       "4  Whereas brand is apple, you can expect standar...   \n",
       "\n",
       "                                           tokenized  \n",
       "0  [summeri, :, as, first, time, iphon, user, ,, ...  \n",
       "1  [satisfi, qualiti, perform, 's, batteri, drain...  \n",
       "2  [use, month, ,, heat, issu, ,, night, camera, ...  \n",
       "3                            [in, best, iphon, ever]  \n",
       "4  [wherea, brand, appl, ,, expect, standard, han...  "
      ]
     },
     "execution_count": 607,
     "metadata": {},
     "output_type": "execute_result"
    }
   ],
   "source": [
    "data1.head()"
   ]
  },
  {
   "cell_type": "code",
   "execution_count": 608,
   "id": "893a03a4",
   "metadata": {},
   "outputs": [],
   "source": [
    "data1['tokenized']=data1['tokenized'].apply(lambda x:' '.join(x))"
   ]
  },
  {
   "cell_type": "code",
   "execution_count": 609,
   "id": "607bc2ff",
   "metadata": {},
   "outputs": [
    {
     "data": {
      "text/html": [
       "<div>\n",
       "<style scoped>\n",
       "    .dataframe tbody tr th:only-of-type {\n",
       "        vertical-align: middle;\n",
       "    }\n",
       "\n",
       "    .dataframe tbody tr th {\n",
       "        vertical-align: top;\n",
       "    }\n",
       "\n",
       "    .dataframe thead th {\n",
       "        text-align: right;\n",
       "    }\n",
       "</style>\n",
       "<table border=\"1\" class=\"dataframe\">\n",
       "  <thead>\n",
       "    <tr style=\"text-align: right;\">\n",
       "      <th></th>\n",
       "      <th>comments</th>\n",
       "      <th>cleaned</th>\n",
       "      <th>tokenized</th>\n",
       "    </tr>\n",
       "  </thead>\n",
       "  <tbody>\n",
       "    <tr>\n",
       "      <th>0</th>\n",
       "      <td>SUMMERY: As a first time iPhone user, I would ...</td>\n",
       "      <td>SUMMERY: As a first time iPhone user, I would ...</td>\n",
       "      <td>summeri : as first time iphon user , i would s...</td>\n",
       "    </tr>\n",
       "    <tr>\n",
       "      <th>1</th>\n",
       "      <td>Satisfied with the quality and performance but...</td>\n",
       "      <td>Satisfied with the quality and performance but...</td>\n",
       "      <td>satisfi qualiti perform 's batteri drain quick...</td>\n",
       "    </tr>\n",
       "    <tr>\n",
       "      <th>2</th>\n",
       "      <td>Using for few months, no heating issue, but ni...</td>\n",
       "      <td>Using for few months, no heating issue, but ni...</td>\n",
       "      <td>use month , heat issu , night camera worst .</td>\n",
       "    </tr>\n",
       "    <tr>\n",
       "      <th>3</th>\n",
       "      <td>In 2022 best iPhone ever</td>\n",
       "      <td>In  best iPhone ever</td>\n",
       "      <td>in best iphon ever</td>\n",
       "    </tr>\n",
       "    <tr>\n",
       "      <th>4</th>\n",
       "      <td>Whereas brand is apple, you can expect standar...</td>\n",
       "      <td>Whereas brand is apple, you can expect standar...</td>\n",
       "      <td>wherea brand appl , expect standard handset . ...</td>\n",
       "    </tr>\n",
       "    <tr>\n",
       "      <th>...</th>\n",
       "      <td>...</td>\n",
       "      <td>...</td>\n",
       "      <td>...</td>\n",
       "    </tr>\n",
       "    <tr>\n",
       "      <th>1915</th>\n",
       "      <td>Upgraded from 7+. Amazing product. Loving it.</td>\n",
       "      <td>Upgraded from +. Amazing product. Loving it.</td>\n",
       "      <td>upgrad + . amaz product . love .</td>\n",
       "    </tr>\n",
       "    <tr>\n",
       "      <th>1916</th>\n",
       "      <td>No need to comment because this is Apple.</td>\n",
       "      <td>No need to comment because this is Apple.</td>\n",
       "      <td>no need comment appl .</td>\n",
       "    </tr>\n",
       "    <tr>\n",
       "      <th>1917</th>\n",
       "      <td>Upgraded from iPhone x after over 3 years. I d...</td>\n",
       "      <td>Upgraded from iPhone x after over  years. I do...</td>\n",
       "      <td>upgrad iphon x year . i ’ see major chang upgr...</td>\n",
       "    </tr>\n",
       "    <tr>\n",
       "      <th>1918</th>\n",
       "      <td>Just great, feel awesome to unbox all good at ...</td>\n",
       "      <td>Just great, feel awesome to unbox all good at ...</td>\n",
       "      <td>just great , feel awesom unbox good first conf...</td>\n",
       "    </tr>\n",
       "    <tr>\n",
       "      <th>1919</th>\n",
       "      <td>Good performance</td>\n",
       "      <td>Good performance</td>\n",
       "      <td>good perform</td>\n",
       "    </tr>\n",
       "  </tbody>\n",
       "</table>\n",
       "<p>1920 rows × 3 columns</p>\n",
       "</div>"
      ],
      "text/plain": [
       "                                               comments  \\\n",
       "0     SUMMERY: As a first time iPhone user, I would ...   \n",
       "1     Satisfied with the quality and performance but...   \n",
       "2     Using for few months, no heating issue, but ni...   \n",
       "3                              In 2022 best iPhone ever   \n",
       "4     Whereas brand is apple, you can expect standar...   \n",
       "...                                                 ...   \n",
       "1915      Upgraded from 7+. Amazing product. Loving it.   \n",
       "1916          No need to comment because this is Apple.   \n",
       "1917  Upgraded from iPhone x after over 3 years. I d...   \n",
       "1918  Just great, feel awesome to unbox all good at ...   \n",
       "1919                                   Good performance   \n",
       "\n",
       "                                                cleaned  \\\n",
       "0     SUMMERY: As a first time iPhone user, I would ...   \n",
       "1     Satisfied with the quality and performance but...   \n",
       "2     Using for few months, no heating issue, but ni...   \n",
       "3                                  In  best iPhone ever   \n",
       "4     Whereas brand is apple, you can expect standar...   \n",
       "...                                                 ...   \n",
       "1915       Upgraded from +. Amazing product. Loving it.   \n",
       "1916          No need to comment because this is Apple.   \n",
       "1917  Upgraded from iPhone x after over  years. I do...   \n",
       "1918  Just great, feel awesome to unbox all good at ...   \n",
       "1919                                   Good performance   \n",
       "\n",
       "                                              tokenized  \n",
       "0     summeri : as first time iphon user , i would s...  \n",
       "1     satisfi qualiti perform 's batteri drain quick...  \n",
       "2          use month , heat issu , night camera worst .  \n",
       "3                                    in best iphon ever  \n",
       "4     wherea brand appl , expect standard handset . ...  \n",
       "...                                                 ...  \n",
       "1915                   upgrad + . amaz product . love .  \n",
       "1916                             no need comment appl .  \n",
       "1917  upgrad iphon x year . i ’ see major chang upgr...  \n",
       "1918  just great , feel awesom unbox good first conf...  \n",
       "1919                                       good perform  \n",
       "\n",
       "[1920 rows x 3 columns]"
      ]
     },
     "execution_count": 609,
     "metadata": {},
     "output_type": "execute_result"
    }
   ],
   "source": [
    "data1"
   ]
  },
  {
   "cell_type": "code",
   "execution_count": 610,
   "id": "42fac9b3",
   "metadata": {},
   "outputs": [],
   "source": [
    "data2=data1.loc[:,['tokenized']]"
   ]
  },
  {
   "cell_type": "code",
   "execution_count": 611,
   "id": "077df7b8",
   "metadata": {},
   "outputs": [
    {
     "data": {
      "text/html": [
       "<div>\n",
       "<style scoped>\n",
       "    .dataframe tbody tr th:only-of-type {\n",
       "        vertical-align: middle;\n",
       "    }\n",
       "\n",
       "    .dataframe tbody tr th {\n",
       "        vertical-align: top;\n",
       "    }\n",
       "\n",
       "    .dataframe thead th {\n",
       "        text-align: right;\n",
       "    }\n",
       "</style>\n",
       "<table border=\"1\" class=\"dataframe\">\n",
       "  <thead>\n",
       "    <tr style=\"text-align: right;\">\n",
       "      <th></th>\n",
       "      <th>tokenized</th>\n",
       "    </tr>\n",
       "  </thead>\n",
       "  <tbody>\n",
       "    <tr>\n",
       "      <th>0</th>\n",
       "      <td>summeri : as first time iphon user , i would s...</td>\n",
       "    </tr>\n",
       "    <tr>\n",
       "      <th>1</th>\n",
       "      <td>satisfi qualiti perform 's batteri drain quick...</td>\n",
       "    </tr>\n",
       "    <tr>\n",
       "      <th>2</th>\n",
       "      <td>use month , heat issu , night camera worst .</td>\n",
       "    </tr>\n",
       "    <tr>\n",
       "      <th>3</th>\n",
       "      <td>in best iphon ever</td>\n",
       "    </tr>\n",
       "    <tr>\n",
       "      <th>4</th>\n",
       "      <td>wherea brand appl , expect standard handset . ...</td>\n",
       "    </tr>\n",
       "    <tr>\n",
       "      <th>...</th>\n",
       "      <td>...</td>\n",
       "    </tr>\n",
       "    <tr>\n",
       "      <th>1915</th>\n",
       "      <td>upgrad + . amaz product . love .</td>\n",
       "    </tr>\n",
       "    <tr>\n",
       "      <th>1916</th>\n",
       "      <td>no need comment appl .</td>\n",
       "    </tr>\n",
       "    <tr>\n",
       "      <th>1917</th>\n",
       "      <td>upgrad iphon x year . i ’ see major chang upgr...</td>\n",
       "    </tr>\n",
       "    <tr>\n",
       "      <th>1918</th>\n",
       "      <td>just great , feel awesom unbox good first conf...</td>\n",
       "    </tr>\n",
       "    <tr>\n",
       "      <th>1919</th>\n",
       "      <td>good perform</td>\n",
       "    </tr>\n",
       "  </tbody>\n",
       "</table>\n",
       "<p>1920 rows × 1 columns</p>\n",
       "</div>"
      ],
      "text/plain": [
       "                                              tokenized\n",
       "0     summeri : as first time iphon user , i would s...\n",
       "1     satisfi qualiti perform 's batteri drain quick...\n",
       "2          use month , heat issu , night camera worst .\n",
       "3                                    in best iphon ever\n",
       "4     wherea brand appl , expect standard handset . ...\n",
       "...                                                 ...\n",
       "1915                   upgrad + . amaz product . love .\n",
       "1916                             no need comment appl .\n",
       "1917  upgrad iphon x year . i ’ see major chang upgr...\n",
       "1918  just great , feel awesom unbox good first conf...\n",
       "1919                                       good perform\n",
       "\n",
       "[1920 rows x 1 columns]"
      ]
     },
     "execution_count": 611,
     "metadata": {},
     "output_type": "execute_result"
    }
   ],
   "source": [
    "data2"
   ]
  },
  {
   "cell_type": "code",
   "execution_count": 612,
   "id": "527111cd",
   "metadata": {},
   "outputs": [],
   "source": [
    "from vaderSentiment.vaderSentiment import SentimentIntensityAnalyzer"
   ]
  },
  {
   "cell_type": "code",
   "execution_count": 613,
   "id": "69e99873",
   "metadata": {},
   "outputs": [],
   "source": [
    "analyser=SentimentIntensityAnalyzer()"
   ]
  },
  {
   "cell_type": "code",
   "execution_count": 614,
   "id": "41b95069",
   "metadata": {},
   "outputs": [],
   "source": [
    "def sentiment_score(text):\n",
    "    analyser=SentimentIntensityAnalyzer()\n",
    "    senti_dict=analyser.polarity_scores(text)\n",
    "    senti=[]\n",
    "    for i in senti_dict:\n",
    "        if senti_dict['compound']>0.5:\n",
    "            senti.append(1)\n",
    "        elif senti_dict['compound']<=-0.5:\n",
    "            senti.append(2)\n",
    "        else :\n",
    "            senti.append(0)\n",
    "    \n",
    "    return senti[0]"
   ]
  },
  {
   "cell_type": "code",
   "execution_count": 615,
   "id": "447eb7ca",
   "metadata": {},
   "outputs": [],
   "source": [
    "data3=data2"
   ]
  },
  {
   "cell_type": "code",
   "execution_count": 616,
   "id": "f54a7d8a",
   "metadata": {},
   "outputs": [
    {
     "data": {
      "text/html": [
       "<div>\n",
       "<style scoped>\n",
       "    .dataframe tbody tr th:only-of-type {\n",
       "        vertical-align: middle;\n",
       "    }\n",
       "\n",
       "    .dataframe tbody tr th {\n",
       "        vertical-align: top;\n",
       "    }\n",
       "\n",
       "    .dataframe thead th {\n",
       "        text-align: right;\n",
       "    }\n",
       "</style>\n",
       "<table border=\"1\" class=\"dataframe\">\n",
       "  <thead>\n",
       "    <tr style=\"text-align: right;\">\n",
       "      <th></th>\n",
       "      <th>tokenized</th>\n",
       "    </tr>\n",
       "  </thead>\n",
       "  <tbody>\n",
       "    <tr>\n",
       "      <th>0</th>\n",
       "      <td>summeri : as first time iphon user , i would s...</td>\n",
       "    </tr>\n",
       "    <tr>\n",
       "      <th>1</th>\n",
       "      <td>satisfi qualiti perform 's batteri drain quick...</td>\n",
       "    </tr>\n",
       "    <tr>\n",
       "      <th>2</th>\n",
       "      <td>use month , heat issu , night camera worst .</td>\n",
       "    </tr>\n",
       "    <tr>\n",
       "      <th>3</th>\n",
       "      <td>in best iphon ever</td>\n",
       "    </tr>\n",
       "    <tr>\n",
       "      <th>4</th>\n",
       "      <td>wherea brand appl , expect standard handset . ...</td>\n",
       "    </tr>\n",
       "    <tr>\n",
       "      <th>...</th>\n",
       "      <td>...</td>\n",
       "    </tr>\n",
       "    <tr>\n",
       "      <th>1915</th>\n",
       "      <td>upgrad + . amaz product . love .</td>\n",
       "    </tr>\n",
       "    <tr>\n",
       "      <th>1916</th>\n",
       "      <td>no need comment appl .</td>\n",
       "    </tr>\n",
       "    <tr>\n",
       "      <th>1917</th>\n",
       "      <td>upgrad iphon x year . i ’ see major chang upgr...</td>\n",
       "    </tr>\n",
       "    <tr>\n",
       "      <th>1918</th>\n",
       "      <td>just great , feel awesom unbox good first conf...</td>\n",
       "    </tr>\n",
       "    <tr>\n",
       "      <th>1919</th>\n",
       "      <td>good perform</td>\n",
       "    </tr>\n",
       "  </tbody>\n",
       "</table>\n",
       "<p>1920 rows × 1 columns</p>\n",
       "</div>"
      ],
      "text/plain": [
       "                                              tokenized\n",
       "0     summeri : as first time iphon user , i would s...\n",
       "1     satisfi qualiti perform 's batteri drain quick...\n",
       "2          use month , heat issu , night camera worst .\n",
       "3                                    in best iphon ever\n",
       "4     wherea brand appl , expect standard handset . ...\n",
       "...                                                 ...\n",
       "1915                   upgrad + . amaz product . love .\n",
       "1916                             no need comment appl .\n",
       "1917  upgrad iphon x year . i ’ see major chang upgr...\n",
       "1918  just great , feel awesom unbox good first conf...\n",
       "1919                                       good perform\n",
       "\n",
       "[1920 rows x 1 columns]"
      ]
     },
     "execution_count": 616,
     "metadata": {},
     "output_type": "execute_result"
    }
   ],
   "source": [
    "data3"
   ]
  },
  {
   "cell_type": "code",
   "execution_count": 617,
   "id": "f3c9db89",
   "metadata": {},
   "outputs": [],
   "source": [
    "data3['target']=data3['tokenized'].apply(lambda x: sentiment_score(x))"
   ]
  },
  {
   "cell_type": "code",
   "execution_count": 618,
   "id": "b5d534bc",
   "metadata": {},
   "outputs": [
    {
     "data": {
      "text/html": [
       "<div>\n",
       "<style scoped>\n",
       "    .dataframe tbody tr th:only-of-type {\n",
       "        vertical-align: middle;\n",
       "    }\n",
       "\n",
       "    .dataframe tbody tr th {\n",
       "        vertical-align: top;\n",
       "    }\n",
       "\n",
       "    .dataframe thead th {\n",
       "        text-align: right;\n",
       "    }\n",
       "</style>\n",
       "<table border=\"1\" class=\"dataframe\">\n",
       "  <thead>\n",
       "    <tr style=\"text-align: right;\">\n",
       "      <th></th>\n",
       "      <th>tokenized</th>\n",
       "      <th>target</th>\n",
       "    </tr>\n",
       "  </thead>\n",
       "  <tbody>\n",
       "    <tr>\n",
       "      <th>0</th>\n",
       "      <td>summeri : as first time iphon user , i would s...</td>\n",
       "      <td>1</td>\n",
       "    </tr>\n",
       "    <tr>\n",
       "      <th>1</th>\n",
       "      <td>satisfi qualiti perform 's batteri drain quick...</td>\n",
       "      <td>0</td>\n",
       "    </tr>\n",
       "    <tr>\n",
       "      <th>2</th>\n",
       "      <td>use month , heat issu , night camera worst .</td>\n",
       "      <td>2</td>\n",
       "    </tr>\n",
       "    <tr>\n",
       "      <th>3</th>\n",
       "      <td>in best iphon ever</td>\n",
       "      <td>1</td>\n",
       "    </tr>\n",
       "    <tr>\n",
       "      <th>4</th>\n",
       "      <td>wherea brand appl , expect standard handset . ...</td>\n",
       "      <td>1</td>\n",
       "    </tr>\n",
       "    <tr>\n",
       "      <th>...</th>\n",
       "      <td>...</td>\n",
       "      <td>...</td>\n",
       "    </tr>\n",
       "    <tr>\n",
       "      <th>1915</th>\n",
       "      <td>upgrad + . amaz product . love .</td>\n",
       "      <td>1</td>\n",
       "    </tr>\n",
       "    <tr>\n",
       "      <th>1916</th>\n",
       "      <td>no need comment appl .</td>\n",
       "      <td>0</td>\n",
       "    </tr>\n",
       "    <tr>\n",
       "      <th>1917</th>\n",
       "      <td>upgrad iphon x year . i ’ see major chang upgr...</td>\n",
       "      <td>1</td>\n",
       "    </tr>\n",
       "    <tr>\n",
       "      <th>1918</th>\n",
       "      <td>just great , feel awesom unbox good first conf...</td>\n",
       "      <td>1</td>\n",
       "    </tr>\n",
       "    <tr>\n",
       "      <th>1919</th>\n",
       "      <td>good perform</td>\n",
       "      <td>0</td>\n",
       "    </tr>\n",
       "  </tbody>\n",
       "</table>\n",
       "<p>1920 rows × 2 columns</p>\n",
       "</div>"
      ],
      "text/plain": [
       "                                              tokenized  target\n",
       "0     summeri : as first time iphon user , i would s...       1\n",
       "1     satisfi qualiti perform 's batteri drain quick...       0\n",
       "2          use month , heat issu , night camera worst .       2\n",
       "3                                    in best iphon ever       1\n",
       "4     wherea brand appl , expect standard handset . ...       1\n",
       "...                                                 ...     ...\n",
       "1915                   upgrad + . amaz product . love .       1\n",
       "1916                             no need comment appl .       0\n",
       "1917  upgrad iphon x year . i ’ see major chang upgr...       1\n",
       "1918  just great , feel awesom unbox good first conf...       1\n",
       "1919                                       good perform       0\n",
       "\n",
       "[1920 rows x 2 columns]"
      ]
     },
     "execution_count": 618,
     "metadata": {},
     "output_type": "execute_result"
    }
   ],
   "source": [
    "data3"
   ]
  },
  {
   "cell_type": "code",
   "execution_count": 619,
   "id": "7fa0574c",
   "metadata": {},
   "outputs": [
    {
     "data": {
      "text/html": [
       "<div>\n",
       "<style scoped>\n",
       "    .dataframe tbody tr th:only-of-type {\n",
       "        vertical-align: middle;\n",
       "    }\n",
       "\n",
       "    .dataframe tbody tr th {\n",
       "        vertical-align: top;\n",
       "    }\n",
       "\n",
       "    .dataframe thead th {\n",
       "        text-align: right;\n",
       "    }\n",
       "</style>\n",
       "<table border=\"1\" class=\"dataframe\">\n",
       "  <thead>\n",
       "    <tr style=\"text-align: right;\">\n",
       "      <th></th>\n",
       "      <th>tokenized</th>\n",
       "      <th>target</th>\n",
       "    </tr>\n",
       "  </thead>\n",
       "  <tbody>\n",
       "    <tr>\n",
       "      <th>2</th>\n",
       "      <td>use month , heat issu , night camera worst .</td>\n",
       "      <td>2</td>\n",
       "    </tr>\n",
       "    <tr>\n",
       "      <th>209</th>\n",
       "      <td>hello , i write review - day usag , iphon beas...</td>\n",
       "      <td>2</td>\n",
       "    </tr>\n",
       "    <tr>\n",
       "      <th>239</th>\n",
       "      <td>if u cn compromis wit batri den go fr .. el dn...</td>\n",
       "      <td>2</td>\n",
       "    </tr>\n",
       "    <tr>\n",
       "      <th>263</th>\n",
       "      <td>the media could load . deliveri amazon amaz . ...</td>\n",
       "      <td>2</td>\n",
       "    </tr>\n",
       "    <tr>\n",
       "      <th>275</th>\n",
       "      <td>i ’ write review later , short , hardcor andro...</td>\n",
       "      <td>2</td>\n",
       "    </tr>\n",
       "    <tr>\n",
       "      <th>...</th>\n",
       "      <td>...</td>\n",
       "      <td>...</td>\n",
       "    </tr>\n",
       "    <tr>\n",
       "      <th>1831</th>\n",
       "      <td>in descript iphon . inch display , actual rece...</td>\n",
       "      <td>2</td>\n",
       "    </tr>\n",
       "    <tr>\n",
       "      <th>1834</th>\n",
       "      <td>worst ever phone low camera batteri life low q...</td>\n",
       "      <td>2</td>\n",
       "    </tr>\n",
       "    <tr>\n",
       "      <th>1839</th>\n",
       "      <td>wast money display qualiti also poor batteri w...</td>\n",
       "      <td>2</td>\n",
       "    </tr>\n",
       "    <tr>\n",
       "      <th>1876</th>\n",
       "      <td>i amma die hard iphon user</td>\n",
       "      <td>2</td>\n",
       "    </tr>\n",
       "    <tr>\n",
       "      <th>1888</th>\n",
       "      <td>i disappoint see charger earphon . it ’ sad ap...</td>\n",
       "      <td>2</td>\n",
       "    </tr>\n",
       "  </tbody>\n",
       "</table>\n",
       "<p>79 rows × 2 columns</p>\n",
       "</div>"
      ],
      "text/plain": [
       "                                              tokenized  target\n",
       "2          use month , heat issu , night camera worst .       2\n",
       "209   hello , i write review - day usag , iphon beas...       2\n",
       "239   if u cn compromis wit batri den go fr .. el dn...       2\n",
       "263   the media could load . deliveri amazon amaz . ...       2\n",
       "275   i ’ write review later , short , hardcor andro...       2\n",
       "...                                                 ...     ...\n",
       "1831  in descript iphon . inch display , actual rece...       2\n",
       "1834  worst ever phone low camera batteri life low q...       2\n",
       "1839  wast money display qualiti also poor batteri w...       2\n",
       "1876                         i amma die hard iphon user       2\n",
       "1888  i disappoint see charger earphon . it ’ sad ap...       2\n",
       "\n",
       "[79 rows x 2 columns]"
      ]
     },
     "execution_count": 619,
     "metadata": {},
     "output_type": "execute_result"
    }
   ],
   "source": [
    "data3[data3['target']==2]"
   ]
  },
  {
   "cell_type": "code",
   "execution_count": 620,
   "id": "2185df63",
   "metadata": {},
   "outputs": [
    {
     "name": "stdout",
     "output_type": "stream",
     "text": [
      "<class 'pandas.core.frame.DataFrame'>\n",
      "RangeIndex: 1920 entries, 0 to 1919\n",
      "Data columns (total 2 columns):\n",
      " #   Column     Non-Null Count  Dtype \n",
      "---  ------     --------------  ----- \n",
      " 0   tokenized  1920 non-null   object\n",
      " 1   target     1920 non-null   int64 \n",
      "dtypes: int64(1), object(1)\n",
      "memory usage: 30.1+ KB\n"
     ]
    }
   ],
   "source": [
    "data3.info()"
   ]
  },
  {
   "cell_type": "code",
   "execution_count": 621,
   "id": "85a1c28c",
   "metadata": {},
   "outputs": [
    {
     "data": {
      "text/plain": [
       "0    1064\n",
       "1     777\n",
       "2      79\n",
       "Name: target, dtype: int64"
      ]
     },
     "execution_count": 621,
     "metadata": {},
     "output_type": "execute_result"
    }
   ],
   "source": [
    "data3['target'].value_counts()"
   ]
  },
  {
   "cell_type": "markdown",
   "id": "2e0d8a4c",
   "metadata": {},
   "source": [
    "###  now we using CountVector"
   ]
  },
  {
   "cell_type": "code",
   "execution_count": 622,
   "id": "c2d98d8d",
   "metadata": {},
   "outputs": [],
   "source": [
    "from sklearn.feature_extraction.text import CountVectorizer"
   ]
  },
  {
   "cell_type": "code",
   "execution_count": 623,
   "id": "1558e7b7",
   "metadata": {},
   "outputs": [],
   "source": [
    "cv=CountVectorizer()\n",
    "cv_text=cv.fit_transform(data3['tokenized'])"
   ]
  },
  {
   "cell_type": "markdown",
   "id": "8beaad9a",
   "metadata": {},
   "source": [
    "### Logistic Regression"
   ]
  },
  {
   "cell_type": "code",
   "execution_count": 624,
   "id": "8bcab2ac",
   "metadata": {},
   "outputs": [],
   "source": [
    "from sklearn.linear_model import LogisticRegression\n",
    "from sklearn.model_selection import train_test_split\n",
    "from sklearn.metrics import classification_report,confusion_matrix\n",
    "from imblearn.over_sampling import SMOTE"
   ]
  },
  {
   "cell_type": "code",
   "execution_count": 625,
   "id": "d1b53a08",
   "metadata": {},
   "outputs": [],
   "source": [
    "lr=LogisticRegression()\n",
    "sm=SMOTE()"
   ]
  },
  {
   "cell_type": "code",
   "execution_count": 626,
   "id": "a3a8ce36",
   "metadata": {},
   "outputs": [],
   "source": [
    "x=cv_text\n",
    "y=data3['target']"
   ]
  },
  {
   "cell_type": "code",
   "execution_count": 627,
   "id": "1d5a1654",
   "metadata": {},
   "outputs": [],
   "source": [
    "x_train,x_test,y_train,y_test=train_test_split(x,y,test_size=.33,random_state=42)"
   ]
  },
  {
   "cell_type": "code",
   "execution_count": 628,
   "id": "3694fe47",
   "metadata": {},
   "outputs": [],
   "source": [
    "x_train,y_train=sm.fit_resample(x_train,y_train)"
   ]
  },
  {
   "cell_type": "code",
   "execution_count": 629,
   "id": "3ce65e5f",
   "metadata": {},
   "outputs": [
    {
     "data": {
      "text/plain": [
       "1    713\n",
       "0    713\n",
       "2    713\n",
       "Name: target, dtype: int64"
      ]
     },
     "execution_count": 629,
     "metadata": {},
     "output_type": "execute_result"
    }
   ],
   "source": [
    "y_train.value_counts()"
   ]
  },
  {
   "cell_type": "code",
   "execution_count": 630,
   "id": "4ac95286",
   "metadata": {},
   "outputs": [],
   "source": [
    "model_log=lr.fit(x_train,y_train)"
   ]
  },
  {
   "cell_type": "code",
   "execution_count": 631,
   "id": "3234b33b",
   "metadata": {},
   "outputs": [
    {
     "name": "stdout",
     "output_type": "stream",
     "text": [
      "accuracy : 95.27816736792893\n"
     ]
    }
   ],
   "source": [
    "print('accuracy :',model_log.score(x_train,y_train)*100)"
   ]
  },
  {
   "cell_type": "code",
   "execution_count": 632,
   "id": "72e2e944",
   "metadata": {},
   "outputs": [
    {
     "name": "stdout",
     "output_type": "stream",
     "text": [
      "accuracy : 74.76340694006309\n"
     ]
    }
   ],
   "source": [
    "print('accuracy :',model_log.score(x_test,y_test)*100)"
   ]
  },
  {
   "cell_type": "code",
   "execution_count": 633,
   "id": "9a3553b6",
   "metadata": {},
   "outputs": [],
   "source": [
    "y_pred=model_log.predict(x_test)"
   ]
  },
  {
   "cell_type": "code",
   "execution_count": 634,
   "id": "bb45a52b",
   "metadata": {},
   "outputs": [
    {
     "name": "stdout",
     "output_type": "stream",
     "text": [
      "              precision    recall  f1-score   support\n",
      "\n",
      "           0       0.79      0.77      0.78       351\n",
      "           1       0.87      0.74      0.80       259\n",
      "           2       0.17      0.50      0.26        24\n",
      "\n",
      "    accuracy                           0.75       634\n",
      "   macro avg       0.61      0.67      0.61       634\n",
      "weighted avg       0.80      0.75      0.77       634\n",
      "\n"
     ]
    }
   ],
   "source": [
    "print(classification_report(y_test,y_pred))"
   ]
  },
  {
   "cell_type": "code",
   "execution_count": 635,
   "id": "4be9d9b0",
   "metadata": {},
   "outputs": [
    {
     "data": {
      "text/plain": [
       "array([[271,  27,  53],\n",
       "       [ 64, 191,   4],\n",
       "       [ 10,   2,  12]], dtype=int64)"
      ]
     },
     "execution_count": 635,
     "metadata": {},
     "output_type": "execute_result"
    }
   ],
   "source": [
    "confusion_matrix(y_test,y_pred)"
   ]
  },
  {
   "cell_type": "markdown",
   "id": "79f8effb",
   "metadata": {},
   "source": [
    "### Naive Bayes"
   ]
  },
  {
   "cell_type": "code",
   "execution_count": 636,
   "id": "853d63a2",
   "metadata": {},
   "outputs": [],
   "source": [
    "from sklearn.naive_bayes import MultinomialNB"
   ]
  },
  {
   "cell_type": "code",
   "execution_count": 637,
   "id": "5252289c",
   "metadata": {},
   "outputs": [],
   "source": [
    "nb=MultinomialNB()\n",
    "model_2=nb.fit(x_train,y_train)"
   ]
  },
  {
   "cell_type": "code",
   "execution_count": 638,
   "id": "a201b247",
   "metadata": {},
   "outputs": [
    {
     "name": "stdout",
     "output_type": "stream",
     "text": [
      "accuracy : 77.23235156615242\n"
     ]
    }
   ],
   "source": [
    "print('accuracy :',model_2.score(x_train,y_train)*100)"
   ]
  },
  {
   "cell_type": "code",
   "execution_count": 639,
   "id": "46d31e98",
   "metadata": {},
   "outputs": [
    {
     "name": "stdout",
     "output_type": "stream",
     "text": [
      "accuracy : 64.35331230283911\n"
     ]
    }
   ],
   "source": [
    "print('accuracy :',model_2.score(x_test,y_test)*100)"
   ]
  },
  {
   "cell_type": "code",
   "execution_count": 640,
   "id": "c1e0348d",
   "metadata": {},
   "outputs": [],
   "source": [
    "y_pred=model_2.predict(x_test)"
   ]
  },
  {
   "cell_type": "code",
   "execution_count": 641,
   "id": "25db7c3d",
   "metadata": {},
   "outputs": [
    {
     "name": "stdout",
     "output_type": "stream",
     "text": [
      "              precision    recall  f1-score   support\n",
      "\n",
      "           0       0.82      0.50      0.62       351\n",
      "           1       0.59      0.87      0.70       259\n",
      "           2       0.22      0.33      0.26        24\n",
      "\n",
      "    accuracy                           0.64       634\n",
      "   macro avg       0.54      0.57      0.53       634\n",
      "weighted avg       0.70      0.64      0.64       634\n",
      "\n"
     ]
    }
   ],
   "source": [
    "print(classification_report(y_test,y_pred))"
   ]
  },
  {
   "cell_type": "code",
   "execution_count": 642,
   "id": "1d7d5859",
   "metadata": {},
   "outputs": [
    {
     "data": {
      "text/plain": [
       "array([[174, 149,  28],\n",
       "       [ 32, 226,   1],\n",
       "       [  7,   9,   8]], dtype=int64)"
      ]
     },
     "execution_count": 642,
     "metadata": {},
     "output_type": "execute_result"
    }
   ],
   "source": [
    "confusion_matrix(y_test,y_pred)"
   ]
  },
  {
   "cell_type": "markdown",
   "id": "29330ee2",
   "metadata": {},
   "source": [
    "### Decision Tree"
   ]
  },
  {
   "cell_type": "code",
   "execution_count": 643,
   "id": "c74c9b04",
   "metadata": {},
   "outputs": [],
   "source": [
    "from sklearn.tree import DecisionTreeClassifier"
   ]
  },
  {
   "cell_type": "code",
   "execution_count": 644,
   "id": "0dbc9af7",
   "metadata": {},
   "outputs": [],
   "source": [
    "dt=DecisionTreeClassifier()\n",
    "model_3=dt.fit(x_train,y_train)"
   ]
  },
  {
   "cell_type": "code",
   "execution_count": 645,
   "id": "49bfc70e",
   "metadata": {},
   "outputs": [
    {
     "name": "stdout",
     "output_type": "stream",
     "text": [
      "accuracy : 97.38195418419822\n"
     ]
    }
   ],
   "source": [
    "print('accuracy :',model_3.score(x_train,y_train)*100)"
   ]
  },
  {
   "cell_type": "code",
   "execution_count": 646,
   "id": "9f9c0cbd",
   "metadata": {},
   "outputs": [
    {
     "name": "stdout",
     "output_type": "stream",
     "text": [
      "accuracy : 75.39432176656152\n"
     ]
    }
   ],
   "source": [
    "print('accuracy :',model_3.score(x_test,y_test)*100)"
   ]
  },
  {
   "cell_type": "code",
   "execution_count": 647,
   "id": "00059644",
   "metadata": {},
   "outputs": [],
   "source": [
    "y_pred=model_3.predict(x_test)"
   ]
  },
  {
   "cell_type": "code",
   "execution_count": 648,
   "id": "c2a0a0b3",
   "metadata": {},
   "outputs": [
    {
     "name": "stdout",
     "output_type": "stream",
     "text": [
      "              precision    recall  f1-score   support\n",
      "\n",
      "           0       0.82      0.74      0.78       351\n",
      "           1       0.84      0.80      0.82       259\n",
      "           2       0.16      0.50      0.25        24\n",
      "\n",
      "    accuracy                           0.75       634\n",
      "   macro avg       0.61      0.68      0.61       634\n",
      "weighted avg       0.81      0.75      0.77       634\n",
      "\n"
     ]
    }
   ],
   "source": [
    "print(classification_report(y_test,y_pred))"
   ]
  },
  {
   "cell_type": "code",
   "execution_count": 649,
   "id": "2c397997",
   "metadata": {},
   "outputs": [
    {
     "data": {
      "text/plain": [
       "array([[260,  35,  56],\n",
       "       [ 48, 206,   5],\n",
       "       [  8,   4,  12]], dtype=int64)"
      ]
     },
     "execution_count": 649,
     "metadata": {},
     "output_type": "execute_result"
    }
   ],
   "source": [
    "confusion_matrix(y_test,y_pred)"
   ]
  },
  {
   "cell_type": "markdown",
   "id": "6593b07e",
   "metadata": {},
   "source": [
    "## XGBoost"
   ]
  },
  {
   "cell_type": "code",
   "execution_count": 650,
   "id": "eebaae40",
   "metadata": {},
   "outputs": [],
   "source": [
    "from xgboost import XGBClassifier"
   ]
  },
  {
   "cell_type": "code",
   "execution_count": 651,
   "id": "d350bada",
   "metadata": {},
   "outputs": [],
   "source": [
    "xgb=XGBClassifier(n_estimators=150,max_depth=5)"
   ]
  },
  {
   "cell_type": "code",
   "execution_count": 652,
   "id": "4bfc125d",
   "metadata": {},
   "outputs": [
    {
     "data": {
      "text/plain": [
       "0.9915848527349228"
      ]
     },
     "execution_count": 652,
     "metadata": {},
     "output_type": "execute_result"
    }
   ],
   "source": [
    "xgb_model=xgb.fit(x_train,y_train)\n",
    "xgb_model.score(x_train,y_train)"
   ]
  },
  {
   "cell_type": "code",
   "execution_count": 653,
   "id": "26c10e85",
   "metadata": {},
   "outputs": [
    {
     "data": {
      "text/plain": [
       "0.8470031545741324"
      ]
     },
     "execution_count": 653,
     "metadata": {},
     "output_type": "execute_result"
    }
   ],
   "source": [
    "xgb_model.score(x_test,y_test)"
   ]
  },
  {
   "cell_type": "code",
   "execution_count": 654,
   "id": "3b8ffac2",
   "metadata": {},
   "outputs": [],
   "source": [
    "y_pred=xgb_model.predict(x_test)"
   ]
  },
  {
   "cell_type": "code",
   "execution_count": 655,
   "id": "71bf1265",
   "metadata": {},
   "outputs": [
    {
     "name": "stdout",
     "output_type": "stream",
     "text": [
      "              precision    recall  f1-score   support\n",
      "\n",
      "           0       0.84      0.91      0.87       351\n",
      "           1       0.88      0.79      0.84       259\n",
      "           2       0.58      0.46      0.51        24\n",
      "\n",
      "    accuracy                           0.85       634\n",
      "   macro avg       0.77      0.72      0.74       634\n",
      "weighted avg       0.85      0.85      0.84       634\n",
      "\n"
     ]
    }
   ],
   "source": [
    "print(classification_report(y_test,y_pred))"
   ]
  },
  {
   "cell_type": "code",
   "execution_count": 656,
   "id": "c17b5bf5",
   "metadata": {},
   "outputs": [
    {
     "data": {
      "text/plain": [
       "array([[321,  25,   5],\n",
       "       [ 51, 205,   3],\n",
       "       [ 11,   2,  11]], dtype=int64)"
      ]
     },
     "execution_count": 656,
     "metadata": {},
     "output_type": "execute_result"
    }
   ],
   "source": [
    "confusion_matrix(y_test,y_pred)"
   ]
  },
  {
   "cell_type": "code",
   "execution_count": null,
   "id": "91c63af8",
   "metadata": {},
   "outputs": [],
   "source": []
  },
  {
   "cell_type": "markdown",
   "id": "c639c0da",
   "metadata": {},
   "source": [
    "### Now we are using TF-IDF"
   ]
  },
  {
   "cell_type": "code",
   "execution_count": 657,
   "id": "416bd36d",
   "metadata": {},
   "outputs": [],
   "source": [
    "from sklearn.feature_extraction.text import TfidfVectorizer"
   ]
  },
  {
   "cell_type": "code",
   "execution_count": 658,
   "id": "d7e2fdd8",
   "metadata": {},
   "outputs": [],
   "source": [
    "tf=TfidfVectorizer()\n",
    "tf_text=tf.fit_transform(data3['tokenized'])"
   ]
  },
  {
   "cell_type": "code",
   "execution_count": 659,
   "id": "cc05971b",
   "metadata": {},
   "outputs": [],
   "source": [
    "x=tf_text\n",
    "y=data3['target']"
   ]
  },
  {
   "cell_type": "code",
   "execution_count": 660,
   "id": "8922e474",
   "metadata": {},
   "outputs": [
    {
     "data": {
      "text/plain": [
       "1    713\n",
       "0    713\n",
       "2    713\n",
       "Name: target, dtype: int64"
      ]
     },
     "execution_count": 660,
     "metadata": {},
     "output_type": "execute_result"
    }
   ],
   "source": [
    "x_train,x_test,y_train,y_test=train_test_split(x,y,test_size=.33,random_state=42)\n",
    "x_train,y_train=sm.fit_resample(x_train,y_train)\n",
    "y_train.value_counts()"
   ]
  },
  {
   "cell_type": "code",
   "execution_count": 661,
   "id": "4774bf28",
   "metadata": {},
   "outputs": [
    {
     "data": {
      "text/plain": [
       "array([[321,  25,   5],\n",
       "       [ 51, 205,   3],\n",
       "       [ 11,   2,  11]], dtype=int64)"
      ]
     },
     "execution_count": 661,
     "metadata": {},
     "output_type": "execute_result"
    }
   ],
   "source": [
    "confusion_matrix(y_test,y_pred)"
   ]
  },
  {
   "cell_type": "markdown",
   "id": "0ed3a51b",
   "metadata": {},
   "source": [
    "### Logistic regression"
   ]
  },
  {
   "cell_type": "code",
   "execution_count": 662,
   "id": "a7a7b383",
   "metadata": {},
   "outputs": [],
   "source": [
    "lr=LogisticRegression()\n",
    "tf_model_1=lr.fit(x_train,y_train)"
   ]
  },
  {
   "cell_type": "code",
   "execution_count": 663,
   "id": "913e4adc",
   "metadata": {},
   "outputs": [
    {
     "name": "stdout",
     "output_type": "stream",
     "text": [
      "accuracy : 93.78214118747078\n"
     ]
    }
   ],
   "source": [
    "print('accuracy :',tf_model_1.score(x_train,y_train)*100)"
   ]
  },
  {
   "cell_type": "code",
   "execution_count": 664,
   "id": "b6f45e47",
   "metadata": {},
   "outputs": [
    {
     "name": "stdout",
     "output_type": "stream",
     "text": [
      "accuracy : 80.4416403785489\n"
     ]
    }
   ],
   "source": [
    "print('accuracy :',tf_model_1.score(x_test,y_test)*100)"
   ]
  },
  {
   "cell_type": "code",
   "execution_count": 665,
   "id": "8ee6dc77",
   "metadata": {},
   "outputs": [],
   "source": [
    "y_pred=tf_model_1.predict(x_test)"
   ]
  },
  {
   "cell_type": "code",
   "execution_count": 666,
   "id": "29aa2e5d",
   "metadata": {},
   "outputs": [
    {
     "name": "stdout",
     "output_type": "stream",
     "text": [
      "              precision    recall  f1-score   support\n",
      "\n",
      "           0       0.81      0.86      0.83       351\n",
      "           1       0.81      0.77      0.79       259\n",
      "           2       0.59      0.42      0.49        24\n",
      "\n",
      "    accuracy                           0.80       634\n",
      "   macro avg       0.74      0.68      0.70       634\n",
      "weighted avg       0.80      0.80      0.80       634\n",
      "\n"
     ]
    }
   ],
   "source": [
    "print(classification_report(y_test,y_pred)) #80"
   ]
  },
  {
   "cell_type": "code",
   "execution_count": 667,
   "id": "02e3973d",
   "metadata": {},
   "outputs": [
    {
     "data": {
      "text/plain": [
       "array([[301,  44,   6],\n",
       "       [ 59, 199,   1],\n",
       "       [ 11,   3,  10]], dtype=int64)"
      ]
     },
     "execution_count": 667,
     "metadata": {},
     "output_type": "execute_result"
    }
   ],
   "source": [
    "confusion_matrix(y_test,y_pred)"
   ]
  },
  {
   "cell_type": "code",
   "execution_count": null,
   "id": "411bf8d7",
   "metadata": {},
   "outputs": [],
   "source": []
  },
  {
   "cell_type": "markdown",
   "id": "6d7832bc",
   "metadata": {},
   "source": [
    "## Random Forest"
   ]
  },
  {
   "cell_type": "code",
   "execution_count": 668,
   "id": "eb4fa71c",
   "metadata": {},
   "outputs": [],
   "source": [
    "from sklearn.ensemble import RandomForestClassifier"
   ]
  },
  {
   "cell_type": "code",
   "execution_count": 669,
   "id": "17c68067",
   "metadata": {},
   "outputs": [],
   "source": [
    "rc=RandomForestClassifier(n_estimators=200)"
   ]
  },
  {
   "cell_type": "code",
   "execution_count": 670,
   "id": "21c2bce0",
   "metadata": {},
   "outputs": [
    {
     "data": {
      "text/plain": [
       "0.9962599345488546"
      ]
     },
     "execution_count": 670,
     "metadata": {},
     "output_type": "execute_result"
    }
   ],
   "source": [
    "rc_model=rc.fit(x_train,y_train)\n",
    "rc_model.score(x_train,y_train)"
   ]
  },
  {
   "cell_type": "code",
   "execution_count": 671,
   "id": "6d2d0426",
   "metadata": {},
   "outputs": [
    {
     "data": {
      "text/plain": [
       "0.831230283911672"
      ]
     },
     "execution_count": 671,
     "metadata": {},
     "output_type": "execute_result"
    }
   ],
   "source": [
    "rc_model.score(x_test,y_test)"
   ]
  },
  {
   "cell_type": "code",
   "execution_count": 672,
   "id": "67d20e9a",
   "metadata": {},
   "outputs": [],
   "source": [
    "y_pred=rc_model.predict(x_test)"
   ]
  },
  {
   "cell_type": "code",
   "execution_count": 673,
   "id": "f3678724",
   "metadata": {},
   "outputs": [
    {
     "name": "stdout",
     "output_type": "stream",
     "text": [
      "              precision    recall  f1-score   support\n",
      "\n",
      "           0       0.83      0.91      0.87       351\n",
      "           1       0.85      0.79      0.82       259\n",
      "           2       0.50      0.17      0.25        24\n",
      "\n",
      "    accuracy                           0.83       634\n",
      "   macro avg       0.73      0.62      0.64       634\n",
      "weighted avg       0.82      0.83      0.82       634\n",
      "\n"
     ]
    }
   ],
   "source": [
    "print(classification_report(y_test,y_pred))"
   ]
  },
  {
   "cell_type": "code",
   "execution_count": 674,
   "id": "d8cf3f20",
   "metadata": {},
   "outputs": [
    {
     "data": {
      "text/plain": [
       "0    351\n",
       "1    259\n",
       "2     24\n",
       "Name: target, dtype: int64"
      ]
     },
     "execution_count": 674,
     "metadata": {},
     "output_type": "execute_result"
    }
   ],
   "source": [
    "y_test.value_counts()"
   ]
  },
  {
   "cell_type": "code",
   "execution_count": 675,
   "id": "dba4738e",
   "metadata": {},
   "outputs": [
    {
     "data": {
      "text/plain": [
       "array([[319,  31,   1],\n",
       "       [ 52, 204,   3],\n",
       "       [ 14,   6,   4]], dtype=int64)"
      ]
     },
     "execution_count": 675,
     "metadata": {},
     "output_type": "execute_result"
    }
   ],
   "source": [
    "confusion_matrix(y_test,y_pred)"
   ]
  },
  {
   "cell_type": "code",
   "execution_count": null,
   "id": "b41bce88",
   "metadata": {},
   "outputs": [],
   "source": []
  },
  {
   "cell_type": "markdown",
   "id": "76035d62",
   "metadata": {},
   "source": [
    "###  Naive bayes"
   ]
  },
  {
   "cell_type": "code",
   "execution_count": 676,
   "id": "86837e71",
   "metadata": {},
   "outputs": [],
   "source": [
    "tf_model_2=nb.fit(x_train,y_train)"
   ]
  },
  {
   "cell_type": "code",
   "execution_count": 677,
   "id": "b70f2fda",
   "metadata": {},
   "outputs": [
    {
     "name": "stdout",
     "output_type": "stream",
     "text": [
      "accuracy : 87.84478728377746\n"
     ]
    }
   ],
   "source": [
    "print('accuracy :',tf_model_2.score(x_train,y_train)*100)"
   ]
  },
  {
   "cell_type": "code",
   "execution_count": 678,
   "id": "297144d3",
   "metadata": {},
   "outputs": [
    {
     "name": "stdout",
     "output_type": "stream",
     "text": [
      "accuracy : 65.14195583596214\n"
     ]
    }
   ],
   "source": [
    "print('accuracy :',tf_model_2.score(x_test,y_test)*100)"
   ]
  },
  {
   "cell_type": "code",
   "execution_count": 679,
   "id": "8441a2f0",
   "metadata": {},
   "outputs": [],
   "source": [
    "y_pred=tf_model_2.predict(x_test)"
   ]
  },
  {
   "cell_type": "code",
   "execution_count": 680,
   "id": "a563df9c",
   "metadata": {},
   "outputs": [
    {
     "name": "stdout",
     "output_type": "stream",
     "text": [
      "              precision    recall  f1-score   support\n",
      "\n",
      "           0       0.84      0.54      0.65       351\n",
      "           1       0.65      0.81      0.72       259\n",
      "           2       0.16      0.58      0.26        24\n",
      "\n",
      "    accuracy                           0.65       634\n",
      "   macro avg       0.55      0.64      0.54       634\n",
      "weighted avg       0.73      0.65      0.67       634\n",
      "\n"
     ]
    }
   ],
   "source": [
    "print(classification_report(y_test,y_pred))"
   ]
  },
  {
   "cell_type": "code",
   "execution_count": 681,
   "id": "558dc3c9",
   "metadata": {},
   "outputs": [
    {
     "data": {
      "text/plain": [
       "array([[188, 106,  57],\n",
       "       [ 34, 211,  14],\n",
       "       [  3,   7,  14]], dtype=int64)"
      ]
     },
     "execution_count": 681,
     "metadata": {},
     "output_type": "execute_result"
    }
   ],
   "source": [
    "confusion_matrix(y_test,y_pred)"
   ]
  },
  {
   "cell_type": "markdown",
   "id": "f06382b0",
   "metadata": {},
   "source": [
    "### Decision Tree"
   ]
  },
  {
   "cell_type": "code",
   "execution_count": 682,
   "id": "f581d243",
   "metadata": {},
   "outputs": [
    {
     "name": "stdout",
     "output_type": "stream",
     "text": [
      "accuracy : 99.62599345488546\n"
     ]
    }
   ],
   "source": [
    "dt=DecisionTreeClassifier()\n",
    "tf_model_3=dt.fit(x_train,y_train)\n",
    "print('accuracy :',tf_model_3.score(x_train,y_train)*100)"
   ]
  },
  {
   "cell_type": "code",
   "execution_count": 683,
   "id": "50440560",
   "metadata": {},
   "outputs": [
    {
     "name": "stdout",
     "output_type": "stream",
     "text": [
      "accuracy : 79.49526813880126\n"
     ]
    }
   ],
   "source": [
    "print('accuracy :',tf_model_3.score(x_test,y_test)*100)"
   ]
  },
  {
   "cell_type": "code",
   "execution_count": 684,
   "id": "a9b9d236",
   "metadata": {},
   "outputs": [],
   "source": [
    "y_pred=tf_model_3.predict(x_test)"
   ]
  },
  {
   "cell_type": "code",
   "execution_count": 685,
   "id": "c3349dc2",
   "metadata": {},
   "outputs": [
    {
     "name": "stdout",
     "output_type": "stream",
     "text": [
      "              precision    recall  f1-score   support\n",
      "\n",
      "           0       0.83      0.83      0.83       351\n",
      "           1       0.79      0.77      0.78       259\n",
      "           2       0.47      0.58      0.52        24\n",
      "\n",
      "    accuracy                           0.79       634\n",
      "   macro avg       0.69      0.73      0.71       634\n",
      "weighted avg       0.80      0.79      0.80       634\n",
      "\n"
     ]
    }
   ],
   "source": [
    "print(classification_report(y_test,y_pred))"
   ]
  },
  {
   "cell_type": "code",
   "execution_count": 686,
   "id": "d92dd1cf",
   "metadata": {},
   "outputs": [
    {
     "data": {
      "text/plain": [
       "array([[290,  51,  10],\n",
       "       [ 53, 200,   6],\n",
       "       [  8,   2,  14]], dtype=int64)"
      ]
     },
     "execution_count": 686,
     "metadata": {},
     "output_type": "execute_result"
    }
   ],
   "source": [
    "confusion_matrix(y_test,y_pred)"
   ]
  },
  {
   "cell_type": "markdown",
   "id": "4f940cca",
   "metadata": {},
   "source": [
    "## XGBoost"
   ]
  },
  {
   "cell_type": "code",
   "execution_count": 687,
   "id": "3019e902",
   "metadata": {},
   "outputs": [],
   "source": [
    "from xgboost import XGBClassifier"
   ]
  },
  {
   "cell_type": "code",
   "execution_count": 708,
   "id": "9fcfbded",
   "metadata": {},
   "outputs": [],
   "source": [
    "xgb=XGBClassifier(n_estimators=200,max_depth=10)#80,5"
   ]
  },
  {
   "cell_type": "code",
   "execution_count": 709,
   "id": "eb30d6ca",
   "metadata": {},
   "outputs": [
    {
     "data": {
      "text/plain": [
       "0.9934548854604955"
      ]
     },
     "execution_count": 709,
     "metadata": {},
     "output_type": "execute_result"
    }
   ],
   "source": [
    "tf_xgb_model=xgb.fit(x_train,y_train)\n",
    "xgb_model.score(x_train,y_train)"
   ]
  },
  {
   "cell_type": "code",
   "execution_count": 710,
   "id": "e4cbbb11",
   "metadata": {},
   "outputs": [
    {
     "data": {
      "text/plain": [
       "0.8391167192429022"
      ]
     },
     "execution_count": 710,
     "metadata": {},
     "output_type": "execute_result"
    }
   ],
   "source": [
    "tf_xgb_model.score(x_test,y_test)"
   ]
  },
  {
   "cell_type": "code",
   "execution_count": 711,
   "id": "751d558c",
   "metadata": {},
   "outputs": [],
   "source": [
    "y_pred=tf_xgb_model.predict(x_test)"
   ]
  },
  {
   "cell_type": "code",
   "execution_count": 712,
   "id": "506aebe2",
   "metadata": {},
   "outputs": [
    {
     "name": "stdout",
     "output_type": "stream",
     "text": [
      "              precision    recall  f1-score   support\n",
      "\n",
      "           0       0.83      0.91      0.87       351\n",
      "           1       0.87      0.78      0.82       259\n",
      "           2       0.62      0.54      0.58        24\n",
      "\n",
      "    accuracy                           0.84       634\n",
      "   macro avg       0.77      0.74      0.76       634\n",
      "weighted avg       0.84      0.84      0.84       634\n",
      "\n"
     ]
    }
   ],
   "source": [
    "print(classification_report(y_test,y_pred))"
   ]
  },
  {
   "cell_type": "code",
   "execution_count": 713,
   "id": "476e6db1",
   "metadata": {},
   "outputs": [
    {
     "data": {
      "text/plain": [
       "array([[318,  28,   5],\n",
       "       [ 55, 201,   3],\n",
       "       [  9,   2,  13]], dtype=int64)"
      ]
     },
     "execution_count": 713,
     "metadata": {},
     "output_type": "execute_result"
    }
   ],
   "source": [
    "confusion_matrix(y_test,y_pred)"
   ]
  },
  {
   "cell_type": "code",
   "execution_count": 701,
   "id": "4b5066c7",
   "metadata": {},
   "outputs": [],
   "source": [
    "import joblib as jb"
   ]
  },
  {
   "cell_type": "code",
   "execution_count": 714,
   "id": "b94512d4",
   "metadata": {},
   "outputs": [
    {
     "data": {
      "text/plain": [
       "['xgb_model.pkl']"
      ]
     },
     "execution_count": 714,
     "metadata": {},
     "output_type": "execute_result"
    }
   ],
   "source": [
    "jb.dump(tf_xgb_model,'xgb_model.pkl')"
   ]
  },
  {
   "cell_type": "code",
   "execution_count": null,
   "id": "11f4ad6f",
   "metadata": {},
   "outputs": [],
   "source": []
  }
 ],
 "metadata": {
  "kernelspec": {
   "display_name": "Python 3 (ipykernel)",
   "language": "python",
   "name": "python3"
  },
  "language_info": {
   "codemirror_mode": {
    "name": "ipython",
    "version": 3
   },
   "file_extension": ".py",
   "mimetype": "text/x-python",
   "name": "python",
   "nbconvert_exporter": "python",
   "pygments_lexer": "ipython3",
   "version": "3.9.12"
  }
 },
 "nbformat": 4,
 "nbformat_minor": 5
}
